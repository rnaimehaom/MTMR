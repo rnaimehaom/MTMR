{
 "cells": [
  {
   "cell_type": "markdown",
   "id": "89839aa7",
   "metadata": {},
   "source": [
    "# Tutorial - Step2 : MTMR finetuning with Reinforcement learning"
   ]
  },
  {
   "cell_type": "markdown",
   "id": "4f1191ab",
   "metadata": {},
   "source": [
    "## 1. Import requirements"
   ]
  },
  {
   "cell_type": "code",
   "execution_count": 1,
   "id": "b3084e37",
   "metadata": {},
   "outputs": [],
   "source": [
    "import os\n",
    "import pandas as pd\n",
    "import torch\n",
    "import time\n",
    "import matplotlib.pyplot as plt"
   ]
  },
  {
   "cell_type": "code",
   "execution_count": 2,
   "id": "693d49a3",
   "metadata": {},
   "outputs": [],
   "source": [
    "from MTMR.dataset import TrainingSmilesDataset, ValidationSmilesDataset\n",
    "from MTMR.vae import SmilesAutoencoder, RewardFunctionLogP\n",
    "from MTMR.properties import plogp, similarity"
   ]
  },
  {
   "cell_type": "markdown",
   "id": "f087dc93",
   "metadata": {},
   "source": [
    "## 2. Configure GPU (if available)"
   ]
  },
  {
   "cell_type": "code",
   "execution_count": 3,
   "id": "e543aa03",
   "metadata": {},
   "outputs": [
    {
     "name": "stdout",
     "output_type": "stream",
     "text": [
      "cuda:0\n"
     ]
    }
   ],
   "source": [
    "use_cuda = torch.cuda.is_available()\n",
    "device = torch.device(\"cuda:0\" if use_cuda else \"cpu\")\n",
    "print(device)"
   ]
  },
  {
   "cell_type": "markdown",
   "id": "1f5ef309",
   "metadata": {},
   "source": [
    "## 3. Specify a target property"
   ]
  },
  {
   "cell_type": "code",
   "execution_count": 4,
   "id": "7998c0ef",
   "metadata": {},
   "outputs": [],
   "source": [
    "PROPERTY_NAME = \"logp06\"\n",
    "\n",
    "SCORING_PROPERTY_FT = plogp()\n",
    "SCORING_TANIMOTO_FT = similarity\n",
    "\n",
    "## Configure the parameters of a reward function for the target property\n",
    "threshold_property = 0.\n",
    "threshold_similarity = 0.3"
   ]
  },
  {
   "cell_type": "markdown",
   "id": "16f6beb9",
   "metadata": {},
   "source": [
    "## 4. Set directories (for inputs and outputs)"
   ]
  },
  {
   "cell_type": "code",
   "execution_count": 5,
   "id": "297ae962",
   "metadata": {},
   "outputs": [],
   "source": [
    "input_data_dir = os.path.join(\"DATA\", PROPERTY_NAME)\n",
    "input_ckpt_dir = os.path.join(\"outputs_Tutorial_1_MTMR_pretraining\", PROPERTY_NAME)"
   ]
  },
  {
   "cell_type": "code",
   "execution_count": 6,
   "id": "4a049417",
   "metadata": {},
   "outputs": [],
   "source": [
    "_output_dir = \"outputs_Tutorial_2_MTMR_finetuning\"\n",
    "if not os.path.exists(_output_dir):\n",
    "    os.mkdir(_output_dir)\n",
    "\n",
    "output_dir = os.path.join(_output_dir, PROPERTY_NAME)\n",
    "if not os.path.exists(output_dir):\n",
    "    os.mkdir(output_dir)"
   ]
  },
  {
   "cell_type": "markdown",
   "id": "78d87375",
   "metadata": {},
   "source": [
    "## 5. Set file names"
   ]
  },
  {
   "cell_type": "code",
   "execution_count": 7,
   "id": "8d4fff29",
   "metadata": {},
   "outputs": [],
   "source": [
    "filepath_train = os.path.join(input_data_dir, \"rdkit_train_triplet.txt\")\n",
    "filepath_valid = os.path.join(input_data_dir, \"rdkit_valid.txt\")"
   ]
  },
  {
   "cell_type": "code",
   "execution_count": 8,
   "id": "f257357c",
   "metadata": {},
   "outputs": [],
   "source": [
    "filepath_pretrain_ckpt     = os.path.join(input_ckpt_dir, \"checkpoints.pt\")\n",
    "filepath_pretrain_configs  = os.path.join(input_ckpt_dir, \"configs.csv\")\n",
    "filepath_pretrain_char2idx = os.path.join(input_ckpt_dir, \"char2idx.csv\")"
   ]
  },
  {
   "cell_type": "code",
   "execution_count": 9,
   "id": "769eebfb",
   "metadata": {},
   "outputs": [],
   "source": [
    "filepath_char2idx      = os.path.join(output_dir, \"char2idx.csv\")\n",
    "filepath_configs       = os.path.join(output_dir, \"configs.csv\")\n",
    "filepath_checkpoint    = os.path.join(output_dir, \"checkpoints.pt\")\n",
    "filepath_history       = os.path.join(output_dir, \"history.csv\")\n",
    "filepath_history_valid = os.path.join(output_dir, \"history_valid.csv\")"
   ]
  },
  {
   "cell_type": "markdown",
   "id": "2c4c7634",
   "metadata": {},
   "source": [
    "## 6. Load datasets (for training and validation)"
   ]
  },
  {
   "cell_type": "code",
   "execution_count": 10,
   "id": "cf1c3b0c",
   "metadata": {},
   "outputs": [],
   "source": [
    "dataset = TrainingSmilesDataset(filepath_train, filepath_char2idx=filepath_pretrain_char2idx, device=device)\n",
    "dataset.save_char2idx(filepath_char2idx)\n",
    "dataset_valid = ValidationSmilesDataset(filepath_valid, filepath_char2idx, device=device)"
   ]
  },
  {
   "cell_type": "markdown",
   "id": "60775df5",
   "metadata": {},
   "source": [
    "## 7. Load a pretrained generator of MTMR"
   ]
  },
  {
   "cell_type": "code",
   "execution_count": 11,
   "id": "375a1a7c",
   "metadata": {},
   "outputs": [],
   "source": [
    "## Model configuration\n",
    "model_configs = {\"hidden_size\"    :None,\n",
    "                 \"latent_size\"    :None,\n",
    "                 \"num_layers\"     :None,\n",
    "                 \"vocab_size\"     :None,\n",
    "                 \"sos_idx\"        :None,\n",
    "                 \"eos_idx\"        :None,\n",
    "                 \"pad_idx\"        :None,\n",
    "                 \"device\"         :device,\n",
    "                 \"filepath_config\":filepath_pretrain_configs}\n",
    "\n",
    "## Model initialization\n",
    "generator = SmilesAutoencoder(**model_configs)\n",
    "\n",
    "## Load pretrained model\n",
    "generator.load_model(filepath_pretrain_ckpt)\n",
    "\n",
    "## Configuration save\n",
    "generator.save_config(filepath_configs)"
   ]
  },
  {
   "cell_type": "markdown",
   "id": "ad5d0980",
   "metadata": {},
   "source": [
    "## 8. Define a reward function"
   ]
  },
  {
   "cell_type": "code",
   "execution_count": 12,
   "id": "7db45199",
   "metadata": {},
   "outputs": [],
   "source": [
    "reward_ft = RewardFunctionLogP(similarity_ft=SCORING_TANIMOTO_FT,\n",
    "                               scoring_ft=SCORING_PROPERTY_FT,\n",
    "                               threshold_property=threshold_property,\n",
    "                               threshold_similarity=threshold_similarity)"
   ]
  },
  {
   "cell_type": "markdown",
   "id": "cf150994",
   "metadata": {},
   "source": [
    "## 9. Train"
   ]
  },
  {
   "cell_type": "code",
   "execution_count": null,
   "id": "b6bf965a",
   "metadata": {
    "scrolled": true
   },
   "outputs": [
    {
     "name": "stdout",
     "output_type": "stream",
     "text": [
      "[000000/002000]  loss: 0.092  reward: 0.808  similarity: 0.525  property[0]: 0.808  valid_ratio(va): 0.950  similarity(va): 0.384  property(va): 0.841\n",
      "[000010/002000]  loss: 0.091  reward: 0.911  similarity: 0.539  property[0]: 0.911  valid_ratio(va): 0.990  similarity(va): 0.381  property(va): 1.206\n",
      "[000020/002000]  loss: 0.137  reward: 1.335  similarity: 0.525  property[0]: 1.335  valid_ratio(va): 0.995  similarity(va): 0.378  property(va): 1.517\n",
      "[000030/002000]  loss: 0.133  reward: 1.313  similarity: 0.508  property[0]: 1.313  valid_ratio(va): 1.000  similarity(va): 0.359  property(va): 1.820\n",
      "[000040/002000]  loss: 0.161  reward: 1.626  similarity: 0.497  property[0]: 1.626  valid_ratio(va): 1.000  similarity(va): 0.344  property(va): 2.085\n",
      "[000050/002000]  loss: 0.150  reward: 1.600  similarity: 0.500  property[0]: 1.600  valid_ratio(va): 1.000  similarity(va): 0.341  property(va): 2.246\n",
      "[000060/002000]  loss: 0.169  reward: 1.804  similarity: 0.505  property[0]: 1.804  valid_ratio(va): 1.000  similarity(va): 0.333  property(va): 2.353\n",
      "[000070/002000]  loss: 0.176  reward: 1.893  similarity: 0.472  property[0]: 1.893  valid_ratio(va): 1.000  similarity(va): 0.328  property(va): 2.460\n",
      "[000080/002000]  loss: 0.202  reward: 1.988  similarity: 0.485  property[0]: 1.988  valid_ratio(va): 1.000  similarity(va): 0.333  property(va): 2.494\n",
      "[000090/002000]  loss: 0.181  reward: 1.856  similarity: 0.475  property[0]: 1.856  valid_ratio(va): 1.000  similarity(va): 0.331  property(va): 2.578\n",
      "[000100/002000]  loss: 0.193  reward: 2.051  similarity: 0.481  property[0]: 2.051  valid_ratio(va): 1.000  similarity(va): 0.325  property(va): 2.724\n",
      "[000110/002000]  loss: 0.194  reward: 1.991  similarity: 0.478  property[0]: 1.991  valid_ratio(va): 1.000  similarity(va): 0.316  property(va): 2.775\n",
      "[000120/002000]  loss: 0.176  reward: 1.907  similarity: 0.471  property[0]: 1.907  valid_ratio(va): 1.000  similarity(va): 0.321  property(va): 2.797\n",
      "[000130/002000]  loss: 0.222  reward: 2.255  similarity: 0.469  property[0]: 2.255  valid_ratio(va): 1.000  similarity(va): 0.328  property(va): 2.740\n",
      "[000140/002000]  loss: 0.202  reward: 2.172  similarity: 0.473  property[0]: 2.172  valid_ratio(va): 1.000  similarity(va): 0.320  property(va): 2.839\n",
      "[000150/002000]  loss: 0.216  reward: 2.067  similarity: 0.467  property[0]: 2.067  valid_ratio(va): 1.000  similarity(va): 0.322  property(va): 2.886\n",
      "[000160/002000]  loss: 0.260  reward: 2.778  similarity: 0.460  property[0]: 2.778  valid_ratio(va): 1.000  similarity(va): 0.325  property(va): 2.898\n",
      "[000170/002000]  loss: 0.215  reward: 2.236  similarity: 0.476  property[0]: 2.236  valid_ratio(va): 1.000  similarity(va): 0.323  property(va): 2.887\n",
      "[000180/002000]  loss: 0.254  reward: 2.617  similarity: 0.455  property[0]: 2.617  valid_ratio(va): 1.000  similarity(va): 0.321  property(va): 2.990\n",
      "[000190/002000]  loss: 0.243  reward: 2.417  similarity: 0.458  property[0]: 2.417  valid_ratio(va): 1.000  similarity(va): 0.322  property(va): 2.980\n",
      "[000200/002000]  loss: 0.248  reward: 2.558  similarity: 0.456  property[0]: 2.558  valid_ratio(va): 1.000  similarity(va): 0.320  property(va): 3.004\n",
      "[000210/002000]  loss: 0.247  reward: 2.484  similarity: 0.462  property[0]: 2.484  valid_ratio(va): 1.000  similarity(va): 0.314  property(va): 3.138\n",
      "[000220/002000]  loss: 0.276  reward: 2.980  similarity: 0.456  property[0]: 2.980  valid_ratio(va): 1.000  similarity(va): 0.315  property(va): 3.223\n",
      "[000230/002000]  loss: 0.284  reward: 2.724  similarity: 0.450  property[0]: 2.724  valid_ratio(va): 1.000  similarity(va): 0.316  property(va): 3.165\n",
      "[000240/002000]  loss: 0.250  reward: 2.685  similarity: 0.470  property[0]: 2.685  valid_ratio(va): 1.000  similarity(va): 0.307  property(va): 3.410\n",
      "[000250/002000]  loss: 0.271  reward: 2.798  similarity: 0.455  property[0]: 2.798  valid_ratio(va): 1.000  similarity(va): 0.318  property(va): 3.324\n",
      "[000260/002000]  loss: 0.297  reward: 3.188  similarity: 0.439  property[0]: 3.188  valid_ratio(va): 1.000  similarity(va): 0.314  property(va): 3.316\n",
      "[000270/002000]  loss: 0.287  reward: 2.963  similarity: 0.459  property[0]: 2.963  valid_ratio(va): 1.000  similarity(va): 0.314  property(va): 3.301\n",
      "[000280/002000]  loss: 0.289  reward: 3.225  similarity: 0.447  property[0]: 3.225  valid_ratio(va): 1.000  similarity(va): 0.315  property(va): 3.378\n",
      "[000290/002000]  loss: 0.312  reward: 3.303  similarity: 0.452  property[0]: 3.303  valid_ratio(va): 1.000  similarity(va): 0.319  property(va): 3.390\n",
      "[000300/002000]  loss: 0.287  reward: 3.040  similarity: 0.457  property[0]: 3.040  valid_ratio(va): 1.000  similarity(va): 0.318  property(va): 3.389\n",
      "[000310/002000]  loss: 0.311  reward: 3.239  similarity: 0.447  property[0]: 3.239  valid_ratio(va): 1.000  similarity(va): 0.312  property(va): 3.529\n",
      "[000320/002000]  loss: 0.290  reward: 2.834  similarity: 0.455  property[0]: 2.834  valid_ratio(va): 1.000  similarity(va): 0.314  property(va): 3.534\n",
      "[000330/002000]  loss: 0.283  reward: 3.130  similarity: 0.442  property[0]: 3.130  valid_ratio(va): 1.000  similarity(va): 0.314  property(va): 3.494\n",
      "[000340/002000]  loss: 0.318  reward: 3.318  similarity: 0.460  property[0]: 3.318  valid_ratio(va): 1.000  similarity(va): 0.324  property(va): 3.469\n",
      "[000350/002000]  loss: 0.299  reward: 3.219  similarity: 0.460  property[0]: 3.219  valid_ratio(va): 1.000  similarity(va): 0.317  property(va): 3.503\n",
      "[000360/002000]  loss: 0.311  reward: 3.510  similarity: 0.449  property[0]: 3.510  valid_ratio(va): 1.000  similarity(va): 0.317  property(va): 3.556\n",
      "[000370/002000]  loss: 0.289  reward: 3.327  similarity: 0.445  property[0]: 3.327  valid_ratio(va): 1.000  similarity(va): 0.315  property(va): 3.691\n",
      "[000380/002000]  loss: 0.331  reward: 3.883  similarity: 0.455  property[0]: 3.883  valid_ratio(va): 1.000  similarity(va): 0.310  property(va): 3.731\n",
      "[000390/002000]  loss: 0.278  reward: 3.367  similarity: 0.450  property[0]: 3.367  valid_ratio(va): 1.000  similarity(va): 0.319  property(va): 3.606\n",
      "[000400/002000]  loss: 0.326  reward: 3.661  similarity: 0.440  property[0]: 3.661  valid_ratio(va): 1.000  similarity(va): 0.313  property(va): 3.712\n",
      "[000410/002000]  loss: 0.318  reward: 3.901  similarity: 0.434  property[0]: 3.901  valid_ratio(va): 1.000  similarity(va): 0.313  property(va): 3.937\n",
      "[000420/002000]  loss: 0.305  reward: 3.566  similarity: 0.442  property[0]: 3.566  valid_ratio(va): 1.000  similarity(va): 0.312  property(va): 3.891\n",
      "[000430/002000]  loss: 0.309  reward: 3.726  similarity: 0.449  property[0]: 3.726  valid_ratio(va): 1.000  similarity(va): 0.310  property(va): 4.081\n",
      "[000440/002000]  loss: 0.301  reward: 3.840  similarity: 0.452  property[0]: 3.840  valid_ratio(va): 1.000  similarity(va): 0.307  property(va): 4.162\n",
      "[000450/002000]  loss: 0.308  reward: 3.877  similarity: 0.440  property[0]: 3.877  valid_ratio(va): 1.000  similarity(va): 0.305  property(va): 4.215\n",
      "[000460/002000]  loss: 0.318  reward: 3.819  similarity: 0.431  property[0]: 3.819  valid_ratio(va): 0.995  similarity(va): 0.310  property(va): 4.132\n",
      "[000470/002000]  loss: 0.307  reward: 3.929  similarity: 0.436  property[0]: 3.929  valid_ratio(va): 1.000  similarity(va): 0.311  property(va): 4.270\n",
      "[000480/002000]  loss: 0.315  reward: 4.134  similarity: 0.457  property[0]: 4.134  valid_ratio(va): 1.000  similarity(va): 0.313  property(va): 4.248\n",
      "[000490/002000]  loss: 0.298  reward: 3.759  similarity: 0.455  property[0]: 3.759  valid_ratio(va): 1.000  similarity(va): 0.311  property(va): 4.339\n",
      "[000500/002000]  loss: 0.324  reward: 4.163  similarity: 0.448  property[0]: 4.163  valid_ratio(va): 1.000  similarity(va): 0.309  property(va): 4.332\n",
      "[000510/002000]  loss: 0.309  reward: 4.013  similarity: 0.455  property[0]: 4.013  valid_ratio(va): 1.000  similarity(va): 0.313  property(va): 4.320\n",
      "[000520/002000]  loss: 0.307  reward: 4.059  similarity: 0.442  property[0]: 4.059  valid_ratio(va): 1.000  similarity(va): 0.311  property(va): 4.426\n",
      "[000530/002000]  loss: 0.311  reward: 3.995  similarity: 0.448  property[0]: 3.995  valid_ratio(va): 1.000  similarity(va): 0.312  property(va): 4.545\n",
      "[000540/002000]  loss: 0.299  reward: 4.248  similarity: 0.453  property[0]: 4.248  valid_ratio(va): 1.000  similarity(va): 0.310  property(va): 4.478\n"
     ]
    },
    {
     "name": "stdout",
     "output_type": "stream",
     "text": [
      "[000550/002000]  loss: 0.305  reward: 4.560  similarity: 0.447  property[0]: 4.560  valid_ratio(va): 1.000  similarity(va): 0.310  property(va): 4.532\n",
      "[000560/002000]  loss: 0.310  reward: 4.226  similarity: 0.448  property[0]: 4.226  valid_ratio(va): 1.000  similarity(va): 0.309  property(va): 4.725\n",
      "[000570/002000]  loss: 0.306  reward: 4.474  similarity: 0.450  property[0]: 4.474  valid_ratio(va): 1.000  similarity(va): 0.307  property(va): 4.712\n",
      "[000580/002000]  loss: 0.307  reward: 4.515  similarity: 0.438  property[0]: 4.515  valid_ratio(va): 1.000  similarity(va): 0.315  property(va): 4.544\n",
      "[000590/002000]  loss: 0.336  reward: 4.647  similarity: 0.450  property[0]: 4.647  valid_ratio(va): 1.000  similarity(va): 0.311  property(va): 4.484\n",
      "[000600/002000]  loss: 0.317  reward: 4.831  similarity: 0.446  property[0]: 4.831  valid_ratio(va): 1.000  similarity(va): 0.307  property(va): 4.592\n",
      "[000610/002000]  loss: 0.325  reward: 4.902  similarity: 0.435  property[0]: 4.902  valid_ratio(va): 1.000  similarity(va): 0.310  property(va): 4.572\n",
      "[000620/002000]  loss: 0.309  reward: 4.469  similarity: 0.433  property[0]: 4.469  valid_ratio(va): 1.000  similarity(va): 0.310  property(va): 4.646\n",
      "[000630/002000]  loss: 0.302  reward: 4.748  similarity: 0.455  property[0]: 4.748  valid_ratio(va): 0.995  similarity(va): 0.309  property(va): 4.678\n",
      "[000640/002000]  loss: 0.300  reward: 4.564  similarity: 0.450  property[0]: 4.564  valid_ratio(va): 1.000  similarity(va): 0.309  property(va): 4.764\n",
      "[000650/002000]  loss: 0.303  reward: 4.734  similarity: 0.457  property[0]: 4.734  valid_ratio(va): 1.000  similarity(va): 0.313  property(va): 4.755\n",
      "[000660/002000]  loss: 0.288  reward: 4.697  similarity: 0.437  property[0]: 4.697  valid_ratio(va): 1.000  similarity(va): 0.315  property(va): 4.743\n",
      "[000670/002000]  loss: 0.282  reward: 4.759  similarity: 0.441  property[0]: 4.759  valid_ratio(va): 1.000  similarity(va): 0.318  property(va): 4.669\n",
      "[000680/002000]  loss: 0.320  reward: 5.158  similarity: 0.444  property[0]: 5.158  valid_ratio(va): 1.000  similarity(va): 0.316  property(va): 4.686\n",
      "[000690/002000]  loss: 0.319  reward: 4.996  similarity: 0.437  property[0]: 4.996  valid_ratio(va): 1.000  similarity(va): 0.310  property(va): 4.711\n",
      "[000700/002000]  loss: 0.302  reward: 5.044  similarity: 0.454  property[0]: 5.044  valid_ratio(va): 1.000  similarity(va): 0.320  property(va): 4.733\n",
      "[000710/002000]  loss: 0.278  reward: 4.845  similarity: 0.451  property[0]: 4.845  valid_ratio(va): 1.000  similarity(va): 0.318  property(va): 4.791\n",
      "[000720/002000]  loss: 0.280  reward: 4.926  similarity: 0.448  property[0]: 4.926  valid_ratio(va): 1.000  similarity(va): 0.317  property(va): 4.746\n",
      "[000730/002000]  loss: 0.274  reward: 4.593  similarity: 0.450  property[0]: 4.593  valid_ratio(va): 1.000  similarity(va): 0.313  property(va): 4.854\n",
      "[000740/002000]  loss: 0.289  reward: 4.949  similarity: 0.435  property[0]: 4.949  valid_ratio(va): 1.000  similarity(va): 0.314  property(va): 4.840\n",
      "[000750/002000]  loss: 0.274  reward: 4.768  similarity: 0.460  property[0]: 4.768  valid_ratio(va): 1.000  similarity(va): 0.317  property(va): 4.918\n",
      "[000760/002000]  loss: 0.281  reward: 5.033  similarity: 0.441  property[0]: 5.033  valid_ratio(va): 1.000  similarity(va): 0.316  property(va): 4.882\n",
      "[000770/002000]  loss: 0.285  reward: 5.119  similarity: 0.452  property[0]: 5.119  valid_ratio(va): 1.000  similarity(va): 0.318  property(va): 4.911\n",
      "[000780/002000]  loss: 0.290  reward: 5.026  similarity: 0.429  property[0]: 5.026  valid_ratio(va): 1.000  similarity(va): 0.314  property(va): 4.931\n",
      "[000790/002000]  loss: 0.295  reward: 5.213  similarity: 0.442  property[0]: 5.213  valid_ratio(va): 1.000  similarity(va): 0.314  property(va): 5.017\n",
      "[000800/002000]  loss: 0.272  reward: 4.954  similarity: 0.473  property[0]: 4.954  valid_ratio(va): 1.000  similarity(va): 0.311  property(va): 4.992\n",
      "[000810/002000]  loss: 0.296  reward: 5.270  similarity: 0.432  property[0]: 5.270  valid_ratio(va): 1.000  similarity(va): 0.312  property(va): 5.127\n",
      "[000820/002000]  loss: 0.274  reward: 5.405  similarity: 0.438  property[0]: 5.405  valid_ratio(va): 1.000  similarity(va): 0.311  property(va): 5.101\n",
      "[000830/002000]  loss: 0.302  reward: 5.332  similarity: 0.447  property[0]: 5.332  valid_ratio(va): 1.000  similarity(va): 0.310  property(va): 5.127\n",
      "[000840/002000]  loss: 0.271  reward: 4.948  similarity: 0.447  property[0]: 4.948  valid_ratio(va): 1.000  similarity(va): 0.310  property(va): 5.109\n"
     ]
    }
   ],
   "source": [
    "df_history, df_history_valid = generator.policy_gradient(dataset, reward_ft,\n",
    "                                                         validation_dataset=dataset_valid,\n",
    "                                                         checkpoint_filepath=filepath_checkpoint)\n",
    "\n",
    "df_history.to_csv(filepath_history, index=False)\n",
    "df_history_valid.to_csv(filepath_history_valid, index=False)"
   ]
  },
  {
   "cell_type": "markdown",
   "id": "bcd2a6ca",
   "metadata": {},
   "source": [
    "## 10. Visualize for reward & loss analysis"
   ]
  },
  {
   "cell_type": "code",
   "execution_count": null,
   "id": "9b09331b",
   "metadata": {},
   "outputs": [],
   "source": [
    "fig, axes = plt.subplots(4,1,figsize=(8,8))\n",
    "\n",
    "axes[0].plot(df_history.loc[:,\"LOSS\"], label=\"Loss\")\n",
    "axes[1].plot(df_history.loc[:,\"REWARD\"], label=\"Reward\")\n",
    "axes[2].plot(df_history.loc[:,\"SIMILARITY\"], label=\"Tanimoto Coeff.\")\n",
    "axes[3].plot(df_history.loc[:,\"PROPERTY\"], label=f\"Property ({PROPERTY_NAME})\")\n",
    "\n",
    "axes[3].set_xlabel(\"Iteration\")\n",
    "for ax in axes:\n",
    "    ax.legend(loc='best')\n",
    "\n",
    "plt.tight_layout()\n",
    "plt.show()"
   ]
  },
  {
   "cell_type": "code",
   "execution_count": null,
   "id": "5e146da6",
   "metadata": {},
   "outputs": [],
   "source": [
    "fig, axes = plt.subplots(3,1,figsize=(8,4))\n",
    "\n",
    "axes[0].plot(df_history_valid.loc[:,\"VALID_RATIO\"], label=\"Validity\")\n",
    "axes[1].plot(df_history_valid.loc[:,\"AVERAGE_SIMILARITY\"], label=\"Tanimoto coeff.\")\n",
    "axes[2].plot(df_history_valid.loc[:,\"AVERAGE_PROPERTY\"], label=f\"Property ({PROPERTY_NAME})\")\n",
    "\n",
    "axes[0].set_ylim(0.95, 1.005)\n",
    "\n",
    "axes[2].set_xlabel(\"Iteration\")\n",
    "for ax in axes:\n",
    "    ax.legend(loc='best')\n",
    "\n",
    "plt.tight_layout()\n",
    "plt.show()"
   ]
  },
  {
   "cell_type": "code",
   "execution_count": null,
   "id": "cd0ca318",
   "metadata": {},
   "outputs": [],
   "source": []
  }
 ],
 "metadata": {
  "kernelspec": {
   "display_name": "Python 3",
   "language": "python",
   "name": "python3"
  },
  "language_info": {
   "codemirror_mode": {
    "name": "ipython",
    "version": 3
   },
   "file_extension": ".py",
   "mimetype": "text/x-python",
   "name": "python",
   "nbconvert_exporter": "python",
   "pygments_lexer": "ipython3",
   "version": "3.6.15"
  }
 },
 "nbformat": 4,
 "nbformat_minor": 5
}
