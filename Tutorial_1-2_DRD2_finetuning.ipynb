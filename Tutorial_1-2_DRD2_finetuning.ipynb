{
 "cells": [
  {
   "cell_type": "markdown",
   "id": "0129ac3e",
   "metadata": {},
   "source": [
    "# Tutorial - Step2 : MTMR finetuning with Reinforcement learning"
   ]
  },
  {
   "cell_type": "markdown",
   "id": "8b8a4c7c",
   "metadata": {},
   "source": [
    "## 1. Import requirements"
   ]
  },
  {
   "cell_type": "code",
   "execution_count": 1,
   "id": "33c9aabf",
   "metadata": {},
   "outputs": [],
   "source": [
    "import os\n",
    "import pandas as pd\n",
    "import torch\n",
    "import time\n",
    "import matplotlib.pyplot as plt"
   ]
  },
  {
   "cell_type": "code",
   "execution_count": 2,
   "id": "c77e87d1",
   "metadata": {},
   "outputs": [],
   "source": [
    "from MTMR.dataset import TrainingSmilesDataset, ValidationSmilesDataset\n",
    "from MTMR.vae import SmilesAutoencoder, RewardFunction\n",
    "from MTMR.properties import drd2, qed, similarity"
   ]
  },
  {
   "cell_type": "markdown",
   "id": "6e357360",
   "metadata": {},
   "source": [
    "## 2. Configure GPU (if available)"
   ]
  },
  {
   "cell_type": "code",
   "execution_count": 3,
   "id": "c5a32e2a",
   "metadata": {},
   "outputs": [
    {
     "name": "stdout",
     "output_type": "stream",
     "text": [
      "cuda:0\n"
     ]
    }
   ],
   "source": [
    "use_cuda = torch.cuda.is_available()\n",
    "device = torch.device(\"cuda:0\" if use_cuda else \"cpu\")\n",
    "print(device)"
   ]
  },
  {
   "cell_type": "markdown",
   "id": "27e30118",
   "metadata": {},
   "source": [
    "## 3. Specify a target property"
   ]
  },
  {
   "cell_type": "code",
   "execution_count": 4,
   "id": "cc282b73",
   "metadata": {},
   "outputs": [],
   "source": [
    "PROPERTY_NAME = \"drd2\"\n",
    "\n",
    "SCORING_PROPERTY_FT = drd2\n",
    "SCORING_TANIMOTO_FT = similarity\n",
    "\n",
    "## Configure the parameters of a reward function for the target property\n",
    "threshold_property = 0.\n",
    "threshold_similarity = 0.3"
   ]
  },
  {
   "cell_type": "markdown",
   "id": "1b982e5e",
   "metadata": {},
   "source": [
    "## 4. Set directories (for inputs and outputs)¶"
   ]
  },
  {
   "cell_type": "code",
   "execution_count": 5,
   "id": "21ecd00e",
   "metadata": {},
   "outputs": [],
   "source": [
    "input_data_dir = os.path.join(\"DATA\", PROPERTY_NAME)\n",
    "input_ckpt_dir = os.path.join(\"outputs_Tutorial_1_MTMR_pretraining\", PROPERTY_NAME)"
   ]
  },
  {
   "cell_type": "code",
   "execution_count": 6,
   "id": "88e2e17e",
   "metadata": {},
   "outputs": [],
   "source": [
    "_output_dir = \"outputs_Tutorial_2_MTMR_finetuning\"\n",
    "if not os.path.exists(_output_dir):\n",
    "    os.mkdir(_output_dir)\n",
    "\n",
    "output_dir = os.path.join(_output_dir, PROPERTY_NAME)\n",
    "if not os.path.exists(output_dir):\n",
    "    os.mkdir(output_dir)"
   ]
  },
  {
   "cell_type": "markdown",
   "id": "b96590d3",
   "metadata": {},
   "source": [
    "## 5. Set file names"
   ]
  },
  {
   "cell_type": "code",
   "execution_count": 7,
   "id": "a2a50c38",
   "metadata": {},
   "outputs": [],
   "source": [
    "filepath_train = os.path.join(input_data_dir, \"rdkit_train_triplet.txt\")\n",
    "filepath_valid = os.path.join(input_data_dir, \"rdkit_valid.txt\")"
   ]
  },
  {
   "cell_type": "code",
   "execution_count": 8,
   "id": "d0e6cf84",
   "metadata": {},
   "outputs": [],
   "source": [
    "filepath_pretrain_ckpt     = os.path.join(input_ckpt_dir, \"checkpoints.pt\")\n",
    "filepath_pretrain_configs  = os.path.join(input_ckpt_dir, \"configs.csv\")\n",
    "filepath_pretrain_char2idx = os.path.join(input_ckpt_dir, \"char2idx.csv\")"
   ]
  },
  {
   "cell_type": "code",
   "execution_count": 9,
   "id": "6652f091",
   "metadata": {},
   "outputs": [],
   "source": [
    "filepath_char2idx      = os.path.join(output_dir, \"char2idx.csv\")\n",
    "filepath_configs       = os.path.join(output_dir, \"configs.csv\")\n",
    "filepath_checkpoint    = os.path.join(output_dir, \"checkpoints.pt\")\n",
    "filepath_history       = os.path.join(output_dir, \"history.csv\")\n",
    "filepath_history_valid = os.path.join(output_dir, \"history_valid.csv\")"
   ]
  },
  {
   "cell_type": "markdown",
   "id": "c6adffa2",
   "metadata": {},
   "source": [
    "## 6. Load datasets (for training and validation)"
   ]
  },
  {
   "cell_type": "code",
   "execution_count": 10,
   "id": "c74eb40b",
   "metadata": {},
   "outputs": [],
   "source": [
    "dataset = TrainingSmilesDataset(filepath_train, filepath_char2idx=filepath_pretrain_char2idx, device=device)\n",
    "dataset.save_char2idx(filepath_char2idx)\n",
    "dataset_valid = ValidationSmilesDataset(filepath_valid, filepath_char2idx, device=device)"
   ]
  },
  {
   "cell_type": "markdown",
   "id": "258138c9",
   "metadata": {},
   "source": [
    "## 7. Load a pretrained generator of MTMR"
   ]
  },
  {
   "cell_type": "code",
   "execution_count": 11,
   "id": "bfe35716",
   "metadata": {},
   "outputs": [],
   "source": [
    "## Model configuration\n",
    "model_configs = {\"hidden_size\"    :None,\n",
    "                 \"latent_size\"    :None,\n",
    "                 \"num_layers\"     :None,\n",
    "                 \"vocab_size\"     :None,\n",
    "                 \"sos_idx\"        :None,\n",
    "                 \"eos_idx\"        :None,\n",
    "                 \"pad_idx\"        :None,\n",
    "                 \"device\"         :device,\n",
    "                 \"filepath_config\":filepath_pretrain_configs}\n",
    "\n",
    "## Model initialization\n",
    "generator = SmilesAutoencoder(**model_configs)\n",
    "\n",
    "## Load pretrained model\n",
    "generator.load_model(filepath_pretrain_ckpt)\n",
    "\n",
    "## Configuration save\n",
    "generator.save_config(filepath_configs)"
   ]
  },
  {
   "cell_type": "markdown",
   "id": "7465ae77",
   "metadata": {},
   "source": [
    "## 8. Define a reward function"
   ]
  },
  {
   "cell_type": "code",
   "execution_count": 12,
   "id": "8da1a473",
   "metadata": {},
   "outputs": [],
   "source": [
    "reward_ft = RewardFunction(similarity_ft=SCORING_TANIMOTO_FT,\n",
    "                           scoring_ft=SCORING_PROPERTY_FT,\n",
    "                           threshold_property=threshold_property,\n",
    "                           threshold_similarity=threshold_similarity)"
   ]
  },
  {
   "cell_type": "markdown",
   "id": "ef332667",
   "metadata": {},
   "source": [
    "## 9. Train"
   ]
  },
  {
   "cell_type": "code",
   "execution_count": null,
   "id": "bb3953ea",
   "metadata": {},
   "outputs": [
    {
     "name": "stdout",
     "output_type": "stream",
     "text": [
      "[000000/002000]  loss: 0.014  reward: 0.224  similarity: 0.683  property: 0.085  valid_ratio(va): 0.998  similarity(va): 0.441  property(va): 0.046\n",
      "[000010/002000]  loss: 0.012  reward: 0.212  similarity: 0.688  property: 0.055  valid_ratio(va): 1.000  similarity(va): 0.434  property(va): 0.073\n",
      "[000020/002000]  loss: 0.016  reward: 0.208  similarity: 0.652  property: 0.067  valid_ratio(va): 1.000  similarity(va): 0.417  property(va): 0.109\n",
      "[000030/002000]  loss: 0.014  reward: 0.210  similarity: 0.624  property: 0.100  valid_ratio(va): 1.000  similarity(va): 0.413  property(va): 0.125\n",
      "[000040/002000]  loss: 0.019  reward: 0.270  similarity: 0.563  property: 0.163  valid_ratio(va): 1.000  similarity(va): 0.398  property(va): 0.170\n",
      "[000050/002000]  loss: 0.021  reward: 0.336  similarity: 0.558  property: 0.245  valid_ratio(va): 1.000  similarity(va): 0.391  property(va): 0.181\n",
      "[000060/002000]  loss: 0.019  reward: 0.344  similarity: 0.548  property: 0.247  valid_ratio(va): 1.000  similarity(va): 0.380  property(va): 0.213\n",
      "[000070/002000]  loss: 0.026  reward: 0.347  similarity: 0.541  property: 0.256  valid_ratio(va): 1.000  similarity(va): 0.375  property(va): 0.246\n",
      "[000080/002000]  loss: 0.021  reward: 0.359  similarity: 0.536  property: 0.306  valid_ratio(va): 0.998  similarity(va): 0.368  property(va): 0.287\n",
      "[000090/002000]  loss: 0.027  reward: 0.373  similarity: 0.531  property: 0.296  valid_ratio(va): 1.000  similarity(va): 0.367  property(va): 0.285\n",
      "[000100/002000]  loss: 0.023  reward: 0.399  similarity: 0.522  property: 0.335  valid_ratio(va): 1.000  similarity(va): 0.361  property(va): 0.313\n",
      "[000110/002000]  loss: 0.026  reward: 0.406  similarity: 0.510  property: 0.338  valid_ratio(va): 1.000  similarity(va): 0.356  property(va): 0.348\n",
      "[000120/002000]  loss: 0.028  reward: 0.434  similarity: 0.499  property: 0.382  valid_ratio(va): 0.998  similarity(va): 0.345  property(va): 0.347\n",
      "[000130/002000]  loss: 0.025  reward: 0.408  similarity: 0.496  property: 0.360  valid_ratio(va): 1.000  similarity(va): 0.350  property(va): 0.380\n",
      "[000140/002000]  loss: 0.029  reward: 0.476  similarity: 0.493  property: 0.435  valid_ratio(va): 1.000  similarity(va): 0.337  property(va): 0.419\n",
      "[000150/002000]  loss: 0.030  reward: 0.511  similarity: 0.487  property: 0.462  valid_ratio(va): 1.000  similarity(va): 0.336  property(va): 0.428\n",
      "[000160/002000]  loss: 0.033  reward: 0.536  similarity: 0.479  property: 0.481  valid_ratio(va): 0.998  similarity(va): 0.337  property(va): 0.428\n",
      "[000170/002000]  loss: 0.034  reward: 0.566  similarity: 0.469  property: 0.525  valid_ratio(va): 1.000  similarity(va): 0.336  property(va): 0.454\n",
      "[000180/002000]  loss: 0.029  reward: 0.509  similarity: 0.484  property: 0.453  valid_ratio(va): 1.000  similarity(va): 0.342  property(va): 0.464\n",
      "[000190/002000]  loss: 0.033  reward: 0.567  similarity: 0.454  property: 0.522  valid_ratio(va): 1.000  similarity(va): 0.335  property(va): 0.467\n",
      "[000200/002000]  loss: 0.030  reward: 0.557  similarity: 0.480  property: 0.510  valid_ratio(va): 1.000  similarity(va): 0.331  property(va): 0.475\n",
      "[000210/002000]  loss: 0.029  reward: 0.584  similarity: 0.470  property: 0.545  valid_ratio(va): 1.000  similarity(va): 0.335  property(va): 0.492\n",
      "[000220/002000]  loss: 0.032  reward: 0.571  similarity: 0.449  property: 0.538  valid_ratio(va): 0.998  similarity(va): 0.329  property(va): 0.500\n",
      "[000230/002000]  loss: 0.034  reward: 0.623  similarity: 0.462  property: 0.579  valid_ratio(va): 0.998  similarity(va): 0.332  property(va): 0.514\n",
      "[000240/002000]  loss: 0.035  reward: 0.634  similarity: 0.442  property: 0.588  valid_ratio(va): 0.998  similarity(va): 0.332  property(va): 0.534\n",
      "[000250/002000]  loss: 0.032  reward: 0.569  similarity: 0.453  property: 0.514  valid_ratio(va): 1.000  similarity(va): 0.323  property(va): 0.549\n",
      "[000260/002000]  loss: 0.033  reward: 0.598  similarity: 0.459  property: 0.555  valid_ratio(va): 1.000  similarity(va): 0.322  property(va): 0.557\n",
      "[000270/002000]  loss: 0.031  reward: 0.583  similarity: 0.451  property: 0.549  valid_ratio(va): 1.000  similarity(va): 0.327  property(va): 0.546\n",
      "[000280/002000]  loss: 0.031  reward: 0.595  similarity: 0.458  property: 0.565  valid_ratio(va): 1.000  similarity(va): 0.332  property(va): 0.550\n",
      "[000290/002000]  loss: 0.036  reward: 0.646  similarity: 0.455  property: 0.612  valid_ratio(va): 1.000  similarity(va): 0.326  property(va): 0.588\n",
      "[000300/002000]  loss: 0.033  reward: 0.650  similarity: 0.451  property: 0.607  valid_ratio(va): 1.000  similarity(va): 0.332  property(va): 0.568\n",
      "[000310/002000]  loss: 0.031  reward: 0.651  similarity: 0.455  property: 0.623  valid_ratio(va): 1.000  similarity(va): 0.330  property(va): 0.555\n",
      "[000320/002000]  loss: 0.036  reward: 0.675  similarity: 0.456  property: 0.636  valid_ratio(va): 1.000  similarity(va): 0.324  property(va): 0.571\n",
      "[000330/002000]  loss: 0.030  reward: 0.643  similarity: 0.448  property: 0.603  valid_ratio(va): 1.000  similarity(va): 0.322  property(va): 0.577\n",
      "[000340/002000]  loss: 0.034  reward: 0.624  similarity: 0.461  property: 0.600  valid_ratio(va): 0.998  similarity(va): 0.325  property(va): 0.585\n",
      "[000350/002000]  loss: 0.034  reward: 0.666  similarity: 0.454  property: 0.631  valid_ratio(va): 1.000  similarity(va): 0.320  property(va): 0.620\n",
      "[000360/002000]  loss: 0.030  reward: 0.712  similarity: 0.451  property: 0.684  valid_ratio(va): 0.998  similarity(va): 0.328  property(va): 0.601\n",
      "[000370/002000]  loss: 0.032  reward: 0.676  similarity: 0.454  property: 0.644  valid_ratio(va): 0.998  similarity(va): 0.321  property(va): 0.608\n",
      "[000380/002000]  loss: 0.030  reward: 0.713  similarity: 0.455  property: 0.685  valid_ratio(va): 1.000  similarity(va): 0.321  property(va): 0.631\n",
      "[000390/002000]  loss: 0.032  reward: 0.692  similarity: 0.444  property: 0.660  valid_ratio(va): 1.000  similarity(va): 0.328  property(va): 0.636\n",
      "[000400/002000]  loss: 0.033  reward: 0.685  similarity: 0.451  property: 0.658  valid_ratio(va): 1.000  similarity(va): 0.325  property(va): 0.618\n",
      "[000410/002000]  loss: 0.033  reward: 0.718  similarity: 0.439  property: 0.681  valid_ratio(va): 1.000  similarity(va): 0.324  property(va): 0.620\n",
      "[000420/002000]  loss: 0.032  reward: 0.682  similarity: 0.444  property: 0.647  valid_ratio(va): 1.000  similarity(va): 0.331  property(va): 0.637\n",
      "[000430/002000]  loss: 0.032  reward: 0.693  similarity: 0.448  property: 0.667  valid_ratio(va): 1.000  similarity(va): 0.332  property(va): 0.607\n",
      "[000440/002000]  loss: 0.029  reward: 0.652  similarity: 0.475  property: 0.613  valid_ratio(va): 1.000  similarity(va): 0.328  property(va): 0.607\n",
      "[000450/002000]  loss: 0.033  reward: 0.693  similarity: 0.458  property: 0.657  valid_ratio(va): 1.000  similarity(va): 0.329  property(va): 0.643\n",
      "[000460/002000]  loss: 0.032  reward: 0.760  similarity: 0.443  property: 0.728  valid_ratio(va): 1.000  similarity(va): 0.330  property(va): 0.613\n",
      "[000470/002000]  loss: 0.032  reward: 0.697  similarity: 0.445  property: 0.660  valid_ratio(va): 1.000  similarity(va): 0.327  property(va): 0.647\n",
      "[000480/002000]  loss: 0.032  reward: 0.708  similarity: 0.453  property: 0.682  valid_ratio(va): 0.998  similarity(va): 0.330  property(va): 0.648\n",
      "[000490/002000]  loss: 0.033  reward: 0.754  similarity: 0.438  property: 0.729  valid_ratio(va): 1.000  similarity(va): 0.325  property(va): 0.646\n",
      "[000500/002000]  loss: 0.028  reward: 0.730  similarity: 0.455  property: 0.696  valid_ratio(va): 1.000  similarity(va): 0.323  property(va): 0.661\n",
      "[000510/002000]  loss: 0.034  reward: 0.751  similarity: 0.435  property: 0.713  valid_ratio(va): 0.998  similarity(va): 0.323  property(va): 0.673\n",
      "[000520/002000]  loss: 0.032  reward: 0.736  similarity: 0.459  property: 0.703  valid_ratio(va): 1.000  similarity(va): 0.324  property(va): 0.669\n",
      "[000530/002000]  loss: 0.035  reward: 0.751  similarity: 0.449  property: 0.719  valid_ratio(va): 1.000  similarity(va): 0.325  property(va): 0.674\n",
      "[000540/002000]  loss: 0.031  reward: 0.771  similarity: 0.432  property: 0.745  valid_ratio(va): 1.000  similarity(va): 0.323  property(va): 0.657\n",
      "[000550/002000]  loss: 0.031  reward: 0.746  similarity: 0.461  property: 0.725  valid_ratio(va): 1.000  similarity(va): 0.330  property(va): 0.652\n"
     ]
    },
    {
     "name": "stdout",
     "output_type": "stream",
     "text": [
      "[000560/002000]  loss: 0.032  reward: 0.714  similarity: 0.447  property: 0.681  valid_ratio(va): 1.000  similarity(va): 0.324  property(va): 0.667\n",
      "[000570/002000]  loss: 0.034  reward: 0.699  similarity: 0.459  property: 0.663  valid_ratio(va): 1.000  similarity(va): 0.319  property(va): 0.656\n",
      "[000580/002000]  loss: 0.031  reward: 0.779  similarity: 0.422  property: 0.749  valid_ratio(va): 1.000  similarity(va): 0.329  property(va): 0.668\n",
      "[000590/002000]  loss: 0.030  reward: 0.750  similarity: 0.439  property: 0.734  valid_ratio(va): 1.000  similarity(va): 0.332  property(va): 0.660\n",
      "[000600/002000]  loss: 0.028  reward: 0.740  similarity: 0.453  property: 0.716  valid_ratio(va): 0.998  similarity(va): 0.324  property(va): 0.681\n",
      "[000610/002000]  loss: 0.032  reward: 0.775  similarity: 0.447  property: 0.756  valid_ratio(va): 1.000  similarity(va): 0.326  property(va): 0.676\n",
      "[000620/002000]  loss: 0.032  reward: 0.717  similarity: 0.457  property: 0.673  valid_ratio(va): 1.000  similarity(va): 0.324  property(va): 0.690\n",
      "[000630/002000]  loss: 0.031  reward: 0.775  similarity: 0.440  property: 0.750  valid_ratio(va): 1.000  similarity(va): 0.321  property(va): 0.694\n",
      "[000640/002000]  loss: 0.034  reward: 0.771  similarity: 0.438  property: 0.744  valid_ratio(va): 1.000  similarity(va): 0.323  property(va): 0.676\n",
      "[000650/002000]  loss: 0.032  reward: 0.756  similarity: 0.427  property: 0.731  valid_ratio(va): 1.000  similarity(va): 0.328  property(va): 0.710\n",
      "[000660/002000]  loss: 0.028  reward: 0.748  similarity: 0.433  property: 0.719  valid_ratio(va): 1.000  similarity(va): 0.330  property(va): 0.701\n",
      "[000670/002000]  loss: 0.032  reward: 0.779  similarity: 0.428  property: 0.757  valid_ratio(va): 1.000  similarity(va): 0.329  property(va): 0.651\n",
      "[000680/002000]  loss: 0.033  reward: 0.793  similarity: 0.440  property: 0.774  valid_ratio(va): 1.000  similarity(va): 0.327  property(va): 0.703\n",
      "[000690/002000]  loss: 0.034  reward: 0.808  similarity: 0.427  property: 0.784  valid_ratio(va): 1.000  similarity(va): 0.324  property(va): 0.709\n",
      "[000700/002000]  loss: 0.034  reward: 0.787  similarity: 0.440  property: 0.767  valid_ratio(va): 1.000  similarity(va): 0.327  property(va): 0.681\n",
      "[000710/002000]  loss: 0.031  reward: 0.794  similarity: 0.423  property: 0.760  valid_ratio(va): 1.000  similarity(va): 0.325  property(va): 0.716\n",
      "[000720/002000]  loss: 0.035  reward: 0.742  similarity: 0.445  property: 0.717  valid_ratio(va): 1.000  similarity(va): 0.328  property(va): 0.724\n",
      "[000730/002000]  loss: 0.028  reward: 0.772  similarity: 0.449  property: 0.748  valid_ratio(va): 1.000  similarity(va): 0.333  property(va): 0.701\n",
      "[000740/002000]  loss: 0.032  reward: 0.787  similarity: 0.458  property: 0.762  valid_ratio(va): 0.998  similarity(va): 0.319  property(va): 0.714\n",
      "[000750/002000]  loss: 0.032  reward: 0.758  similarity: 0.428  property: 0.723  valid_ratio(va): 1.000  similarity(va): 0.322  property(va): 0.693\n",
      "[000760/002000]  loss: 0.035  reward: 0.773  similarity: 0.433  property: 0.753  valid_ratio(va): 0.998  similarity(va): 0.319  property(va): 0.717\n",
      "[000770/002000]  loss: 0.033  reward: 0.789  similarity: 0.442  property: 0.768  valid_ratio(va): 1.000  similarity(va): 0.322  property(va): 0.714\n",
      "[000780/002000]  loss: 0.030  reward: 0.845  similarity: 0.430  property: 0.817  valid_ratio(va): 1.000  similarity(va): 0.319  property(va): 0.741\n",
      "[000790/002000]  loss: 0.031  reward: 0.777  similarity: 0.425  property: 0.760  valid_ratio(va): 1.000  similarity(va): 0.326  property(va): 0.723\n",
      "[000800/002000]  loss: 0.029  reward: 0.775  similarity: 0.428  property: 0.732  valid_ratio(va): 1.000  similarity(va): 0.322  property(va): 0.721\n",
      "[000810/002000]  loss: 0.028  reward: 0.783  similarity: 0.421  property: 0.756  valid_ratio(va): 1.000  similarity(va): 0.328  property(va): 0.721\n",
      "[000820/002000]  loss: 0.033  reward: 0.814  similarity: 0.437  property: 0.791  valid_ratio(va): 1.000  similarity(va): 0.323  property(va): 0.708\n",
      "[000830/002000]  loss: 0.034  reward: 0.802  similarity: 0.430  property: 0.781  valid_ratio(va): 1.000  similarity(va): 0.321  property(va): 0.714\n",
      "[000840/002000]  loss: 0.031  reward: 0.829  similarity: 0.435  property: 0.797  valid_ratio(va): 1.000  similarity(va): 0.331  property(va): 0.737\n",
      "[000850/002000]  loss: 0.031  reward: 0.761  similarity: 0.447  property: 0.727  valid_ratio(va): 1.000  similarity(va): 0.321  property(va): 0.709\n"
     ]
    }
   ],
   "source": [
    "df_history, df_history_valid = generator.policy_gradient(dataset, reward_ft,\n",
    "                                                         validation_dataset=dataset_valid,\n",
    "                                                         scoring_ft=SCORING_PROPERTY_FT,\n",
    "                                                         checkpoint_filepath=filepath_checkpoint)\n",
    "\n",
    "df_history.to_csv(filepath_history, index=False)\n",
    "df_history_valid.to_csv(filepath_history_valid, index=False)"
   ]
  },
  {
   "cell_type": "markdown",
   "id": "fb48bb0c",
   "metadata": {},
   "source": [
    "## 10. Visualize for reward & loss analysis"
   ]
  },
  {
   "cell_type": "code",
   "execution_count": null,
   "id": "5fe0e868",
   "metadata": {},
   "outputs": [],
   "source": [
    "fig, axes = plt.subplots(4,1,figsize=(8,8))\n",
    "\n",
    "axes[0].plot(df_history.loc[:,\"LOSS\"], label=\"Loss\")\n",
    "axes[1].plot(df_history.loc[:,\"REWARD\"], label=\"Reward\")\n",
    "axes[2].plot(df_history.loc[:,\"SIMILARITY\"], label=\"Tanimoto Coeff.\")\n",
    "axes[3].plot(df_history.loc[:,\"PROPERTY\"], label=f\"Property ({PROPERTY_NAME})\")\n",
    "\n",
    "axes[3].set_xlabel(\"Iteration\")\n",
    "for ax in axes:\n",
    "    ax.legend(loc='best')\n",
    "\n",
    "plt.tight_layout()\n",
    "plt.show()"
   ]
  },
  {
   "cell_type": "code",
   "execution_count": null,
   "id": "b2fee1e8",
   "metadata": {},
   "outputs": [],
   "source": [
    "fig, axes = plt.subplots(3,1,figsize=(8,4))\n",
    "\n",
    "axes[0].plot(df_history_valid.loc[:,\"VALID_RATIO\"], label=\"Validity\")\n",
    "axes[1].plot(df_history_valid.loc[:,\"AVERAGE_SIMILARITY\"], label=\"Tanimoto coeff.\")\n",
    "axes[2].plot(df_history_valid.loc[:,\"AVERAGE_PROPERTY\"], label=f\"Property ({PROPERTY_NAME})\")\n",
    "\n",
    "axes[2].set_xlabel(\"Iteration\")\n",
    "for ax in axes:\n",
    "    ax.legend(loc='best')\n",
    "\n",
    "plt.tight_layout()\n",
    "plt.show()"
   ]
  }
 ],
 "metadata": {
  "kernelspec": {
   "display_name": "Python 3",
   "language": "python",
   "name": "python3"
  },
  "language_info": {
   "codemirror_mode": {
    "name": "ipython",
    "version": 3
   },
   "file_extension": ".py",
   "mimetype": "text/x-python",
   "name": "python",
   "nbconvert_exporter": "python",
   "pygments_lexer": "ipython3",
   "version": "3.6.15"
  }
 },
 "nbformat": 4,
 "nbformat_minor": 5
}
