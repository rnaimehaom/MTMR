{
 "cells": [
  {
   "cell_type": "markdown",
   "id": "71fa4b0c",
   "metadata": {},
   "source": [
    "# Tutorial - Step5 : MTMR evaluation by comparing to SOTA models"
   ]
  },
  {
   "cell_type": "markdown",
   "id": "c3d6e75a",
   "metadata": {},
   "source": [
    "## 1. Import requirements"
   ]
  },
  {
   "cell_type": "code",
   "execution_count": 1,
   "id": "f58797a6",
   "metadata": {},
   "outputs": [],
   "source": [
    "import os\n",
    "import pandas as pd\n",
    "import tqdm\n",
    "import seaborn as sns\n",
    "import matplotlib.pyplot as plt"
   ]
  },
  {
   "cell_type": "code",
   "execution_count": 2,
   "id": "947dcef3",
   "metadata": {},
   "outputs": [],
   "source": [
    "from MTMR.properties import drd2, qed\n",
    "from MTMR.evaluate import evaluate_metric"
   ]
  },
  {
   "cell_type": "markdown",
   "id": "5d0f4dac",
   "metadata": {},
   "source": [
    "## 2. Specify a target property"
   ]
  },
  {
   "cell_type": "code",
   "execution_count": 3,
   "id": "0c4f5f3f",
   "metadata": {},
   "outputs": [],
   "source": [
    "PROPERTY_NAME = \"drd2\"\n",
    "SCORING_FT = drd2"
   ]
  },
  {
   "cell_type": "markdown",
   "id": "f44d9d9c",
   "metadata": {},
   "source": [
    "## 3. Set directories (for inputs and outputs)"
   ]
  },
  {
   "cell_type": "code",
   "execution_count": 4,
   "id": "e425931c",
   "metadata": {},
   "outputs": [],
   "source": [
    "input_data_dir = os.path.join(\"DATA\", PROPERTY_NAME)\n",
    "input_our_dir = os.path.join(\"outputs_Tutorial_4_MTMR_translation\", PROPERTY_NAME)\n",
    "input_base_dir = os.path.join(\"DATA\", \"baselines\")"
   ]
  },
  {
   "cell_type": "code",
   "execution_count": 5,
   "id": "882c18b7",
   "metadata": {},
   "outputs": [],
   "source": [
    "_output_dir = \"outputs_Tutorial_5_MTMR_evaluation\"\n",
    "if not os.path.exists(_output_dir):\n",
    "    os.mkdir(_output_dir)\n",
    "\n",
    "output_dir = os.path.join(_output_dir, PROPERTY_NAME)\n",
    "if not os.path.exists(output_dir):\n",
    "    os.mkdir(output_dir)"
   ]
  },
  {
   "cell_type": "markdown",
   "id": "f9fd4af7",
   "metadata": {},
   "source": [
    "## 4. Set file names"
   ]
  },
  {
   "cell_type": "code",
   "execution_count": 6,
   "id": "2ac83aa9",
   "metadata": {},
   "outputs": [],
   "source": [
    "filepath_train_rdkit = os.path.join(input_data_dir, \"rdkit_train_pairs.txt\")\n",
    "filepath_train = os.path.join(input_base_dir, f\"train_pairs_{PROPERTY_NAME.upper()}.txt\")"
   ]
  },
  {
   "cell_type": "code",
   "execution_count": 7,
   "id": "67a268cc",
   "metadata": {},
   "outputs": [],
   "source": [
    "df_pairs_rdkit = pd.read_csv(filepath_train_rdkit, header=None, sep=\" \")\n",
    "df_pairs = pd.read_csv(filepath_train, header=None, sep=\" \")\n",
    "targets_rdkit = set(df_pairs_rdkit.iloc[:,1].values.tolist())\n",
    "targets = set(df_pairs.iloc[:,1].values.tolist())"
   ]
  },
  {
   "cell_type": "code",
   "execution_count": 8,
   "id": "699a70a1",
   "metadata": {},
   "outputs": [],
   "source": [
    "filepath_MTMR  = os.path.join(input_our_dir, f\"MTMR_{PROPERTY_NAME.upper()}.csv\")\n",
    "filepath_JTVAE = os.path.join(input_base_dir, f\"JTVAE_{PROPERTY_NAME.upper()}.csv\")\n",
    "filepath_G2G   = os.path.join(input_base_dir, f\"G2G_{PROPERTY_NAME.upper()}.csv\")\n",
    "filepath_CORE  = os.path.join(input_base_dir, f\"CORE_{PROPERTY_NAME.upper()}.csv\")\n",
    "filepath_MOLCG = os.path.join(input_base_dir, f\"MOLCG_{PROPERTY_NAME.upper()}.csv\")\n",
    "filepath_UGMMT = os.path.join(input_base_dir, f\"UGMMT_{PROPERTY_NAME.upper()}.csv\")"
   ]
  },
  {
   "cell_type": "markdown",
   "id": "cadfb079",
   "metadata": {},
   "source": [
    "## 5. Load translation results generated from the test dataset"
   ]
  },
  {
   "cell_type": "code",
   "execution_count": 9,
   "id": "62e03905",
   "metadata": {},
   "outputs": [],
   "source": [
    "df_MTMR  = pd.read_csv(filepath_MTMR, header=None).fillna(\"\")\n",
    "df_JTVAE = pd.read_csv(filepath_JTVAE, header=None).fillna(\"\")\n",
    "df_G2G   = pd.read_csv(filepath_G2G, header=None).fillna(\"\")\n",
    "df_CORE  = pd.read_csv(filepath_CORE, header=None).fillna(\"\")\n",
    "df_MOLCG = pd.read_csv(filepath_MOLCG, header=None).fillna(\"\")\n",
    "df_UGMMT = pd.read_csv(filepath_UGMMT, header=None).fillna(\"\")"
   ]
  },
  {
   "cell_type": "markdown",
   "id": "6cf624e6",
   "metadata": {},
   "source": [
    "## 6. Evaluate metrics"
   ]
  },
  {
   "cell_type": "code",
   "execution_count": 10,
   "id": "9c7c0845",
   "metadata": {},
   "outputs": [],
   "source": [
    "df_metric_MTMR  = evaluate_metric(df_MTMR, targets_rdkit, SCORING_FT, threshold_sim=0.4, threshold_pro=0.5).rename(columns={0:\"MTMR\"})\n",
    "df_metric_JTVAE = evaluate_metric(df_JTVAE, targets, SCORING_FT, threshold_sim=0.4, threshold_pro=0.5).rename(columns={0:\"JTVAE\"})\n",
    "df_metric_G2G   = evaluate_metric(df_G2G, targets_rdkit, SCORING_FT, threshold_sim=0.4, threshold_pro=0.5).rename(columns={0:\"G2G\"})\n",
    "df_metric_CORE  = evaluate_metric(df_CORE, targets, SCORING_FT, threshold_sim=0.4, threshold_pro=0.5).rename(columns={0:\"CORE\"})\n",
    "df_metric_MOLCG = evaluate_metric(df_MOLCG, targets, SCORING_FT, threshold_sim=0.4, threshold_pro=0.5).rename(columns={0:\"MOLCG\"})\n",
    "df_metric_UGMMT = evaluate_metric(df_UGMMT, targets_rdkit, SCORING_FT, threshold_sim=0.4, threshold_pro=0.5).rename(columns={0:\"UGMMT\"})"
   ]
  },
  {
   "cell_type": "code",
   "execution_count": 11,
   "id": "4462afbf",
   "metadata": {},
   "outputs": [],
   "source": [
    "df_merged = pd.concat([df_metric_MTMR,\n",
    "                       df_metric_UGMMT,\n",
    "                       df_metric_MOLCG,\n",
    "                       df_metric_CORE,\n",
    "                       df_metric_G2G,\n",
    "                       df_metric_JTVAE], axis=1).T"
   ]
  },
  {
   "cell_type": "code",
   "execution_count": 12,
   "id": "c6daf779",
   "metadata": {},
   "outputs": [
    {
     "data": {
      "text/html": [
       "<div>\n",
       "<style scoped>\n",
       "    .dataframe tbody tr th:only-of-type {\n",
       "        vertical-align: middle;\n",
       "    }\n",
       "\n",
       "    .dataframe tbody tr th {\n",
       "        vertical-align: top;\n",
       "    }\n",
       "\n",
       "    .dataframe thead th {\n",
       "        text-align: right;\n",
       "    }\n",
       "</style>\n",
       "<table border=\"1\" class=\"dataframe\">\n",
       "  <thead>\n",
       "    <tr style=\"text-align: right;\">\n",
       "      <th></th>\n",
       "      <th>VALID_RATIO</th>\n",
       "      <th>AVERAGE_PROPERTY</th>\n",
       "      <th>AVERAGE_SIMILARITY</th>\n",
       "      <th>NOVELTY</th>\n",
       "      <th>SUCCESS</th>\n",
       "      <th>SUCCESS_WO_NOVEL</th>\n",
       "      <th>DIVERSITY</th>\n",
       "    </tr>\n",
       "  </thead>\n",
       "  <tbody>\n",
       "    <tr>\n",
       "      <th>MTMR</th>\n",
       "      <td>1.000</td>\n",
       "      <td>0.794485</td>\n",
       "      <td>0.328759</td>\n",
       "      <td>0.985000</td>\n",
       "      <td>0.206000</td>\n",
       "      <td>0.212000</td>\n",
       "      <td>0.960000</td>\n",
       "    </tr>\n",
       "    <tr>\n",
       "      <th>UGMMT</th>\n",
       "      <td>0.657</td>\n",
       "      <td>0.723168</td>\n",
       "      <td>0.268205</td>\n",
       "      <td>0.867580</td>\n",
       "      <td>0.065449</td>\n",
       "      <td>0.089802</td>\n",
       "      <td>0.949772</td>\n",
       "    </tr>\n",
       "    <tr>\n",
       "      <th>MOLCG</th>\n",
       "      <td>1.000</td>\n",
       "      <td>0.382081</td>\n",
       "      <td>0.189595</td>\n",
       "      <td>0.990000</td>\n",
       "      <td>0.001000</td>\n",
       "      <td>0.001000</td>\n",
       "      <td>0.775000</td>\n",
       "    </tr>\n",
       "    <tr>\n",
       "      <th>CORE</th>\n",
       "      <td>1.000</td>\n",
       "      <td>0.762644</td>\n",
       "      <td>0.344675</td>\n",
       "      <td>0.392000</td>\n",
       "      <td>0.082000</td>\n",
       "      <td>0.329000</td>\n",
       "      <td>0.650000</td>\n",
       "    </tr>\n",
       "    <tr>\n",
       "      <th>G2G</th>\n",
       "      <td>0.997</td>\n",
       "      <td>0.806204</td>\n",
       "      <td>0.347449</td>\n",
       "      <td>0.182548</td>\n",
       "      <td>0.027081</td>\n",
       "      <td>0.365095</td>\n",
       "      <td>0.648947</td>\n",
       "    </tr>\n",
       "    <tr>\n",
       "      <th>JTVAE</th>\n",
       "      <td>1.000</td>\n",
       "      <td>0.339515</td>\n",
       "      <td>0.239281</td>\n",
       "      <td>0.991000</td>\n",
       "      <td>0.011000</td>\n",
       "      <td>0.011000</td>\n",
       "      <td>0.989000</td>\n",
       "    </tr>\n",
       "  </tbody>\n",
       "</table>\n",
       "</div>"
      ],
      "text/plain": [
       "       VALID_RATIO  AVERAGE_PROPERTY  AVERAGE_SIMILARITY   NOVELTY   SUCCESS  \\\n",
       "MTMR         1.000          0.794485            0.328759  0.985000  0.206000   \n",
       "UGMMT        0.657          0.723168            0.268205  0.867580  0.065449   \n",
       "MOLCG        1.000          0.382081            0.189595  0.990000  0.001000   \n",
       "CORE         1.000          0.762644            0.344675  0.392000  0.082000   \n",
       "G2G          0.997          0.806204            0.347449  0.182548  0.027081   \n",
       "JTVAE        1.000          0.339515            0.239281  0.991000  0.011000   \n",
       "\n",
       "       SUCCESS_WO_NOVEL  DIVERSITY  \n",
       "MTMR           0.212000   0.960000  \n",
       "UGMMT          0.089802   0.949772  \n",
       "MOLCG          0.001000   0.775000  \n",
       "CORE           0.329000   0.650000  \n",
       "G2G            0.365095   0.648947  \n",
       "JTVAE          0.011000   0.989000  "
      ]
     },
     "execution_count": 12,
     "metadata": {},
     "output_type": "execute_result"
    }
   ],
   "source": [
    "df_merged"
   ]
  },
  {
   "cell_type": "code",
   "execution_count": 13,
   "id": "0c87b24a",
   "metadata": {},
   "outputs": [],
   "source": [
    "df_merged.to_csv(os.path.join(output_dir, \"table_metrics.csv\"))"
   ]
  },
  {
   "cell_type": "code",
   "execution_count": 14,
   "id": "7afade29",
   "metadata": {},
   "outputs": [
    {
     "data": {
      "image/png": "[encoded data removed]",
      "text/plain": [
       "<Figure size 432x288 with 1 Axes>"
      ]
     },
     "metadata": {},
     "output_type": "display_data"
    }
   ],
   "source": [
    "sns.set_theme(style='darkgrid')\n",
    "\n",
    "fig, ax = plt.subplots(1,1)\n",
    "sns.barplot(x=df_merged.index, y=df_merged[\"SUCCESS\"], ax=ax)\n",
    "\n",
    "plt.tight_layout()\n",
    "plt.savefig(os.path.join(output_dir, \"barplot_success.png\"), dpi=300)"
   ]
  },
  {
   "cell_type": "code",
   "execution_count": null,
   "id": "b279df66",
   "metadata": {},
   "outputs": [],
   "source": []
  }
 ],
 "metadata": {
  "kernelspec": {
   "display_name": "Python 3",
   "language": "python",
   "name": "python3"
  },
  "language_info": {
   "codemirror_mode": {
    "name": "ipython",
    "version": 3
   },
   "file_extension": ".py",
   "mimetype": "text/x-python",
   "name": "python",
   "nbconvert_exporter": "python",
   "pygments_lexer": "ipython3",
   "version": "3.6.15"
  }
 },
 "nbformat": 4,
 "nbformat_minor": 5
}
