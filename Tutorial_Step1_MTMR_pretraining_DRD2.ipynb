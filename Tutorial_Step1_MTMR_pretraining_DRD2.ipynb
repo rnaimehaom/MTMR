{
 "cells": [
  {
   "cell_type": "markdown",
   "id": "55cc6329",
   "metadata": {},
   "source": [
    "# Tutorial - Step1 : MTMR pretraining with Metric learning"
   ]
  },
  {
   "cell_type": "markdown",
   "id": "1e180ad6",
   "metadata": {},
   "source": [
    "## 1. Import requirements"
   ]
  },
  {
   "cell_type": "code",
   "execution_count": null,
   "id": "fad9b382",
   "metadata": {},
   "outputs": [],
   "source": [
    "import os\n",
    "import pandas as pd\n",
    "import torch\n",
    "import time\n",
    "import matplotlib.pyplot as plt"
   ]
  },
  {
   "cell_type": "code",
   "execution_count": null,
   "id": "69485af7",
   "metadata": {},
   "outputs": [],
   "source": [
    "from MTMR.dataset import TrainingSmilesDataset, ValidationSmilesDataset\n",
    "from MTMR.vae import SmilesAutoencoder, AnnealingScheduler\n",
    "from MTMR.properties import drd2, qed"
   ]
  },
  {
   "cell_type": "markdown",
   "id": "1681a805",
   "metadata": {},
   "source": [
    "## 2. Configure GPU (if available)"
   ]
  },
  {
   "cell_type": "code",
   "execution_count": null,
   "id": "edea664b",
   "metadata": {},
   "outputs": [],
   "source": [
    "use_cuda = torch.cuda.is_available()\n",
    "device = torch.device(\"cuda:0\" if use_cuda else \"cpu\")\n",
    "print(device)"
   ]
  },
  {
   "cell_type": "markdown",
   "id": "a991308e",
   "metadata": {},
   "source": [
    "## 3. Specify a target property"
   ]
  },
  {
   "cell_type": "code",
   "execution_count": null,
   "id": "95f6c2c8",
   "metadata": {},
   "outputs": [],
   "source": [
    "PROPERTY_NAME = \"drd2\"\n",
    "SCORING_PROPERTY_FT = drd2"
   ]
  },
  {
   "cell_type": "markdown",
   "id": "a8149f6d",
   "metadata": {},
   "source": [
    "## 4. Set directories (for inputs and outputs)"
   ]
  },
  {
   "cell_type": "code",
   "execution_count": null,
   "id": "0ee6bb86",
   "metadata": {},
   "outputs": [],
   "source": [
    "input_dir = os.path.join(\"DATA\", PROPERTY_NAME)"
   ]
  },
  {
   "cell_type": "code",
   "execution_count": null,
   "id": "eec51ee4",
   "metadata": {},
   "outputs": [],
   "source": [
    "_output_dir = \"outputs_Tutorial_1_MTMR_pretraining\"\n",
    "if not os.path.exists(_output_dir):\n",
    "    os.mkdir(_output_dir)\n",
    "\n",
    "output_dir = os.path.join(_output_dir, PROPERTY_NAME)\n",
    "if not os.path.exists(output_dir):\n",
    "    os.mkdir(output_dir)"
   ]
  },
  {
   "cell_type": "markdown",
   "id": "a30063cf",
   "metadata": {},
   "source": [
    "## 5. Set file names"
   ]
  },
  {
   "cell_type": "code",
   "execution_count": null,
   "id": "d69e387a",
   "metadata": {},
   "outputs": [],
   "source": [
    "filepath_train = os.path.join(input_dir, \"rdkit_train_triplet.txt\")\n",
    "filepath_valid = os.path.join(input_dir, \"rdkit_valid.txt\")"
   ]
  },
  {
   "cell_type": "code",
   "execution_count": null,
   "id": "c9a07330",
   "metadata": {},
   "outputs": [],
   "source": [
    "filepath_char2idx      = os.path.join(output_dir, \"char2idx.csv\")\n",
    "filepath_configs       = os.path.join(output_dir, \"configs.csv\")\n",
    "filepath_checkpoint    = os.path.join(output_dir, \"checkpoints.pt\")\n",
    "filepath_history       = os.path.join(output_dir, \"history.csv\")\n",
    "filepath_history_valid = os.path.join(output_dir, \"history_valid.csv\")"
   ]
  },
  {
   "cell_type": "markdown",
   "id": "6bf88cf0",
   "metadata": {},
   "source": [
    "## 6. Load datasets (for training and validation)"
   ]
  },
  {
   "cell_type": "code",
   "execution_count": null,
   "id": "4e8b8e16",
   "metadata": {},
   "outputs": [],
   "source": [
    "dataset = TrainingSmilesDataset(filepath_train, device=device)\n",
    "dataset.save_char2idx(filepath_char2idx)\n",
    "dataset_valid = ValidationSmilesDataset(filepath_valid, filepath_char2idx, device=device)"
   ]
  },
  {
   "cell_type": "code",
   "execution_count": null,
   "id": "c75e2900",
   "metadata": {},
   "outputs": [],
   "source": [
    "#print(dataset.shape)\n",
    "#dataset.head()"
   ]
  },
  {
   "cell_type": "code",
   "execution_count": null,
   "id": "7798c8d3",
   "metadata": {},
   "outputs": [],
   "source": [
    "#print(dataset_valid.shape)\n",
    "#dataset_valid.head()"
   ]
  },
  {
   "cell_type": "markdown",
   "id": "528b02e3",
   "metadata": {},
   "source": [
    "## 7. Initialize a generator of MTMR"
   ]
  },
  {
   "cell_type": "code",
   "execution_count": null,
   "id": "427f291d",
   "metadata": {},
   "outputs": [],
   "source": [
    "## Model configuration\n",
    "model_configs = {\"hidden_size\":128,\n",
    "                 \"latent_size\":128,\n",
    "                 \"num_layers\" :2,\n",
    "                 \"vocab_size\" :dataset.vocab_size,\n",
    "                 \"sos_idx\"    :dataset.sos_idx,\n",
    "                 \"eos_idx\"    :dataset.eos_idx,\n",
    "                 \"pad_idx\"    :dataset.pad_idx,\n",
    "                 \"device\"     :device\n",
    "                }\n",
    "\n",
    "## Model initialization\n",
    "generator = SmilesAutoencoder(**model_configs)\n",
    "\n",
    "## Configuration save\n",
    "generator.save_config(filepath_configs)"
   ]
  },
  {
   "cell_type": "markdown",
   "id": "28dadc26",
   "metadata": {},
   "source": [
    "## 8. Train"
   ]
  },
  {
   "cell_type": "code",
   "execution_count": null,
   "id": "1130d33e",
   "metadata": {
    "scrolled": true
   },
   "outputs": [],
   "source": [
    "df_history, df_history_valid = generator.fit(dataset,\n",
    "                                             validation_dataset=dataset_valid,\n",
    "                                             scoring_ft=SCORING_PROPERTY_FT,\n",
    "                                             checkpoint_filepath=filepath_checkpoint)\n",
    "\n",
    "df_history.to_csv(filepath_history, index=False)\n",
    "df_history_valid.to_csv(filepath_history_valid, index=False)"
   ]
  },
  {
   "cell_type": "markdown",
   "id": "ef3739bb",
   "metadata": {},
   "source": [
    "## 9. Visualize for loss analysis"
   ]
  },
  {
   "cell_type": "code",
   "execution_count": null,
   "id": "aa900812",
   "metadata": {},
   "outputs": [],
   "source": [
    "fig, axes = plt.subplots(4,1,figsize=(8,8))\n",
    "\n",
    "axes[0].plot(df_history.loc[:,\"LOSS_TOTAL\"], label=\"Total loss\")\n",
    "axes[1].plot(df_history.loc[:,\"LOSS_RECONSTRUCTION_SOURCE\"], label=\"Recon. loss (src)\")\n",
    "axes[1].plot(df_history.loc[:,\"LOSS_RECONSTRUCTION_TARGET\"], label=\"Recon. loss (tar)\")\n",
    "axes[1].plot(df_history.loc[:,\"LOSS_RECONSTRUCTION_NEGATIVE\"], label=\"Recon. loss (neg)\")\n",
    "axes[2].plot(df_history.loc[:,\"LOSS_CONTRACTIVE\"], label=\"Contractive loss (src,tar)\")\n",
    "axes[3].plot(df_history.loc[:,\"LOSS_MARGIN\"], label=\"Margin loss (src,tar,neg)\")\n",
    "\n",
    "axes[3].set_xlabel(\"Iteration\")\n",
    "for ax in axes:\n",
    "    ax.legend(loc='best')\n",
    "\n",
    "plt.tight_layout()\n",
    "plt.show()"
   ]
  },
  {
   "cell_type": "code",
   "execution_count": null,
   "id": "6ba6f0ce",
   "metadata": {},
   "outputs": [],
   "source": [
    "fig, axes = plt.subplots(2,1,figsize=(8,4))\n",
    "\n",
    "axes[0].plot(df_history_valid.loc[:,\"VALID_RATIO\"], label=\"Validity\")\n",
    "axes[1].plot(df_history_valid.loc[:,\"AVERAGE_SIMILARITY\"], label=\"Tanimoto coeff.\")\n",
    "\n",
    "axes[1].set_xlabel(\"Iteration\")\n",
    "for ax in axes:\n",
    "    ax.legend(loc='best')\n",
    "\n",
    "plt.tight_layout()\n",
    "plt.show()"
   ]
  },
  {
   "cell_type": "code",
   "execution_count": null,
   "id": "567795aa",
   "metadata": {},
   "outputs": [],
   "source": []
  }
 ],
 "metadata": {
  "kernelspec": {
   "display_name": "Python 3",
   "language": "python",
   "name": "python3"
  },
  "language_info": {
   "codemirror_mode": {
    "name": "ipython",
    "version": 3
   },
   "file_extension": ".py",
   "mimetype": "text/x-python",
   "name": "python",
   "nbconvert_exporter": "python",
   "pygments_lexer": "ipython3",
   "version": "3.6.15"
  }
 },
 "nbformat": 4,
 "nbformat_minor": 5
}
