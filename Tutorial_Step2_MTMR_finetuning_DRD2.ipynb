{
 "cells": [
  {
   "cell_type": "markdown",
   "id": "c76612b2",
   "metadata": {},
   "source": [
    "# Tutorial - Step2 : MTMR finetuning with Reinforcement learning"
   ]
  },
  {
   "cell_type": "markdown",
   "id": "7526ff80",
   "metadata": {},
   "source": [
    "## 1. Import requirements"
   ]
  },
  {
   "cell_type": "code",
   "execution_count": null,
   "id": "b77f5697",
   "metadata": {},
   "outputs": [],
   "source": [
    "import os\n",
    "import pandas as pd\n",
    "import torch\n",
    "import time\n",
    "import matplotlib.pyplot as plt"
   ]
  },
  {
   "cell_type": "code",
   "execution_count": null,
   "id": "856c7198",
   "metadata": {},
   "outputs": [],
   "source": [
    "from MTMR.dataset import TrainingSmilesDataset, ValidationSmilesDataset\n",
    "from MTMR.vae import SmilesAutoencoder, RewardFunction\n",
    "from MTMR.properties import drd2, qed, similarity"
   ]
  },
  {
   "cell_type": "markdown",
   "id": "d5eaddbe",
   "metadata": {},
   "source": [
    "## 2. Configure GPU (if available)"
   ]
  },
  {
   "cell_type": "code",
   "execution_count": null,
   "id": "636748c5",
   "metadata": {},
   "outputs": [],
   "source": [
    "use_cuda = torch.cuda.is_available()\n",
    "device = torch.device(\"cuda:0\" if use_cuda else \"cpu\")\n",
    "print(device)"
   ]
  },
  {
   "cell_type": "markdown",
   "id": "f3b356ff",
   "metadata": {},
   "source": [
    "## 3. Specify a target property"
   ]
  },
  {
   "cell_type": "code",
   "execution_count": null,
   "id": "bfc1ac3f",
   "metadata": {},
   "outputs": [],
   "source": [
    "PROPERTY_NAME = \"drd2\"\n",
    "\n",
    "SCORING_PROPERTY_FT = drd2\n",
    "SCORING_TANIMOTO_FT = similarity\n",
    "\n",
    "## Configure the parameters of a reward function for the target property\n",
    "threshold_property = 0.\n",
    "threshold_similarity = 0.3"
   ]
  },
  {
   "cell_type": "markdown",
   "id": "c6392f9c",
   "metadata": {},
   "source": [
    "## 4. Set directories (for inputs and outputs)¶"
   ]
  },
  {
   "cell_type": "code",
   "execution_count": null,
   "id": "effe535f",
   "metadata": {},
   "outputs": [],
   "source": [
    "input_data_dir = os.path.join(\"DATA\", PROPERTY_NAME)\n",
    "input_ckpt_dir = os.path.join(\"outputs_Tutorial_1_MTMR_pretraining\", PROPERTY_NAME)"
   ]
  },
  {
   "cell_type": "code",
   "execution_count": null,
   "id": "4b4242c1",
   "metadata": {},
   "outputs": [],
   "source": [
    "_output_dir = \"outputs_Tutorial_2_MTMR_finetuning\"\n",
    "if not os.path.exists(_output_dir):\n",
    "    os.mkdir(_output_dir)\n",
    "\n",
    "output_dir = os.path.join(_output_dir, PROPERTY_NAME)\n",
    "if not os.path.exists(output_dir):\n",
    "    os.mkdir(output_dir)"
   ]
  },
  {
   "cell_type": "markdown",
   "id": "5e6f9db8",
   "metadata": {},
   "source": [
    "## 5. Set file names"
   ]
  },
  {
   "cell_type": "code",
   "execution_count": null,
   "id": "13af54b9",
   "metadata": {},
   "outputs": [],
   "source": [
    "filepath_train = os.path.join(input_data_dir, \"rdkit_train_triplet.txt\")\n",
    "filepath_valid = os.path.join(input_data_dir, \"rdkit_valid.txt\")"
   ]
  },
  {
   "cell_type": "code",
   "execution_count": null,
   "id": "f1f6f89b",
   "metadata": {},
   "outputs": [],
   "source": [
    "filepath_pretrain_ckpt     = os.path.join(input_ckpt_dir, \"checkpoints.pt\")\n",
    "filepath_pretrain_configs  = os.path.join(input_ckpt_dir, \"configs.csv\")\n",
    "filepath_pretrain_char2idx = os.path.join(input_ckpt_dir, \"char2idx.csv\")"
   ]
  },
  {
   "cell_type": "code",
   "execution_count": null,
   "id": "585931c6",
   "metadata": {},
   "outputs": [],
   "source": [
    "filepath_char2idx      = os.path.join(output_dir, \"char2idx.csv\")\n",
    "filepath_configs       = os.path.join(output_dir, \"configs.csv\")\n",
    "filepath_checkpoint    = os.path.join(output_dir, \"checkpoints.pt\")\n",
    "filepath_history       = os.path.join(output_dir, \"history.csv\")\n",
    "filepath_history_valid = os.path.join(output_dir, \"history_valid.csv\")"
   ]
  },
  {
   "cell_type": "markdown",
   "id": "20105041",
   "metadata": {},
   "source": [
    "## 6. Load datasets (for training and validation)"
   ]
  },
  {
   "cell_type": "code",
   "execution_count": null,
   "id": "de1e0557",
   "metadata": {},
   "outputs": [],
   "source": [
    "dataset = TrainingSmilesDataset(filepath_train, filepath_char2idx=filepath_pretrain_char2idx, device=device)\n",
    "dataset.save_char2idx(filepath_char2idx)\n",
    "dataset_valid = ValidationSmilesDataset(filepath_valid, filepath_char2idx, device=device)"
   ]
  },
  {
   "cell_type": "markdown",
   "id": "d7c63354",
   "metadata": {},
   "source": [
    "## 7. Load a pretrained generator of MTMR"
   ]
  },
  {
   "cell_type": "code",
   "execution_count": null,
   "id": "9e397cc9",
   "metadata": {},
   "outputs": [],
   "source": [
    "## Model configuration\n",
    "model_configs = {\"hidden_size\"    :None,\n",
    "                 \"latent_size\"    :None,\n",
    "                 \"num_layers\"     :None,\n",
    "                 \"vocab_size\"     :None,\n",
    "                 \"sos_idx\"        :None,\n",
    "                 \"eos_idx\"        :None,\n",
    "                 \"pad_idx\"        :None,\n",
    "                 \"device\"         :device,\n",
    "                 \"filepath_config\":filepath_pretrain_configs}\n",
    "\n",
    "## Model initialization\n",
    "generator = SmilesAutoencoder(**model_configs)\n",
    "\n",
    "## Load pretrained model\n",
    "generator.load_model(filepath_pretrain_ckpt)\n",
    "\n",
    "## Configuration save\n",
    "generator.save_config(filepath_configs)"
   ]
  },
  {
   "cell_type": "markdown",
   "id": "b1c37bdc",
   "metadata": {},
   "source": [
    "## 8. Define a reward function"
   ]
  },
  {
   "cell_type": "code",
   "execution_count": null,
   "id": "4361c0a4",
   "metadata": {},
   "outputs": [],
   "source": [
    "reward_ft = RewardFunction(similarity_ft=SCORING_TANIMOTO_FT,\n",
    "                           scoring_ft=SCORING_PROPERTY_FT,\n",
    "                           threshold_property=threshold_property,\n",
    "                           threshold_similarity=threshold_similarity)"
   ]
  },
  {
   "cell_type": "markdown",
   "id": "a4f07890",
   "metadata": {},
   "source": [
    "## 9. Train"
   ]
  },
  {
   "cell_type": "code",
   "execution_count": null,
   "id": "a9ea6339",
   "metadata": {},
   "outputs": [],
   "source": [
    "df_history, df_history_valid = generator.policy_gradient(dataset, reward_ft,\n",
    "                                                         validation_dataset=dataset_valid,\n",
    "                                                         scoring_ft=SCORING_PROPERTY_FT,\n",
    "                                                         checkpoint_filepath=filepath_checkpoint,\n",
    "                                                         batch_size=100,\n",
    "                                                         total_steps=100,\n",
    "                                                         buffer_size=200)\n",
    "\n",
    "df_history.to_csv(filepath_history, index=False)\n",
    "df_history_valid.to_csv(filepath_history_valid, index=False)"
   ]
  },
  {
   "cell_type": "markdown",
   "id": "c73ea75a",
   "metadata": {},
   "source": [
    "## 10. Visualize for reward & loss analysis"
   ]
  },
  {
   "cell_type": "code",
   "execution_count": null,
   "id": "cca5d8b2",
   "metadata": {},
   "outputs": [],
   "source": [
    "fig, axes = plt.subplots(4,1,figsize=(8,8))\n",
    "\n",
    "axes[0].plot(df_history.loc[:,\"LOSS\"], label=\"Loss\")\n",
    "axes[1].plot(df_history.loc[:,\"REWARD\"], label=\"Reward\")\n",
    "axes[2].plot(df_history.loc[:,\"SIMILARITY\"], label=\"Tanimoto Coeff.\")\n",
    "axes[3].plot(df_history.loc[:,\"PROPERTY\"], label=f\"Property ({PROPERTY_NAME})\")\n",
    "\n",
    "axes[3].set_xlabel(\"Iteration\")\n",
    "for ax in axes:\n",
    "    ax.legend(loc='best')\n",
    "\n",
    "plt.tight_layout()\n",
    "plt.show()"
   ]
  },
  {
   "cell_type": "code",
   "execution_count": null,
   "id": "ce64f0d9",
   "metadata": {},
   "outputs": [],
   "source": [
    "fig, axes = plt.subplots(3,1,figsize=(8,4))\n",
    "\n",
    "axes[0].plot(df_history_valid.loc[:,\"VALID_RATIO\"], label=\"Validity\")\n",
    "axes[1].plot(df_history_valid.loc[:,\"AVERAGE_SIMILARITY\"], label=\"Tanimoto coeff.\")\n",
    "axes[2].plot(df_history_valid.loc[:,\"AVERAGE_PROPERTY\"], label=f\"Property ({PROPERTY_NAME})\")\n",
    "\n",
    "axes[2].set_xlabel(\"Iteration\")\n",
    "for ax in axes:\n",
    "    ax.legend(loc='best')\n",
    "\n",
    "plt.tight_layout()\n",
    "plt.show()"
   ]
  }
 ],
 "metadata": {
  "kernelspec": {
   "display_name": "Python 3",
   "language": "python",
   "name": "python3"
  },
  "language_info": {
   "codemirror_mode": {
    "name": "ipython",
    "version": 3
   },
   "file_extension": ".py",
   "mimetype": "text/x-python",
   "name": "python",
   "nbconvert_exporter": "python",
   "pygments_lexer": "ipython3",
   "version": "3.6.15"
  }
 },
 "nbformat": 4,
 "nbformat_minor": 5
}
