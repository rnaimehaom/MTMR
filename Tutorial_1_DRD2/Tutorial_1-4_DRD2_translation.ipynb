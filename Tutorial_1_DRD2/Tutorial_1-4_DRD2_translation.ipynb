{
 "cells": [
  {
   "cell_type": "markdown",
   "id": "99be714a",
   "metadata": {},
   "source": [
    "# Tutorial - Step4 : Molecular translation using MTMR"
   ]
  },
  {
   "cell_type": "markdown",
   "id": "a765b131",
   "metadata": {},
   "source": [
    "## 1. Import requirements"
   ]
  },
  {
   "cell_type": "code",
   "execution_count": 1,
   "id": "73d608c3",
   "metadata": {},
   "outputs": [],
   "source": [
    "import os\n",
    "import sys\n",
    "import pandas as pd\n",
    "import time\n",
    "import tqdm\n",
    "import torch\n",
    "from torch.utils.data import DataLoader\n",
    "from rdkit.Chem.rdmolfiles import MolFromSmiles"
   ]
  },
  {
   "cell_type": "code",
   "execution_count": 2,
   "id": "39969db4",
   "metadata": {},
   "outputs": [],
   "source": [
    "sys.path = [os.path.abspath(os.path.join(os.getcwd(), os.pardir))] + sys.path"
   ]
  },
  {
   "cell_type": "code",
   "execution_count": 3,
   "id": "629b2777",
   "metadata": {},
   "outputs": [],
   "source": [
    "from MTMR.dataset import ValidationSmilesDataset\n",
    "from MTMR.vae import SmilesAutoencoder\n",
    "from MTMR.properties import drd2, similarity"
   ]
  },
  {
   "cell_type": "markdown",
   "id": "77bb5509",
   "metadata": {},
   "source": [
    "## 2. Configure GPU (if available)"
   ]
  },
  {
   "cell_type": "code",
   "execution_count": 3,
   "id": "574abf30",
   "metadata": {},
   "outputs": [
    {
     "name": "stdout",
     "output_type": "stream",
     "text": [
      "cuda:0\n"
     ]
    }
   ],
   "source": [
    "use_cuda = torch.cuda.is_available()\n",
    "device = torch.device(\"cuda:0\" if use_cuda else \"cpu\")\n",
    "print(device)"
   ]
  },
  {
   "cell_type": "markdown",
   "id": "1db53a7a",
   "metadata": {},
   "source": [
    "## 3. Specify a target property"
   ]
  },
  {
   "cell_type": "code",
   "execution_count": 4,
   "id": "cc717550",
   "metadata": {},
   "outputs": [],
   "source": [
    "PROPERTY_NAME = \"drd2\"\n",
    "SCORING_FT = drd2"
   ]
  },
  {
   "cell_type": "markdown",
   "id": "dd83fc8d",
   "metadata": {},
   "source": [
    "## 4. Set directories (for inputs and outputs)"
   ]
  },
  {
   "cell_type": "code",
   "execution_count": 5,
   "id": "494eed6d",
   "metadata": {},
   "outputs": [],
   "source": [
    "input_data_dir = os.path.abspath(os.path.join(os.pardir, \"DATA\", PROPERTY_NAME))\n",
    "input_ckpt_dir = f\"outputs_1-2_{PROPERTY_NAME.upper()}_finetuning\""
   ]
  },
  {
   "cell_type": "code",
   "execution_count": 6,
   "id": "a4aaabec",
   "metadata": {},
   "outputs": [],
   "source": [
    "output_dir = f\"outputs_1-4_{PROPERTY_NAME.upper()}_translation\"\n",
    "if not os.path.exists(output_dir):\n",
    "    os.mkdir(output_dir)"
   ]
  },
  {
   "cell_type": "markdown",
   "id": "75595edd",
   "metadata": {},
   "source": [
    "## 5. Set file names"
   ]
  },
  {
   "cell_type": "code",
   "execution_count": 7,
   "id": "00224b3d",
   "metadata": {},
   "outputs": [],
   "source": [
    "filepath_test = os.path.join(input_data_dir, \"rdkit_test.txt\")"
   ]
  },
  {
   "cell_type": "code",
   "execution_count": 8,
   "id": "efb7a201",
   "metadata": {},
   "outputs": [],
   "source": [
    "filepath_pretrain_ckpt     = os.path.join(input_ckpt_dir, \"checkpoints.pt\")\n",
    "filepath_pretrain_configs  = os.path.join(input_ckpt_dir, \"configs.csv\")\n",
    "filepath_pretrain_char2idx = os.path.join(input_ckpt_dir, \"char2idx.csv\")"
   ]
  },
  {
   "cell_type": "code",
   "execution_count": 9,
   "id": "c354b950",
   "metadata": {},
   "outputs": [],
   "source": [
    "filepath_output = os.path.join(output_dir, f\"MTMR_{PROPERTY_NAME.upper()}.csv\")"
   ]
  },
  {
   "cell_type": "markdown",
   "id": "ab9bc7d9",
   "metadata": {},
   "source": [
    "## 6. Load datasets (for test)"
   ]
  },
  {
   "cell_type": "code",
   "execution_count": 10,
   "id": "f48cf0c7",
   "metadata": {},
   "outputs": [],
   "source": [
    "dataset_test = ValidationSmilesDataset(filepath_test, filepath_pretrain_char2idx, device=device)"
   ]
  },
  {
   "cell_type": "markdown",
   "id": "f6c320b3",
   "metadata": {},
   "source": [
    "## 7. Load a pretrained generator of MTMR"
   ]
  },
  {
   "cell_type": "code",
   "execution_count": 11,
   "id": "22e040b9",
   "metadata": {},
   "outputs": [],
   "source": [
    "## Model configuration\n",
    "model_configs = {\"hidden_size\"    :None,\n",
    "                 \"latent_size\"    :None,\n",
    "                 \"num_layers\"     :None,\n",
    "                 \"vocab_size\"     :None,\n",
    "                 \"sos_idx\"        :None,\n",
    "                 \"eos_idx\"        :None,\n",
    "                 \"pad_idx\"        :None,\n",
    "                 \"device\"         :device,\n",
    "                 \"filepath_config\":filepath_pretrain_configs}\n",
    "\n",
    "## Model initialization\n",
    "generator = SmilesAutoencoder(**model_configs)\n",
    "\n",
    "## Load pretrained model\n",
    "generator.load_model(filepath_pretrain_ckpt)"
   ]
  },
  {
   "cell_type": "markdown",
   "id": "a1d955a5",
   "metadata": {},
   "source": [
    "## 8. Perform molecular translation on the Test dataset"
   ]
  },
  {
   "cell_type": "code",
   "execution_count": 12,
   "id": "d213544f",
   "metadata": {
    "scrolled": true
   },
   "outputs": [
    {
     "name": "stderr",
     "output_type": "stream",
     "text": [
      "100%|██████████| 1000/1000 [06:42<00:00,  2.49it/s]\n"
     ]
    }
   ],
   "source": [
    "K = 20 # repetition count of translation\n",
    "\n",
    "generated = [] # initialize a list of outputs\n",
    "\n",
    "for batch in tqdm.tqdm(DataLoader(dataset_test, batch_size=1, shuffle=False, drop_last=False, pin_memory=use_cuda)):\n",
    "    batch_smiles = dataset_test.encode(batch[\"smiles_s\"], batch[\"length_s\"].max())\n",
    "    batch_length = batch[\"length_s\"]\n",
    "    ## translation\n",
    "    for _ in range(K):\n",
    "        seq = generator.predict(batch_smiles, batch_length)\n",
    "        smi = dataset_test.decode(seq)[0] # assumption: batch_size=1\n",
    "        if MolFromSmiles(smi) is not None:\n",
    "            generated.append((batch[\"smiles_s\"][0][1:-1], smi))\n",
    "        else:\n",
    "            generated.append((batch[\"smiles_s\"][0][1:-1], \"None\"))\n",
    "        \n",
    "df_generated = pd.DataFrame.from_records(generated)"
   ]
  },
  {
   "cell_type": "markdown",
   "id": "cfe9e014",
   "metadata": {},
   "source": [
    "## 9. Evaluate the translation outputs"
   ]
  },
  {
   "cell_type": "code",
   "execution_count": 13,
   "id": "e2aad87f",
   "metadata": {},
   "outputs": [
    {
     "name": "stderr",
     "output_type": "stream",
     "text": [
      "100%|██████████| 20000/20000 [01:35<00:00, 208.48it/s]\n"
     ]
    }
   ],
   "source": [
    "scores = []\n",
    "for smi_src, smi_tar in tqdm.tqdm(df_generated.values):\n",
    "    if smi_tar == \"None\": smi_tar=None\n",
    "    sim2D = similarity(smi_src, smi_tar)\n",
    "    try:\n",
    "        scores.append((smi_src, smi_tar, sim2D, SCORING_FT(smi_tar)))\n",
    "    except Exception as e:\n",
    "        scores.append((smi_src, smi_tar, sim2D, 0.))"
   ]
  },
  {
   "cell_type": "code",
   "execution_count": 14,
   "id": "ddb33004",
   "metadata": {},
   "outputs": [
    {
     "name": "stdout",
     "output_type": "stream",
     "text": [
      "(20000, 4)\n"
     ]
    },
    {
     "data": {
      "text/html": [
       "<div>\n",
       "<style scoped>\n",
       "    .dataframe tbody tr th:only-of-type {\n",
       "        vertical-align: middle;\n",
       "    }\n",
       "\n",
       "    .dataframe tbody tr th {\n",
       "        vertical-align: top;\n",
       "    }\n",
       "\n",
       "    .dataframe thead th {\n",
       "        text-align: right;\n",
       "    }\n",
       "</style>\n",
       "<table border=\"1\" class=\"dataframe\">\n",
       "  <thead>\n",
       "    <tr style=\"text-align: right;\">\n",
       "      <th></th>\n",
       "      <th>0</th>\n",
       "      <th>1</th>\n",
       "      <th>2</th>\n",
       "      <th>3</th>\n",
       "    </tr>\n",
       "  </thead>\n",
       "  <tbody>\n",
       "    <tr>\n",
       "      <th>0</th>\n",
       "      <td>N#CC1=CC=CC=C1COC1=CC=CC(C(=O)N2CCN(C3=CC=C(Br...</td>\n",
       "      <td>N#CC1=CC=CC(C(=O)N2CCN(CCCCN3CCN(C4=CC=CC=C4)C...</td>\n",
       "      <td>0.402778</td>\n",
       "      <td>0.984454</td>\n",
       "    </tr>\n",
       "    <tr>\n",
       "      <th>1</th>\n",
       "      <td>N#CC1=CC=CC=C1COC1=CC=CC(C(=O)N2CCN(C3=CC=C(Br...</td>\n",
       "      <td>N#CC1=CC=CC(C(=O)N2CCN(C3=CC=CC=C3)CC2)=C1</td>\n",
       "      <td>0.409091</td>\n",
       "      <td>0.000791</td>\n",
       "    </tr>\n",
       "    <tr>\n",
       "      <th>2</th>\n",
       "      <td>N#CC1=CC=CC=C1COC1=CC=CC(C(=O)N2CCN(C3=CC=C(Br...</td>\n",
       "      <td>N#CC1=CC=CC(C(=O)N2CCN(CCCCN3CCN(C4=CC=CC=C4)C...</td>\n",
       "      <td>0.402778</td>\n",
       "      <td>0.984454</td>\n",
       "    </tr>\n",
       "    <tr>\n",
       "      <th>3</th>\n",
       "      <td>N#CC1=CC=CC=C1COC1=CC=CC(C(=O)N2CCN(C3=CC=C(Br...</td>\n",
       "      <td>N#CC1=CC=CC(C(=O)N2CCN(CCCCN3CCN(C4=CC=CC=C4)C...</td>\n",
       "      <td>0.402778</td>\n",
       "      <td>0.984454</td>\n",
       "    </tr>\n",
       "    <tr>\n",
       "      <th>4</th>\n",
       "      <td>N#CC1=CC=CC=C1COC1=CC=CC(C(=O)N2CCN(C3=CC=C(Br...</td>\n",
       "      <td>N#CC1=CC=CC(C(=O)N2CCN(CCCCN3CCN(C4=CC=CC=C4F)...</td>\n",
       "      <td>0.381579</td>\n",
       "      <td>0.992198</td>\n",
       "    </tr>\n",
       "  </tbody>\n",
       "</table>\n",
       "</div>"
      ],
      "text/plain": [
       "                                                   0  \\\n",
       "0  N#CC1=CC=CC=C1COC1=CC=CC(C(=O)N2CCN(C3=CC=C(Br...   \n",
       "1  N#CC1=CC=CC=C1COC1=CC=CC(C(=O)N2CCN(C3=CC=C(Br...   \n",
       "2  N#CC1=CC=CC=C1COC1=CC=CC(C(=O)N2CCN(C3=CC=C(Br...   \n",
       "3  N#CC1=CC=CC=C1COC1=CC=CC(C(=O)N2CCN(C3=CC=C(Br...   \n",
       "4  N#CC1=CC=CC=C1COC1=CC=CC(C(=O)N2CCN(C3=CC=C(Br...   \n",
       "\n",
       "                                                   1         2         3  \n",
       "0  N#CC1=CC=CC(C(=O)N2CCN(CCCCN3CCN(C4=CC=CC=C4)C...  0.402778  0.984454  \n",
       "1         N#CC1=CC=CC(C(=O)N2CCN(C3=CC=CC=C3)CC2)=C1  0.409091  0.000791  \n",
       "2  N#CC1=CC=CC(C(=O)N2CCN(CCCCN3CCN(C4=CC=CC=C4)C...  0.402778  0.984454  \n",
       "3  N#CC1=CC=CC(C(=O)N2CCN(CCCCN3CCN(C4=CC=CC=C4)C...  0.402778  0.984454  \n",
       "4  N#CC1=CC=CC(C(=O)N2CCN(CCCCN3CCN(C4=CC=CC=C4F)...  0.381579  0.992198  "
      ]
     },
     "execution_count": 14,
     "metadata": {},
     "output_type": "execute_result"
    }
   ],
   "source": [
    "df_scores = pd.DataFrame.from_records(scores)\n",
    "print(df_scores.shape)\n",
    "df_scores.head()"
   ]
  },
  {
   "cell_type": "markdown",
   "id": "c09aab83",
   "metadata": {},
   "source": [
    "## 9. Save the results"
   ]
  },
  {
   "cell_type": "code",
   "execution_count": 15,
   "id": "e9cf7ec1",
   "metadata": {},
   "outputs": [],
   "source": [
    "df_scores.to_csv(filepath_output, header=None, index=False)"
   ]
  },
  {
   "cell_type": "code",
   "execution_count": null,
   "id": "ae6fbbfd",
   "metadata": {},
   "outputs": [],
   "source": []
  }
 ],
 "metadata": {
  "kernelspec": {
   "display_name": "Python 3",
   "language": "python",
   "name": "python3"
  },
  "language_info": {
   "codemirror_mode": {
    "name": "ipython",
    "version": 3
   },
   "file_extension": ".py",
   "mimetype": "text/x-python",
   "name": "python",
   "nbconvert_exporter": "python",
   "pygments_lexer": "ipython3",
   "version": "3.6.15"
  }
 },
 "nbformat": 4,
 "nbformat_minor": 5
}
