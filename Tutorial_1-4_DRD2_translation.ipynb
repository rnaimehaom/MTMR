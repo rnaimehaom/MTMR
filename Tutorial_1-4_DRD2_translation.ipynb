{
 "cells": [
  {
   "cell_type": "markdown",
   "id": "99be714a",
   "metadata": {},
   "source": [
    "# Tutorial - Step4 : Molecular translation using MTMR"
   ]
  },
  {
   "cell_type": "markdown",
   "id": "a765b131",
   "metadata": {},
   "source": [
    "## 1. Import requirements"
   ]
  },
  {
   "cell_type": "code",
   "execution_count": 1,
   "id": "73d608c3",
   "metadata": {},
   "outputs": [],
   "source": [
    "import os\n",
    "import pandas as pd\n",
    "import time\n",
    "import tqdm\n",
    "import torch\n",
    "from torch.utils.data import DataLoader\n",
    "from rdkit.Chem.rdmolfiles import MolFromSmiles"
   ]
  },
  {
   "cell_type": "code",
   "execution_count": 2,
   "id": "629b2777",
   "metadata": {},
   "outputs": [],
   "source": [
    "from MTMR.dataset import ValidationSmilesDataset\n",
    "from MTMR.vae import SmilesAutoencoder"
   ]
  },
  {
   "cell_type": "markdown",
   "id": "77bb5509",
   "metadata": {},
   "source": [
    "## 2. Configure GPU (if available)"
   ]
  },
  {
   "cell_type": "code",
   "execution_count": 3,
   "id": "574abf30",
   "metadata": {},
   "outputs": [
    {
     "name": "stdout",
     "output_type": "stream",
     "text": [
      "cuda:0\n"
     ]
    }
   ],
   "source": [
    "use_cuda = torch.cuda.is_available()\n",
    "device = torch.device(\"cuda:0\" if use_cuda else \"cpu\")\n",
    "print(device)"
   ]
  },
  {
   "cell_type": "markdown",
   "id": "1db53a7a",
   "metadata": {},
   "source": [
    "## 3. Specify a target property"
   ]
  },
  {
   "cell_type": "code",
   "execution_count": 4,
   "id": "cc717550",
   "metadata": {},
   "outputs": [],
   "source": [
    "PROPERTY_NAME = \"drd2\""
   ]
  },
  {
   "cell_type": "markdown",
   "id": "dd83fc8d",
   "metadata": {},
   "source": [
    "## 4. Set directories (for inputs and outputs)"
   ]
  },
  {
   "cell_type": "code",
   "execution_count": 5,
   "id": "494eed6d",
   "metadata": {},
   "outputs": [],
   "source": [
    "input_data_dir = os.path.join(\"DATA\", PROPERTY_NAME)\n",
    "input_ckpt_dir = os.path.join(\"outputs_Tutorial_2_MTMR_finetuning\", PROPERTY_NAME)"
   ]
  },
  {
   "cell_type": "code",
   "execution_count": 6,
   "id": "a4aaabec",
   "metadata": {},
   "outputs": [],
   "source": [
    "_output_dir = \"outputs_Tutorial_4_MTMR_translation\"\n",
    "if not os.path.exists(_output_dir):\n",
    "    os.mkdir(_output_dir)\n",
    "\n",
    "output_dir = os.path.join(_output_dir, PROPERTY_NAME)\n",
    "if not os.path.exists(output_dir):\n",
    "    os.mkdir(output_dir)"
   ]
  },
  {
   "cell_type": "markdown",
   "id": "75595edd",
   "metadata": {},
   "source": [
    "## 5. Set file names"
   ]
  },
  {
   "cell_type": "code",
   "execution_count": 7,
   "id": "00224b3d",
   "metadata": {},
   "outputs": [],
   "source": [
    "filepath_test = os.path.join(input_data_dir, \"rdkit_test.txt\")"
   ]
  },
  {
   "cell_type": "code",
   "execution_count": 8,
   "id": "efb7a201",
   "metadata": {},
   "outputs": [],
   "source": [
    "filepath_pretrain_ckpt     = os.path.join(input_ckpt_dir, \"checkpoints.pt\")\n",
    "filepath_pretrain_configs  = os.path.join(input_ckpt_dir, \"configs.csv\")\n",
    "filepath_pretrain_char2idx = os.path.join(input_ckpt_dir, \"char2idx.csv\")"
   ]
  },
  {
   "cell_type": "code",
   "execution_count": 9,
   "id": "c354b950",
   "metadata": {},
   "outputs": [],
   "source": [
    "filepath_output = os.path.join(output_dir, f\"MTMR_{PROPERTY_NAME.upper()}.csv\")"
   ]
  },
  {
   "cell_type": "markdown",
   "id": "ab9bc7d9",
   "metadata": {},
   "source": [
    "## 6. Load datasets (for test)"
   ]
  },
  {
   "cell_type": "code",
   "execution_count": 10,
   "id": "f48cf0c7",
   "metadata": {},
   "outputs": [],
   "source": [
    "dataset_test = ValidationSmilesDataset(filepath_test, filepath_pretrain_char2idx, device=device)"
   ]
  },
  {
   "cell_type": "markdown",
   "id": "f6c320b3",
   "metadata": {},
   "source": [
    "## 7. Load a pretrained generator of MTMR"
   ]
  },
  {
   "cell_type": "code",
   "execution_count": 11,
   "id": "22e040b9",
   "metadata": {},
   "outputs": [],
   "source": [
    "## Model configuration\n",
    "model_configs = {\"hidden_size\"    :None,\n",
    "                 \"latent_size\"    :None,\n",
    "                 \"num_layers\"     :None,\n",
    "                 \"vocab_size\"     :None,\n",
    "                 \"sos_idx\"        :None,\n",
    "                 \"eos_idx\"        :None,\n",
    "                 \"pad_idx\"        :None,\n",
    "                 \"device\"         :device,\n",
    "                 \"filepath_config\":filepath_pretrain_configs}\n",
    "\n",
    "## Model initialization\n",
    "generator = SmilesAutoencoder(**model_configs)\n",
    "\n",
    "## Load pretrained model\n",
    "generator.load_model(filepath_pretrain_ckpt)"
   ]
  },
  {
   "cell_type": "markdown",
   "id": "a1d955a5",
   "metadata": {},
   "source": [
    "## 8. Perform molecular translation on the Test dataset"
   ]
  },
  {
   "cell_type": "code",
   "execution_count": 12,
   "id": "d213544f",
   "metadata": {},
   "outputs": [
    {
     "name": "stderr",
     "output_type": "stream",
     "text": [
      "100%|██████████| 1000/1000 [00:24<00:00, 41.23it/s]\n"
     ]
    },
    {
     "data": {
      "text/html": [
       "<div>\n",
       "<style scoped>\n",
       "    .dataframe tbody tr th:only-of-type {\n",
       "        vertical-align: middle;\n",
       "    }\n",
       "\n",
       "    .dataframe tbody tr th {\n",
       "        vertical-align: top;\n",
       "    }\n",
       "\n",
       "    .dataframe thead th {\n",
       "        text-align: right;\n",
       "    }\n",
       "</style>\n",
       "<table border=\"1\" class=\"dataframe\">\n",
       "  <thead>\n",
       "    <tr style=\"text-align: right;\">\n",
       "      <th></th>\n",
       "      <th>0</th>\n",
       "      <th>1</th>\n",
       "    </tr>\n",
       "  </thead>\n",
       "  <tbody>\n",
       "    <tr>\n",
       "      <th>0</th>\n",
       "      <td>N#CC1=CC=CC=C1COC1=CC=CC(C(=O)N2CCN(C3=CC=C(Br...</td>\n",
       "      <td>N#CC1=CC=CC(C(=O)N2CCN(CCCCN3CCN(C4=CC=CC=C4)C...</td>\n",
       "    </tr>\n",
       "    <tr>\n",
       "      <th>1</th>\n",
       "      <td>C[N+](C)(C)CCOC(=O)C1(C2=CC=CC=C2)CCCC1</td>\n",
       "      <td>C[NH+](C)CCCN1CCC(C2=CC=C(Cl)C=C2)CC1</td>\n",
       "    </tr>\n",
       "    <tr>\n",
       "      <th>2</th>\n",
       "      <td>O=C(CN1C(=O)C(=CC2=CC=CO2)SC1=S)NCCC1=CNC2=CC=...</td>\n",
       "      <td>O=C(CN1CCN(C2=CC=CC=C2F)CC1)NCCCC1=CNC2=CC=CC=C12</td>\n",
       "    </tr>\n",
       "    <tr>\n",
       "      <th>3</th>\n",
       "      <td>CC1=CC=C(CN(C)CN2C(=O)NC3(CCCCC3C)C2=O)C=C1</td>\n",
       "      <td>CC1=CC=C(CN2CCC(C3=CC=C(Cl)C=C3Cl)CC2)C=C1</td>\n",
       "    </tr>\n",
       "    <tr>\n",
       "      <th>4</th>\n",
       "      <td>O=C(NC1CC1)C1CCN(C2=NC=CC=N2)CC1</td>\n",
       "      <td>O=C(NC1CCN(CCCCNC(=O)C2=NC=CC=N2)CC1)C1CCC2=CC...</td>\n",
       "    </tr>\n",
       "  </tbody>\n",
       "</table>\n",
       "</div>"
      ],
      "text/plain": [
       "                                                   0  \\\n",
       "0  N#CC1=CC=CC=C1COC1=CC=CC(C(=O)N2CCN(C3=CC=C(Br...   \n",
       "1            C[N+](C)(C)CCOC(=O)C1(C2=CC=CC=C2)CCCC1   \n",
       "2  O=C(CN1C(=O)C(=CC2=CC=CO2)SC1=S)NCCC1=CNC2=CC=...   \n",
       "3        CC1=CC=C(CN(C)CN2C(=O)NC3(CCCCC3C)C2=O)C=C1   \n",
       "4                   O=C(NC1CC1)C1CCN(C2=NC=CC=N2)CC1   \n",
       "\n",
       "                                                   1  \n",
       "0  N#CC1=CC=CC(C(=O)N2CCN(CCCCN3CCN(C4=CC=CC=C4)C...  \n",
       "1              C[NH+](C)CCCN1CCC(C2=CC=C(Cl)C=C2)CC1  \n",
       "2  O=C(CN1CCN(C2=CC=CC=C2F)CC1)NCCCC1=CNC2=CC=CC=C12  \n",
       "3         CC1=CC=C(CN2CCC(C3=CC=C(Cl)C=C3Cl)CC2)C=C1  \n",
       "4  O=C(NC1CCN(CCCCNC(=O)C2=NC=CC=N2)CC1)C1CCC2=CC...  "
      ]
     },
     "execution_count": 12,
     "metadata": {},
     "output_type": "execute_result"
    }
   ],
   "source": [
    "K = 20 # repetition count of translation\n",
    "\n",
    "generated = [] # initialize a list of outputs\n",
    "\n",
    "for batch in tqdm.tqdm(DataLoader(dataset_test, batch_size=1, shuffle=False, drop_last=False, pin_memory=use_cuda)):\n",
    "    batch_smiles = dataset_test.encode(batch[\"smiles_s\"], batch[\"length_s\"].max())\n",
    "    batch_length = batch[\"length_s\"]\n",
    "    ## translation\n",
    "    is_generated = False\n",
    "    for _ in range(K):\n",
    "        seq = generator.predict(batch_smiles, batch_length)\n",
    "        smi = dataset_test.decode(seq)[0] # assumption: batch_size=1\n",
    "        if MolFromSmiles(smi):\n",
    "            generated.append((batch[\"smiles_s\"][0][1:-1], smi))\n",
    "            is_generated = True\n",
    "            break\n",
    "    if not is_generated:\n",
    "        generated.append((batch[\"smiles_s\"][0][1:-1],\"\"))\n",
    "        \n",
    "df_generated = pd.DataFrame.from_records(generated)\n",
    "df_generated.head()"
   ]
  },
  {
   "cell_type": "markdown",
   "id": "c09aab83",
   "metadata": {},
   "source": [
    "## 9. Save the results"
   ]
  },
  {
   "cell_type": "code",
   "execution_count": 13,
   "id": "e9cf7ec1",
   "metadata": {},
   "outputs": [],
   "source": [
    "df_generated.to_csv(filepath_output, header=None, index=False)"
   ]
  },
  {
   "cell_type": "code",
   "execution_count": null,
   "id": "ae6fbbfd",
   "metadata": {},
   "outputs": [],
   "source": []
  }
 ],
 "metadata": {
  "kernelspec": {
   "display_name": "Python 3",
   "language": "python",
   "name": "python3"
  },
  "language_info": {
   "codemirror_mode": {
    "name": "ipython",
    "version": 3
   },
   "file_extension": ".py",
   "mimetype": "text/x-python",
   "name": "python",
   "nbconvert_exporter": "python",
   "pygments_lexer": "ipython3",
   "version": "3.6.15"
  }
 },
 "nbformat": 4,
 "nbformat_minor": 5
}
