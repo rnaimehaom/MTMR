{
 "cells": [
  {
   "cell_type": "code",
   "execution_count": 1,
   "id": "03049c44",
   "metadata": {},
   "outputs": [],
   "source": [
    "import os\n",
    "import sys\n",
    "import tqdm\n",
    "import pandas as pd"
   ]
  },
  {
   "cell_type": "code",
   "execution_count": 2,
   "id": "879970f5",
   "metadata": {},
   "outputs": [],
   "source": [
    "MTMR_PATH = os.path.abspath(os.path.join(os.getcwd(), os.pardir))\n",
    "sys.path = sys.path if MTMR_PATH in sys.path else [MTMR_PATH] + sys.path"
   ]
  },
  {
   "cell_type": "code",
   "execution_count": 3,
   "id": "49ed5fd7",
   "metadata": {},
   "outputs": [],
   "source": [
    "from MTMR.properties import gsk3, drd2, qed, penalized_logp, similarity"
   ]
  },
  {
   "cell_type": "code",
   "execution_count": 4,
   "id": "c3c96442",
   "metadata": {},
   "outputs": [],
   "source": [
    "PROPERTY_NAME = 'gsk3'\n",
    "SCORING_FT = gsk3()"
   ]
  },
  {
   "cell_type": "markdown",
   "id": "3a7c95b2",
   "metadata": {},
   "source": [
    "# 1. Read data"
   ]
  },
  {
   "cell_type": "code",
   "execution_count": 5,
   "id": "c246d4dd",
   "metadata": {},
   "outputs": [],
   "source": [
    "filepath_tr_trip = os.path.join(PROPERTY_NAME, 'rdkit_train_triplet.txt')\n",
    "filepath_tr_pair = os.path.join(PROPERTY_NAME, 'rdkit_train_pairs.txt')\n",
    "filepath_tr_src = os.path.join(PROPERTY_NAME, 'rdkit_train_src.txt')\n",
    "filepath_tr_tar = os.path.join(PROPERTY_NAME, 'rdkit_train_tar.txt')\n",
    "filepath_va = os.path.join(PROPERTY_NAME, 'rdkit_valid.txt')\n",
    "filepath_te = os.path.join(PROPERTY_NAME, 'rdkit_test.txt')"
   ]
  },
  {
   "cell_type": "code",
   "execution_count": 6,
   "id": "ca6e9018",
   "metadata": {},
   "outputs": [],
   "source": [
    "df_tr_trip = pd.read_csv(filepath_tr_trip, header=None, sep=' ')\n",
    "df_tr_pair = pd.read_csv(filepath_tr_pair, header=None, sep=' ')\n",
    "df_tr_src = pd.read_csv(filepath_tr_src, header=None).drop_duplicates(ignore_index=True)\n",
    "df_tr_tar = pd.read_csv(filepath_tr_tar, header=None).drop_duplicates(ignore_index=True)\n",
    "df_va = pd.read_csv(filepath_va, header=None)\n",
    "df_te = pd.read_csv(filepath_te, header=None)"
   ]
  },
  {
   "cell_type": "code",
   "execution_count": 7,
   "id": "1709b731",
   "metadata": {},
   "outputs": [
    {
     "name": "stdout",
     "output_type": "stream",
     "text": [
      "Number of Triplets  : (249040, 3)\n",
      "Number of Pairs     : (12452, 6)\n",
      "Number of Sources   : (4653, 1)\n",
      "Number of Targets   : (1691, 1)\n",
      "Number of Negatives : (6342,)\n"
     ]
    }
   ],
   "source": [
    "print(f\"Number of Triplets  : {df_tr_trip.shape}\")\n",
    "print(f\"Number of Pairs     : {df_tr_pair.shape}\")\n",
    "print(f\"Number of Sources   : {df_tr_src.shape}\")\n",
    "print(f\"Number of Targets   : {df_tr_tar.shape}\")\n",
    "print(f\"Number of Negatives : {df_tr_trip.iloc[:,2].drop_duplicates().shape}\")"
   ]
  },
  {
   "cell_type": "markdown",
   "id": "32e4c6a6",
   "metadata": {},
   "source": [
    "# 2. Property"
   ]
  },
  {
   "cell_type": "code",
   "execution_count": 8,
   "id": "7a972f8f",
   "metadata": {
    "scrolled": true
   },
   "outputs": [
    {
     "name": "stderr",
     "output_type": "stream",
     "text": [
      "100%|██████████| 4653/4653 [08:07<00:00,  9.54it/s]\n"
     ]
    }
   ],
   "source": [
    "df_tr_src_ = df_tr_src.copy()\n",
    "df_tr_src_.loc[:,1] = 0.\n",
    "\n",
    "for i in tqdm.trange(len(df_tr_src_)):\n",
    "    smi = df_tr_src_.iloc[i,0]\n",
    "    prop = SCORING_FT(smi)\n",
    "    df_tr_src_.iloc[i,1] = prop"
   ]
  },
  {
   "cell_type": "code",
   "execution_count": 9,
   "id": "4fda3b72",
   "metadata": {},
   "outputs": [
    {
     "name": "stderr",
     "output_type": "stream",
     "text": [
      "100%|██████████| 1691/1691 [02:55<00:00,  9.64it/s]\n"
     ]
    }
   ],
   "source": [
    "df_tr_tar_ = df_tr_tar.copy()\n",
    "df_tr_tar_.loc[:,1] = 0.\n",
    "\n",
    "for i in tqdm.trange(len(df_tr_tar_)):\n",
    "    smi = df_tr_tar_.iloc[i,0]\n",
    "    prop = SCORING_FT(smi)\n",
    "    df_tr_tar_.iloc[i,1] = prop"
   ]
  },
  {
   "cell_type": "code",
   "execution_count": 10,
   "id": "ae4764e6",
   "metadata": {},
   "outputs": [
    {
     "name": "stdout",
     "output_type": "stream",
     "text": [
      "Range of gsk3 (src): 0.00 ~ 0.98\n",
      "Range of gsk3 (tar): 0.00 ~ 1.00\n"
     ]
    }
   ],
   "source": [
    "print(f\"Range of {PROPERTY_NAME} (src): {df_tr_src_.iloc[:,1].min():.2f} ~ {df_tr_src_.iloc[:,1].max():.2f}\")\n",
    "print(f\"Range of {PROPERTY_NAME} (tar): {df_tr_tar_.iloc[:,1].min():.2f} ~ {df_tr_tar_.iloc[:,1].max():.2f}\")"
   ]
  },
  {
   "cell_type": "code",
   "execution_count": 11,
   "id": "9cc84226",
   "metadata": {},
   "outputs": [
    {
     "name": "stdout",
     "output_type": "stream",
     "text": [
      "Average of gsk3 (src): 0.02 (0.06)\n",
      "Average of gsk3 (tar): 0.86 (0.17)\n"
     ]
    }
   ],
   "source": [
    "print(f\"Average of {PROPERTY_NAME} (src): {df_tr_src_.iloc[:,1].mean():.2f} ({df_tr_src_.iloc[:,1].std():.2f})\")\n",
    "print(f\"Average of {PROPERTY_NAME} (tar): {df_tr_tar_.iloc[:,1].mean():.2f} ({df_tr_tar_.iloc[:,1].std():.2f})\")"
   ]
  },
  {
   "cell_type": "markdown",
   "id": "0a16c123",
   "metadata": {},
   "source": [
    "# 3. Similarity & Improvement"
   ]
  },
  {
   "cell_type": "code",
   "execution_count": 12,
   "id": "51b28496",
   "metadata": {},
   "outputs": [
    {
     "name": "stderr",
     "output_type": "stream",
     "text": [
      "100%|██████████| 12452/12452 [43:03<00:00,  4.82it/s]\n"
     ]
    }
   ],
   "source": [
    "df_tr_pair_ = df_tr_pair.copy()\n",
    "df_tr_pair_.loc[:,2] = 0.\n",
    "df_tr_pair_.loc[:,3] = 0.\n",
    "\n",
    "for i in tqdm.trange(len(df_tr_pair_)):\n",
    "    smi_src = df_tr_pair_.iloc[i,0]\n",
    "    smi_tar = df_tr_pair_.iloc[i,1]\n",
    "    ## similarity\n",
    "    sim = similarity(smi_src, smi_tar)\n",
    "    df_tr_pair_.iloc[i,2] = sim\n",
    "    ## improvement\n",
    "    prop_src = SCORING_FT(smi_src)\n",
    "    prop_tar = SCORING_FT(smi_tar)\n",
    "    df_tr_pair_.iloc[i,3] = prop_tar - prop_src"
   ]
  },
  {
   "cell_type": "code",
   "execution_count": 13,
   "id": "6c8ee1b2",
   "metadata": {},
   "outputs": [
    {
     "name": "stdout",
     "output_type": "stream",
     "text": [
      "Range of Similarity (src,tar) : 0.40 ~ 1.00\n",
      "Range of Improvement (tar-src): -0.57 ~ 1.00\n"
     ]
    }
   ],
   "source": [
    "print(f\"Range of Similarity (src,tar) : {df_tr_pair_.iloc[:,2].min():.2f} ~ {df_tr_pair_.iloc[:,2].max():.2f}\")\n",
    "print(f\"Range of Improvement (tar-src): {df_tr_pair_.iloc[:,3].min():.2f} ~ {df_tr_pair_.iloc[:,3].max():.2f}\")"
   ]
  },
  {
   "cell_type": "code",
   "execution_count": 14,
   "id": "833e2527",
   "metadata": {},
   "outputs": [
    {
     "name": "stdout",
     "output_type": "stream",
     "text": [
      "Average of Similarity (src,tar) : 0.46 (0.07)\n",
      "Average of Improvement (tar-src): 0.71 (0.22)\n"
     ]
    }
   ],
   "source": [
    "print(f\"Average of Similarity (src,tar) : {df_tr_pair_.iloc[:,2].mean():.2f} ({df_tr_pair_.iloc[:,2].std():.2f})\")\n",
    "print(f\"Average of Improvement (tar-src): {df_tr_pair_.iloc[:,3].mean():.2f} ({df_tr_pair_.iloc[:,3].std():.2f})\")"
   ]
  },
  {
   "cell_type": "code",
   "execution_count": 15,
   "id": "3188bd6f",
   "metadata": {},
   "outputs": [
    {
     "name": "stderr",
     "output_type": "stream",
     "text": [
      "100%|██████████| 249040/249040 [05:35<00:00, 742.37it/s]\n"
     ]
    }
   ],
   "source": [
    "df_tr_trip_ = df_tr_trip.copy()\n",
    "df_tr_trip_.loc[:,3] = 0.\n",
    "df_tr_trip_.loc[:,4] = 0.\n",
    "\n",
    "for i in tqdm.trange(len(df_tr_trip_)):\n",
    "    smi_src = df_tr_trip_.iloc[i,0]\n",
    "    smi_tar = df_tr_trip_.iloc[i,1]\n",
    "    smi_neg = df_tr_trip_.iloc[i,2]\n",
    "    ## similarity\n",
    "    sim_1 = similarity(smi_src, smi_neg)\n",
    "    sim_2 = similarity(smi_tar, smi_neg)\n",
    "    df_tr_trip_.iloc[i,3] = sim_1\n",
    "    df_tr_trip_.iloc[i,4] = sim_2"
   ]
  },
  {
   "cell_type": "code",
   "execution_count": 16,
   "id": "d7922b40",
   "metadata": {},
   "outputs": [
    {
     "name": "stdout",
     "output_type": "stream",
     "text": [
      "Range of Similarity (src,neg): 0.00 ~ 0.30\n",
      "Range of Similarity (tar,neg): 0.01 ~ 0.30\n"
     ]
    }
   ],
   "source": [
    "print(f\"Range of Similarity (src,neg): {df_tr_trip_.iloc[:,3].min():.2f} ~ {df_tr_trip_.iloc[:,3].max():.2f}\")\n",
    "print(f\"Range of Similarity (tar,neg): {df_tr_trip_.iloc[:,4].min():.2f} ~ {df_tr_trip_.iloc[:,4].max():.2f}\")"
   ]
  }
 ],
 "metadata": {
  "kernelspec": {
   "display_name": "Python 3",
   "language": "python",
   "name": "python3"
  },
  "language_info": {
   "codemirror_mode": {
    "name": "ipython",
    "version": 3
   },
   "file_extension": ".py",
   "mimetype": "text/x-python",
   "name": "python",
   "nbconvert_exporter": "python",
   "pygments_lexer": "ipython3",
   "version": "3.6.15"
  }
 },
 "nbformat": 4,
 "nbformat_minor": 5
}
