{
 "cells": [
  {
   "cell_type": "code",
   "execution_count": 1,
   "id": "d9e19d08",
   "metadata": {},
   "outputs": [],
   "source": [
    "import os\n",
    "import sys\n",
    "import tqdm\n",
    "import pandas as pd"
   ]
  },
  {
   "cell_type": "code",
   "execution_count": 2,
   "id": "92b44c1d",
   "metadata": {},
   "outputs": [],
   "source": [
    "MTMR_PATH = os.path.abspath(os.path.join(os.getcwd(), os.pardir))\n",
    "sys.path = sys.path if MTMR_PATH in sys.path else [MTMR_PATH] + sys.path"
   ]
  },
  {
   "cell_type": "code",
   "execution_count": 3,
   "id": "d4a97023",
   "metadata": {},
   "outputs": [],
   "source": [
    "from MTMR.properties import drd2, qed, penalized_logp, similarity"
   ]
  },
  {
   "cell_type": "code",
   "execution_count": 4,
   "id": "cd808561",
   "metadata": {},
   "outputs": [],
   "source": [
    "PROPERTY_NAME = 'drd2'\n",
    "SCORING_FT = drd2"
   ]
  },
  {
   "cell_type": "markdown",
   "id": "870a7a9f",
   "metadata": {},
   "source": [
    "# 1. Read data"
   ]
  },
  {
   "cell_type": "code",
   "execution_count": 5,
   "id": "90c5815d",
   "metadata": {},
   "outputs": [],
   "source": [
    "filepath_tr_trip = os.path.join(PROPERTY_NAME, 'rdkit_train_triplet.txt')\n",
    "filepath_tr_pair = os.path.join(PROPERTY_NAME, 'rdkit_train_pairs.txt')\n",
    "filepath_tr_src = os.path.join(PROPERTY_NAME, 'rdkit_train_src.txt')\n",
    "filepath_tr_tar = os.path.join(PROPERTY_NAME, 'rdkit_train_tar.txt')\n",
    "filepath_va = os.path.join(PROPERTY_NAME, 'rdkit_valid.txt')\n",
    "filepath_te = os.path.join(PROPERTY_NAME, 'rdkit_test.txt')"
   ]
  },
  {
   "cell_type": "code",
   "execution_count": 6,
   "id": "8da35fd7",
   "metadata": {},
   "outputs": [],
   "source": [
    "df_tr_trip = pd.read_csv(filepath_tr_trip, header=None, sep=' ')\n",
    "df_tr_pair = pd.read_csv(filepath_tr_pair, header=None, sep=' ')\n",
    "df_tr_src = pd.read_csv(filepath_tr_src, header=None).drop_duplicates(ignore_index=True)\n",
    "df_tr_tar = pd.read_csv(filepath_tr_tar, header=None).drop_duplicates(ignore_index=True)\n",
    "df_va = pd.read_csv(filepath_va, header=None)\n",
    "df_te = pd.read_csv(filepath_te, header=None)"
   ]
  },
  {
   "cell_type": "code",
   "execution_count": 7,
   "id": "14b3e8d4",
   "metadata": {},
   "outputs": [
    {
     "name": "stdout",
     "output_type": "stream",
     "text": [
      "Number of Triplets  : (688040, 3)\n",
      "Number of Pairs     : (34402, 2)\n",
      "Number of Sources   : (18490, 1)\n",
      "Number of Targets   : (3141, 1)\n",
      "Number of Negatives : (21632,)\n"
     ]
    }
   ],
   "source": [
    "print(f\"Number of Triplets  : {df_tr_trip.shape}\")\n",
    "print(f\"Number of Pairs     : {df_tr_pair.shape}\")\n",
    "print(f\"Number of Sources   : {df_tr_src.shape}\")\n",
    "print(f\"Number of Targets   : {df_tr_tar.shape}\")\n",
    "print(f\"Number of Negatives : {df_tr_trip.iloc[:,2].drop_duplicates().shape}\")"
   ]
  },
  {
   "cell_type": "markdown",
   "id": "aa62598a",
   "metadata": {},
   "source": [
    "# 2. Property"
   ]
  },
  {
   "cell_type": "code",
   "execution_count": 8,
   "id": "43ff8ec7",
   "metadata": {
    "scrolled": true
   },
   "outputs": [
    {
     "name": "stderr",
     "output_type": "stream",
     "text": [
      "100%|██████████| 18490/18490 [01:22<00:00, 224.09it/s]\n"
     ]
    }
   ],
   "source": [
    "df_tr_src_ = df_tr_src.copy()\n",
    "df_tr_src_.loc[:,1] = 0.\n",
    "\n",
    "for i in tqdm.trange(len(df_tr_src_)):\n",
    "    smi = df_tr_src_.iloc[i,0]\n",
    "    prop = SCORING_FT(smi)\n",
    "    df_tr_src_.iloc[i,1] = prop"
   ]
  },
  {
   "cell_type": "code",
   "execution_count": 9,
   "id": "88fc3e62",
   "metadata": {},
   "outputs": [
    {
     "name": "stderr",
     "output_type": "stream",
     "text": [
      "100%|██████████| 3141/3141 [00:14<00:00, 219.58it/s]\n"
     ]
    }
   ],
   "source": [
    "df_tr_tar_ = df_tr_tar.copy()\n",
    "df_tr_tar_.loc[:,1] = 0.\n",
    "\n",
    "for i in tqdm.trange(len(df_tr_tar_)):\n",
    "    smi = df_tr_tar_.iloc[i,0]\n",
    "    prop = SCORING_FT(smi)\n",
    "    df_tr_tar_.iloc[i,1] = prop"
   ]
  },
  {
   "cell_type": "code",
   "execution_count": 10,
   "id": "3ee4d8b1",
   "metadata": {},
   "outputs": [
    {
     "name": "stdout",
     "output_type": "stream",
     "text": [
      "Range of drd2 (src): 0.00 ~ 0.05\n",
      "Range of drd2 (tar): 0.50 ~ 1.00\n"
     ]
    }
   ],
   "source": [
    "print(f\"Range of {PROPERTY_NAME} (src): {df_tr_src_.iloc[:,1].min():.2f} ~ {df_tr_src_.iloc[:,1].max():.2f}\")\n",
    "print(f\"Range of {PROPERTY_NAME} (tar): {df_tr_tar_.iloc[:,1].min():.2f} ~ {df_tr_tar_.iloc[:,1].max():.2f}\")"
   ]
  },
  {
   "cell_type": "code",
   "execution_count": 11,
   "id": "faeb1881",
   "metadata": {},
   "outputs": [
    {
     "name": "stdout",
     "output_type": "stream",
     "text": [
      "Average of drd2 (src): 0.01 (0.01)\n",
      "Average of drd2 (tar): 0.87 (0.16)\n"
     ]
    }
   ],
   "source": [
    "print(f\"Average of {PROPERTY_NAME} (src): {df_tr_src_.iloc[:,1].mean():.2f} ({df_tr_src_.iloc[:,1].std():.2f})\")\n",
    "print(f\"Average of {PROPERTY_NAME} (tar): {df_tr_tar_.iloc[:,1].mean():.2f} ({df_tr_tar_.iloc[:,1].std():.2f})\")"
   ]
  },
  {
   "cell_type": "markdown",
   "id": "b31ac7f7",
   "metadata": {},
   "source": [
    "# 3. Similarity & Improvement"
   ]
  },
  {
   "cell_type": "code",
   "execution_count": 12,
   "id": "cfc7e176",
   "metadata": {},
   "outputs": [
    {
     "name": "stderr",
     "output_type": "stream",
     "text": [
      "100%|██████████| 34402/34402 [06:37<00:00, 86.56it/s] \n"
     ]
    }
   ],
   "source": [
    "df_tr_pair_ = df_tr_pair.copy()\n",
    "df_tr_pair_.loc[:,2] = 0.\n",
    "df_tr_pair_.loc[:,3] = 0.\n",
    "\n",
    "for i in tqdm.trange(len(df_tr_pair_)):\n",
    "    smi_src = df_tr_pair_.iloc[i,0]\n",
    "    smi_tar = df_tr_pair_.iloc[i,1]\n",
    "    ## similarity\n",
    "    sim = similarity(smi_src, smi_tar)\n",
    "    df_tr_pair_.iloc[i,2] = sim\n",
    "    ## improvement\n",
    "    prop_src = SCORING_FT(smi_src)\n",
    "    prop_tar = SCORING_FT(smi_tar)\n",
    "    df_tr_pair_.iloc[i,3] = prop_tar - prop_src"
   ]
  },
  {
   "cell_type": "code",
   "execution_count": 13,
   "id": "0ccc87c6",
   "metadata": {},
   "outputs": [
    {
     "name": "stdout",
     "output_type": "stream",
     "text": [
      "Range of Similarity (src,tar): 0.40 ~ 0.83\n",
      "Range of Improvement (tar-src): 0.45 ~ 1.00\n"
     ]
    }
   ],
   "source": [
    "print(f\"Range of Similarity (src,tar): {df_tr_pair_.iloc[:,2].min():.2f} ~ {df_tr_pair_.iloc[:,2].max():.2f}\")\n",
    "print(f\"Range of Improvement (tar-src): {df_tr_pair_.iloc[:,3].min():.2f} ~ {df_tr_pair_.iloc[:,3].max():.2f}\")"
   ]
  },
  {
   "cell_type": "code",
   "execution_count": 14,
   "id": "bca4e853",
   "metadata": {},
   "outputs": [
    {
     "name": "stdout",
     "output_type": "stream",
     "text": [
      "Average of Similarity (src,tar) : 0.44 (0.04)\n",
      "Average of Improvement (tar-src): 0.81 (0.17)\n"
     ]
    }
   ],
   "source": [
    "print(f\"Average of Similarity (src,tar) : {df_tr_pair_.iloc[:,2].mean():.2f} ({df_tr_pair_.iloc[:,2].std():.2f})\")\n",
    "print(f\"Average of Improvement (tar-src): {df_tr_pair_.iloc[:,3].mean():.2f} ({df_tr_pair_.iloc[:,3].std():.2f})\")"
   ]
  },
  {
   "cell_type": "code",
   "execution_count": 15,
   "id": "48a07b05",
   "metadata": {},
   "outputs": [
    {
     "name": "stderr",
     "output_type": "stream",
     "text": [
      "100%|██████████| 688040/688040 [1:17:12<00:00, 148.53it/s]\n"
     ]
    }
   ],
   "source": [
    "df_tr_trip_ = df_tr_trip.copy()\n",
    "df_tr_trip_.loc[:,3] = 0.\n",
    "df_tr_trip_.loc[:,4] = 0.\n",
    "\n",
    "for i in tqdm.trange(len(df_tr_trip_)):\n",
    "    smi_src = df_tr_trip_.iloc[i,0]\n",
    "    smi_tar = df_tr_trip_.iloc[i,1]\n",
    "    smi_neg = df_tr_trip_.iloc[i,2]\n",
    "    ## similarity\n",
    "    sim_1 = similarity(smi_src, smi_neg)\n",
    "    sim_2 = similarity(smi_tar, smi_neg)\n",
    "    df_tr_trip_.iloc[i,3] = sim_1\n",
    "    df_tr_trip_.iloc[i,4] = sim_2"
   ]
  },
  {
   "cell_type": "code",
   "execution_count": 16,
   "id": "8500b11a",
   "metadata": {},
   "outputs": [
    {
     "name": "stdout",
     "output_type": "stream",
     "text": [
      "Range of Similarity (src,neg): 0.00 ~ 0.30\n",
      "Range of Similarity (tar,neg): 0.00 ~ 0.30\n"
     ]
    }
   ],
   "source": [
    "print(f\"Range of Similarity (src,neg): {df_tr_trip_.iloc[:,3].min():.2f} ~ {df_tr_trip_.iloc[:,3].max():.2f}\")\n",
    "print(f\"Range of Similarity (tar,neg): {df_tr_trip_.iloc[:,4].min():.2f} ~ {df_tr_trip_.iloc[:,4].max():.2f}\")"
   ]
  },
  {
   "cell_type": "code",
   "execution_count": null,
   "id": "1fe7dcce",
   "metadata": {},
   "outputs": [],
   "source": []
  }
 ],
 "metadata": {
  "kernelspec": {
   "display_name": "Python 3",
   "language": "python",
   "name": "python3"
  },
  "language_info": {
   "codemirror_mode": {
    "name": "ipython",
    "version": 3
   },
   "file_extension": ".py",
   "mimetype": "text/x-python",
   "name": "python",
   "nbconvert_exporter": "python",
   "pygments_lexer": "ipython3",
   "version": "3.6.15"
  }
 },
 "nbformat": 4,
 "nbformat_minor": 5
}
