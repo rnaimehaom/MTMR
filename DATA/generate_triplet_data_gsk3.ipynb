{
 "cells": [
  {
   "cell_type": "code",
   "execution_count": 1,
   "id": "438bb684",
   "metadata": {},
   "outputs": [],
   "source": [
    "import os\n",
    "import sys\n",
    "import pandas as pd\n",
    "import numpy as np\n",
    "import random\n",
    "import tqdm"
   ]
  },
  {
   "cell_type": "code",
   "execution_count": 2,
   "id": "9613b2f7",
   "metadata": {},
   "outputs": [],
   "source": [
    "from rdkit import Chem, DataStructs\n",
    "from rdkit.Chem import AllChem"
   ]
  },
  {
   "cell_type": "code",
   "execution_count": 3,
   "id": "e3a2af10",
   "metadata": {},
   "outputs": [],
   "source": [
    "MTMR_PATH = os.path.abspath(os.path.join(os.getcwd(), os.pardir))\n",
    "sys.path = sys.path if MTMR_PATH in sys.path else [MTMR_PATH] + sys.path"
   ]
  },
  {
   "cell_type": "code",
   "execution_count": 4,
   "id": "59dba9b1",
   "metadata": {},
   "outputs": [],
   "source": [
    "from MTMR.properties import gsk3, jnk3, drd2, qed, penalized_logp, similarity, get_kekuleSmiles"
   ]
  },
  {
   "cell_type": "code",
   "execution_count": 5,
   "id": "c4f9bde0",
   "metadata": {},
   "outputs": [],
   "source": [
    "PROPERTY_NAME = \"gsk3\"\n",
    "SCORING_FT = gsk3()"
   ]
  },
  {
   "cell_type": "code",
   "execution_count": 16,
   "id": "a62cd996",
   "metadata": {},
   "outputs": [],
   "source": [
    "if not os.path.exists(PROPERTY_NAME):\n",
    "    os.mkdir(PROPERTY_NAME)"
   ]
  },
  {
   "cell_type": "code",
   "execution_count": 6,
   "id": "03b5ce50",
   "metadata": {},
   "outputs": [],
   "source": [
    "filepath_zinc250k = \"250k_rndm_zinc_drugs_clean_3.csv\"\n",
    "df_zinc_raw = pd.read_csv(filepath_zinc250k)"
   ]
  },
  {
   "cell_type": "code",
   "execution_count": 7,
   "id": "8fbefb28",
   "metadata": {},
   "outputs": [
    {
     "data": {
      "text/html": [
       "<div>\n",
       "<style scoped>\n",
       "    .dataframe tbody tr th:only-of-type {\n",
       "        vertical-align: middle;\n",
       "    }\n",
       "\n",
       "    .dataframe tbody tr th {\n",
       "        vertical-align: top;\n",
       "    }\n",
       "\n",
       "    .dataframe thead th {\n",
       "        text-align: right;\n",
       "    }\n",
       "</style>\n",
       "<table border=\"1\" class=\"dataframe\">\n",
       "  <thead>\n",
       "    <tr style=\"text-align: right;\">\n",
       "      <th></th>\n",
       "      <th>smiles</th>\n",
       "      <th>logP</th>\n",
       "      <th>qed</th>\n",
       "      <th>SAS</th>\n",
       "    </tr>\n",
       "  </thead>\n",
       "  <tbody>\n",
       "    <tr>\n",
       "      <th>0</th>\n",
       "      <td>CC(C)(C)c1ccc2occ(CC(=O)Nc3ccccc3F)c2c1\\n</td>\n",
       "      <td>5.05060</td>\n",
       "      <td>0.702012</td>\n",
       "      <td>2.084095</td>\n",
       "    </tr>\n",
       "    <tr>\n",
       "      <th>1</th>\n",
       "      <td>C[C@@H]1CC(Nc2cncc(-c3nncn3C)c2)C[C@@H](C)C1\\n</td>\n",
       "      <td>3.11370</td>\n",
       "      <td>0.928975</td>\n",
       "      <td>3.432004</td>\n",
       "    </tr>\n",
       "    <tr>\n",
       "      <th>2</th>\n",
       "      <td>N#Cc1ccc(-c2ccc(O[C@@H](C(=O)N3CCCC3)c3ccccc3)...</td>\n",
       "      <td>4.96778</td>\n",
       "      <td>0.599682</td>\n",
       "      <td>2.470633</td>\n",
       "    </tr>\n",
       "    <tr>\n",
       "      <th>3</th>\n",
       "      <td>CCOC(=O)[C@@H]1CCCN(C(=O)c2nc(-c3ccc(C)cc3)n3c...</td>\n",
       "      <td>4.00022</td>\n",
       "      <td>0.690944</td>\n",
       "      <td>2.822753</td>\n",
       "    </tr>\n",
       "    <tr>\n",
       "      <th>4</th>\n",
       "      <td>N#CC1=C(SCC(=O)Nc2cccc(Cl)c2)N=C([O-])[C@H](C#...</td>\n",
       "      <td>3.60956</td>\n",
       "      <td>0.789027</td>\n",
       "      <td>4.035182</td>\n",
       "    </tr>\n",
       "  </tbody>\n",
       "</table>\n",
       "</div>"
      ],
      "text/plain": [
       "                                              smiles     logP       qed  \\\n",
       "0          CC(C)(C)c1ccc2occ(CC(=O)Nc3ccccc3F)c2c1\\n  5.05060  0.702012   \n",
       "1     C[C@@H]1CC(Nc2cncc(-c3nncn3C)c2)C[C@@H](C)C1\\n  3.11370  0.928975   \n",
       "2  N#Cc1ccc(-c2ccc(O[C@@H](C(=O)N3CCCC3)c3ccccc3)...  4.96778  0.599682   \n",
       "3  CCOC(=O)[C@@H]1CCCN(C(=O)c2nc(-c3ccc(C)cc3)n3c...  4.00022  0.690944   \n",
       "4  N#CC1=C(SCC(=O)Nc2cccc(Cl)c2)N=C([O-])[C@H](C#...  3.60956  0.789027   \n",
       "\n",
       "        SAS  \n",
       "0  2.084095  \n",
       "1  3.432004  \n",
       "2  2.470633  \n",
       "3  2.822753  \n",
       "4  4.035182  "
      ]
     },
     "execution_count": 7,
     "metadata": {},
     "output_type": "execute_result"
    }
   ],
   "source": [
    "df_zinc_raw.head()"
   ]
  },
  {
   "cell_type": "markdown",
   "id": "8da4bf7f",
   "metadata": {},
   "source": [
    "# Property calculation"
   ]
  },
  {
   "cell_type": "code",
   "execution_count": 10,
   "id": "2e21623a",
   "metadata": {},
   "outputs": [
    {
     "name": "stderr",
     "output_type": "stream",
     "text": [
      "100%|██████████| 249455/249455 [7:11:15<00:00,  9.64it/s]  \n"
     ]
    },
    {
     "data": {
      "text/html": [
       "<div>\n",
       "<style scoped>\n",
       "    .dataframe tbody tr th:only-of-type {\n",
       "        vertical-align: middle;\n",
       "    }\n",
       "\n",
       "    .dataframe tbody tr th {\n",
       "        vertical-align: top;\n",
       "    }\n",
       "\n",
       "    .dataframe thead th {\n",
       "        text-align: right;\n",
       "    }\n",
       "</style>\n",
       "<table border=\"1\" class=\"dataframe\">\n",
       "  <thead>\n",
       "    <tr style=\"text-align: right;\">\n",
       "      <th></th>\n",
       "      <th>smiles</th>\n",
       "      <th>gsk3</th>\n",
       "    </tr>\n",
       "  </thead>\n",
       "  <tbody>\n",
       "    <tr>\n",
       "      <th>0</th>\n",
       "      <td>CC(C)(C)C1=CC=C2OC=C(CC(=O)NC3=CC=CC=C3F)C2=C1</td>\n",
       "      <td>0.03</td>\n",
       "    </tr>\n",
       "    <tr>\n",
       "      <th>1</th>\n",
       "      <td>CC1CC(C)CC(NC2=CN=CC(C3=NN=CN3C)=C2)C1</td>\n",
       "      <td>0.16</td>\n",
       "    </tr>\n",
       "    <tr>\n",
       "      <th>2</th>\n",
       "      <td>N#CC1=CC=C(C2=CC=C(OC(C(=O)N3CCCC3)C3=CC=CC=C3...</td>\n",
       "      <td>0.03</td>\n",
       "    </tr>\n",
       "    <tr>\n",
       "      <th>3</th>\n",
       "      <td>CC[NH+](CC)C(C)(CC)C(O)C1=CSC=C1Br</td>\n",
       "      <td>0.02</td>\n",
       "    </tr>\n",
       "    <tr>\n",
       "      <th>4</th>\n",
       "      <td>O=C(NC1=NNC=N1)C1=CC=CN=C1NC1=CC=CC(F)=C1</td>\n",
       "      <td>0.27</td>\n",
       "    </tr>\n",
       "  </tbody>\n",
       "</table>\n",
       "</div>"
      ],
      "text/plain": [
       "                                              smiles  gsk3\n",
       "0     CC(C)(C)C1=CC=C2OC=C(CC(=O)NC3=CC=CC=C3F)C2=C1  0.03\n",
       "1             CC1CC(C)CC(NC2=CN=CC(C3=NN=CN3C)=C2)C1  0.16\n",
       "2  N#CC1=CC=C(C2=CC=C(OC(C(=O)N3CCCC3)C3=CC=CC=C3...  0.03\n",
       "3                 CC[NH+](CC)C(C)(CC)C(O)C1=CSC=C1Br  0.02\n",
       "4          O=C(NC1=NNC=N1)C1=CC=CN=C1NC1=CC=CC(F)=C1  0.27"
      ]
     },
     "execution_count": 10,
     "metadata": {},
     "output_type": "execute_result"
    }
   ],
   "source": [
    "records = []\n",
    "for i in tqdm.trange(len(df_zinc_raw)):\n",
    "    smi = df_zinc_raw.loc[i,\"smiles\"]\n",
    "    smi_kek = get_kekuleSmiles(smi)\n",
    "    prop = SCORING_FT(smi_kek)\n",
    "    if prop > 0:\n",
    "        records.append((smi_kek, prop))\n",
    "        \n",
    "df_zinc = pd.DataFrame.from_records(records).rename(columns={0:\"smiles\",1:PROPERTY_NAME})\n",
    "df_zinc.head()"
   ]
  },
  {
   "cell_type": "code",
   "execution_count": 17,
   "id": "cf2ad0b8",
   "metadata": {},
   "outputs": [],
   "source": [
    "df_zinc.to_csv(os.path.join(PROPERTY_NAME, \"raw_data.csv\"), index=False)"
   ]
  },
  {
   "cell_type": "markdown",
   "id": "b608b3f4",
   "metadata": {},
   "source": [
    "# Source and Target"
   ]
  },
  {
   "cell_type": "code",
   "execution_count": 18,
   "id": "795a88e6",
   "metadata": {},
   "outputs": [
    {
     "data": {
      "text/html": [
       "<div>\n",
       "<style scoped>\n",
       "    .dataframe tbody tr th:only-of-type {\n",
       "        vertical-align: middle;\n",
       "    }\n",
       "\n",
       "    .dataframe tbody tr th {\n",
       "        vertical-align: top;\n",
       "    }\n",
       "\n",
       "    .dataframe thead th {\n",
       "        text-align: right;\n",
       "    }\n",
       "</style>\n",
       "<table border=\"1\" class=\"dataframe\">\n",
       "  <thead>\n",
       "    <tr style=\"text-align: right;\">\n",
       "      <th></th>\n",
       "      <th>smiles</th>\n",
       "      <th>gsk3</th>\n",
       "    </tr>\n",
       "  </thead>\n",
       "  <tbody>\n",
       "    <tr>\n",
       "      <th>0</th>\n",
       "      <td>CC(C)(C)C1=CC=C2OC=C(CC(=O)NC3=CC=CC=C3F)C2=C1</td>\n",
       "      <td>0.03</td>\n",
       "    </tr>\n",
       "    <tr>\n",
       "      <th>1</th>\n",
       "      <td>N#CC1=CC=C(C2=CC=C(OC(C(=O)N3CCCC3)C3=CC=CC=C3...</td>\n",
       "      <td>0.03</td>\n",
       "    </tr>\n",
       "    <tr>\n",
       "      <th>2</th>\n",
       "      <td>CC[NH+](CC)C(C)(CC)C(O)C1=CSC=C1Br</td>\n",
       "      <td>0.02</td>\n",
       "    </tr>\n",
       "    <tr>\n",
       "      <th>3</th>\n",
       "      <td>CC1=CC=C2N=C(SC(C)C(=O)NC3CCC(C)CC3)N(C)C(=O)C...</td>\n",
       "      <td>0.01</td>\n",
       "    </tr>\n",
       "    <tr>\n",
       "      <th>4</th>\n",
       "      <td>O=C(N1CCC2=C(F)C=CC(F)=C2C1)C1(O)CC2=CC=CC=C2C1</td>\n",
       "      <td>0.01</td>\n",
       "    </tr>\n",
       "    <tr>\n",
       "      <th>...</th>\n",
       "      <td>...</td>\n",
       "      <td>...</td>\n",
       "    </tr>\n",
       "    <tr>\n",
       "      <th>138475</th>\n",
       "      <td>CCC(NC(=O)C(=O)NC1=CC=C(C(N)=O)C(C)=C1)C1=C(C)...</td>\n",
       "      <td>0.03</td>\n",
       "    </tr>\n",
       "    <tr>\n",
       "      <th>138476</th>\n",
       "      <td>COC1=CC(C[NH2+]CC(C)CC(C)O)=CC(Br)=C1O</td>\n",
       "      <td>0.05</td>\n",
       "    </tr>\n",
       "    <tr>\n",
       "      <th>138477</th>\n",
       "      <td>CC1(C)CCC(CNC(=O)CN2N=CC3=CC=CC=C3C2=O)C2=CC=C...</td>\n",
       "      <td>0.04</td>\n",
       "    </tr>\n",
       "    <tr>\n",
       "      <th>138478</th>\n",
       "      <td>CC1=CC(C(=O)NC2=CC=C(OCC(N)=O)C=C2)=C(C)N1C1CC1</td>\n",
       "      <td>0.01</td>\n",
       "    </tr>\n",
       "    <tr>\n",
       "      <th>138479</th>\n",
       "      <td>O=C(CC(C1=CC=CC=C1)C1=CC=CC=C1)N1CCN(S(=O)(=O)...</td>\n",
       "      <td>0.01</td>\n",
       "    </tr>\n",
       "  </tbody>\n",
       "</table>\n",
       "<p>138480 rows × 2 columns</p>\n",
       "</div>"
      ],
      "text/plain": [
       "                                                   smiles  gsk3\n",
       "0          CC(C)(C)C1=CC=C2OC=C(CC(=O)NC3=CC=CC=C3F)C2=C1  0.03\n",
       "1       N#CC1=CC=C(C2=CC=C(OC(C(=O)N3CCCC3)C3=CC=CC=C3...  0.03\n",
       "2                      CC[NH+](CC)C(C)(CC)C(O)C1=CSC=C1Br  0.02\n",
       "3       CC1=CC=C2N=C(SC(C)C(=O)NC3CCC(C)CC3)N(C)C(=O)C...  0.01\n",
       "4         O=C(N1CCC2=C(F)C=CC(F)=C2C1)C1(O)CC2=CC=CC=C2C1  0.01\n",
       "...                                                   ...   ...\n",
       "138475  CCC(NC(=O)C(=O)NC1=CC=C(C(N)=O)C(C)=C1)C1=C(C)...  0.03\n",
       "138476             COC1=CC(C[NH2+]CC(C)CC(C)O)=CC(Br)=C1O  0.05\n",
       "138477  CC1(C)CCC(CNC(=O)CN2N=CC3=CC=CC=C3C2=O)C2=CC=C...  0.04\n",
       "138478    CC1=CC(C(=O)NC2=CC=C(OCC(N)=O)C=C2)=C(C)N1C1CC1  0.01\n",
       "138479  O=C(CC(C1=CC=CC=C1)C1=CC=CC=C1)N1CCN(S(=O)(=O)...  0.01\n",
       "\n",
       "[138480 rows x 2 columns]"
      ]
     },
     "execution_count": 18,
     "metadata": {},
     "output_type": "execute_result"
    }
   ],
   "source": [
    "idx_src = (0.05 >= df_zinc.loc[:,PROPERTY_NAME]) & (df_zinc.loc[:,PROPERTY_NAME] > 0)\n",
    "df_src = df_zinc[idx_src].drop_duplicates(ignore_index=True)\n",
    "df_src"
   ]
  },
  {
   "cell_type": "code",
   "execution_count": 19,
   "id": "6740b42f",
   "metadata": {},
   "outputs": [
    {
     "data": {
      "text/html": [
       "<div>\n",
       "<style scoped>\n",
       "    .dataframe tbody tr th:only-of-type {\n",
       "        vertical-align: middle;\n",
       "    }\n",
       "\n",
       "    .dataframe tbody tr th {\n",
       "        vertical-align: top;\n",
       "    }\n",
       "\n",
       "    .dataframe thead th {\n",
       "        text-align: right;\n",
       "    }\n",
       "</style>\n",
       "<table border=\"1\" class=\"dataframe\">\n",
       "  <thead>\n",
       "    <tr style=\"text-align: right;\">\n",
       "      <th></th>\n",
       "      <th>smiles</th>\n",
       "      <th>gsk3</th>\n",
       "    </tr>\n",
       "  </thead>\n",
       "  <tbody>\n",
       "    <tr>\n",
       "      <th>0</th>\n",
       "      <td>BrC1=CC(CSC2=NN=C(C3=CC=CC=C3)O2)=CS1</td>\n",
       "      <td>0.570</td>\n",
       "    </tr>\n",
       "    <tr>\n",
       "      <th>1</th>\n",
       "      <td>O=S(=O)([N-]C1=CC=CC(C2=CNN=C2)=C1)C1=CNC2=NC=...</td>\n",
       "      <td>0.570</td>\n",
       "    </tr>\n",
       "    <tr>\n",
       "      <th>2</th>\n",
       "      <td>COC1=CC=CC(C2=C(C(=O)NCC3=CC=CC(Br)=C3)N=CO2)=C1</td>\n",
       "      <td>0.550</td>\n",
       "    </tr>\n",
       "    <tr>\n",
       "      <th>3</th>\n",
       "      <td>CC1=NN(C2=CC=C(F)C=C2)C=C1C1=CC=NC(NCC2=CC=CC=...</td>\n",
       "      <td>0.590</td>\n",
       "    </tr>\n",
       "    <tr>\n",
       "      <th>4</th>\n",
       "      <td>CC(C)CNC1=NC(N)=C([N+](=O)[O-])C(NCC2=CC=CO2)=N1</td>\n",
       "      <td>0.690</td>\n",
       "    </tr>\n",
       "    <tr>\n",
       "      <th>...</th>\n",
       "      <td>...</td>\n",
       "      <td>...</td>\n",
       "    </tr>\n",
       "    <tr>\n",
       "      <th>119</th>\n",
       "      <td>CC1=CC=CC(NC2=NC(NCC[NH+](C)C)=NC(N)=C2[N+](=O...</td>\n",
       "      <td>0.840</td>\n",
       "    </tr>\n",
       "    <tr>\n",
       "      <th>120</th>\n",
       "      <td>C1=CC=C(C2=C(C3CCCN(C4=NC=NC5=C4C=CN5)C3)NN=C2...</td>\n",
       "      <td>0.500</td>\n",
       "    </tr>\n",
       "    <tr>\n",
       "      <th>121</th>\n",
       "      <td>CC1=CC=C(C2=C(C3=CC=CC=N3)NC(CNC3=NC(N)=C(C)C=...</td>\n",
       "      <td>0.500</td>\n",
       "    </tr>\n",
       "    <tr>\n",
       "      <th>122</th>\n",
       "      <td>O=C1NCCCC2=C1N=C(C1=CC=NC3=CC=CC=C13)N2</td>\n",
       "      <td>0.510</td>\n",
       "    </tr>\n",
       "    <tr>\n",
       "      <th>123</th>\n",
       "      <td>CCC1=CC=C(C=C2C(=O)NC3=CC=C(Cl)C=C23)C=C1</td>\n",
       "      <td>0.705</td>\n",
       "    </tr>\n",
       "  </tbody>\n",
       "</table>\n",
       "<p>124 rows × 2 columns</p>\n",
       "</div>"
      ],
      "text/plain": [
       "                                                smiles   gsk3\n",
       "0                BrC1=CC(CSC2=NN=C(C3=CC=CC=C3)O2)=CS1  0.570\n",
       "1    O=S(=O)([N-]C1=CC=CC(C2=CNN=C2)=C1)C1=CNC2=NC=...  0.570\n",
       "2     COC1=CC=CC(C2=C(C(=O)NCC3=CC=CC(Br)=C3)N=CO2)=C1  0.550\n",
       "3    CC1=NN(C2=CC=C(F)C=C2)C=C1C1=CC=NC(NCC2=CC=CC=...  0.590\n",
       "4     CC(C)CNC1=NC(N)=C([N+](=O)[O-])C(NCC2=CC=CO2)=N1  0.690\n",
       "..                                                 ...    ...\n",
       "119  CC1=CC=CC(NC2=NC(NCC[NH+](C)C)=NC(N)=C2[N+](=O...  0.840\n",
       "120  C1=CC=C(C2=C(C3CCCN(C4=NC=NC5=C4C=CN5)C3)NN=C2...  0.500\n",
       "121  CC1=CC=C(C2=C(C3=CC=CC=N3)NC(CNC3=NC(N)=C(C)C=...  0.500\n",
       "122            O=C1NCCCC2=C1N=C(C1=CC=NC3=CC=CC=C13)N2  0.510\n",
       "123          CCC1=CC=C(C=C2C(=O)NC3=CC=C(Cl)C=C23)C=C1  0.705\n",
       "\n",
       "[124 rows x 2 columns]"
      ]
     },
     "execution_count": 19,
     "metadata": {},
     "output_type": "execute_result"
    }
   ],
   "source": [
    "idx_tar = (1. >= df_zinc.loc[:,PROPERTY_NAME]) & (df_zinc.loc[:,PROPERTY_NAME] >= 0.5)\n",
    "df_tar = df_zinc[idx_tar].drop_duplicates(ignore_index=True)\n",
    "df_tar"
   ]
  },
  {
   "cell_type": "markdown",
   "id": "e59b72ca",
   "metadata": {},
   "source": [
    "# Test and Validation"
   ]
  },
  {
   "cell_type": "code",
   "execution_count": 24,
   "id": "30ca7459",
   "metadata": {},
   "outputs": [],
   "source": [
    "df_test = df_src.iloc[-2000:-1000,:]\n",
    "df_valid = df_src.iloc[-1000:,:]"
   ]
  },
  {
   "cell_type": "code",
   "execution_count": 27,
   "id": "4c6efd12",
   "metadata": {},
   "outputs": [],
   "source": [
    "df_test.loc[:,\"smiles\"].to_csv(os.path.join(PROPERTY_NAME, \"rdkit_test.txt\"), index=False, header=None)\n",
    "df_valid.loc[:,\"smiles\"].to_csv(os.path.join(PROPERTY_NAME, \"rdkit_valid.txt\"), index=False, header=None)"
   ]
  },
  {
   "cell_type": "markdown",
   "id": "8fc16369",
   "metadata": {},
   "source": [
    "# Paired"
   ]
  },
  {
   "cell_type": "code",
   "execution_count": null,
   "id": "0fd5a3e2",
   "metadata": {
    "scrolled": true
   },
   "outputs": [
    {
     "name": "stderr",
     "output_type": "stream",
     "text": [
      "100%|██████████| 136480/136480 [00:23<00:00, 5768.14it/s]\n"
     ]
    },
    {
     "name": "stdout",
     "output_type": "stream",
     "text": [
      "3\n"
     ]
    },
    {
     "name": "stderr",
     "output_type": "stream",
     "text": [
      "100%|██████████| 136480/136480 [00:26<00:00, 5219.14it/s]\n"
     ]
    },
    {
     "name": "stdout",
     "output_type": "stream",
     "text": [
      "0\n"
     ]
    },
    {
     "name": "stderr",
     "output_type": "stream",
     "text": [
      "100%|██████████| 136480/136480 [00:24<00:00, 5465.40it/s]\n"
     ]
    },
    {
     "name": "stdout",
     "output_type": "stream",
     "text": [
      "14\n"
     ]
    },
    {
     "name": "stderr",
     "output_type": "stream",
     "text": [
      "100%|██████████| 136480/136480 [00:28<00:00, 4857.46it/s]\n"
     ]
    },
    {
     "name": "stdout",
     "output_type": "stream",
     "text": [
      "2\n"
     ]
    },
    {
     "name": "stderr",
     "output_type": "stream",
     "text": [
      "100%|██████████| 136480/136480 [00:23<00:00, 5711.84it/s]\n"
     ]
    },
    {
     "name": "stdout",
     "output_type": "stream",
     "text": [
      "2\n"
     ]
    },
    {
     "name": "stderr",
     "output_type": "stream",
     "text": [
      "100%|██████████| 136480/136480 [00:24<00:00, 5472.37it/s]\n"
     ]
    },
    {
     "name": "stdout",
     "output_type": "stream",
     "text": [
      "9\n"
     ]
    },
    {
     "name": "stderr",
     "output_type": "stream",
     "text": [
      "100%|██████████| 136480/136480 [00:23<00:00, 5838.44it/s]\n"
     ]
    },
    {
     "name": "stdout",
     "output_type": "stream",
     "text": [
      "0\n"
     ]
    },
    {
     "name": "stderr",
     "output_type": "stream",
     "text": [
      "100%|██████████| 136480/136480 [00:28<00:00, 4833.31it/s]\n"
     ]
    },
    {
     "name": "stdout",
     "output_type": "stream",
     "text": [
      "3\n"
     ]
    },
    {
     "name": "stderr",
     "output_type": "stream",
     "text": [
      "100%|██████████| 136480/136480 [00:28<00:00, 4802.03it/s]\n"
     ]
    },
    {
     "name": "stdout",
     "output_type": "stream",
     "text": [
      "0\n"
     ]
    },
    {
     "name": "stderr",
     "output_type": "stream",
     "text": [
      "100%|██████████| 136480/136480 [00:25<00:00, 5350.45it/s]\n"
     ]
    },
    {
     "name": "stdout",
     "output_type": "stream",
     "text": [
      "4\n"
     ]
    },
    {
     "name": "stderr",
     "output_type": "stream",
     "text": [
      "100%|██████████| 136480/136480 [00:24<00:00, 5576.64it/s]\n"
     ]
    },
    {
     "name": "stdout",
     "output_type": "stream",
     "text": [
      "16\n"
     ]
    },
    {
     "name": "stderr",
     "output_type": "stream",
     "text": [
      "100%|██████████| 136480/136480 [00:26<00:00, 5139.94it/s]\n"
     ]
    },
    {
     "name": "stdout",
     "output_type": "stream",
     "text": [
      "3\n"
     ]
    },
    {
     "name": "stderr",
     "output_type": "stream",
     "text": [
      "100%|██████████| 136480/136480 [00:23<00:00, 5694.03it/s]\n"
     ]
    },
    {
     "name": "stdout",
     "output_type": "stream",
     "text": [
      "3\n"
     ]
    },
    {
     "name": "stderr",
     "output_type": "stream",
     "text": [
      "100%|██████████| 136480/136480 [00:25<00:00, 5397.29it/s]\n"
     ]
    },
    {
     "name": "stdout",
     "output_type": "stream",
     "text": [
      "0\n"
     ]
    },
    {
     "name": "stderr",
     "output_type": "stream",
     "text": [
      "100%|██████████| 136480/136480 [00:27<00:00, 5042.68it/s]\n"
     ]
    },
    {
     "name": "stdout",
     "output_type": "stream",
     "text": [
      "0\n"
     ]
    },
    {
     "name": "stderr",
     "output_type": "stream",
     "text": [
      "100%|██████████| 136480/136480 [00:26<00:00, 5150.23it/s]\n"
     ]
    },
    {
     "name": "stdout",
     "output_type": "stream",
     "text": [
      "0\n"
     ]
    },
    {
     "name": "stderr",
     "output_type": "stream",
     "text": [
      "100%|██████████| 136480/136480 [00:23<00:00, 5704.23it/s]\n"
     ]
    },
    {
     "name": "stdout",
     "output_type": "stream",
     "text": [
      "0\n"
     ]
    },
    {
     "name": "stderr",
     "output_type": "stream",
     "text": [
      "100%|██████████| 136480/136480 [00:24<00:00, 5498.10it/s]\n"
     ]
    },
    {
     "name": "stdout",
     "output_type": "stream",
     "text": [
      "1\n"
     ]
    },
    {
     "name": "stderr",
     "output_type": "stream",
     "text": [
      "100%|██████████| 136480/136480 [00:23<00:00, 5773.85it/s]\n"
     ]
    },
    {
     "name": "stdout",
     "output_type": "stream",
     "text": [
      "0\n"
     ]
    },
    {
     "name": "stderr",
     "output_type": "stream",
     "text": [
      "100%|██████████| 136480/136480 [00:27<00:00, 5001.48it/s]\n"
     ]
    },
    {
     "name": "stdout",
     "output_type": "stream",
     "text": [
      "4\n"
     ]
    },
    {
     "name": "stderr",
     "output_type": "stream",
     "text": [
      "100%|██████████| 136480/136480 [00:25<00:00, 5418.10it/s]\n"
     ]
    },
    {
     "name": "stdout",
     "output_type": "stream",
     "text": [
      "11\n"
     ]
    },
    {
     "name": "stderr",
     "output_type": "stream",
     "text": [
      "100%|██████████| 136480/136480 [00:29<00:00, 4664.63it/s]\n"
     ]
    },
    {
     "name": "stdout",
     "output_type": "stream",
     "text": [
      "0\n"
     ]
    },
    {
     "name": "stderr",
     "output_type": "stream",
     "text": [
      "100%|██████████| 136480/136480 [00:24<00:00, 5650.03it/s]\n"
     ]
    },
    {
     "name": "stdout",
     "output_type": "stream",
     "text": [
      "0\n"
     ]
    },
    {
     "name": "stderr",
     "output_type": "stream",
     "text": [
      "100%|██████████| 136480/136480 [00:25<00:00, 5324.46it/s]\n"
     ]
    },
    {
     "name": "stdout",
     "output_type": "stream",
     "text": [
      "0\n"
     ]
    },
    {
     "name": "stderr",
     "output_type": "stream",
     "text": [
      "100%|██████████| 136480/136480 [00:27<00:00, 4983.85it/s]\n"
     ]
    },
    {
     "name": "stdout",
     "output_type": "stream",
     "text": [
      "0\n"
     ]
    },
    {
     "name": "stderr",
     "output_type": "stream",
     "text": [
      " 44%|████▍     | 59788/136480 [00:12<00:15, 5106.43it/s]"
     ]
    }
   ],
   "source": [
    "records = []\n",
    "for smi_tar, prop_tar in df_tar.values:\n",
    "    _records = []\n",
    "    pbar = tqdm.tqdm(df_src.iloc[:-2000,:].sample(frac=1).values)\n",
    "    for smi_src, prop_src in pbar:\n",
    "        sim = similarity(smi_src, smi_tar)\n",
    "        if sim >= 0.4:\n",
    "            _records.append((smi_src, smi_tar, prop_src, prop_tar, sim))\n",
    "    print(len(_records))\n",
    "    records = records + _records\n",
    "\n",
    "df_train_pairs = pd.DataFrame.from_records(records).rename(columns={0:\"src\",1:\"tar\",2:\"prop_src\",3:\"prop_tar\",4:\"similarity\"})\n",
    "df_train_pairs"
   ]
  },
  {
   "cell_type": "code",
   "execution_count": 36,
   "id": "640d1a8f",
   "metadata": {},
   "outputs": [
    {
     "data": {
      "text/html": [
       "<div>\n",
       "<style scoped>\n",
       "    .dataframe tbody tr th:only-of-type {\n",
       "        vertical-align: middle;\n",
       "    }\n",
       "\n",
       "    .dataframe tbody tr th {\n",
       "        vertical-align: top;\n",
       "    }\n",
       "\n",
       "    .dataframe thead th {\n",
       "        text-align: right;\n",
       "    }\n",
       "</style>\n",
       "<table border=\"1\" class=\"dataframe\">\n",
       "  <thead>\n",
       "    <tr style=\"text-align: right;\">\n",
       "      <th></th>\n",
       "      <th>src</th>\n",
       "      <th>tar</th>\n",
       "      <th>prop_src</th>\n",
       "      <th>prop_tar</th>\n",
       "      <th>similarity</th>\n",
       "    </tr>\n",
       "  </thead>\n",
       "  <tbody>\n",
       "    <tr>\n",
       "      <th>0</th>\n",
       "      <td>O=C(CSC1=NN=C(C2=CC=C(Br)C=C2)O1)C1=CC=CS1</td>\n",
       "      <td>BrC1=CC(CSC2=NN=C(C3=CC=CC=C3)O2)=CS1</td>\n",
       "      <td>0.04</td>\n",
       "      <td>0.57</td>\n",
       "      <td>0.421053</td>\n",
       "    </tr>\n",
       "    <tr>\n",
       "      <th>1</th>\n",
       "      <td>O=C(CSC1=NN=C(C2=CC=CC(F)=C2)O1)NC1=NC(C2=CC=C...</td>\n",
       "      <td>BrC1=CC(CSC2=NN=C(C3=CC=CC=C3)O2)=CS1</td>\n",
       "      <td>0.02</td>\n",
       "      <td>0.57</td>\n",
       "      <td>0.415385</td>\n",
       "    </tr>\n",
       "    <tr>\n",
       "      <th>2</th>\n",
       "      <td>O=C(CSC1=NN=C(C2=CC=CC=C2)O1)NC1=CC=CC(O)=C1</td>\n",
       "      <td>BrC1=CC(CSC2=NN=C(C3=CC=CC=C3)O2)=CS1</td>\n",
       "      <td>0.01</td>\n",
       "      <td>0.57</td>\n",
       "      <td>0.413793</td>\n",
       "    </tr>\n",
       "    <tr>\n",
       "      <th>3</th>\n",
       "      <td>COC1=CC=CC(CNC(=O)C2=C(C)N(CC[NH+](C)C)C(C)=C2...</td>\n",
       "      <td>COC1=CC=CC(C2=C(C(=O)NCC3=CC=CC(Br)=C3)N=CO2)=C1</td>\n",
       "      <td>0.01</td>\n",
       "      <td>0.55</td>\n",
       "      <td>0.400000</td>\n",
       "    </tr>\n",
       "    <tr>\n",
       "      <th>4</th>\n",
       "      <td>COC1=CC=CC(CNC(=O)C2=C(C)N=CS2)=C1</td>\n",
       "      <td>COC1=CC=CC(C2=C(C(=O)NCC3=CC=CC(Br)=C3)N=CO2)=C1</td>\n",
       "      <td>0.02</td>\n",
       "      <td>0.55</td>\n",
       "      <td>0.467742</td>\n",
       "    </tr>\n",
       "    <tr>\n",
       "      <th>...</th>\n",
       "      <td>...</td>\n",
       "      <td>...</td>\n",
       "      <td>...</td>\n",
       "      <td>...</td>\n",
       "      <td>...</td>\n",
       "    </tr>\n",
       "    <tr>\n",
       "      <th>368</th>\n",
       "      <td>CC1(CNC(=O)NC2CCOC2C2=CC=C(Cl)C(F)=C2)COC1</td>\n",
       "      <td>FC1=CC(C2OCCC2NC2=NC=NC3=C2N=CN3)=CC=C1Cl</td>\n",
       "      <td>0.01</td>\n",
       "      <td>0.50</td>\n",
       "      <td>0.422535</td>\n",
       "    </tr>\n",
       "    <tr>\n",
       "      <th>369</th>\n",
       "      <td>CC(=O)C1=CC=CC=C1C(=O)NC1CCOC1C1=CC=C(Cl)C(F)=C1</td>\n",
       "      <td>FC1=CC(C2OCCC2NC2=NC=NC3=C2N=CN3)=CC=C1Cl</td>\n",
       "      <td>0.02</td>\n",
       "      <td>0.50</td>\n",
       "      <td>0.447761</td>\n",
       "    </tr>\n",
       "    <tr>\n",
       "      <th>370</th>\n",
       "      <td>CCN(CC)S(=O)(=O)NC1CCOC1C1=CC=C(Cl)C(F)=C1</td>\n",
       "      <td>FC1=CC(C2OCCC2NC2=NC=NC3=C2N=CN3)=CC=C1Cl</td>\n",
       "      <td>0.03</td>\n",
       "      <td>0.50</td>\n",
       "      <td>0.454545</td>\n",
       "    </tr>\n",
       "    <tr>\n",
       "      <th>371</th>\n",
       "      <td>CC(C)N(CC(C)(C)O)C(=O)NC1CCOC1C1=CC=C(Cl)C(F)=C1</td>\n",
       "      <td>FC1=CC(C2OCCC2NC2=NC=NC3=C2N=CN3)=CC=C1Cl</td>\n",
       "      <td>0.04</td>\n",
       "      <td>0.50</td>\n",
       "      <td>0.405405</td>\n",
       "    </tr>\n",
       "    <tr>\n",
       "      <th>372</th>\n",
       "      <td>O=C(NC1CCOC1C1=CC=C(Cl)C(F)=C1)C1=NOC=C1</td>\n",
       "      <td>FC1=CC(C2OCCC2NC2=NC=NC3=C2N=CN3)=CC=C1Cl</td>\n",
       "      <td>0.04</td>\n",
       "      <td>0.50</td>\n",
       "      <td>0.462687</td>\n",
       "    </tr>\n",
       "  </tbody>\n",
       "</table>\n",
       "<p>373 rows × 5 columns</p>\n",
       "</div>"
      ],
      "text/plain": [
       "                                                   src  \\\n",
       "0           O=C(CSC1=NN=C(C2=CC=C(Br)C=C2)O1)C1=CC=CS1   \n",
       "1    O=C(CSC1=NN=C(C2=CC=CC(F)=C2)O1)NC1=NC(C2=CC=C...   \n",
       "2         O=C(CSC1=NN=C(C2=CC=CC=C2)O1)NC1=CC=CC(O)=C1   \n",
       "3    COC1=CC=CC(CNC(=O)C2=C(C)N(CC[NH+](C)C)C(C)=C2...   \n",
       "4                   COC1=CC=CC(CNC(=O)C2=C(C)N=CS2)=C1   \n",
       "..                                                 ...   \n",
       "368         CC1(CNC(=O)NC2CCOC2C2=CC=C(Cl)C(F)=C2)COC1   \n",
       "369   CC(=O)C1=CC=CC=C1C(=O)NC1CCOC1C1=CC=C(Cl)C(F)=C1   \n",
       "370         CCN(CC)S(=O)(=O)NC1CCOC1C1=CC=C(Cl)C(F)=C1   \n",
       "371   CC(C)N(CC(C)(C)O)C(=O)NC1CCOC1C1=CC=C(Cl)C(F)=C1   \n",
       "372           O=C(NC1CCOC1C1=CC=C(Cl)C(F)=C1)C1=NOC=C1   \n",
       "\n",
       "                                                  tar  prop_src  prop_tar  \\\n",
       "0               BrC1=CC(CSC2=NN=C(C3=CC=CC=C3)O2)=CS1      0.04      0.57   \n",
       "1               BrC1=CC(CSC2=NN=C(C3=CC=CC=C3)O2)=CS1      0.02      0.57   \n",
       "2               BrC1=CC(CSC2=NN=C(C3=CC=CC=C3)O2)=CS1      0.01      0.57   \n",
       "3    COC1=CC=CC(C2=C(C(=O)NCC3=CC=CC(Br)=C3)N=CO2)=C1      0.01      0.55   \n",
       "4    COC1=CC=CC(C2=C(C(=O)NCC3=CC=CC(Br)=C3)N=CO2)=C1      0.02      0.55   \n",
       "..                                                ...       ...       ...   \n",
       "368         FC1=CC(C2OCCC2NC2=NC=NC3=C2N=CN3)=CC=C1Cl      0.01      0.50   \n",
       "369         FC1=CC(C2OCCC2NC2=NC=NC3=C2N=CN3)=CC=C1Cl      0.02      0.50   \n",
       "370         FC1=CC(C2OCCC2NC2=NC=NC3=C2N=CN3)=CC=C1Cl      0.03      0.50   \n",
       "371         FC1=CC(C2OCCC2NC2=NC=NC3=C2N=CN3)=CC=C1Cl      0.04      0.50   \n",
       "372         FC1=CC(C2OCCC2NC2=NC=NC3=C2N=CN3)=CC=C1Cl      0.04      0.50   \n",
       "\n",
       "     similarity  \n",
       "0      0.421053  \n",
       "1      0.415385  \n",
       "2      0.413793  \n",
       "3      0.400000  \n",
       "4      0.467742  \n",
       "..          ...  \n",
       "368    0.422535  \n",
       "369    0.447761  \n",
       "370    0.454545  \n",
       "371    0.405405  \n",
       "372    0.462687  \n",
       "\n",
       "[373 rows x 5 columns]"
      ]
     },
     "execution_count": 36,
     "metadata": {},
     "output_type": "execute_result"
    }
   ],
   "source": [
    "df_train_pairs = pd.DataFrame.from_records(records).rename(columns={0:\"src\",1:\"tar\",2:\"prop_src\",3:\"prop_tar\",4:\"similarity\"})\n",
    "df_train_pairs"
   ]
  },
  {
   "cell_type": "code",
   "execution_count": 37,
   "id": "f8338335",
   "metadata": {},
   "outputs": [],
   "source": [
    "df_train_pairs.iloc[:,:2].to_csv(os.path.join(PROPERTY_NAME, \"rdkit_train_pairs.txt\"), sep=\" \", header=None)"
   ]
  },
  {
   "cell_type": "code",
   "execution_count": 38,
   "id": "ce36b784",
   "metadata": {},
   "outputs": [],
   "source": [
    "df_train_src = df_train_pairs.iloc[:,0]\n",
    "df_train_src.to_csv(os.path.join(PROPERTY_NAME, \"rdkit_train_src.txt\"), sep=\" \", header=None)"
   ]
  },
  {
   "cell_type": "code",
   "execution_count": 39,
   "id": "c78959e7",
   "metadata": {},
   "outputs": [],
   "source": [
    "df_train_tar = df_train_pairs.iloc[:,1]\n",
    "df_train_tar.to_csv(os.path.join(PROPERTY_NAME, \"rdkit_train_tar.txt\"), sep=\" \", header=None)"
   ]
  },
  {
   "cell_type": "code",
   "execution_count": 40,
   "id": "03947965",
   "metadata": {},
   "outputs": [],
   "source": [
    "list_smi_src = df_train_src.values.tolist()\n",
    "list_smi_tar = df_train_tar.values.tolist()"
   ]
  },
  {
   "cell_type": "code",
   "execution_count": 41,
   "id": "437014a0",
   "metadata": {},
   "outputs": [
    {
     "name": "stdout",
     "output_type": "stream",
     "text": [
      "431\n"
     ]
    }
   ],
   "source": [
    "list_chembl_unique = list(set(list_smi_src + list_smi_tar))\n",
    "print(len(list_chembl_unique))"
   ]
  },
  {
   "cell_type": "code",
   "execution_count": 42,
   "id": "777a2b38",
   "metadata": {},
   "outputs": [
    {
     "name": "stderr",
     "output_type": "stream",
     "text": [
      "100%|██████████| 373/373 [00:00<00:00, 398.43it/s]\n"
     ]
    }
   ],
   "source": [
    "list_triplet = []\n",
    "K = 20\n",
    "\n",
    "for i, (smi_src, smi_tar) in tqdm.tqdm(enumerate(zip(list_smi_src, list_smi_tar)), total=len(list_smi_src)):\n",
    "    batch_list_triplet = []\n",
    "    ## mol\n",
    "    mol_src = Chem.MolFromSmiles(smi_src)\n",
    "    mol_tar = Chem.MolFromSmiles(smi_tar)\n",
    "    ## fingerprint\n",
    "    fp_src = AllChem.GetMorganFingerprintAsBitVect(mol_src, radius=2, nBits=2048, useChirality=False)\n",
    "    fp_tar = AllChem.GetMorganFingerprintAsBitVect(mol_tar, radius=2, nBits=2048, useChirality=False)\n",
    "    \n",
    "    ## Shuffle\n",
    "    random.shuffle(list_chembl_unique)\n",
    "    \n",
    "    for smi_chembl in list_chembl_unique:\n",
    "        mol_chembl = Chem.MolFromSmiles(smi_chembl)\n",
    "        fp_chembl = AllChem.GetMorganFingerprintAsBitVect(mol_chembl, radius=2, nBits=2048, useChirality=False)\n",
    "        ## Tanimoto\n",
    "        sim_src = DataStructs.TanimotoSimilarity(fp_src, fp_chembl)\n",
    "        sim_tar = DataStructs.TanimotoSimilarity(fp_tar, fp_chembl)\n",
    "        ## check\n",
    "        if sim_src < 0.3 and sim_tar < 0.3:\n",
    "            batch_list_triplet.append((smi_src, smi_tar, smi_chembl))\n",
    "        ## stop\n",
    "        if len(batch_list_triplet) == K:\n",
    "            break\n",
    "            \n",
    "    if len(batch_list_triplet) < K:\n",
    "        print(f\"[WARNING] {i} has insufficient data ({len(batch_list_triplet)} < {K})\")\n",
    "        \n",
    "    list_triplet.extend(batch_list_triplet)"
   ]
  },
  {
   "cell_type": "code",
   "execution_count": 43,
   "id": "37535590",
   "metadata": {},
   "outputs": [],
   "source": [
    "df_triplet = pd.DataFrame(list_triplet)\n",
    "\n",
    "df_triplet.to_csv(os.path.join(PROPERTY_NAME, \"rdkit_train_triplet.txt\"), sep=\" \", header=None, index=False)"
   ]
  },
  {
   "cell_type": "code",
   "execution_count": null,
   "id": "eb455b05",
   "metadata": {},
   "outputs": [],
   "source": []
  }
 ],
 "metadata": {
  "kernelspec": {
   "display_name": "Python 3",
   "language": "python",
   "name": "python3"
  },
  "language_info": {
   "codemirror_mode": {
    "name": "ipython",
    "version": 3
   },
   "file_extension": ".py",
   "mimetype": "text/x-python",
   "name": "python",
   "nbconvert_exporter": "python",
   "pygments_lexer": "ipython3",
   "version": "3.6.15"
  }
 },
 "nbformat": 4,
 "nbformat_minor": 5
}
