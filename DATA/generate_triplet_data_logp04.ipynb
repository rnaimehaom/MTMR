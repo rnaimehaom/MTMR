{
 "cells": [
  {
   "cell_type": "code",
   "execution_count": 1,
   "id": "438bb684",
   "metadata": {},
   "outputs": [],
   "source": [
    "import os\n",
    "import sys\n",
    "import pandas as pd\n",
    "import numpy as np\n",
    "import random\n",
    "from tqdm import tqdm"
   ]
  },
  {
   "cell_type": "code",
   "execution_count": 2,
   "id": "9613b2f7",
   "metadata": {},
   "outputs": [],
   "source": [
    "from rdkit import Chem, DataStructs\n",
    "from rdkit.Chem import AllChem"
   ]
  },
  {
   "cell_type": "code",
   "execution_count": 3,
   "id": "b27c8fc6",
   "metadata": {},
   "outputs": [
    {
     "name": "stdout",
     "output_type": "stream",
     "text": [
      "(98690, 2)\n",
      "(200, 1)\n",
      "(800, 1)\n"
     ]
    }
   ],
   "source": [
    "PROPERTY_NAME = \"logp04\"\n",
    "\n",
    "df_train_pairs = pd.read_csv(os.path.join(PROPERTY_NAME, \"rdkit_train_pairs.txt\"), sep=\" \", header=None); print(df_train_pairs.shape)\n",
    "list_smi_src = df_train_pairs.iloc[:,0].values.tolist()\n",
    "list_smi_tar = df_train_pairs.iloc[:,1].values.tolist()\n",
    "\n",
    "df_valid = pd.read_csv(os.path.join(PROPERTY_NAME, \"rdkit_valid.txt\"), header=None); print(df_valid.shape)\n",
    "list_smi_valid = df_valid.iloc[:,0].values.tolist()\n",
    "\n",
    "df_test = pd.read_csv(os.path.join(PROPERTY_NAME, \"rdkit_test.txt\"), header=None); print(df_test.shape)\n",
    "list_smi_test = df_test.iloc[:,0].values.tolist()"
   ]
  },
  {
   "cell_type": "code",
   "execution_count": 4,
   "id": "ce36b784",
   "metadata": {},
   "outputs": [],
   "source": [
    "#df_chembl = pd.read_csv(os.path.join(\"chembl\", \"preprocessed_chembl_29_chemreps.csv\")); print(df_chembl.shape)\n",
    "#list_smi_chembl = df_chembl.iloc[:,0].values.tolist()"
   ]
  },
  {
   "cell_type": "code",
   "execution_count": 5,
   "id": "c78959e7",
   "metadata": {},
   "outputs": [],
   "source": [
    "#list_chembl_unique = list(set(list_smi_chembl) - set(list_smi_src).union(set(list_smi_tar)).union(set(list_smi_valid)).union(set(list_smi_test)))\n",
    "#print(len(list_chembl_unique))"
   ]
  },
  {
   "cell_type": "code",
   "execution_count": 6,
   "id": "437014a0",
   "metadata": {},
   "outputs": [
    {
     "name": "stdout",
     "output_type": "stream",
     "text": [
      "99066\n"
     ]
    }
   ],
   "source": [
    "list_chembl_unique = list(set(list_smi_src + list_smi_tar))\n",
    "print(len(list_chembl_unique))"
   ]
  },
  {
   "cell_type": "code",
   "execution_count": 7,
   "id": "777a2b38",
   "metadata": {},
   "outputs": [
    {
     "name": "stderr",
     "output_type": "stream",
     "text": [
      "100%|██████████| 98690/98690 [1:06:38<00:00, 24.68it/s]\n"
     ]
    }
   ],
   "source": [
    "list_triplet = []\n",
    "K = 20\n",
    "\n",
    "for i, (smi_src, smi_tar) in tqdm(enumerate(zip(list_smi_src, list_smi_tar)), total=len(list_smi_src)):\n",
    "    batch_list_triplet = []\n",
    "    ## mol\n",
    "    mol_src = Chem.MolFromSmiles(smi_src)\n",
    "    mol_tar = Chem.MolFromSmiles(smi_tar)\n",
    "    ## fingerprint\n",
    "    fp_src = AllChem.GetMorganFingerprintAsBitVect(mol_src, radius=2, nBits=2048, useChirality=False)\n",
    "    fp_tar = AllChem.GetMorganFingerprintAsBitVect(mol_tar, radius=2, nBits=2048, useChirality=False)\n",
    "    \n",
    "    ## Shuffle\n",
    "    random.shuffle(list_chembl_unique)\n",
    "    \n",
    "    for smi_chembl in list_chembl_unique:\n",
    "        mol_chembl = Chem.MolFromSmiles(smi_chembl)\n",
    "        fp_chembl = AllChem.GetMorganFingerprintAsBitVect(mol_chembl, radius=2, nBits=2048, useChirality=False)\n",
    "        ## Tanimoto\n",
    "        sim_src = DataStructs.TanimotoSimilarity(fp_src, fp_chembl)\n",
    "        sim_tar = DataStructs.TanimotoSimilarity(fp_tar, fp_chembl)\n",
    "        ## check\n",
    "        if sim_src < 0.3 and sim_tar < 0.3:\n",
    "            batch_list_triplet.append((smi_src, smi_tar, smi_chembl))\n",
    "        ## stop\n",
    "        if len(batch_list_triplet) == K:\n",
    "            break\n",
    "            \n",
    "    if len(batch_list_triplet) < K:\n",
    "        print(f\"[WARNING] {i} has insufficient data ({len(batch_list_triplet)} < {K})\")\n",
    "        \n",
    "    list_triplet.extend(batch_list_triplet)"
   ]
  },
  {
   "cell_type": "code",
   "execution_count": 8,
   "id": "37535590",
   "metadata": {},
   "outputs": [],
   "source": [
    "df_triplet = pd.DataFrame(list_triplet)\n",
    "\n",
    "df_triplet.to_csv(os.path.join(PROPERTY_NAME, \"rdkit_train_triplet.txt\"), sep=\" \", header=None, index=False)"
   ]
  },
  {
   "cell_type": "code",
   "execution_count": null,
   "id": "eb455b05",
   "metadata": {},
   "outputs": [],
   "source": []
  }
 ],
 "metadata": {
  "kernelspec": {
   "display_name": "Python 3",
   "language": "python",
   "name": "python3"
  },
  "language_info": {
   "codemirror_mode": {
    "name": "ipython",
    "version": 3
   },
   "file_extension": ".py",
   "mimetype": "text/x-python",
   "name": "python",
   "nbconvert_exporter": "python",
   "pygments_lexer": "ipython3",
   "version": "3.6.15"
  }
 },
 "nbformat": 4,
 "nbformat_minor": 5
}
