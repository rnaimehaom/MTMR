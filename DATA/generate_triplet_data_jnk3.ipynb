{
 "cells": [
  {
   "cell_type": "code",
   "execution_count": 1,
   "id": "438bb684",
   "metadata": {},
   "outputs": [],
   "source": [
    "import os\n",
    "import sys\n",
    "import pandas as pd\n",
    "import numpy as np\n",
    "import random\n",
    "import tqdm"
   ]
  },
  {
   "cell_type": "code",
   "execution_count": 2,
   "id": "9613b2f7",
   "metadata": {},
   "outputs": [],
   "source": [
    "from rdkit import Chem, DataStructs\n",
    "from rdkit.Chem import AllChem"
   ]
  },
  {
   "cell_type": "code",
   "execution_count": 3,
   "id": "0a475070",
   "metadata": {},
   "outputs": [],
   "source": [
    "MTMR_PATH = os.path.abspath(os.path.join(os.getcwd(), os.pardir))\n",
    "sys.path = sys.path if MTMR_PATH in sys.path else [MTMR_PATH] + sys.path"
   ]
  },
  {
   "cell_type": "code",
   "execution_count": 4,
   "id": "d19de729",
   "metadata": {},
   "outputs": [],
   "source": [
    "from MTMR.properties import gsk3, jnk3, drd2, qed, penalized_logp, similarity, get_kekuleSmiles"
   ]
  },
  {
   "cell_type": "code",
   "execution_count": 5,
   "id": "9b26f474",
   "metadata": {},
   "outputs": [],
   "source": [
    "PROPERTY_NAME = \"jnk3\"\n",
    "SCORING_FT = jnk3()"
   ]
  },
  {
   "cell_type": "code",
   "execution_count": 15,
   "id": "4d517d83",
   "metadata": {},
   "outputs": [],
   "source": [
    "if not os.path.exists(PROPERTY_NAME):\n",
    "    os.mkdir(PROPERTY_NAME)"
   ]
  },
  {
   "cell_type": "code",
   "execution_count": 6,
   "id": "e0bb6790",
   "metadata": {},
   "outputs": [],
   "source": [
    "filepath_zinc250k = \"250k_rndm_zinc_drugs_clean_3.csv\"\n",
    "df_zinc_raw = pd.read_csv(filepath_zinc250k)"
   ]
  },
  {
   "cell_type": "code",
   "execution_count": 7,
   "id": "7394f63c",
   "metadata": {},
   "outputs": [
    {
     "data": {
      "text/html": [
       "<div>\n",
       "<style scoped>\n",
       "    .dataframe tbody tr th:only-of-type {\n",
       "        vertical-align: middle;\n",
       "    }\n",
       "\n",
       "    .dataframe tbody tr th {\n",
       "        vertical-align: top;\n",
       "    }\n",
       "\n",
       "    .dataframe thead th {\n",
       "        text-align: right;\n",
       "    }\n",
       "</style>\n",
       "<table border=\"1\" class=\"dataframe\">\n",
       "  <thead>\n",
       "    <tr style=\"text-align: right;\">\n",
       "      <th></th>\n",
       "      <th>smiles</th>\n",
       "      <th>logP</th>\n",
       "      <th>qed</th>\n",
       "      <th>SAS</th>\n",
       "    </tr>\n",
       "  </thead>\n",
       "  <tbody>\n",
       "    <tr>\n",
       "      <th>0</th>\n",
       "      <td>CC(C)(C)c1ccc2occ(CC(=O)Nc3ccccc3F)c2c1\\n</td>\n",
       "      <td>5.05060</td>\n",
       "      <td>0.702012</td>\n",
       "      <td>2.084095</td>\n",
       "    </tr>\n",
       "    <tr>\n",
       "      <th>1</th>\n",
       "      <td>C[C@@H]1CC(Nc2cncc(-c3nncn3C)c2)C[C@@H](C)C1\\n</td>\n",
       "      <td>3.11370</td>\n",
       "      <td>0.928975</td>\n",
       "      <td>3.432004</td>\n",
       "    </tr>\n",
       "    <tr>\n",
       "      <th>2</th>\n",
       "      <td>N#Cc1ccc(-c2ccc(O[C@@H](C(=O)N3CCCC3)c3ccccc3)...</td>\n",
       "      <td>4.96778</td>\n",
       "      <td>0.599682</td>\n",
       "      <td>2.470633</td>\n",
       "    </tr>\n",
       "    <tr>\n",
       "      <th>3</th>\n",
       "      <td>CCOC(=O)[C@@H]1CCCN(C(=O)c2nc(-c3ccc(C)cc3)n3c...</td>\n",
       "      <td>4.00022</td>\n",
       "      <td>0.690944</td>\n",
       "      <td>2.822753</td>\n",
       "    </tr>\n",
       "    <tr>\n",
       "      <th>4</th>\n",
       "      <td>N#CC1=C(SCC(=O)Nc2cccc(Cl)c2)N=C([O-])[C@H](C#...</td>\n",
       "      <td>3.60956</td>\n",
       "      <td>0.789027</td>\n",
       "      <td>4.035182</td>\n",
       "    </tr>\n",
       "  </tbody>\n",
       "</table>\n",
       "</div>"
      ],
      "text/plain": [
       "                                              smiles     logP       qed  \\\n",
       "0          CC(C)(C)c1ccc2occ(CC(=O)Nc3ccccc3F)c2c1\\n  5.05060  0.702012   \n",
       "1     C[C@@H]1CC(Nc2cncc(-c3nncn3C)c2)C[C@@H](C)C1\\n  3.11370  0.928975   \n",
       "2  N#Cc1ccc(-c2ccc(O[C@@H](C(=O)N3CCCC3)c3ccccc3)...  4.96778  0.599682   \n",
       "3  CCOC(=O)[C@@H]1CCCN(C(=O)c2nc(-c3ccc(C)cc3)n3c...  4.00022  0.690944   \n",
       "4  N#CC1=C(SCC(=O)Nc2cccc(Cl)c2)N=C([O-])[C@H](C#...  3.60956  0.789027   \n",
       "\n",
       "        SAS  \n",
       "0  2.084095  \n",
       "1  3.432004  \n",
       "2  2.470633  \n",
       "3  2.822753  \n",
       "4  4.035182  "
      ]
     },
     "execution_count": 7,
     "metadata": {},
     "output_type": "execute_result"
    }
   ],
   "source": [
    "df_zinc_raw.head()"
   ]
  },
  {
   "cell_type": "markdown",
   "id": "755a6550",
   "metadata": {},
   "source": [
    "# Property calculation"
   ]
  },
  {
   "cell_type": "code",
   "execution_count": 8,
   "id": "923672bf",
   "metadata": {},
   "outputs": [
    {
     "name": "stderr",
     "output_type": "stream",
     "text": [
      "100%|██████████| 249455/249455 [7:11:14<00:00,  9.64it/s]  \n"
     ]
    },
    {
     "data": {
      "text/html": [
       "<div>\n",
       "<style scoped>\n",
       "    .dataframe tbody tr th:only-of-type {\n",
       "        vertical-align: middle;\n",
       "    }\n",
       "\n",
       "    .dataframe tbody tr th {\n",
       "        vertical-align: top;\n",
       "    }\n",
       "\n",
       "    .dataframe thead th {\n",
       "        text-align: right;\n",
       "    }\n",
       "</style>\n",
       "<table border=\"1\" class=\"dataframe\">\n",
       "  <thead>\n",
       "    <tr style=\"text-align: right;\">\n",
       "      <th></th>\n",
       "      <th>smiles</th>\n",
       "      <th>jnk3</th>\n",
       "    </tr>\n",
       "  </thead>\n",
       "  <tbody>\n",
       "    <tr>\n",
       "      <th>0</th>\n",
       "      <td>CC(C)(C)C1=CC=C2OC=C(CC(=O)NC3=CC=CC=C3F)C2=C1</td>\n",
       "      <td>0.01</td>\n",
       "    </tr>\n",
       "    <tr>\n",
       "      <th>1</th>\n",
       "      <td>CC1CC(C)CC(NC2=CN=CC(C3=NN=CN3C)=C2)C1</td>\n",
       "      <td>0.01</td>\n",
       "    </tr>\n",
       "    <tr>\n",
       "      <th>2</th>\n",
       "      <td>N#CC1=CC=C(C2=CC=C(OC(C(=O)N3CCCC3)C3=CC=CC=C3...</td>\n",
       "      <td>0.03</td>\n",
       "    </tr>\n",
       "    <tr>\n",
       "      <th>3</th>\n",
       "      <td>N#CC1=C(SCC(=O)NC2=CC=CC(Cl)=C2)N=C([O-])C(C#N...</td>\n",
       "      <td>0.02</td>\n",
       "    </tr>\n",
       "    <tr>\n",
       "      <th>4</th>\n",
       "      <td>CC[NH+](CC)C(C)(CC)C(O)C1=CSC=C1Br</td>\n",
       "      <td>0.04</td>\n",
       "    </tr>\n",
       "  </tbody>\n",
       "</table>\n",
       "</div>"
      ],
      "text/plain": [
       "                                              smiles  jnk3\n",
       "0     CC(C)(C)C1=CC=C2OC=C(CC(=O)NC3=CC=CC=C3F)C2=C1  0.01\n",
       "1             CC1CC(C)CC(NC2=CN=CC(C3=NN=CN3C)=C2)C1  0.01\n",
       "2  N#CC1=CC=C(C2=CC=C(OC(C(=O)N3CCCC3)C3=CC=CC=C3...  0.03\n",
       "3  N#CC1=C(SCC(=O)NC2=CC=CC(Cl)=C2)N=C([O-])C(C#N...  0.02\n",
       "4                 CC[NH+](CC)C(C)(CC)C(O)C1=CSC=C1Br  0.04"
      ]
     },
     "execution_count": 8,
     "metadata": {},
     "output_type": "execute_result"
    }
   ],
   "source": [
    "records = []\n",
    "for i in tqdm.trange(len(df_zinc_raw)):\n",
    "    smi = df_zinc_raw.loc[i,\"smiles\"]\n",
    "    smi_kek = get_kekuleSmiles(smi)\n",
    "    prop = SCORING_FT(smi_kek)\n",
    "    if prop > 0:\n",
    "        records.append((smi_kek, prop))\n",
    "        \n",
    "df_zinc = pd.DataFrame.from_records(records).rename(columns={0:\"smiles\",1:PROPERTY_NAME})\n",
    "df_zinc.head()"
   ]
  },
  {
   "cell_type": "code",
   "execution_count": 16,
   "id": "8d8f8f9e",
   "metadata": {},
   "outputs": [],
   "source": [
    "df_zinc.to_csv(os.path.join(PROPERTY_NAME, \"raw_data.csv\"), index=False)"
   ]
  },
  {
   "cell_type": "markdown",
   "id": "145dd45c",
   "metadata": {},
   "source": [
    "# Source and Target"
   ]
  },
  {
   "cell_type": "code",
   "execution_count": 14,
   "id": "49662c62",
   "metadata": {},
   "outputs": [
    {
     "data": {
      "text/html": [
       "<div>\n",
       "<style scoped>\n",
       "    .dataframe tbody tr th:only-of-type {\n",
       "        vertical-align: middle;\n",
       "    }\n",
       "\n",
       "    .dataframe tbody tr th {\n",
       "        vertical-align: top;\n",
       "    }\n",
       "\n",
       "    .dataframe thead th {\n",
       "        text-align: right;\n",
       "    }\n",
       "</style>\n",
       "<table border=\"1\" class=\"dataframe\">\n",
       "  <thead>\n",
       "    <tr style=\"text-align: right;\">\n",
       "      <th></th>\n",
       "      <th>smiles</th>\n",
       "      <th>jnk3</th>\n",
       "    </tr>\n",
       "  </thead>\n",
       "  <tbody>\n",
       "    <tr>\n",
       "      <th>0</th>\n",
       "      <td>CC(C)(C)C1=CC=C2OC=C(CC(=O)NC3=CC=CC=C3F)C2=C1</td>\n",
       "      <td>0.01</td>\n",
       "    </tr>\n",
       "    <tr>\n",
       "      <th>1</th>\n",
       "      <td>CC1CC(C)CC(NC2=CN=CC(C3=NN=CN3C)=C2)C1</td>\n",
       "      <td>0.01</td>\n",
       "    </tr>\n",
       "    <tr>\n",
       "      <th>2</th>\n",
       "      <td>N#CC1=CC=C(C2=CC=C(OC(C(=O)N3CCCC3)C3=CC=CC=C3...</td>\n",
       "      <td>0.03</td>\n",
       "    </tr>\n",
       "    <tr>\n",
       "      <th>3</th>\n",
       "      <td>N#CC1=C(SCC(=O)NC2=CC=CC(Cl)=C2)N=C([O-])C(C#N...</td>\n",
       "      <td>0.02</td>\n",
       "    </tr>\n",
       "    <tr>\n",
       "      <th>4</th>\n",
       "      <td>CC[NH+](CC)C(C)(CC)C(O)C1=CSC=C1Br</td>\n",
       "      <td>0.04</td>\n",
       "    </tr>\n",
       "    <tr>\n",
       "      <th>...</th>\n",
       "      <td>...</td>\n",
       "      <td>...</td>\n",
       "    </tr>\n",
       "    <tr>\n",
       "      <th>145236</th>\n",
       "      <td>CCC(NC(=O)C(=O)NC1=CC=C(C(N)=O)C(C)=C1)C1=C(C)...</td>\n",
       "      <td>0.04</td>\n",
       "    </tr>\n",
       "    <tr>\n",
       "      <th>145237</th>\n",
       "      <td>COC1=CC(C[NH2+]CC(C)CC(C)O)=CC(Br)=C1O</td>\n",
       "      <td>0.02</td>\n",
       "    </tr>\n",
       "    <tr>\n",
       "      <th>145238</th>\n",
       "      <td>CC1=CC=C(NC(=O)C(=O)N(C)CC2=CC=CC=C2)C(C)=C1</td>\n",
       "      <td>0.05</td>\n",
       "    </tr>\n",
       "    <tr>\n",
       "      <th>145239</th>\n",
       "      <td>CC1=CC(C(=O)NC2=CC=C(OCC(N)=O)C=C2)=C(C)N1C1CC1</td>\n",
       "      <td>0.01</td>\n",
       "    </tr>\n",
       "    <tr>\n",
       "      <th>145240</th>\n",
       "      <td>O=C(CC(C1=CC=CC=C1)C1=CC=CC=C1)N1CCN(S(=O)(=O)...</td>\n",
       "      <td>0.02</td>\n",
       "    </tr>\n",
       "  </tbody>\n",
       "</table>\n",
       "<p>128728 rows × 2 columns</p>\n",
       "</div>"
      ],
      "text/plain": [
       "                                                   smiles  jnk3\n",
       "0          CC(C)(C)C1=CC=C2OC=C(CC(=O)NC3=CC=CC=C3F)C2=C1  0.01\n",
       "1                  CC1CC(C)CC(NC2=CN=CC(C3=NN=CN3C)=C2)C1  0.01\n",
       "2       N#CC1=CC=C(C2=CC=C(OC(C(=O)N3CCCC3)C3=CC=CC=C3...  0.03\n",
       "3       N#CC1=C(SCC(=O)NC2=CC=CC(Cl)=C2)N=C([O-])C(C#N...  0.02\n",
       "4                      CC[NH+](CC)C(C)(CC)C(O)C1=CSC=C1Br  0.04\n",
       "...                                                   ...   ...\n",
       "145236  CCC(NC(=O)C(=O)NC1=CC=C(C(N)=O)C(C)=C1)C1=C(C)...  0.04\n",
       "145237             COC1=CC(C[NH2+]CC(C)CC(C)O)=CC(Br)=C1O  0.02\n",
       "145238       CC1=CC=C(NC(=O)C(=O)N(C)CC2=CC=CC=C2)C(C)=C1  0.05\n",
       "145239    CC1=CC(C(=O)NC2=CC=C(OCC(N)=O)C=C2)=C(C)N1C1CC1  0.01\n",
       "145240  O=C(CC(C1=CC=CC=C1)C1=CC=CC=C1)N1CCN(S(=O)(=O)...  0.02\n",
       "\n",
       "[128728 rows x 2 columns]"
      ]
     },
     "execution_count": 14,
     "metadata": {},
     "output_type": "execute_result"
    }
   ],
   "source": [
    "idx_src = (0.05 >= df_zinc.loc[:,PROPERTY_NAME]) & (df_zinc.loc[:,PROPERTY_NAME] > 0)\n",
    "df_src = df_zinc[idx_src].drop_duplicates()\n",
    "df_src"
   ]
  },
  {
   "cell_type": "code",
   "execution_count": 13,
   "id": "b8fa662d",
   "metadata": {},
   "outputs": [
    {
     "data": {
      "text/html": [
       "<div>\n",
       "<style scoped>\n",
       "    .dataframe tbody tr th:only-of-type {\n",
       "        vertical-align: middle;\n",
       "    }\n",
       "\n",
       "    .dataframe tbody tr th {\n",
       "        vertical-align: top;\n",
       "    }\n",
       "\n",
       "    .dataframe thead th {\n",
       "        text-align: right;\n",
       "    }\n",
       "</style>\n",
       "<table border=\"1\" class=\"dataframe\">\n",
       "  <thead>\n",
       "    <tr style=\"text-align: right;\">\n",
       "      <th></th>\n",
       "      <th>smiles</th>\n",
       "      <th>jnk3</th>\n",
       "    </tr>\n",
       "  </thead>\n",
       "  <tbody>\n",
       "    <tr>\n",
       "      <th>3431</th>\n",
       "      <td>O=C(C1=CC=C(CN2C(=O)NC3=CC=CC=C3C2=O)C=C1)N1CC...</td>\n",
       "      <td>0.66</td>\n",
       "    </tr>\n",
       "    <tr>\n",
       "      <th>6752</th>\n",
       "      <td>C[NH+]1CCC2=C(C1)SC(NC(=O)C1=CC=CC=C1F)=C2C#N</td>\n",
       "      <td>0.50</td>\n",
       "    </tr>\n",
       "    <tr>\n",
       "      <th>27181</th>\n",
       "      <td>COC1=CC=C(C2=CC=NC(NC3=CC=CC=C3)=N2)C=C1</td>\n",
       "      <td>0.68</td>\n",
       "    </tr>\n",
       "    <tr>\n",
       "      <th>31296</th>\n",
       "      <td>O=C(NC1=CC=CC=C1)NC1COC2C(NC3=NC=CC(C4=CC=C(C5...</td>\n",
       "      <td>0.50</td>\n",
       "    </tr>\n",
       "    <tr>\n",
       "      <th>36483</th>\n",
       "      <td>OC1=CC=C(NC2=NC(C3=CC=C(Cl)C=C3)=CS2)C=C1</td>\n",
       "      <td>0.67</td>\n",
       "    </tr>\n",
       "    <tr>\n",
       "      <th>51241</th>\n",
       "      <td>O=C1NN(C2=CC=CC(Cl)=C2)C(=O)C1=CC1=CC=C(O)C([N...</td>\n",
       "      <td>0.62</td>\n",
       "    </tr>\n",
       "    <tr>\n",
       "      <th>101602</th>\n",
       "      <td>N#CC1=C(NC(=O)C2=CC=CC=C2OC(F)F)SC2=C1CCC2</td>\n",
       "      <td>0.55</td>\n",
       "    </tr>\n",
       "    <tr>\n",
       "      <th>107349</th>\n",
       "      <td>CC1=CC=C(C)C(NC(=O)CC2=CC=CC3=CC=CC=C23)=C1</td>\n",
       "      <td>0.51</td>\n",
       "    </tr>\n",
       "  </tbody>\n",
       "</table>\n",
       "</div>"
      ],
      "text/plain": [
       "                                                   smiles  jnk3\n",
       "3431    O=C(C1=CC=C(CN2C(=O)NC3=CC=CC=C3C2=O)C=C1)N1CC...  0.66\n",
       "6752        C[NH+]1CCC2=C(C1)SC(NC(=O)C1=CC=CC=C1F)=C2C#N  0.50\n",
       "27181            COC1=CC=C(C2=CC=NC(NC3=CC=CC=C3)=N2)C=C1  0.68\n",
       "31296   O=C(NC1=CC=CC=C1)NC1COC2C(NC3=NC=CC(C4=CC=C(C5...  0.50\n",
       "36483           OC1=CC=C(NC2=NC(C3=CC=C(Cl)C=C3)=CS2)C=C1  0.67\n",
       "51241   O=C1NN(C2=CC=CC(Cl)=C2)C(=O)C1=CC1=CC=C(O)C([N...  0.62\n",
       "101602         N#CC1=C(NC(=O)C2=CC=CC=C2OC(F)F)SC2=C1CCC2  0.55\n",
       "107349        CC1=CC=C(C)C(NC(=O)CC2=CC=CC3=CC=CC=C23)=C1  0.51"
      ]
     },
     "execution_count": 13,
     "metadata": {},
     "output_type": "execute_result"
    }
   ],
   "source": [
    "idx_tar = (1. >= df_zinc.loc[:,PROPERTY_NAME]) & (df_zinc.loc[:,PROPERTY_NAME] >= 0.5)\n",
    "df_tar = df_zinc[idx_tar].drop_duplicates()\n",
    "df_tar"
   ]
  },
  {
   "cell_type": "markdown",
   "id": "5c766e5a",
   "metadata": {},
   "source": [
    "# Test and validation"
   ]
  },
  {
   "cell_type": "code",
   "execution_count": 17,
   "id": "3ad95298",
   "metadata": {},
   "outputs": [],
   "source": [
    "df_test = df_src.iloc[-2000:-1000,:]\n",
    "df_valid = df_src.iloc[-1000:,:]"
   ]
  },
  {
   "cell_type": "code",
   "execution_count": 18,
   "id": "3bf48cc4",
   "metadata": {},
   "outputs": [],
   "source": [
    "df_test.loc[:,\"smiles\"].to_csv(os.path.join(PROPERTY_NAME, \"rdkit_test.txt\"), index=False, header=None)\n",
    "df_valid.loc[:,\"smiles\"].to_csv(os.path.join(PROPERTY_NAME, \"rdkit_valid.txt\"), index=False, header=None)"
   ]
  },
  {
   "cell_type": "markdown",
   "id": "e0c4b0ee",
   "metadata": {},
   "source": [
    "# Paired"
   ]
  },
  {
   "cell_type": "code",
   "execution_count": 22,
   "id": "2876549a",
   "metadata": {
    "scrolled": true
   },
   "outputs": [
    {
     "name": "stderr",
     "output_type": "stream",
     "text": [
      "100%|██████████| 126728/126728 [00:30<00:00, 4133.88it/s]\n"
     ]
    },
    {
     "name": "stdout",
     "output_type": "stream",
     "text": [
      "14\n"
     ]
    },
    {
     "name": "stderr",
     "output_type": "stream",
     "text": [
      "100%|██████████| 126728/126728 [00:23<00:00, 5483.44it/s]\n"
     ]
    },
    {
     "name": "stdout",
     "output_type": "stream",
     "text": [
      "3\n"
     ]
    },
    {
     "name": "stderr",
     "output_type": "stream",
     "text": [
      "100%|██████████| 126728/126728 [00:23<00:00, 5403.75it/s]\n"
     ]
    },
    {
     "name": "stdout",
     "output_type": "stream",
     "text": [
      "2\n"
     ]
    },
    {
     "name": "stderr",
     "output_type": "stream",
     "text": [
      "100%|██████████| 126728/126728 [00:34<00:00, 3672.76it/s]\n"
     ]
    },
    {
     "name": "stdout",
     "output_type": "stream",
     "text": [
      "1\n"
     ]
    },
    {
     "name": "stderr",
     "output_type": "stream",
     "text": [
      "100%|██████████| 126728/126728 [00:22<00:00, 5595.20it/s]\n"
     ]
    },
    {
     "name": "stdout",
     "output_type": "stream",
     "text": [
      "16\n"
     ]
    },
    {
     "name": "stderr",
     "output_type": "stream",
     "text": [
      "100%|██████████| 126728/126728 [00:24<00:00, 5152.40it/s]\n"
     ]
    },
    {
     "name": "stdout",
     "output_type": "stream",
     "text": [
      "0\n"
     ]
    },
    {
     "name": "stderr",
     "output_type": "stream",
     "text": [
      "100%|██████████| 126728/126728 [00:23<00:00, 5358.08it/s]\n"
     ]
    },
    {
     "name": "stdout",
     "output_type": "stream",
     "text": [
      "35\n"
     ]
    },
    {
     "name": "stderr",
     "output_type": "stream",
     "text": [
      "100%|██████████| 126728/126728 [00:23<00:00, 5421.10it/s]"
     ]
    },
    {
     "name": "stdout",
     "output_type": "stream",
     "text": [
      "45\n"
     ]
    },
    {
     "name": "stderr",
     "output_type": "stream",
     "text": [
      "\n"
     ]
    },
    {
     "data": {
      "text/html": [
       "<div>\n",
       "<style scoped>\n",
       "    .dataframe tbody tr th:only-of-type {\n",
       "        vertical-align: middle;\n",
       "    }\n",
       "\n",
       "    .dataframe tbody tr th {\n",
       "        vertical-align: top;\n",
       "    }\n",
       "\n",
       "    .dataframe thead th {\n",
       "        text-align: right;\n",
       "    }\n",
       "</style>\n",
       "<table border=\"1\" class=\"dataframe\">\n",
       "  <thead>\n",
       "    <tr style=\"text-align: right;\">\n",
       "      <th></th>\n",
       "      <th>src</th>\n",
       "      <th>tar</th>\n",
       "      <th>prop_src</th>\n",
       "      <th>prop_tar</th>\n",
       "      <th>similarity</th>\n",
       "    </tr>\n",
       "  </thead>\n",
       "  <tbody>\n",
       "    <tr>\n",
       "      <th>0</th>\n",
       "      <td>CCOCC1=CC=CC=C1CN1C(=O)NC2=CC=CC=C2C1=O</td>\n",
       "      <td>O=C(C1=CC=C(CN2C(=O)NC3=CC=CC=C3C2=O)C=C1)N1CC...</td>\n",
       "      <td>0.01</td>\n",
       "      <td>0.66</td>\n",
       "      <td>0.403226</td>\n",
       "    </tr>\n",
       "    <tr>\n",
       "      <th>1</th>\n",
       "      <td>O=C(CN1C(=O)NN(C2=CC=CC=C2)C1=O)N1CCN(C2=CC=CC...</td>\n",
       "      <td>O=C(C1=CC=C(CN2C(=O)NC3=CC=CC=C3C2=O)C=C1)N1CC...</td>\n",
       "      <td>0.01</td>\n",
       "      <td>0.66</td>\n",
       "      <td>0.403226</td>\n",
       "    </tr>\n",
       "    <tr>\n",
       "      <th>2</th>\n",
       "      <td>CC1CN(C2=CC=C(CN3C(=O)NC4=CC=CC=C4C3=O)C=[NH+]...</td>\n",
       "      <td>O=C(C1=CC=C(CN2C(=O)NC3=CC=CC=C3C2=O)C=C1)N1CC...</td>\n",
       "      <td>0.03</td>\n",
       "      <td>0.66</td>\n",
       "      <td>0.454545</td>\n",
       "    </tr>\n",
       "    <tr>\n",
       "      <th>3</th>\n",
       "      <td>CC(=O)C1=CC=C2NC(C)=C(CN3CCN(C4=CC=CC=C4)CC3)C...</td>\n",
       "      <td>O=C(C1=CC=C(CN2C(=O)NC3=CC=CC=C3C2=O)C=C1)N1CC...</td>\n",
       "      <td>0.03</td>\n",
       "      <td>0.66</td>\n",
       "      <td>0.405797</td>\n",
       "    </tr>\n",
       "    <tr>\n",
       "      <th>4</th>\n",
       "      <td>O=C(C1=NN(C2=CC=CC=C2)C(=O)C2=CC=CC=C12)N1CCN(...</td>\n",
       "      <td>O=C(C1=CC=C(CN2C(=O)NC3=CC=CC=C3C2=O)C=C1)N1CC...</td>\n",
       "      <td>0.01</td>\n",
       "      <td>0.66</td>\n",
       "      <td>0.433333</td>\n",
       "    </tr>\n",
       "    <tr>\n",
       "      <th>...</th>\n",
       "      <td>...</td>\n",
       "      <td>...</td>\n",
       "      <td>...</td>\n",
       "      <td>...</td>\n",
       "      <td>...</td>\n",
       "    </tr>\n",
       "    <tr>\n",
       "      <th>111</th>\n",
       "      <td>CC1=CC=C(S(=O)(=O)N2CCOCC2)C=C1NC(=O)CC1=CC=CC...</td>\n",
       "      <td>CC1=CC=C(C)C(NC(=O)CC2=CC=CC3=CC=CC=C23)=C1</td>\n",
       "      <td>0.04</td>\n",
       "      <td>0.51</td>\n",
       "      <td>0.412698</td>\n",
       "    </tr>\n",
       "    <tr>\n",
       "      <th>112</th>\n",
       "      <td>CC(=O)NC1=NC(CC(=O)NC2=CC(C)=CC=C2C)=CS1</td>\n",
       "      <td>CC1=CC=C(C)C(NC(=O)CC2=CC=CC3=CC=CC=C23)=C1</td>\n",
       "      <td>0.01</td>\n",
       "      <td>0.51</td>\n",
       "      <td>0.481481</td>\n",
       "    </tr>\n",
       "    <tr>\n",
       "      <th>113</th>\n",
       "      <td>CC1=CC=C(C)C(OCC2=NC(CC(=O)NC3=CC=CC=C3C)=CS2)=C1</td>\n",
       "      <td>CC1=CC=C(C)C(NC(=O)CC2=CC=CC3=CC=CC=C23)=C1</td>\n",
       "      <td>0.02</td>\n",
       "      <td>0.51</td>\n",
       "      <td>0.419355</td>\n",
       "    </tr>\n",
       "    <tr>\n",
       "      <th>114</th>\n",
       "      <td>CC1=CC=C(C)C(NC(=O)CN2C(=O)NC(C)(C3=CC=CC=C3Br...</td>\n",
       "      <td>CC1=CC=C(C)C(NC(=O)CC2=CC=CC3=CC=CC=C23)=C1</td>\n",
       "      <td>0.04</td>\n",
       "      <td>0.51</td>\n",
       "      <td>0.419355</td>\n",
       "    </tr>\n",
       "    <tr>\n",
       "      <th>115</th>\n",
       "      <td>O=C(CCCCO)NCC1=CC=CC2=CC=CC=C12</td>\n",
       "      <td>CC1=CC=C(C)C(NC(=O)CC2=CC=CC3=CC=CC=C23)=C1</td>\n",
       "      <td>0.02</td>\n",
       "      <td>0.51</td>\n",
       "      <td>0.411765</td>\n",
       "    </tr>\n",
       "  </tbody>\n",
       "</table>\n",
       "<p>116 rows × 5 columns</p>\n",
       "</div>"
      ],
      "text/plain": [
       "                                                   src  \\\n",
       "0              CCOCC1=CC=CC=C1CN1C(=O)NC2=CC=CC=C2C1=O   \n",
       "1    O=C(CN1C(=O)NN(C2=CC=CC=C2)C1=O)N1CCN(C2=CC=CC...   \n",
       "2    CC1CN(C2=CC=C(CN3C(=O)NC4=CC=CC=C4C3=O)C=[NH+]...   \n",
       "3    CC(=O)C1=CC=C2NC(C)=C(CN3CCN(C4=CC=CC=C4)CC3)C...   \n",
       "4    O=C(C1=NN(C2=CC=CC=C2)C(=O)C2=CC=CC=C12)N1CCN(...   \n",
       "..                                                 ...   \n",
       "111  CC1=CC=C(S(=O)(=O)N2CCOCC2)C=C1NC(=O)CC1=CC=CC...   \n",
       "112           CC(=O)NC1=NC(CC(=O)NC2=CC(C)=CC=C2C)=CS1   \n",
       "113  CC1=CC=C(C)C(OCC2=NC(CC(=O)NC3=CC=CC=C3C)=CS2)=C1   \n",
       "114  CC1=CC=C(C)C(NC(=O)CN2C(=O)NC(C)(C3=CC=CC=C3Br...   \n",
       "115                    O=C(CCCCO)NCC1=CC=CC2=CC=CC=C12   \n",
       "\n",
       "                                                   tar  prop_src  prop_tar  \\\n",
       "0    O=C(C1=CC=C(CN2C(=O)NC3=CC=CC=C3C2=O)C=C1)N1CC...      0.01      0.66   \n",
       "1    O=C(C1=CC=C(CN2C(=O)NC3=CC=CC=C3C2=O)C=C1)N1CC...      0.01      0.66   \n",
       "2    O=C(C1=CC=C(CN2C(=O)NC3=CC=CC=C3C2=O)C=C1)N1CC...      0.03      0.66   \n",
       "3    O=C(C1=CC=C(CN2C(=O)NC3=CC=CC=C3C2=O)C=C1)N1CC...      0.03      0.66   \n",
       "4    O=C(C1=CC=C(CN2C(=O)NC3=CC=CC=C3C2=O)C=C1)N1CC...      0.01      0.66   \n",
       "..                                                 ...       ...       ...   \n",
       "111        CC1=CC=C(C)C(NC(=O)CC2=CC=CC3=CC=CC=C23)=C1      0.04      0.51   \n",
       "112        CC1=CC=C(C)C(NC(=O)CC2=CC=CC3=CC=CC=C23)=C1      0.01      0.51   \n",
       "113        CC1=CC=C(C)C(NC(=O)CC2=CC=CC3=CC=CC=C23)=C1      0.02      0.51   \n",
       "114        CC1=CC=C(C)C(NC(=O)CC2=CC=CC3=CC=CC=C23)=C1      0.04      0.51   \n",
       "115        CC1=CC=C(C)C(NC(=O)CC2=CC=CC3=CC=CC=C23)=C1      0.02      0.51   \n",
       "\n",
       "     similarity  \n",
       "0      0.403226  \n",
       "1      0.403226  \n",
       "2      0.454545  \n",
       "3      0.405797  \n",
       "4      0.433333  \n",
       "..          ...  \n",
       "111    0.412698  \n",
       "112    0.481481  \n",
       "113    0.419355  \n",
       "114    0.419355  \n",
       "115    0.411765  \n",
       "\n",
       "[116 rows x 5 columns]"
      ]
     },
     "execution_count": 22,
     "metadata": {},
     "output_type": "execute_result"
    }
   ],
   "source": [
    "records = []\n",
    "for smi_tar, prop_tar in df_tar.values:\n",
    "    _records = []\n",
    "    pbar = tqdm.tqdm(df_src.iloc[:-2000,:].sample(frac=1).values)\n",
    "    for smi_src, prop_src in pbar:\n",
    "        sim = similarity(smi_src, smi_tar)\n",
    "        if sim >= 0.4:\n",
    "            _records.append((smi_src, smi_tar, prop_src, prop_tar, sim))\n",
    "    print(len(_records))\n",
    "    records = records + _records\n",
    "\n",
    "df_train_pairs = pd.DataFrame.from_records(records).rename(columns={0:\"src\",1:\"tar\",2:\"prop_src\",3:\"prop_tar\",4:\"similarity\"})\n",
    "df_train_pairs"
   ]
  },
  {
   "cell_type": "code",
   "execution_count": 23,
   "id": "f636dcca",
   "metadata": {},
   "outputs": [],
   "source": [
    "df_train_pairs.iloc[:,:2].to_csv(os.path.join(PROPERTY_NAME, \"rdkit_train_pairs.txt\"), sep=\" \", header=None)"
   ]
  },
  {
   "cell_type": "code",
   "execution_count": 24,
   "id": "4344e450",
   "metadata": {},
   "outputs": [],
   "source": [
    "df_train_src = df_train_pairs.iloc[:,0]\n",
    "df_train_src.to_csv(os.path.join(PROPERTY_NAME, \"rdkit_train_src.txt\"), sep=\" \", header=None)"
   ]
  },
  {
   "cell_type": "code",
   "execution_count": 25,
   "id": "c91a30ed",
   "metadata": {},
   "outputs": [],
   "source": [
    "df_train_tar = df_train_pairs.iloc[:,1]\n",
    "df_train_tar.to_csv(os.path.join(PROPERTY_NAME, \"rdkit_train_tar.txt\"), sep=\" \", header=None)"
   ]
  },
  {
   "cell_type": "code",
   "execution_count": 26,
   "id": "a132dbc8",
   "metadata": {},
   "outputs": [],
   "source": [
    "list_smi_src = df_train_src.values.tolist()\n",
    "list_smi_tar = df_train_tar.values.tolist()"
   ]
  },
  {
   "cell_type": "code",
   "execution_count": 27,
   "id": "437014a0",
   "metadata": {},
   "outputs": [
    {
     "name": "stdout",
     "output_type": "stream",
     "text": [
      "122\n"
     ]
    }
   ],
   "source": [
    "list_chembl_unique = list(set(list_smi_src + list_smi_tar))\n",
    "print(len(list_chembl_unique))"
   ]
  },
  {
   "cell_type": "code",
   "execution_count": 29,
   "id": "777a2b38",
   "metadata": {},
   "outputs": [
    {
     "name": "stderr",
     "output_type": "stream",
     "text": [
      "100%|██████████| 116/116 [00:00<00:00, 319.86it/s]\n"
     ]
    }
   ],
   "source": [
    "list_triplet = []\n",
    "K = 20\n",
    "\n",
    "for i, (smi_src, smi_tar) in tqdm.tqdm(enumerate(zip(list_smi_src, list_smi_tar)), total=len(list_smi_src)):\n",
    "    batch_list_triplet = []\n",
    "    ## mol\n",
    "    mol_src = Chem.MolFromSmiles(smi_src)\n",
    "    mol_tar = Chem.MolFromSmiles(smi_tar)\n",
    "    ## fingerprint\n",
    "    fp_src = AllChem.GetMorganFingerprintAsBitVect(mol_src, radius=2, nBits=2048, useChirality=False)\n",
    "    fp_tar = AllChem.GetMorganFingerprintAsBitVect(mol_tar, radius=2, nBits=2048, useChirality=False)\n",
    "    \n",
    "    ## Shuffle\n",
    "    random.shuffle(list_chembl_unique)\n",
    "    \n",
    "    for smi_chembl in list_chembl_unique:\n",
    "        mol_chembl = Chem.MolFromSmiles(smi_chembl)\n",
    "        fp_chembl = AllChem.GetMorganFingerprintAsBitVect(mol_chembl, radius=2, nBits=2048, useChirality=False)\n",
    "        ## Tanimoto\n",
    "        sim_src = DataStructs.TanimotoSimilarity(fp_src, fp_chembl)\n",
    "        sim_tar = DataStructs.TanimotoSimilarity(fp_tar, fp_chembl)\n",
    "        ## check\n",
    "        if sim_src < 0.3 and sim_tar < 0.3:\n",
    "            batch_list_triplet.append((smi_src, smi_tar, smi_chembl))\n",
    "        ## stop\n",
    "        if len(batch_list_triplet) == K:\n",
    "            break\n",
    "            \n",
    "    if len(batch_list_triplet) < K:\n",
    "        print(f\"[WARNING] {i} has insufficient data ({len(batch_list_triplet)} < {K})\")\n",
    "        \n",
    "    list_triplet.extend(batch_list_triplet)"
   ]
  },
  {
   "cell_type": "code",
   "execution_count": 30,
   "id": "37535590",
   "metadata": {},
   "outputs": [],
   "source": [
    "df_triplet = pd.DataFrame(list_triplet)\n",
    "\n",
    "df_triplet.to_csv(os.path.join(PROPERTY_NAME, \"rdkit_train_triplet.txt\"), sep=\" \", header=None, index=False)"
   ]
  },
  {
   "cell_type": "code",
   "execution_count": 31,
   "id": "eb455b05",
   "metadata": {},
   "outputs": [
    {
     "data": {
      "text/html": [
       "<div>\n",
       "<style scoped>\n",
       "    .dataframe tbody tr th:only-of-type {\n",
       "        vertical-align: middle;\n",
       "    }\n",
       "\n",
       "    .dataframe tbody tr th {\n",
       "        vertical-align: top;\n",
       "    }\n",
       "\n",
       "    .dataframe thead th {\n",
       "        text-align: right;\n",
       "    }\n",
       "</style>\n",
       "<table border=\"1\" class=\"dataframe\">\n",
       "  <thead>\n",
       "    <tr style=\"text-align: right;\">\n",
       "      <th></th>\n",
       "      <th>0</th>\n",
       "      <th>1</th>\n",
       "      <th>2</th>\n",
       "    </tr>\n",
       "  </thead>\n",
       "  <tbody>\n",
       "    <tr>\n",
       "      <th>0</th>\n",
       "      <td>CCOCC1=CC=CC=C1CN1C(=O)NC2=CC=CC=C2C1=O</td>\n",
       "      <td>O=C(C1=CC=C(CN2C(=O)NC3=CC=CC=C3C2=O)C=C1)N1CC...</td>\n",
       "      <td>CC1=NC(C2=CC=C(NC(=O)CC3=CC=C(Cl)C=C3)C=C2)=CS1</td>\n",
       "    </tr>\n",
       "    <tr>\n",
       "      <th>1</th>\n",
       "      <td>CCOCC1=CC=CC=C1CN1C(=O)NC2=CC=CC=C2C1=O</td>\n",
       "      <td>O=C(C1=CC=C(CN2C(=O)NC3=CC=CC=C3C2=O)C=C1)N1CC...</td>\n",
       "      <td>N#CC1=C(NC(=O)C2CCCCCC2[NH3+])SC2=C1CCC2</td>\n",
       "    </tr>\n",
       "    <tr>\n",
       "      <th>2</th>\n",
       "      <td>CCOCC1=CC=CC=C1CN1C(=O)NC2=CC=CC=C2C1=O</td>\n",
       "      <td>O=C(C1=CC=C(CN2C(=O)NC3=CC=CC=C3C2=O)C=C1)N1CC...</td>\n",
       "      <td>CC1CC2=CC=CC=C2N1CC(=O)NC1=C(C#N)C2=C(CCCC2)S1</td>\n",
       "    </tr>\n",
       "    <tr>\n",
       "      <th>3</th>\n",
       "      <td>CCOCC1=CC=CC=C1CN1C(=O)NC2=CC=CC=C2C1=O</td>\n",
       "      <td>O=C(C1=CC=C(CN2C(=O)NC3=CC=CC=C3C2=O)C=C1)N1CC...</td>\n",
       "      <td>COC(=O)N1CCC2=C(C1)SC(NC(=O)C1=NC3=CC=CC=C3S1)...</td>\n",
       "    </tr>\n",
       "    <tr>\n",
       "      <th>4</th>\n",
       "      <td>CCOCC1=CC=CC=C1CN1C(=O)NC2=CC=CC=C2C1=O</td>\n",
       "      <td>O=C(C1=CC=C(CN2C(=O)NC3=CC=CC=C3C2=O)C=C1)N1CC...</td>\n",
       "      <td>CC1=CC=C(NC(=O)CC2=COC3=CC(C)=CC=C23)C(Cl)=C1</td>\n",
       "    </tr>\n",
       "    <tr>\n",
       "      <th>...</th>\n",
       "      <td>...</td>\n",
       "      <td>...</td>\n",
       "      <td>...</td>\n",
       "    </tr>\n",
       "    <tr>\n",
       "      <th>2315</th>\n",
       "      <td>O=C(CCCCO)NCC1=CC=CC2=CC=CC=C12</td>\n",
       "      <td>CC1=CC=C(C)C(NC(=O)CC2=CC=CC3=CC=CC=C23)=C1</td>\n",
       "      <td>O=C(C1=CC=C(CN2C(=O)NC3=CC=CC=C3C2=O)C=C1)N1CC...</td>\n",
       "    </tr>\n",
       "    <tr>\n",
       "      <th>2316</th>\n",
       "      <td>O=C(CCCCO)NCC1=CC=CC2=CC=CC=C12</td>\n",
       "      <td>CC1=CC=C(C)C(NC(=O)CC2=CC=CC3=CC=CC=C23)=C1</td>\n",
       "      <td>CC(=O)NC1=CC=C(NC2=NC(C3=CC=CS3)=CS2)C=C1</td>\n",
       "    </tr>\n",
       "    <tr>\n",
       "      <th>2317</th>\n",
       "      <td>O=C(CCCCO)NCC1=CC=CC2=CC=CC=C12</td>\n",
       "      <td>CC1=CC=C(C)C(NC(=O)CC2=CC=CC3=CC=CC=C23)=C1</td>\n",
       "      <td>CCCC(=O)NC1=C(C#N)C2=C(CCCCC2)S1</td>\n",
       "    </tr>\n",
       "    <tr>\n",
       "      <th>2318</th>\n",
       "      <td>O=C(CCCCO)NCC1=CC=CC2=CC=CC=C12</td>\n",
       "      <td>CC1=CC=C(C)C(NC(=O)CC2=CC=CC3=CC=CC=C23)=C1</td>\n",
       "      <td>[NH3+]CC1=CC=C(C2=NC(C3=CC=C(Cl)C=C3)=CS2)C=C1</td>\n",
       "    </tr>\n",
       "    <tr>\n",
       "      <th>2319</th>\n",
       "      <td>O=C(CCCCO)NCC1=CC=CC2=CC=CC=C12</td>\n",
       "      <td>CC1=CC=C(C)C(NC(=O)CC2=CC=CC3=CC=CC=C23)=C1</td>\n",
       "      <td>CC1CC(C(=O)NC2=C(C#N)C3=C(CCCCCC3)S2)CC(C)O1</td>\n",
       "    </tr>\n",
       "  </tbody>\n",
       "</table>\n",
       "<p>2320 rows × 3 columns</p>\n",
       "</div>"
      ],
      "text/plain": [
       "                                            0  \\\n",
       "0     CCOCC1=CC=CC=C1CN1C(=O)NC2=CC=CC=C2C1=O   \n",
       "1     CCOCC1=CC=CC=C1CN1C(=O)NC2=CC=CC=C2C1=O   \n",
       "2     CCOCC1=CC=CC=C1CN1C(=O)NC2=CC=CC=C2C1=O   \n",
       "3     CCOCC1=CC=CC=C1CN1C(=O)NC2=CC=CC=C2C1=O   \n",
       "4     CCOCC1=CC=CC=C1CN1C(=O)NC2=CC=CC=C2C1=O   \n",
       "...                                       ...   \n",
       "2315          O=C(CCCCO)NCC1=CC=CC2=CC=CC=C12   \n",
       "2316          O=C(CCCCO)NCC1=CC=CC2=CC=CC=C12   \n",
       "2317          O=C(CCCCO)NCC1=CC=CC2=CC=CC=C12   \n",
       "2318          O=C(CCCCO)NCC1=CC=CC2=CC=CC=C12   \n",
       "2319          O=C(CCCCO)NCC1=CC=CC2=CC=CC=C12   \n",
       "\n",
       "                                                      1  \\\n",
       "0     O=C(C1=CC=C(CN2C(=O)NC3=CC=CC=C3C2=O)C=C1)N1CC...   \n",
       "1     O=C(C1=CC=C(CN2C(=O)NC3=CC=CC=C3C2=O)C=C1)N1CC...   \n",
       "2     O=C(C1=CC=C(CN2C(=O)NC3=CC=CC=C3C2=O)C=C1)N1CC...   \n",
       "3     O=C(C1=CC=C(CN2C(=O)NC3=CC=CC=C3C2=O)C=C1)N1CC...   \n",
       "4     O=C(C1=CC=C(CN2C(=O)NC3=CC=CC=C3C2=O)C=C1)N1CC...   \n",
       "...                                                 ...   \n",
       "2315        CC1=CC=C(C)C(NC(=O)CC2=CC=CC3=CC=CC=C23)=C1   \n",
       "2316        CC1=CC=C(C)C(NC(=O)CC2=CC=CC3=CC=CC=C23)=C1   \n",
       "2317        CC1=CC=C(C)C(NC(=O)CC2=CC=CC3=CC=CC=C23)=C1   \n",
       "2318        CC1=CC=C(C)C(NC(=O)CC2=CC=CC3=CC=CC=C23)=C1   \n",
       "2319        CC1=CC=C(C)C(NC(=O)CC2=CC=CC3=CC=CC=C23)=C1   \n",
       "\n",
       "                                                      2  \n",
       "0       CC1=NC(C2=CC=C(NC(=O)CC3=CC=C(Cl)C=C3)C=C2)=CS1  \n",
       "1              N#CC1=C(NC(=O)C2CCCCCC2[NH3+])SC2=C1CCC2  \n",
       "2        CC1CC2=CC=CC=C2N1CC(=O)NC1=C(C#N)C2=C(CCCC2)S1  \n",
       "3     COC(=O)N1CCC2=C(C1)SC(NC(=O)C1=NC3=CC=CC=C3S1)...  \n",
       "4         CC1=CC=C(NC(=O)CC2=COC3=CC(C)=CC=C23)C(Cl)=C1  \n",
       "...                                                 ...  \n",
       "2315  O=C(C1=CC=C(CN2C(=O)NC3=CC=CC=C3C2=O)C=C1)N1CC...  \n",
       "2316          CC(=O)NC1=CC=C(NC2=NC(C3=CC=CS3)=CS2)C=C1  \n",
       "2317                   CCCC(=O)NC1=C(C#N)C2=C(CCCCC2)S1  \n",
       "2318     [NH3+]CC1=CC=C(C2=NC(C3=CC=C(Cl)C=C3)=CS2)C=C1  \n",
       "2319       CC1CC(C(=O)NC2=C(C#N)C3=C(CCCCCC3)S2)CC(C)O1  \n",
       "\n",
       "[2320 rows x 3 columns]"
      ]
     },
     "execution_count": 31,
     "metadata": {},
     "output_type": "execute_result"
    }
   ],
   "source": [
    "df_triplet"
   ]
  },
  {
   "cell_type": "code",
   "execution_count": null,
   "id": "52111c7f",
   "metadata": {},
   "outputs": [],
   "source": []
  }
 ],
 "metadata": {
  "kernelspec": {
   "display_name": "Python 3",
   "language": "python",
   "name": "python3"
  },
  "language_info": {
   "codemirror_mode": {
    "name": "ipython",
    "version": 3
   },
   "file_extension": ".py",
   "mimetype": "text/x-python",
   "name": "python",
   "nbconvert_exporter": "python",
   "pygments_lexer": "ipython3",
   "version": "3.6.15"
  }
 },
 "nbformat": 4,
 "nbformat_minor": 5
}
