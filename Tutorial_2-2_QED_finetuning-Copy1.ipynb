{
 "cells": [
  {
   "cell_type": "markdown",
   "id": "c392c41a",
   "metadata": {},
   "source": [
    "# Tutorial - Step2 : MTMR finetuning with Reinforcement learning"
   ]
  },
  {
   "cell_type": "markdown",
   "id": "454c7c96",
   "metadata": {},
   "source": [
    "## 1. Import requirements"
   ]
  },
  {
   "cell_type": "code",
   "execution_count": 1,
   "id": "ce232a72",
   "metadata": {},
   "outputs": [],
   "source": [
    "import os\n",
    "import pandas as pd\n",
    "import torch\n",
    "import time\n",
    "import matplotlib.pyplot as plt"
   ]
  },
  {
   "cell_type": "code",
   "execution_count": 2,
   "id": "cafefbdb",
   "metadata": {},
   "outputs": [],
   "source": [
    "from MTMR.dataset import TrainingSmilesDataset, ValidationSmilesDataset\n",
    "from MTMR.vae import SmilesAutoencoder, RewardFunction\n",
    "from MTMR.properties import drd2, qed, similarity"
   ]
  },
  {
   "cell_type": "markdown",
   "id": "5cd39a1b",
   "metadata": {},
   "source": [
    "## 2. Configure GPU (if available)"
   ]
  },
  {
   "cell_type": "code",
   "execution_count": 3,
   "id": "b035e655",
   "metadata": {},
   "outputs": [
    {
     "name": "stdout",
     "output_type": "stream",
     "text": [
      "cuda:0\n"
     ]
    }
   ],
   "source": [
    "use_cuda = torch.cuda.is_available()\n",
    "device = torch.device(\"cuda:0\" if use_cuda else \"cpu\")\n",
    "print(device)"
   ]
  },
  {
   "cell_type": "markdown",
   "id": "c43c98f6",
   "metadata": {},
   "source": [
    "## 3. Specify a target property"
   ]
  },
  {
   "cell_type": "code",
   "execution_count": 4,
   "id": "a2b2f0ad",
   "metadata": {},
   "outputs": [],
   "source": [
    "PROPERTY_NAME = \"qed\"\n",
    "\n",
    "SCORING_PROPERTY_FT = qed\n",
    "SCORING_TANIMOTO_FT = similarity\n",
    "\n",
    "## Configure the parameters of a reward function for the target property\n",
    "threshold_property = 0.75\n",
    "threshold_similarity = 0.3"
   ]
  },
  {
   "cell_type": "markdown",
   "id": "ea6e78b4",
   "metadata": {},
   "source": [
    "## 4. Set directories (for inputs and outputs)¶"
   ]
  },
  {
   "cell_type": "code",
   "execution_count": 5,
   "id": "fe158b0a",
   "metadata": {},
   "outputs": [],
   "source": [
    "input_data_dir = os.path.join(\"DATA\", PROPERTY_NAME)\n",
    "input_ckpt_dir = os.path.join(\"outputs_Tutorial_1_MTMR_pretraining\", PROPERTY_NAME)"
   ]
  },
  {
   "cell_type": "code",
   "execution_count": 6,
   "id": "daa97fec",
   "metadata": {},
   "outputs": [],
   "source": [
    "_output_dir = \"outputs_Tutorial_2_MTMR_finetuning-Copy1\"\n",
    "if not os.path.exists(_output_dir):\n",
    "    os.mkdir(_output_dir)\n",
    "\n",
    "output_dir = os.path.join(_output_dir, PROPERTY_NAME)\n",
    "if not os.path.exists(output_dir):\n",
    "    os.mkdir(output_dir)"
   ]
  },
  {
   "cell_type": "markdown",
   "id": "7ee1f431",
   "metadata": {},
   "source": [
    "## 5. Set file names"
   ]
  },
  {
   "cell_type": "code",
   "execution_count": 7,
   "id": "f33c8f39",
   "metadata": {},
   "outputs": [],
   "source": [
    "filepath_train = os.path.join(input_data_dir, \"rdkit_train_triplet.txt\")\n",
    "filepath_valid = os.path.join(input_data_dir, \"rdkit_valid.txt\")"
   ]
  },
  {
   "cell_type": "code",
   "execution_count": 8,
   "id": "3d9c9c6e",
   "metadata": {},
   "outputs": [],
   "source": [
    "filepath_pretrain_ckpt     = os.path.join(input_ckpt_dir, \"checkpoints.pt\")\n",
    "filepath_pretrain_configs  = os.path.join(input_ckpt_dir, \"configs.csv\")\n",
    "filepath_pretrain_char2idx = os.path.join(input_ckpt_dir, \"char2idx.csv\")"
   ]
  },
  {
   "cell_type": "code",
   "execution_count": 9,
   "id": "7a7beb72",
   "metadata": {},
   "outputs": [],
   "source": [
    "filepath_char2idx      = os.path.join(output_dir, \"char2idx.csv\")\n",
    "filepath_configs       = os.path.join(output_dir, \"configs.csv\")\n",
    "filepath_checkpoint    = os.path.join(output_dir, \"checkpoints.pt\")\n",
    "filepath_history       = os.path.join(output_dir, \"history.csv\")\n",
    "filepath_history_valid = os.path.join(output_dir, \"history_valid.csv\")"
   ]
  },
  {
   "cell_type": "markdown",
   "id": "45f3256a",
   "metadata": {},
   "source": [
    "## 6. Load datasets (for training and validation)"
   ]
  },
  {
   "cell_type": "code",
   "execution_count": 10,
   "id": "d7235bc9",
   "metadata": {},
   "outputs": [],
   "source": [
    "dataset = TrainingSmilesDataset(filepath_train, filepath_char2idx=filepath_pretrain_char2idx, device=device)\n",
    "dataset.save_char2idx(filepath_char2idx)\n",
    "dataset_valid = ValidationSmilesDataset(filepath_valid, filepath_char2idx, device=device)"
   ]
  },
  {
   "cell_type": "markdown",
   "id": "93b2a7a5",
   "metadata": {},
   "source": [
    "## 7. Load a pretrained generator of MTMR"
   ]
  },
  {
   "cell_type": "code",
   "execution_count": 11,
   "id": "3678c3b4",
   "metadata": {},
   "outputs": [],
   "source": [
    "## Model configuration\n",
    "model_configs = {\"hidden_size\"    :None,\n",
    "                 \"latent_size\"    :None,\n",
    "                 \"num_layers\"     :None,\n",
    "                 \"vocab_size\"     :None,\n",
    "                 \"sos_idx\"        :None,\n",
    "                 \"eos_idx\"        :None,\n",
    "                 \"pad_idx\"        :None,\n",
    "                 \"device\"         :device,\n",
    "                 \"filepath_config\":filepath_pretrain_configs}\n",
    "\n",
    "## Model initialization\n",
    "generator = SmilesAutoencoder(**model_configs)\n",
    "\n",
    "## Load pretrained model\n",
    "generator.load_model(filepath_pretrain_ckpt)\n",
    "\n",
    "## Configuration save\n",
    "generator.save_config(filepath_configs)"
   ]
  },
  {
   "cell_type": "markdown",
   "id": "00311408",
   "metadata": {},
   "source": [
    "## 8. Define a reward function"
   ]
  },
  {
   "cell_type": "code",
   "execution_count": 12,
   "id": "989178db",
   "metadata": {},
   "outputs": [],
   "source": [
    "reward_ft = RewardFunction(similarity_ft=SCORING_TANIMOTO_FT,\n",
    "                           scoring_ft=SCORING_PROPERTY_FT,\n",
    "                           threshold_property=threshold_property,\n",
    "                           threshold_similarity=threshold_similarity)"
   ]
  },
  {
   "cell_type": "markdown",
   "id": "5ba2d913",
   "metadata": {},
   "source": [
    "## 9. Train"
   ]
  },
  {
   "cell_type": "code",
   "execution_count": null,
   "id": "f7ee070f",
   "metadata": {
    "scrolled": true
   },
   "outputs": [
    {
     "name": "stdout",
     "output_type": "stream",
     "text": [
      "[000000/002000]  loss: 0.020  reward: 0.257  similarity: 0.645  property[0]: 0.814  valid_ratio(va): 0.997  similarity(va): 0.363  property(va): 0.751\n",
      "[000010/002000]  loss: 0.021  reward: 0.303  similarity: 0.645  property[0]: 0.826  valid_ratio(va): 1.000  similarity(va): 0.376  property(va): 0.781\n",
      "[000020/002000]  loss: 0.025  reward: 0.347  similarity: 0.584  property[0]: 0.837  valid_ratio(va): 0.997  similarity(va): 0.371  property(va): 0.793\n",
      "[000030/002000]  loss: 0.027  reward: 0.390  similarity: 0.566  property[0]: 0.848  valid_ratio(va): 1.000  similarity(va): 0.372  property(va): 0.800\n",
      "[000040/002000]  loss: 0.028  reward: 0.386  similarity: 0.558  property[0]: 0.846  valid_ratio(va): 1.000  similarity(va): 0.370  property(va): 0.806\n",
      "[000050/002000]  loss: 0.030  reward: 0.446  similarity: 0.529  property[0]: 0.861  valid_ratio(va): 1.000  similarity(va): 0.370  property(va): 0.808\n",
      "[000060/002000]  loss: 0.028  reward: 0.421  similarity: 0.521  property[0]: 0.855  valid_ratio(va): 1.000  similarity(va): 0.368  property(va): 0.812\n",
      "[000070/002000]  loss: 0.026  reward: 0.418  similarity: 0.544  property[0]: 0.855  valid_ratio(va): 0.997  similarity(va): 0.366  property(va): 0.812\n",
      "[000080/002000]  loss: 0.026  reward: 0.406  similarity: 0.532  property[0]: 0.851  valid_ratio(va): 0.997  similarity(va): 0.366  property(va): 0.813\n",
      "[000090/002000]  loss: 0.026  reward: 0.460  similarity: 0.534  property[0]: 0.865  valid_ratio(va): 1.000  similarity(va): 0.364  property(va): 0.822\n",
      "[000100/002000]  loss: 0.027  reward: 0.434  similarity: 0.534  property[0]: 0.858  valid_ratio(va): 1.000  similarity(va): 0.366  property(va): 0.823\n",
      "[000110/002000]  loss: 0.028  reward: 0.420  similarity: 0.516  property[0]: 0.855  valid_ratio(va): 0.997  similarity(va): 0.363  property(va): 0.823\n",
      "[000120/002000]  loss: 0.026  reward: 0.434  similarity: 0.508  property[0]: 0.858  valid_ratio(va): 0.997  similarity(va): 0.364  property(va): 0.823\n",
      "[000130/002000]  loss: 0.028  reward: 0.439  similarity: 0.529  property[0]: 0.860  valid_ratio(va): 1.000  similarity(va): 0.365  property(va): 0.828\n",
      "[000140/002000]  loss: 0.030  reward: 0.450  similarity: 0.506  property[0]: 0.863  valid_ratio(va): 1.000  similarity(va): 0.362  property(va): 0.827\n",
      "[000150/002000]  loss: 0.026  reward: 0.457  similarity: 0.523  property[0]: 0.864  valid_ratio(va): 1.000  similarity(va): 0.359  property(va): 0.829\n",
      "[000160/002000]  loss: 0.029  reward: 0.421  similarity: 0.515  property[0]: 0.855  valid_ratio(va): 1.000  similarity(va): 0.359  property(va): 0.831\n",
      "[000170/002000]  loss: 0.029  reward: 0.439  similarity: 0.508  property[0]: 0.860  valid_ratio(va): 0.997  similarity(va): 0.353  property(va): 0.831\n",
      "[000180/002000]  loss: 0.029  reward: 0.459  similarity: 0.497  property[0]: 0.865  valid_ratio(va): 1.000  similarity(va): 0.359  property(va): 0.833\n",
      "[000190/002000]  loss: 0.027  reward: 0.443  similarity: 0.515  property[0]: 0.861  valid_ratio(va): 1.000  similarity(va): 0.357  property(va): 0.836\n",
      "[000200/002000]  loss: 0.032  reward: 0.488  similarity: 0.503  property[0]: 0.872  valid_ratio(va): 1.000  similarity(va): 0.357  property(va): 0.834\n",
      "[000210/002000]  loss: 0.028  reward: 0.471  similarity: 0.515  property[0]: 0.868  valid_ratio(va): 0.997  similarity(va): 0.359  property(va): 0.834\n",
      "[000220/002000]  loss: 0.029  reward: 0.464  similarity: 0.517  property[0]: 0.866  valid_ratio(va): 0.997  similarity(va): 0.357  property(va): 0.834\n",
      "[000230/002000]  loss: 0.030  reward: 0.472  similarity: 0.486  property[0]: 0.868  valid_ratio(va): 0.997  similarity(va): 0.352  property(va): 0.837\n",
      "[000240/002000]  loss: 0.030  reward: 0.462  similarity: 0.507  property[0]: 0.865  valid_ratio(va): 1.000  similarity(va): 0.352  property(va): 0.840\n",
      "[000250/002000]  loss: 0.029  reward: 0.467  similarity: 0.503  property[0]: 0.867  valid_ratio(va): 1.000  similarity(va): 0.353  property(va): 0.840\n",
      "[000260/002000]  loss: 0.027  reward: 0.476  similarity: 0.521  property[0]: 0.869  valid_ratio(va): 0.997  similarity(va): 0.350  property(va): 0.838\n",
      "[000270/002000]  loss: 0.028  reward: 0.459  similarity: 0.510  property[0]: 0.865  valid_ratio(va): 1.000  similarity(va): 0.352  property(va): 0.842\n",
      "[000280/002000]  loss: 0.029  reward: 0.476  similarity: 0.508  property[0]: 0.869  valid_ratio(va): 1.000  similarity(va): 0.356  property(va): 0.841\n",
      "[000290/002000]  loss: 0.031  reward: 0.478  similarity: 0.496  property[0]: 0.869  valid_ratio(va): 0.997  similarity(va): 0.353  property(va): 0.838\n",
      "[000300/002000]  loss: 0.028  reward: 0.489  similarity: 0.486  property[0]: 0.872  valid_ratio(va): 1.000  similarity(va): 0.353  property(va): 0.840\n",
      "[000310/002000]  loss: 0.030  reward: 0.504  similarity: 0.489  property[0]: 0.876  valid_ratio(va): 0.997  similarity(va): 0.355  property(va): 0.839\n",
      "[000320/002000]  loss: 0.029  reward: 0.483  similarity: 0.495  property[0]: 0.871  valid_ratio(va): 1.000  similarity(va): 0.354  property(va): 0.842\n",
      "[000330/002000]  loss: 0.028  reward: 0.461  similarity: 0.511  property[0]: 0.865  valid_ratio(va): 0.997  similarity(va): 0.355  property(va): 0.839\n",
      "[000340/002000]  loss: 0.028  reward: 0.489  similarity: 0.500  property[0]: 0.872  valid_ratio(va): 1.000  similarity(va): 0.356  property(va): 0.842\n",
      "[000350/002000]  loss: 0.027  reward: 0.497  similarity: 0.490  property[0]: 0.874  valid_ratio(va): 1.000  similarity(va): 0.355  property(va): 0.844\n",
      "[000360/002000]  loss: 0.028  reward: 0.473  similarity: 0.489  property[0]: 0.868  valid_ratio(va): 0.997  similarity(va): 0.355  property(va): 0.839\n",
      "[000370/002000]  loss: 0.030  reward: 0.484  similarity: 0.498  property[0]: 0.871  valid_ratio(va): 0.997  similarity(va): 0.356  property(va): 0.840\n",
      "[000380/002000]  loss: 0.029  reward: 0.476  similarity: 0.492  property[0]: 0.869  valid_ratio(va): 1.000  similarity(va): 0.359  property(va): 0.843\n",
      "[000390/002000]  loss: 0.027  reward: 0.498  similarity: 0.504  property[0]: 0.875  valid_ratio(va): 0.997  similarity(va): 0.356  property(va): 0.840\n",
      "[000400/002000]  loss: 0.027  reward: 0.448  similarity: 0.518  property[0]: 0.862  valid_ratio(va): 0.997  similarity(va): 0.357  property(va): 0.842\n",
      "[000410/002000]  loss: 0.029  reward: 0.506  similarity: 0.496  property[0]: 0.876  valid_ratio(va): 1.000  similarity(va): 0.357  property(va): 0.845\n",
      "[000420/002000]  loss: 0.030  reward: 0.471  similarity: 0.515  property[0]: 0.868  valid_ratio(va): 1.000  similarity(va): 0.355  property(va): 0.844\n",
      "[000430/002000]  loss: 0.030  reward: 0.507  similarity: 0.505  property[0]: 0.877  valid_ratio(va): 1.000  similarity(va): 0.353  property(va): 0.846\n",
      "[000440/002000]  loss: 0.029  reward: 0.507  similarity: 0.495  property[0]: 0.877  valid_ratio(va): 0.994  similarity(va): 0.352  property(va): 0.841\n",
      "[000450/002000]  loss: 0.028  reward: 0.467  similarity: 0.488  property[0]: 0.867  valid_ratio(va): 1.000  similarity(va): 0.354  property(va): 0.848\n",
      "[000460/002000]  loss: 0.028  reward: 0.500  similarity: 0.495  property[0]: 0.875  valid_ratio(va): 0.997  similarity(va): 0.351  property(va): 0.845\n",
      "[000470/002000]  loss: 0.033  reward: 0.498  similarity: 0.499  property[0]: 0.874  valid_ratio(va): 1.000  similarity(va): 0.356  property(va): 0.845\n",
      "[000480/002000]  loss: 0.032  reward: 0.497  similarity: 0.480  property[0]: 0.874  valid_ratio(va): 1.000  similarity(va): 0.350  property(va): 0.847\n",
      "[000490/002000]  loss: 0.025  reward: 0.496  similarity: 0.510  property[0]: 0.874  valid_ratio(va): 1.000  similarity(va): 0.356  property(va): 0.847\n",
      "[000500/002000]  loss: 0.029  reward: 0.502  similarity: 0.479  property[0]: 0.876  valid_ratio(va): 0.997  similarity(va): 0.354  property(va): 0.846\n",
      "[000510/002000]  loss: 0.028  reward: 0.509  similarity: 0.485  property[0]: 0.877  valid_ratio(va): 0.994  similarity(va): 0.350  property(va): 0.842\n",
      "[000520/002000]  loss: 0.031  reward: 0.506  similarity: 0.482  property[0]: 0.877  valid_ratio(va): 1.000  similarity(va): 0.355  property(va): 0.847\n",
      "[000530/002000]  loss: 0.030  reward: 0.481  similarity: 0.516  property[0]: 0.870  valid_ratio(va): 0.997  similarity(va): 0.352  property(va): 0.846\n",
      "[000540/002000]  loss: 0.030  reward: 0.479  similarity: 0.510  property[0]: 0.870  valid_ratio(va): 1.000  similarity(va): 0.355  property(va): 0.847\n"
     ]
    },
    {
     "name": "stdout",
     "output_type": "stream",
     "text": [
      "[000550/002000]  loss: 0.030  reward: 0.485  similarity: 0.475  property[0]: 0.871  valid_ratio(va): 1.000  similarity(va): 0.356  property(va): 0.851\n",
      "[000560/002000]  loss: 0.031  reward: 0.527  similarity: 0.497  property[0]: 0.882  valid_ratio(va): 1.000  similarity(va): 0.358  property(va): 0.850\n",
      "[000570/002000]  loss: 0.028  reward: 0.513  similarity: 0.501  property[0]: 0.878  valid_ratio(va): 0.997  similarity(va): 0.357  property(va): 0.849\n",
      "[000580/002000]  loss: 0.028  reward: 0.467  similarity: 0.510  property[0]: 0.867  valid_ratio(va): 0.997  similarity(va): 0.354  property(va): 0.849\n",
      "[000590/002000]  loss: 0.032  reward: 0.499  similarity: 0.503  property[0]: 0.875  valid_ratio(va): 1.000  similarity(va): 0.354  property(va): 0.852\n",
      "[000600/002000]  loss: 0.030  reward: 0.501  similarity: 0.497  property[0]: 0.875  valid_ratio(va): 1.000  similarity(va): 0.354  property(va): 0.851\n",
      "[000610/002000]  loss: 0.030  reward: 0.516  similarity: 0.494  property[0]: 0.879  valid_ratio(va): 1.000  similarity(va): 0.354  property(va): 0.853\n",
      "[000620/002000]  loss: 0.032  reward: 0.504  similarity: 0.500  property[0]: 0.876  valid_ratio(va): 0.997  similarity(va): 0.350  property(va): 0.850\n",
      "[000630/002000]  loss: 0.032  reward: 0.484  similarity: 0.477  property[0]: 0.871  valid_ratio(va): 1.000  similarity(va): 0.352  property(va): 0.852\n",
      "[000640/002000]  loss: 0.032  reward: 0.540  similarity: 0.472  property[0]: 0.885  valid_ratio(va): 0.997  similarity(va): 0.349  property(va): 0.850\n",
      "[000650/002000]  loss: 0.029  reward: 0.514  similarity: 0.479  property[0]: 0.878  valid_ratio(va): 1.000  similarity(va): 0.352  property(va): 0.854\n",
      "[000660/002000]  loss: 0.029  reward: 0.484  similarity: 0.496  property[0]: 0.871  valid_ratio(va): 1.000  similarity(va): 0.351  property(va): 0.854\n",
      "[000670/002000]  loss: 0.027  reward: 0.507  similarity: 0.493  property[0]: 0.877  valid_ratio(va): 0.994  similarity(va): 0.348  property(va): 0.850\n",
      "[000680/002000]  loss: 0.030  reward: 0.506  similarity: 0.491  property[0]: 0.877  valid_ratio(va): 1.000  similarity(va): 0.350  property(va): 0.854\n",
      "[000690/002000]  loss: 0.027  reward: 0.512  similarity: 0.513  property[0]: 0.878  valid_ratio(va): 0.997  similarity(va): 0.353  property(va): 0.851\n",
      "[000700/002000]  loss: 0.028  reward: 0.502  similarity: 0.493  property[0]: 0.875  valid_ratio(va): 0.997  similarity(va): 0.347  property(va): 0.854\n",
      "[000710/002000]  loss: 0.032  reward: 0.529  similarity: 0.490  property[0]: 0.882  valid_ratio(va): 1.000  similarity(va): 0.348  property(va): 0.855\n",
      "[000720/002000]  loss: 0.029  reward: 0.557  similarity: 0.481  property[0]: 0.889  valid_ratio(va): 0.997  similarity(va): 0.352  property(va): 0.853\n",
      "[000730/002000]  loss: 0.029  reward: 0.518  similarity: 0.488  property[0]: 0.879  valid_ratio(va): 1.000  similarity(va): 0.354  property(va): 0.853\n",
      "[000740/002000]  loss: 0.028  reward: 0.512  similarity: 0.505  property[0]: 0.878  valid_ratio(va): 1.000  similarity(va): 0.350  property(va): 0.856\n",
      "[000750/002000]  loss: 0.032  reward: 0.528  similarity: 0.475  property[0]: 0.882  valid_ratio(va): 1.000  similarity(va): 0.352  property(va): 0.854\n",
      "[000760/002000]  loss: 0.030  reward: 0.526  similarity: 0.507  property[0]: 0.882  valid_ratio(va): 1.000  similarity(va): 0.352  property(va): 0.855\n",
      "[000770/002000]  loss: 0.032  reward: 0.518  similarity: 0.482  property[0]: 0.879  valid_ratio(va): 1.000  similarity(va): 0.349  property(va): 0.856\n",
      "[000780/002000]  loss: 0.030  reward: 0.490  similarity: 0.501  property[0]: 0.873  valid_ratio(va): 0.997  similarity(va): 0.349  property(va): 0.853\n",
      "[000790/002000]  loss: 0.033  reward: 0.536  similarity: 0.471  property[0]: 0.884  valid_ratio(va): 1.000  similarity(va): 0.348  property(va): 0.853\n",
      "[000800/002000]  loss: 0.028  reward: 0.518  similarity: 0.487  property[0]: 0.879  valid_ratio(va): 0.997  similarity(va): 0.349  property(va): 0.852\n",
      "[000810/002000]  loss: 0.031  reward: 0.506  similarity: 0.501  property[0]: 0.876  valid_ratio(va): 0.997  similarity(va): 0.353  property(va): 0.852\n",
      "[000820/002000]  loss: 0.031  reward: 0.550  similarity: 0.506  property[0]: 0.887  valid_ratio(va): 0.997  similarity(va): 0.354  property(va): 0.852\n",
      "[000830/002000]  loss: 0.026  reward: 0.484  similarity: 0.497  property[0]: 0.871  valid_ratio(va): 0.997  similarity(va): 0.351  property(va): 0.852\n",
      "[000840/002000]  loss: 0.031  reward: 0.522  similarity: 0.479  property[0]: 0.880  valid_ratio(va): 0.997  similarity(va): 0.351  property(va): 0.852\n",
      "[000850/002000]  loss: 0.029  reward: 0.505  similarity: 0.502  property[0]: 0.876  valid_ratio(va): 0.994  similarity(va): 0.350  property(va): 0.850\n",
      "[000860/002000]  loss: 0.029  reward: 0.526  similarity: 0.494  property[0]: 0.881  valid_ratio(va): 0.997  similarity(va): 0.349  property(va): 0.855\n",
      "[000870/002000]  loss: 0.028  reward: 0.516  similarity: 0.461  property[0]: 0.879  valid_ratio(va): 0.997  similarity(va): 0.349  property(va): 0.854\n",
      "[000880/002000]  loss: 0.031  reward: 0.521  similarity: 0.472  property[0]: 0.880  valid_ratio(va): 1.000  similarity(va): 0.354  property(va): 0.856\n",
      "[000890/002000]  loss: 0.028  reward: 0.516  similarity: 0.498  property[0]: 0.879  valid_ratio(va): 0.997  similarity(va): 0.352  property(va): 0.854\n",
      "[000900/002000]  loss: 0.029  reward: 0.517  similarity: 0.498  property[0]: 0.879  valid_ratio(va): 0.994  similarity(va): 0.348  property(va): 0.853\n"
     ]
    }
   ],
   "source": [
    "df_history, df_history_valid = generator.policy_gradient(dataset, reward_ft,\n",
    "                                                         validation_dataset=dataset_valid,\n",
    "                                                         checkpoint_filepath=filepath_checkpoint,\n",
    "                                                         learning_rate=2e-4)\n",
    "\n",
    "df_history.to_csv(filepath_history, index=False)\n",
    "df_history_valid.to_csv(filepath_history_valid, index=False)"
   ]
  },
  {
   "cell_type": "markdown",
   "id": "982770a7",
   "metadata": {},
   "source": [
    "## 10. Visualize for reward & loss analysis"
   ]
  },
  {
   "cell_type": "code",
   "execution_count": null,
   "id": "0e48c355",
   "metadata": {},
   "outputs": [],
   "source": [
    "fig, axes = plt.subplots(4,1,figsize=(8,8))\n",
    "\n",
    "axes[0].plot(df_history.loc[:,\"LOSS\"], label=\"Loss\")\n",
    "axes[1].plot(df_history.loc[:,\"REWARD\"], label=\"Reward\")\n",
    "axes[2].plot(df_history.loc[:,\"SIMILARITY\"], label=\"Tanimoto Coeff.\")\n",
    "axes[3].plot(df_history.loc[:,\"PROPERTY\"], label=f\"Property ({PROPERTY_NAME})\")\n",
    "\n",
    "axes[3].set_xlabel(\"Iteration\")\n",
    "for ax in axes:\n",
    "    ax.legend(loc='best')\n",
    "\n",
    "plt.tight_layout()\n",
    "plt.show()"
   ]
  },
  {
   "cell_type": "code",
   "execution_count": null,
   "id": "5aea3557",
   "metadata": {},
   "outputs": [],
   "source": [
    "fig, axes = plt.subplots(3,1,figsize=(8,4))\n",
    "\n",
    "axes[0].plot(df_history_valid.loc[:,\"VALID_RATIO\"], label=\"Validity\")\n",
    "axes[1].plot(df_history_valid.loc[:,\"AVERAGE_SIMILARITY\"], label=\"Tanimoto coeff.\")\n",
    "axes[2].plot(df_history_valid.loc[:,\"AVERAGE_PROPERTY\"], label=f\"Property ({PROPERTY_NAME})\")\n",
    "\n",
    "axes[0].set_ylim(0.95, 1.005)\n",
    "\n",
    "axes[2].set_xlabel(\"Iteration\")\n",
    "for ax in axes:\n",
    "    ax.legend(loc='best')\n",
    "\n",
    "plt.tight_layout()\n",
    "plt.show()"
   ]
  },
  {
   "cell_type": "code",
   "execution_count": null,
   "id": "a9f87197",
   "metadata": {},
   "outputs": [],
   "source": []
  }
 ],
 "metadata": {
  "kernelspec": {
   "display_name": "Python 3",
   "language": "python",
   "name": "python3"
  },
  "language_info": {
   "codemirror_mode": {
    "name": "ipython",
    "version": 3
   },
   "file_extension": ".py",
   "mimetype": "text/x-python",
   "name": "python",
   "nbconvert_exporter": "python",
   "pygments_lexer": "ipython3",
   "version": "3.6.15"
  }
 },
 "nbformat": 4,
 "nbformat_minor": 5
}
