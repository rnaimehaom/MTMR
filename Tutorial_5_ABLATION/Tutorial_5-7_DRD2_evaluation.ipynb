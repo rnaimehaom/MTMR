{
 "cells": [
  {
   "cell_type": "markdown",
   "id": "b106e144",
   "metadata": {},
   "source": [
    "# Tutorial - MTMR evaluation"
   ]
  },
  {
   "cell_type": "markdown",
   "id": "aa7fbd1c",
   "metadata": {},
   "source": [
    "## 1. Import requirements"
   ]
  },
  {
   "cell_type": "code",
   "execution_count": 1,
   "id": "4762551e",
   "metadata": {},
   "outputs": [],
   "source": [
    "import os\n",
    "import sys\n",
    "import pandas as pd\n",
    "import tqdm\n",
    "import seaborn as sns\n",
    "import matplotlib.pyplot as plt"
   ]
  },
  {
   "cell_type": "code",
   "execution_count": 2,
   "id": "c3222fda",
   "metadata": {},
   "outputs": [],
   "source": [
    "sys.path = [os.path.abspath(os.path.join(os.getcwd(), os.pardir))] + sys.path"
   ]
  },
  {
   "cell_type": "code",
   "execution_count": 3,
   "id": "dfac7a94",
   "metadata": {},
   "outputs": [],
   "source": [
    "from MTMR.evaluate import evaluate_metric\n",
    "from MTMR.properties import drd2, mcs_similarity"
   ]
  },
  {
   "cell_type": "markdown",
   "id": "88dc8d0f",
   "metadata": {},
   "source": [
    "## 2. Specify a target property"
   ]
  },
  {
   "cell_type": "code",
   "execution_count": 4,
   "id": "4ad03a9d",
   "metadata": {},
   "outputs": [],
   "source": [
    "PROPERTY_NAME = \"drd2\"\n",
    "SCORING_FT = drd2"
   ]
  },
  {
   "cell_type": "markdown",
   "id": "5d2acee5",
   "metadata": {},
   "source": [
    "## 3. Set directories (for inputs and outputs)"
   ]
  },
  {
   "cell_type": "code",
   "execution_count": 5,
   "id": "60c1179e",
   "metadata": {},
   "outputs": [],
   "source": [
    "input_data_dir = os.path.abspath(os.path.join(os.pardir, \"DATA\", PROPERTY_NAME))\n",
    "input_our_dir = f\"outputs_5-6_{PROPERTY_NAME.upper()}_translation\""
   ]
  },
  {
   "cell_type": "code",
   "execution_count": 6,
   "id": "ed891c6d",
   "metadata": {},
   "outputs": [],
   "source": [
    "output_dir = f\"outputs_5-7_{PROPERTY_NAME.upper()}_evaluation\"\n",
    "if not os.path.exists(output_dir):\n",
    "    os.mkdir(output_dir)"
   ]
  },
  {
   "cell_type": "markdown",
   "id": "7e1efdda",
   "metadata": {},
   "source": [
    "## 4. Load training and test datasets"
   ]
  },
  {
   "cell_type": "code",
   "execution_count": 7,
   "id": "6bcab055",
   "metadata": {},
   "outputs": [],
   "source": [
    "filepath_train_rdkit = os.path.join(input_data_dir, \"rdkit_train_pairs.txt\")\n",
    "filepath_test_rdkit = os.path.join(input_data_dir, \"rdkit_test.txt\")"
   ]
  },
  {
   "cell_type": "code",
   "execution_count": 8,
   "id": "a8a8a6ec",
   "metadata": {},
   "outputs": [],
   "source": [
    "df_pairs_rdkit = pd.read_csv(filepath_train_rdkit, header=None, sep=\" \")\n",
    "targets_rdkit = set(df_pairs_rdkit.iloc[:,1].values.tolist())"
   ]
  },
  {
   "cell_type": "code",
   "execution_count": 9,
   "id": "ca42b8bb",
   "metadata": {},
   "outputs": [
    {
     "name": "stderr",
     "output_type": "stream",
     "text": [
      "100%|██████████| 1000/1000 [00:03<00:00, 260.60it/s]\n"
     ]
    }
   ],
   "source": [
    "df_test_rdkit = pd.read_csv(filepath_test_rdkit, header=None, sep=\" \")\n",
    "df_test_rdkit.loc[:,1] = 0.\n",
    "\n",
    "for i in tqdm.trange(len(df_test_rdkit)):\n",
    "    smi = df_test_rdkit.iloc[i,0]\n",
    "    score = SCORING_FT(smi)\n",
    "    df_test_rdkit.iloc[i,1] = score"
   ]
  },
  {
   "cell_type": "code",
   "execution_count": 10,
   "id": "23cef9bf",
   "metadata": {},
   "outputs": [],
   "source": [
    "src2prop = {smi:prop for smi, prop in df_test_rdkit.values}"
   ]
  },
  {
   "cell_type": "markdown",
   "id": "3d9210e5",
   "metadata": {},
   "source": [
    "## 5. Load translation results generated from the test dataset"
   ]
  },
  {
   "cell_type": "code",
   "execution_count": 11,
   "id": "6312973d",
   "metadata": {},
   "outputs": [],
   "source": [
    "filepath_MTMR_00 = os.path.join(f\"{input_our_dir}_00\",  f\"MTMR_{PROPERTY_NAME.upper()}.csv\") # none of both\n",
    "filepath_MTMR_01 = os.path.join(f\"{input_our_dir}_01\",  f\"MTMR_{PROPERTY_NAME.upper()}.csv\") # no contractive\n",
    "filepath_MTMR_10 = os.path.join(f\"{input_our_dir}_10\",  f\"MTMR_{PROPERTY_NAME.upper()}.csv\") # no margin\n",
    "filepath_MTMR_11 = os.path.join(f\"{input_our_dir}_11\",  f\"MTMR_{PROPERTY_NAME.upper()}.csv\") # control"
   ]
  },
  {
   "cell_type": "code",
   "execution_count": 12,
   "id": "cdbb260d",
   "metadata": {},
   "outputs": [],
   "source": [
    "df_MTMR_00 = pd.read_csv(filepath_MTMR_00,  header=None).fillna(\"\").rename(columns={0:\"SOURCE\", 1:\"TARGET\", 2:\"SIMILARITY\", 3:\"PROPERTY\"})\n",
    "df_MTMR_01 = pd.read_csv(filepath_MTMR_01,  header=None).fillna(\"\").rename(columns={0:\"SOURCE\", 1:\"TARGET\", 2:\"SIMILARITY\", 3:\"PROPERTY\"})\n",
    "df_MTMR_10 = pd.read_csv(filepath_MTMR_10,  header=None).fillna(\"\").rename(columns={0:\"SOURCE\", 1:\"TARGET\", 2:\"SIMILARITY\", 3:\"PROPERTY\"})\n",
    "df_MTMR_11 = pd.read_csv(filepath_MTMR_11,  header=None).fillna(\"\").rename(columns={0:\"SOURCE\", 1:\"TARGET\", 2:\"SIMILARITY\", 3:\"PROPERTY\"})"
   ]
  },
  {
   "cell_type": "code",
   "execution_count": 13,
   "id": "4d6ffd8a",
   "metadata": {},
   "outputs": [],
   "source": [
    "frames_models = [('MTMR_00', df_MTMR_00),\n",
    "                 ('MTMR_01', df_MTMR_01),\n",
    "                 ('MTMR_10', df_MTMR_10),\n",
    "                 ('MTMR_11', df_MTMR_11)]"
   ]
  },
  {
   "cell_type": "code",
   "execution_count": 14,
   "id": "186fec43",
   "metadata": {},
   "outputs": [
    {
     "name": "stderr",
     "output_type": "stream",
     "text": [
      "100%|██████████| 20000/20000 [00:03<00:00, 5853.71it/s]\n",
      "100%|██████████| 20000/20000 [00:03<00:00, 5894.73it/s]\n",
      "100%|██████████| 20000/20000 [00:03<00:00, 5933.61it/s]\n",
      "100%|██████████| 20000/20000 [00:03<00:00, 5942.88it/s]\n"
     ]
    }
   ],
   "source": [
    "for name, df in frames_models:\n",
    "    df.loc[:,\"PROPERTY_SRC\"] = 0.\n",
    "    for i in tqdm.trange(len(df)):\n",
    "        smi_src = df.loc[i,\"SOURCE\"]\n",
    "        smi_tar = df.loc[i,\"TARGET\"]\n",
    "        df.loc[i,\"PROPERTY_SRC\"] = src2prop.get(smi_src)"
   ]
  },
  {
   "cell_type": "markdown",
   "id": "443d8c6b",
   "metadata": {},
   "source": [
    "## 6. Evaluate metrics"
   ]
  },
  {
   "cell_type": "code",
   "execution_count": 16,
   "id": "20763cc6",
   "metadata": {},
   "outputs": [
    {
     "name": "stderr",
     "output_type": "stream",
     "text": [
      "100%|██████████| 4/4 [03:40<00:00, 55.07s/it]\n"
     ]
    }
   ],
   "source": [
    "frames = []\n",
    "thresholds_sim = [0.4, 0.45, 0.5, 0.55, 0.6, 0.65, 0.7]\n",
    "\n",
    "for i in tqdm.trange(len(frames_models)):\n",
    "    name, df = frames_models[i]\n",
    "    for threshold_sim in thresholds_sim:\n",
    "        df_metric = evaluate_metric(df, targets_rdkit, num_decode=20,# sample_size=10, start_idx=10,\n",
    "                                    threshold_sim=threshold_sim,\n",
    "                                    threshold_pro=0.9, threshold_improve=0).rename(columns={0:name})\n",
    "\n",
    "        df_metric.loc[\"THRESHOLD_SIMILARITY\",name] = threshold_sim\n",
    "        frames.append(df_metric)"
   ]
  },
  {
   "cell_type": "code",
   "execution_count": 17,
   "id": "f22c7bc1",
   "metadata": {},
   "outputs": [],
   "source": [
    "df_merged = pd.concat(frames, axis=1).T"
   ]
  },
  {
   "cell_type": "code",
   "execution_count": 18,
   "id": "ab40df38",
   "metadata": {},
   "outputs": [
    {
     "data": {
      "text/html": [
       "<div>\n",
       "<style scoped>\n",
       "    .dataframe tbody tr th:only-of-type {\n",
       "        vertical-align: middle;\n",
       "    }\n",
       "\n",
       "    .dataframe tbody tr th {\n",
       "        vertical-align: top;\n",
       "    }\n",
       "\n",
       "    .dataframe thead th {\n",
       "        text-align: right;\n",
       "    }\n",
       "</style>\n",
       "<table border=\"1\" class=\"dataframe\">\n",
       "  <thead>\n",
       "    <tr style=\"text-align: right;\">\n",
       "      <th></th>\n",
       "      <th>VALID_RATIO</th>\n",
       "      <th>PROPERTY</th>\n",
       "      <th>IMPROVEMENT</th>\n",
       "      <th>SIMILARITY</th>\n",
       "      <th>NOVELTY</th>\n",
       "      <th>SUCCESS_PROP</th>\n",
       "      <th>SUCCESS_IMPR</th>\n",
       "      <th>DIVERSITY</th>\n",
       "      <th>THRESHOLD_SIMILARITY</th>\n",
       "    </tr>\n",
       "  </thead>\n",
       "  <tbody>\n",
       "    <tr>\n",
       "      <th>MTMR_00</th>\n",
       "      <td>1.000</td>\n",
       "      <td>0.734259</td>\n",
       "      <td>0.727588</td>\n",
       "      <td>0.308797</td>\n",
       "      <td>1.000</td>\n",
       "      <td>0.340</td>\n",
       "      <td>0.511</td>\n",
       "      <td>0.452572</td>\n",
       "      <td>0.40</td>\n",
       "    </tr>\n",
       "    <tr>\n",
       "      <th>MTMR_00</th>\n",
       "      <td>1.000</td>\n",
       "      <td>0.734259</td>\n",
       "      <td>0.727588</td>\n",
       "      <td>0.308797</td>\n",
       "      <td>1.000</td>\n",
       "      <td>0.210</td>\n",
       "      <td>0.357</td>\n",
       "      <td>0.452572</td>\n",
       "      <td>0.45</td>\n",
       "    </tr>\n",
       "    <tr>\n",
       "      <th>MTMR_00</th>\n",
       "      <td>1.000</td>\n",
       "      <td>0.734259</td>\n",
       "      <td>0.727588</td>\n",
       "      <td>0.308797</td>\n",
       "      <td>1.000</td>\n",
       "      <td>0.131</td>\n",
       "      <td>0.248</td>\n",
       "      <td>0.452572</td>\n",
       "      <td>0.50</td>\n",
       "    </tr>\n",
       "    <tr>\n",
       "      <th>MTMR_00</th>\n",
       "      <td>1.000</td>\n",
       "      <td>0.734259</td>\n",
       "      <td>0.727588</td>\n",
       "      <td>0.308797</td>\n",
       "      <td>1.000</td>\n",
       "      <td>0.068</td>\n",
       "      <td>0.153</td>\n",
       "      <td>0.452572</td>\n",
       "      <td>0.55</td>\n",
       "    </tr>\n",
       "    <tr>\n",
       "      <th>MTMR_00</th>\n",
       "      <td>1.000</td>\n",
       "      <td>0.734259</td>\n",
       "      <td>0.727588</td>\n",
       "      <td>0.308797</td>\n",
       "      <td>1.000</td>\n",
       "      <td>0.034</td>\n",
       "      <td>0.099</td>\n",
       "      <td>0.452572</td>\n",
       "      <td>0.60</td>\n",
       "    </tr>\n",
       "    <tr>\n",
       "      <th>MTMR_00</th>\n",
       "      <td>1.000</td>\n",
       "      <td>0.734259</td>\n",
       "      <td>0.727588</td>\n",
       "      <td>0.308797</td>\n",
       "      <td>1.000</td>\n",
       "      <td>0.015</td>\n",
       "      <td>0.057</td>\n",
       "      <td>0.452572</td>\n",
       "      <td>0.65</td>\n",
       "    </tr>\n",
       "    <tr>\n",
       "      <th>MTMR_00</th>\n",
       "      <td>1.000</td>\n",
       "      <td>0.734259</td>\n",
       "      <td>0.727588</td>\n",
       "      <td>0.308797</td>\n",
       "      <td>1.000</td>\n",
       "      <td>0.004</td>\n",
       "      <td>0.026</td>\n",
       "      <td>0.452572</td>\n",
       "      <td>0.70</td>\n",
       "    </tr>\n",
       "    <tr>\n",
       "      <th>MTMR_01</th>\n",
       "      <td>0.998</td>\n",
       "      <td>0.736493</td>\n",
       "      <td>0.729831</td>\n",
       "      <td>0.294434</td>\n",
       "      <td>0.998</td>\n",
       "      <td>0.295</td>\n",
       "      <td>0.468</td>\n",
       "      <td>0.449455</td>\n",
       "      <td>0.40</td>\n",
       "    </tr>\n",
       "    <tr>\n",
       "      <th>MTMR_01</th>\n",
       "      <td>0.998</td>\n",
       "      <td>0.736493</td>\n",
       "      <td>0.729831</td>\n",
       "      <td>0.294434</td>\n",
       "      <td>0.998</td>\n",
       "      <td>0.177</td>\n",
       "      <td>0.313</td>\n",
       "      <td>0.449455</td>\n",
       "      <td>0.45</td>\n",
       "    </tr>\n",
       "    <tr>\n",
       "      <th>MTMR_01</th>\n",
       "      <td>0.998</td>\n",
       "      <td>0.736493</td>\n",
       "      <td>0.729831</td>\n",
       "      <td>0.294434</td>\n",
       "      <td>0.998</td>\n",
       "      <td>0.094</td>\n",
       "      <td>0.198</td>\n",
       "      <td>0.449455</td>\n",
       "      <td>0.50</td>\n",
       "    </tr>\n",
       "    <tr>\n",
       "      <th>MTMR_01</th>\n",
       "      <td>0.998</td>\n",
       "      <td>0.736493</td>\n",
       "      <td>0.729831</td>\n",
       "      <td>0.294434</td>\n",
       "      <td>0.998</td>\n",
       "      <td>0.043</td>\n",
       "      <td>0.116</td>\n",
       "      <td>0.449455</td>\n",
       "      <td>0.55</td>\n",
       "    </tr>\n",
       "    <tr>\n",
       "      <th>MTMR_01</th>\n",
       "      <td>0.998</td>\n",
       "      <td>0.736493</td>\n",
       "      <td>0.729831</td>\n",
       "      <td>0.294434</td>\n",
       "      <td>0.998</td>\n",
       "      <td>0.018</td>\n",
       "      <td>0.059</td>\n",
       "      <td>0.449455</td>\n",
       "      <td>0.60</td>\n",
       "    </tr>\n",
       "    <tr>\n",
       "      <th>MTMR_01</th>\n",
       "      <td>0.998</td>\n",
       "      <td>0.736493</td>\n",
       "      <td>0.729831</td>\n",
       "      <td>0.294434</td>\n",
       "      <td>0.998</td>\n",
       "      <td>0.006</td>\n",
       "      <td>0.035</td>\n",
       "      <td>0.449455</td>\n",
       "      <td>0.65</td>\n",
       "    </tr>\n",
       "    <tr>\n",
       "      <th>MTMR_01</th>\n",
       "      <td>0.998</td>\n",
       "      <td>0.736493</td>\n",
       "      <td>0.729831</td>\n",
       "      <td>0.294434</td>\n",
       "      <td>0.998</td>\n",
       "      <td>0.002</td>\n",
       "      <td>0.020</td>\n",
       "      <td>0.449455</td>\n",
       "      <td>0.70</td>\n",
       "    </tr>\n",
       "    <tr>\n",
       "      <th>MTMR_10</th>\n",
       "      <td>1.000</td>\n",
       "      <td>0.730984</td>\n",
       "      <td>0.724313</td>\n",
       "      <td>0.309556</td>\n",
       "      <td>0.999</td>\n",
       "      <td>0.346</td>\n",
       "      <td>0.550</td>\n",
       "      <td>0.476493</td>\n",
       "      <td>0.40</td>\n",
       "    </tr>\n",
       "    <tr>\n",
       "      <th>MTMR_10</th>\n",
       "      <td>1.000</td>\n",
       "      <td>0.730984</td>\n",
       "      <td>0.724313</td>\n",
       "      <td>0.309556</td>\n",
       "      <td>0.999</td>\n",
       "      <td>0.219</td>\n",
       "      <td>0.379</td>\n",
       "      <td>0.476493</td>\n",
       "      <td>0.45</td>\n",
       "    </tr>\n",
       "    <tr>\n",
       "      <th>MTMR_10</th>\n",
       "      <td>1.000</td>\n",
       "      <td>0.730984</td>\n",
       "      <td>0.724313</td>\n",
       "      <td>0.309556</td>\n",
       "      <td>0.999</td>\n",
       "      <td>0.125</td>\n",
       "      <td>0.261</td>\n",
       "      <td>0.476493</td>\n",
       "      <td>0.50</td>\n",
       "    </tr>\n",
       "    <tr>\n",
       "      <th>MTMR_10</th>\n",
       "      <td>1.000</td>\n",
       "      <td>0.730984</td>\n",
       "      <td>0.724313</td>\n",
       "      <td>0.309556</td>\n",
       "      <td>0.999</td>\n",
       "      <td>0.056</td>\n",
       "      <td>0.156</td>\n",
       "      <td>0.476493</td>\n",
       "      <td>0.55</td>\n",
       "    </tr>\n",
       "    <tr>\n",
       "      <th>MTMR_10</th>\n",
       "      <td>1.000</td>\n",
       "      <td>0.730984</td>\n",
       "      <td>0.724313</td>\n",
       "      <td>0.309556</td>\n",
       "      <td>0.999</td>\n",
       "      <td>0.031</td>\n",
       "      <td>0.104</td>\n",
       "      <td>0.476493</td>\n",
       "      <td>0.60</td>\n",
       "    </tr>\n",
       "    <tr>\n",
       "      <th>MTMR_10</th>\n",
       "      <td>1.000</td>\n",
       "      <td>0.730984</td>\n",
       "      <td>0.724313</td>\n",
       "      <td>0.309556</td>\n",
       "      <td>0.999</td>\n",
       "      <td>0.012</td>\n",
       "      <td>0.055</td>\n",
       "      <td>0.476493</td>\n",
       "      <td>0.65</td>\n",
       "    </tr>\n",
       "    <tr>\n",
       "      <th>MTMR_10</th>\n",
       "      <td>1.000</td>\n",
       "      <td>0.730984</td>\n",
       "      <td>0.724313</td>\n",
       "      <td>0.309556</td>\n",
       "      <td>0.999</td>\n",
       "      <td>0.005</td>\n",
       "      <td>0.032</td>\n",
       "      <td>0.476493</td>\n",
       "      <td>0.70</td>\n",
       "    </tr>\n",
       "    <tr>\n",
       "      <th>MTMR_11</th>\n",
       "      <td>1.000</td>\n",
       "      <td>0.774455</td>\n",
       "      <td>0.767784</td>\n",
       "      <td>0.312827</td>\n",
       "      <td>0.998</td>\n",
       "      <td>0.364</td>\n",
       "      <td>0.541</td>\n",
       "      <td>0.447281</td>\n",
       "      <td>0.40</td>\n",
       "    </tr>\n",
       "    <tr>\n",
       "      <th>MTMR_11</th>\n",
       "      <td>1.000</td>\n",
       "      <td>0.774455</td>\n",
       "      <td>0.767784</td>\n",
       "      <td>0.312827</td>\n",
       "      <td>0.998</td>\n",
       "      <td>0.209</td>\n",
       "      <td>0.364</td>\n",
       "      <td>0.447281</td>\n",
       "      <td>0.45</td>\n",
       "    </tr>\n",
       "    <tr>\n",
       "      <th>MTMR_11</th>\n",
       "      <td>1.000</td>\n",
       "      <td>0.774455</td>\n",
       "      <td>0.767784</td>\n",
       "      <td>0.312827</td>\n",
       "      <td>0.998</td>\n",
       "      <td>0.113</td>\n",
       "      <td>0.227</td>\n",
       "      <td>0.447281</td>\n",
       "      <td>0.50</td>\n",
       "    </tr>\n",
       "    <tr>\n",
       "      <th>MTMR_11</th>\n",
       "      <td>1.000</td>\n",
       "      <td>0.774455</td>\n",
       "      <td>0.767784</td>\n",
       "      <td>0.312827</td>\n",
       "      <td>0.998</td>\n",
       "      <td>0.044</td>\n",
       "      <td>0.121</td>\n",
       "      <td>0.447281</td>\n",
       "      <td>0.55</td>\n",
       "    </tr>\n",
       "    <tr>\n",
       "      <th>MTMR_11</th>\n",
       "      <td>1.000</td>\n",
       "      <td>0.774455</td>\n",
       "      <td>0.767784</td>\n",
       "      <td>0.312827</td>\n",
       "      <td>0.998</td>\n",
       "      <td>0.019</td>\n",
       "      <td>0.068</td>\n",
       "      <td>0.447281</td>\n",
       "      <td>0.60</td>\n",
       "    </tr>\n",
       "    <tr>\n",
       "      <th>MTMR_11</th>\n",
       "      <td>1.000</td>\n",
       "      <td>0.774455</td>\n",
       "      <td>0.767784</td>\n",
       "      <td>0.312827</td>\n",
       "      <td>0.998</td>\n",
       "      <td>0.007</td>\n",
       "      <td>0.033</td>\n",
       "      <td>0.447281</td>\n",
       "      <td>0.65</td>\n",
       "    </tr>\n",
       "    <tr>\n",
       "      <th>MTMR_11</th>\n",
       "      <td>1.000</td>\n",
       "      <td>0.774455</td>\n",
       "      <td>0.767784</td>\n",
       "      <td>0.312827</td>\n",
       "      <td>0.998</td>\n",
       "      <td>0.003</td>\n",
       "      <td>0.022</td>\n",
       "      <td>0.447281</td>\n",
       "      <td>0.70</td>\n",
       "    </tr>\n",
       "  </tbody>\n",
       "</table>\n",
       "</div>"
      ],
      "text/plain": [
       "         VALID_RATIO  PROPERTY  IMPROVEMENT  SIMILARITY  NOVELTY  \\\n",
       "MTMR_00        1.000  0.734259     0.727588    0.308797    1.000   \n",
       "MTMR_00        1.000  0.734259     0.727588    0.308797    1.000   \n",
       "MTMR_00        1.000  0.734259     0.727588    0.308797    1.000   \n",
       "MTMR_00        1.000  0.734259     0.727588    0.308797    1.000   \n",
       "MTMR_00        1.000  0.734259     0.727588    0.308797    1.000   \n",
       "MTMR_00        1.000  0.734259     0.727588    0.308797    1.000   \n",
       "MTMR_00        1.000  0.734259     0.727588    0.308797    1.000   \n",
       "MTMR_01        0.998  0.736493     0.729831    0.294434    0.998   \n",
       "MTMR_01        0.998  0.736493     0.729831    0.294434    0.998   \n",
       "MTMR_01        0.998  0.736493     0.729831    0.294434    0.998   \n",
       "MTMR_01        0.998  0.736493     0.729831    0.294434    0.998   \n",
       "MTMR_01        0.998  0.736493     0.729831    0.294434    0.998   \n",
       "MTMR_01        0.998  0.736493     0.729831    0.294434    0.998   \n",
       "MTMR_01        0.998  0.736493     0.729831    0.294434    0.998   \n",
       "MTMR_10        1.000  0.730984     0.724313    0.309556    0.999   \n",
       "MTMR_10        1.000  0.730984     0.724313    0.309556    0.999   \n",
       "MTMR_10        1.000  0.730984     0.724313    0.309556    0.999   \n",
       "MTMR_10        1.000  0.730984     0.724313    0.309556    0.999   \n",
       "MTMR_10        1.000  0.730984     0.724313    0.309556    0.999   \n",
       "MTMR_10        1.000  0.730984     0.724313    0.309556    0.999   \n",
       "MTMR_10        1.000  0.730984     0.724313    0.309556    0.999   \n",
       "MTMR_11        1.000  0.774455     0.767784    0.312827    0.998   \n",
       "MTMR_11        1.000  0.774455     0.767784    0.312827    0.998   \n",
       "MTMR_11        1.000  0.774455     0.767784    0.312827    0.998   \n",
       "MTMR_11        1.000  0.774455     0.767784    0.312827    0.998   \n",
       "MTMR_11        1.000  0.774455     0.767784    0.312827    0.998   \n",
       "MTMR_11        1.000  0.774455     0.767784    0.312827    0.998   \n",
       "MTMR_11        1.000  0.774455     0.767784    0.312827    0.998   \n",
       "\n",
       "         SUCCESS_PROP  SUCCESS_IMPR  DIVERSITY  THRESHOLD_SIMILARITY  \n",
       "MTMR_00         0.340         0.511   0.452572                  0.40  \n",
       "MTMR_00         0.210         0.357   0.452572                  0.45  \n",
       "MTMR_00         0.131         0.248   0.452572                  0.50  \n",
       "MTMR_00         0.068         0.153   0.452572                  0.55  \n",
       "MTMR_00         0.034         0.099   0.452572                  0.60  \n",
       "MTMR_00         0.015         0.057   0.452572                  0.65  \n",
       "MTMR_00         0.004         0.026   0.452572                  0.70  \n",
       "MTMR_01         0.295         0.468   0.449455                  0.40  \n",
       "MTMR_01         0.177         0.313   0.449455                  0.45  \n",
       "MTMR_01         0.094         0.198   0.449455                  0.50  \n",
       "MTMR_01         0.043         0.116   0.449455                  0.55  \n",
       "MTMR_01         0.018         0.059   0.449455                  0.60  \n",
       "MTMR_01         0.006         0.035   0.449455                  0.65  \n",
       "MTMR_01         0.002         0.020   0.449455                  0.70  \n",
       "MTMR_10         0.346         0.550   0.476493                  0.40  \n",
       "MTMR_10         0.219         0.379   0.476493                  0.45  \n",
       "MTMR_10         0.125         0.261   0.476493                  0.50  \n",
       "MTMR_10         0.056         0.156   0.476493                  0.55  \n",
       "MTMR_10         0.031         0.104   0.476493                  0.60  \n",
       "MTMR_10         0.012         0.055   0.476493                  0.65  \n",
       "MTMR_10         0.005         0.032   0.476493                  0.70  \n",
       "MTMR_11         0.364         0.541   0.447281                  0.40  \n",
       "MTMR_11         0.209         0.364   0.447281                  0.45  \n",
       "MTMR_11         0.113         0.227   0.447281                  0.50  \n",
       "MTMR_11         0.044         0.121   0.447281                  0.55  \n",
       "MTMR_11         0.019         0.068   0.447281                  0.60  \n",
       "MTMR_11         0.007         0.033   0.447281                  0.65  \n",
       "MTMR_11         0.003         0.022   0.447281                  0.70  "
      ]
     },
     "execution_count": 18,
     "metadata": {},
     "output_type": "execute_result"
    }
   ],
   "source": [
    "df_merged"
   ]
  },
  {
   "cell_type": "code",
   "execution_count": 19,
   "id": "c3444e1f",
   "metadata": {},
   "outputs": [],
   "source": [
    "df_merged.to_csv(os.path.join(output_dir, \"table_metrics.csv\"))"
   ]
  },
  {
   "cell_type": "code",
   "execution_count": 22,
   "id": "29076770",
   "metadata": {},
   "outputs": [
    {
     "data": {
      "image/png": "[encoded data removed]",
      "text/plain": [
       "<Figure size 720x360 with 1 Axes>"
      ]
     },
     "metadata": {},
     "output_type": "display_data"
    }
   ],
   "source": [
    "sns.set_theme(style='darkgrid')\n",
    "\n",
    "fig, ax = plt.subplots(1,1,figsize=(10,5))\n",
    "\n",
    "_ = sns.lineplot(data=df_merged.reset_index(),\n",
    "                 x='THRESHOLD_SIMILARITY', y=\"SUCCESS_PROP\", hue=\"index\",\n",
    "                 style=\"index\", markers=True, linewidth=1, markersize=10,\n",
    "                 ax=ax)\n",
    "\n",
    "#ax.set_ylim(None, 0.45)\n",
    "\n",
    "plt.tight_layout()\n",
    "plt.show()"
   ]
  },
  {
   "cell_type": "code",
   "execution_count": 20,
   "id": "8bc7ffb6",
   "metadata": {},
   "outputs": [
    {
     "data": {
      "image/png": "[encoded data removed]",
      "text/plain": [
       "<Figure size 720x360 with 1 Axes>"
      ]
     },
     "metadata": {},
     "output_type": "display_data"
    }
   ],
   "source": [
    "sns.set_theme(style='darkgrid')\n",
    "\n",
    "fig, ax = plt.subplots(1,1,figsize=(10,5))\n",
    "\n",
    "_ = sns.lineplot(data=df_merged.reset_index(),\n",
    "                 x='THRESHOLD_SIMILARITY', y=\"SUCCESS_IMPR\", hue=\"index\",\n",
    "                 style=\"index\", markers=True, linewidth=1, markersize=10,\n",
    "                 ax=ax)\n",
    "\n",
    "#ax.set_ylim(None, 0.45)\n",
    "\n",
    "plt.tight_layout()\n",
    "plt.show()"
   ]
  },
  {
   "cell_type": "code",
   "execution_count": 24,
   "id": "000c7ac8",
   "metadata": {},
   "outputs": [
    {
     "data": {
      "text/html": [
       "<div>\n",
       "<style scoped>\n",
       "    .dataframe tbody tr th:only-of-type {\n",
       "        vertical-align: middle;\n",
       "    }\n",
       "\n",
       "    .dataframe tbody tr th {\n",
       "        vertical-align: top;\n",
       "    }\n",
       "\n",
       "    .dataframe thead th {\n",
       "        text-align: right;\n",
       "    }\n",
       "</style>\n",
       "<table border=\"1\" class=\"dataframe\">\n",
       "  <thead>\n",
       "    <tr style=\"text-align: right;\">\n",
       "      <th></th>\n",
       "      <th>PROPERTY</th>\n",
       "      <th>IMPROVEMENT</th>\n",
       "      <th>SIMILARITY</th>\n",
       "    </tr>\n",
       "  </thead>\n",
       "  <tbody>\n",
       "    <tr>\n",
       "      <th>MTMR_00</th>\n",
       "      <td>0.734259</td>\n",
       "      <td>0.727588</td>\n",
       "      <td>0.308797</td>\n",
       "    </tr>\n",
       "    <tr>\n",
       "      <th>MTMR_01</th>\n",
       "      <td>0.736493</td>\n",
       "      <td>0.729831</td>\n",
       "      <td>0.294434</td>\n",
       "    </tr>\n",
       "    <tr>\n",
       "      <th>MTMR_10</th>\n",
       "      <td>0.730984</td>\n",
       "      <td>0.724313</td>\n",
       "      <td>0.309556</td>\n",
       "    </tr>\n",
       "    <tr>\n",
       "      <th>MTMR_11</th>\n",
       "      <td>0.774455</td>\n",
       "      <td>0.767784</td>\n",
       "      <td>0.312827</td>\n",
       "    </tr>\n",
       "  </tbody>\n",
       "</table>\n",
       "</div>"
      ],
      "text/plain": [
       "         PROPERTY  IMPROVEMENT  SIMILARITY\n",
       "MTMR_00  0.734259     0.727588    0.308797\n",
       "MTMR_01  0.736493     0.729831    0.294434\n",
       "MTMR_10  0.730984     0.724313    0.309556\n",
       "MTMR_11  0.774455     0.767784    0.312827"
      ]
     },
     "execution_count": 24,
     "metadata": {},
     "output_type": "execute_result"
    }
   ],
   "source": [
    "df_merged.loc[:,[\"PROPERTY\", \"IMPROVEMENT\", \"SIMILARITY\"]].drop_duplicates()"
   ]
  },
  {
   "cell_type": "markdown",
   "id": "51ad9284",
   "metadata": {},
   "source": [
    "## 7. Property distribution"
   ]
  },
  {
   "cell_type": "code",
   "execution_count": 21,
   "id": "08ce8244",
   "metadata": {},
   "outputs": [
    {
     "data": {
      "image/png": "[encoded data removed]",
      "text/plain": [
       "<Figure size 720x360 with 2 Axes>"
      ]
     },
     "metadata": {},
     "output_type": "display_data"
    }
   ],
   "source": [
    "sns.set_theme(style='whitegrid')\n",
    "\n",
    "fig, ax = plt.subplots(1,2,figsize=(10,5))\n",
    "\n",
    "for name, df in frames_models:\n",
    "    idx = df.loc[:,\"PROPERTY\"] <= 0.05\n",
    "    _ = sns.kdeplot(data=df[idx], x=\"PROPERTY\", label=name, ax=ax[0])\n",
    "    \n",
    "    idx = df.loc[:,\"PROPERTY\"] >= 0.5\n",
    "    _ = sns.kdeplot(data=df[idx], x=\"PROPERTY\", label=name, ax=ax[1])\n",
    "    \n",
    "#ax.set_yscale('log')\n",
    "#ax.set_ylim(0.01,None)\n",
    "\n",
    "ax[0].legend(loc='best')\n",
    "ax[1].legend(loc='best')\n",
    "plt.tight_layout()\n",
    "plt.show()"
   ]
  },
  {
   "cell_type": "code",
   "execution_count": null,
   "id": "c84f37eb",
   "metadata": {},
   "outputs": [],
   "source": []
  }
 ],
 "metadata": {
  "kernelspec": {
   "display_name": "Python 3",
   "language": "python",
   "name": "python3"
  },
  "language_info": {
   "codemirror_mode": {
    "name": "ipython",
    "version": 3
   },
   "file_extension": ".py",
   "mimetype": "text/x-python",
   "name": "python",
   "nbconvert_exporter": "python",
   "pygments_lexer": "ipython3",
   "version": "3.6.15"
  }
 },
 "nbformat": 4,
 "nbformat_minor": 5
}
