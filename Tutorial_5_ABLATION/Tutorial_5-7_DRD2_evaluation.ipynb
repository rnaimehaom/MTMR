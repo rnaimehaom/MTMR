{
 "cells": [
  {
   "cell_type": "markdown",
   "id": "b106e144",
   "metadata": {},
   "source": [
    "# Tutorial - MTMR evaluation"
   ]
  },
  {
   "cell_type": "markdown",
   "id": "aa7fbd1c",
   "metadata": {},
   "source": [
    "## 1. Import requirements"
   ]
  },
  {
   "cell_type": "code",
   "execution_count": 1,
   "id": "4762551e",
   "metadata": {},
   "outputs": [],
   "source": [
    "import os\n",
    "import sys\n",
    "import pandas as pd\n",
    "import tqdm\n",
    "import seaborn as sns\n",
    "import matplotlib.pyplot as plt"
   ]
  },
  {
   "cell_type": "code",
   "execution_count": 2,
   "id": "c3222fda",
   "metadata": {},
   "outputs": [],
   "source": [
    "sys.path = [os.path.abspath(os.path.join(os.getcwd(), os.pardir))] + sys.path"
   ]
  },
  {
   "cell_type": "code",
   "execution_count": 3,
   "id": "dfac7a94",
   "metadata": {},
   "outputs": [],
   "source": [
    "from MTMR.evaluate import evaluate_metric\n",
    "from MTMR.properties import drd2, mcs_similarity"
   ]
  },
  {
   "cell_type": "markdown",
   "id": "88dc8d0f",
   "metadata": {},
   "source": [
    "## 2. Specify a target property"
   ]
  },
  {
   "cell_type": "code",
   "execution_count": 4,
   "id": "4ad03a9d",
   "metadata": {},
   "outputs": [],
   "source": [
    "PROPERTY_NAME = \"drd2\"\n",
    "SCORING_FT = drd2"
   ]
  },
  {
   "cell_type": "markdown",
   "id": "5d2acee5",
   "metadata": {},
   "source": [
    "## 3. Set directories (for inputs and outputs)"
   ]
  },
  {
   "cell_type": "code",
   "execution_count": 5,
   "id": "60c1179e",
   "metadata": {},
   "outputs": [],
   "source": [
    "input_data_dir = os.path.abspath(os.path.join(os.pardir, \"DATA\", PROPERTY_NAME))\n",
    "input_our_dir = f\"outputs_5-6_{PROPERTY_NAME.upper()}_translation\""
   ]
  },
  {
   "cell_type": "code",
   "execution_count": 6,
   "id": "ed891c6d",
   "metadata": {},
   "outputs": [],
   "source": [
    "output_dir = f\"outputs_5-7_{PROPERTY_NAME.upper()}_evaluation\"\n",
    "if not os.path.exists(output_dir):\n",
    "    os.mkdir(output_dir)"
   ]
  },
  {
   "cell_type": "markdown",
   "id": "7e1efdda",
   "metadata": {},
   "source": [
    "## 4. Load training and test datasets"
   ]
  },
  {
   "cell_type": "code",
   "execution_count": 7,
   "id": "6bcab055",
   "metadata": {},
   "outputs": [],
   "source": [
    "filepath_train_rdkit = os.path.join(input_data_dir, \"rdkit_train_pairs.txt\")\n",
    "filepath_test_rdkit = os.path.join(input_data_dir, \"rdkit_test.txt\")"
   ]
  },
  {
   "cell_type": "code",
   "execution_count": 8,
   "id": "a8a8a6ec",
   "metadata": {},
   "outputs": [],
   "source": [
    "df_pairs_rdkit = pd.read_csv(filepath_train_rdkit, header=None, sep=\" \")\n",
    "targets_rdkit = set(df_pairs_rdkit.iloc[:,1].values.tolist())"
   ]
  },
  {
   "cell_type": "code",
   "execution_count": 9,
   "id": "ca42b8bb",
   "metadata": {},
   "outputs": [
    {
     "name": "stderr",
     "output_type": "stream",
     "text": [
      "100%|██████████| 1000/1000 [00:03<00:00, 284.50it/s]\n"
     ]
    }
   ],
   "source": [
    "df_test_rdkit = pd.read_csv(filepath_test_rdkit, header=None, sep=\" \")\n",
    "df_test_rdkit.loc[:,1] = 0.\n",
    "\n",
    "for i in tqdm.trange(len(df_test_rdkit)):\n",
    "    smi = df_test_rdkit.iloc[i,0]\n",
    "    score = SCORING_FT(smi)\n",
    "    df_test_rdkit.iloc[i,1] = score"
   ]
  },
  {
   "cell_type": "code",
   "execution_count": 10,
   "id": "23cef9bf",
   "metadata": {},
   "outputs": [],
   "source": [
    "src2prop = {smi:prop for smi, prop in df_test_rdkit.values}"
   ]
  },
  {
   "cell_type": "markdown",
   "id": "3d9210e5",
   "metadata": {},
   "source": [
    "## 5. Load translation results generated from the test dataset"
   ]
  },
  {
   "cell_type": "code",
   "execution_count": 11,
   "id": "6312973d",
   "metadata": {},
   "outputs": [],
   "source": [
    "filepath_MTMR_00 = os.path.join(f\"{input_our_dir}_00\",  f\"MTMR_{PROPERTY_NAME.upper()}.csv\") # none of both\n",
    "filepath_MTMR_01 = os.path.join(f\"{input_our_dir}_01\",  f\"MTMR_{PROPERTY_NAME.upper()}.csv\") # no contractive\n",
    "filepath_MTMR_10 = os.path.join(f\"{input_our_dir}_10\",  f\"MTMR_{PROPERTY_NAME.upper()}.csv\") # no margin\n",
    "filepath_MTMR_11 = os.path.join(f\"{input_our_dir}_11\",  f\"MTMR_{PROPERTY_NAME.upper()}.csv\") # control"
   ]
  },
  {
   "cell_type": "code",
   "execution_count": 12,
   "id": "cdbb260d",
   "metadata": {},
   "outputs": [],
   "source": [
    "df_MTMR_00 = pd.read_csv(filepath_MTMR_00,  header=None).fillna(\"\").rename(columns={0:\"SOURCE\", 1:\"TARGET\", 2:\"SIMILARITY\", 3:\"PROPERTY\"})\n",
    "df_MTMR_01 = pd.read_csv(filepath_MTMR_01,  header=None).fillna(\"\").rename(columns={0:\"SOURCE\", 1:\"TARGET\", 2:\"SIMILARITY\", 3:\"PROPERTY\"})\n",
    "df_MTMR_10 = pd.read_csv(filepath_MTMR_10,  header=None).fillna(\"\").rename(columns={0:\"SOURCE\", 1:\"TARGET\", 2:\"SIMILARITY\", 3:\"PROPERTY\"})\n",
    "df_MTMR_11 = pd.read_csv(filepath_MTMR_11,  header=None).fillna(\"\").rename(columns={0:\"SOURCE\", 1:\"TARGET\", 2:\"SIMILARITY\", 3:\"PROPERTY\"})"
   ]
  },
  {
   "cell_type": "code",
   "execution_count": 13,
   "id": "4d6ffd8a",
   "metadata": {},
   "outputs": [],
   "source": [
    "frames_models = [('MTMR_00', df_MTMR_00),\n",
    "                 ('MTMR_01', df_MTMR_01),\n",
    "                 ('MTMR_10', df_MTMR_10),\n",
    "                 ('MTMR_11', df_MTMR_11)]"
   ]
  },
  {
   "cell_type": "code",
   "execution_count": 14,
   "id": "186fec43",
   "metadata": {},
   "outputs": [
    {
     "name": "stderr",
     "output_type": "stream",
     "text": [
      "100%|██████████| 20000/20000 [00:03<00:00, 6500.49it/s]\n",
      "100%|██████████| 20000/20000 [00:03<00:00, 6526.99it/s]\n",
      "100%|██████████| 20000/20000 [00:03<00:00, 6602.00it/s]\n",
      "100%|██████████| 20000/20000 [00:03<00:00, 6582.67it/s]\n"
     ]
    }
   ],
   "source": [
    "for name, df in frames_models:\n",
    "    df.loc[:,\"PROPERTY_SRC\"] = 0.\n",
    "    for i in tqdm.trange(len(df)):\n",
    "        smi_src = df.loc[i,\"SOURCE\"]\n",
    "        smi_tar = df.loc[i,\"TARGET\"]\n",
    "        df.loc[i,\"PROPERTY_SRC\"] = src2prop.get(smi_src)"
   ]
  },
  {
   "cell_type": "markdown",
   "id": "443d8c6b",
   "metadata": {},
   "source": [
    "## 6. Evaluate metrics"
   ]
  },
  {
   "cell_type": "code",
   "execution_count": 15,
   "id": "20763cc6",
   "metadata": {},
   "outputs": [
    {
     "name": "stderr",
     "output_type": "stream",
     "text": [
      "100%|██████████| 4/4 [03:31<00:00, 52.76s/it]\n"
     ]
    }
   ],
   "source": [
    "frames = []\n",
    "thresholds_sim = [0.4, 0.45, 0.5, 0.55, 0.6, 0.65, 0.7]\n",
    "\n",
    "for i in tqdm.trange(len(frames_models)):\n",
    "    name, df = frames_models[i]\n",
    "    for threshold_sim in thresholds_sim:\n",
    "        df_metric = evaluate_metric(df, targets_rdkit, num_decode=20,# sample_size=10, start_idx=10,\n",
    "                                    threshold_sim=threshold_sim,\n",
    "                                    threshold_pro=0.81).rename(columns={0:name})\n",
    "\n",
    "        df_metric.loc[\"THRESHOLD_SIMILARITY\",name] = threshold_sim\n",
    "        frames.append(df_metric)"
   ]
  },
  {
   "cell_type": "code",
   "execution_count": 16,
   "id": "f22c7bc1",
   "metadata": {},
   "outputs": [],
   "source": [
    "df_merged = pd.concat(frames, axis=1).T"
   ]
  },
  {
   "cell_type": "code",
   "execution_count": 17,
   "id": "ab40df38",
   "metadata": {},
   "outputs": [
    {
     "data": {
      "text/html": [
       "<div>\n",
       "<style scoped>\n",
       "    .dataframe tbody tr th:only-of-type {\n",
       "        vertical-align: middle;\n",
       "    }\n",
       "\n",
       "    .dataframe tbody tr th {\n",
       "        vertical-align: top;\n",
       "    }\n",
       "\n",
       "    .dataframe thead th {\n",
       "        text-align: right;\n",
       "    }\n",
       "</style>\n",
       "<table border=\"1\" class=\"dataframe\">\n",
       "  <thead>\n",
       "    <tr style=\"text-align: right;\">\n",
       "      <th></th>\n",
       "      <th>VALID_RATIO</th>\n",
       "      <th>PROPERTY</th>\n",
       "      <th>IMPROVEMENT</th>\n",
       "      <th>SIMILARITY</th>\n",
       "      <th>NOVELTY</th>\n",
       "      <th>SUCCESS</th>\n",
       "      <th>SUCCESS_WO_NOVEL</th>\n",
       "      <th>DIVERSITY</th>\n",
       "      <th>THRESHOLD_SIMILARITY</th>\n",
       "    </tr>\n",
       "  </thead>\n",
       "  <tbody>\n",
       "    <tr>\n",
       "      <th>MTMR_00</th>\n",
       "      <td>1.000</td>\n",
       "      <td>0.734259</td>\n",
       "      <td>0.727588</td>\n",
       "      <td>0.308797</td>\n",
       "      <td>1.000</td>\n",
       "      <td>0.372</td>\n",
       "      <td>0.381</td>\n",
       "      <td>0.546428</td>\n",
       "      <td>0.40</td>\n",
       "    </tr>\n",
       "    <tr>\n",
       "      <th>MTMR_00</th>\n",
       "      <td>1.000</td>\n",
       "      <td>0.734259</td>\n",
       "      <td>0.727588</td>\n",
       "      <td>0.308797</td>\n",
       "      <td>1.000</td>\n",
       "      <td>0.239</td>\n",
       "      <td>0.245</td>\n",
       "      <td>0.546428</td>\n",
       "      <td>0.45</td>\n",
       "    </tr>\n",
       "    <tr>\n",
       "      <th>MTMR_00</th>\n",
       "      <td>1.000</td>\n",
       "      <td>0.734259</td>\n",
       "      <td>0.727588</td>\n",
       "      <td>0.308797</td>\n",
       "      <td>1.000</td>\n",
       "      <td>0.148</td>\n",
       "      <td>0.150</td>\n",
       "      <td>0.546428</td>\n",
       "      <td>0.50</td>\n",
       "    </tr>\n",
       "    <tr>\n",
       "      <th>MTMR_00</th>\n",
       "      <td>1.000</td>\n",
       "      <td>0.734259</td>\n",
       "      <td>0.727588</td>\n",
       "      <td>0.308797</td>\n",
       "      <td>1.000</td>\n",
       "      <td>0.080</td>\n",
       "      <td>0.080</td>\n",
       "      <td>0.546428</td>\n",
       "      <td>0.55</td>\n",
       "    </tr>\n",
       "    <tr>\n",
       "      <th>MTMR_00</th>\n",
       "      <td>1.000</td>\n",
       "      <td>0.734259</td>\n",
       "      <td>0.727588</td>\n",
       "      <td>0.308797</td>\n",
       "      <td>1.000</td>\n",
       "      <td>0.042</td>\n",
       "      <td>0.042</td>\n",
       "      <td>0.546428</td>\n",
       "      <td>0.60</td>\n",
       "    </tr>\n",
       "    <tr>\n",
       "      <th>MTMR_00</th>\n",
       "      <td>1.000</td>\n",
       "      <td>0.734259</td>\n",
       "      <td>0.727588</td>\n",
       "      <td>0.308797</td>\n",
       "      <td>1.000</td>\n",
       "      <td>0.019</td>\n",
       "      <td>0.019</td>\n",
       "      <td>0.546428</td>\n",
       "      <td>0.65</td>\n",
       "    </tr>\n",
       "    <tr>\n",
       "      <th>MTMR_00</th>\n",
       "      <td>1.000</td>\n",
       "      <td>0.734259</td>\n",
       "      <td>0.727588</td>\n",
       "      <td>0.308797</td>\n",
       "      <td>1.000</td>\n",
       "      <td>0.005</td>\n",
       "      <td>0.005</td>\n",
       "      <td>0.546428</td>\n",
       "      <td>0.70</td>\n",
       "    </tr>\n",
       "    <tr>\n",
       "      <th>MTMR_01</th>\n",
       "      <td>0.998</td>\n",
       "      <td>0.736493</td>\n",
       "      <td>0.729831</td>\n",
       "      <td>0.294434</td>\n",
       "      <td>0.998</td>\n",
       "      <td>0.338</td>\n",
       "      <td>0.349</td>\n",
       "      <td>0.545545</td>\n",
       "      <td>0.40</td>\n",
       "    </tr>\n",
       "    <tr>\n",
       "      <th>MTMR_01</th>\n",
       "      <td>0.998</td>\n",
       "      <td>0.736493</td>\n",
       "      <td>0.729831</td>\n",
       "      <td>0.294434</td>\n",
       "      <td>0.998</td>\n",
       "      <td>0.205</td>\n",
       "      <td>0.211</td>\n",
       "      <td>0.545545</td>\n",
       "      <td>0.45</td>\n",
       "    </tr>\n",
       "    <tr>\n",
       "      <th>MTMR_01</th>\n",
       "      <td>0.998</td>\n",
       "      <td>0.736493</td>\n",
       "      <td>0.729831</td>\n",
       "      <td>0.294434</td>\n",
       "      <td>0.998</td>\n",
       "      <td>0.112</td>\n",
       "      <td>0.113</td>\n",
       "      <td>0.545545</td>\n",
       "      <td>0.50</td>\n",
       "    </tr>\n",
       "    <tr>\n",
       "      <th>MTMR_01</th>\n",
       "      <td>0.998</td>\n",
       "      <td>0.736493</td>\n",
       "      <td>0.729831</td>\n",
       "      <td>0.294434</td>\n",
       "      <td>0.998</td>\n",
       "      <td>0.053</td>\n",
       "      <td>0.053</td>\n",
       "      <td>0.545545</td>\n",
       "      <td>0.55</td>\n",
       "    </tr>\n",
       "    <tr>\n",
       "      <th>MTMR_01</th>\n",
       "      <td>0.998</td>\n",
       "      <td>0.736493</td>\n",
       "      <td>0.729831</td>\n",
       "      <td>0.294434</td>\n",
       "      <td>0.998</td>\n",
       "      <td>0.022</td>\n",
       "      <td>0.022</td>\n",
       "      <td>0.545545</td>\n",
       "      <td>0.60</td>\n",
       "    </tr>\n",
       "    <tr>\n",
       "      <th>MTMR_01</th>\n",
       "      <td>0.998</td>\n",
       "      <td>0.736493</td>\n",
       "      <td>0.729831</td>\n",
       "      <td>0.294434</td>\n",
       "      <td>0.998</td>\n",
       "      <td>0.009</td>\n",
       "      <td>0.009</td>\n",
       "      <td>0.545545</td>\n",
       "      <td>0.65</td>\n",
       "    </tr>\n",
       "    <tr>\n",
       "      <th>MTMR_01</th>\n",
       "      <td>0.998</td>\n",
       "      <td>0.736493</td>\n",
       "      <td>0.729831</td>\n",
       "      <td>0.294434</td>\n",
       "      <td>0.998</td>\n",
       "      <td>0.003</td>\n",
       "      <td>0.003</td>\n",
       "      <td>0.545545</td>\n",
       "      <td>0.70</td>\n",
       "    </tr>\n",
       "    <tr>\n",
       "      <th>MTMR_10</th>\n",
       "      <td>1.000</td>\n",
       "      <td>0.730984</td>\n",
       "      <td>0.724313</td>\n",
       "      <td>0.309556</td>\n",
       "      <td>0.999</td>\n",
       "      <td>0.388</td>\n",
       "      <td>0.401</td>\n",
       "      <td>0.523507</td>\n",
       "      <td>0.40</td>\n",
       "    </tr>\n",
       "    <tr>\n",
       "      <th>MTMR_10</th>\n",
       "      <td>1.000</td>\n",
       "      <td>0.730984</td>\n",
       "      <td>0.724313</td>\n",
       "      <td>0.309556</td>\n",
       "      <td>0.999</td>\n",
       "      <td>0.241</td>\n",
       "      <td>0.247</td>\n",
       "      <td>0.523507</td>\n",
       "      <td>0.45</td>\n",
       "    </tr>\n",
       "    <tr>\n",
       "      <th>MTMR_10</th>\n",
       "      <td>1.000</td>\n",
       "      <td>0.730984</td>\n",
       "      <td>0.724313</td>\n",
       "      <td>0.309556</td>\n",
       "      <td>0.999</td>\n",
       "      <td>0.144</td>\n",
       "      <td>0.147</td>\n",
       "      <td>0.523507</td>\n",
       "      <td>0.50</td>\n",
       "    </tr>\n",
       "    <tr>\n",
       "      <th>MTMR_10</th>\n",
       "      <td>1.000</td>\n",
       "      <td>0.730984</td>\n",
       "      <td>0.724313</td>\n",
       "      <td>0.309556</td>\n",
       "      <td>0.999</td>\n",
       "      <td>0.068</td>\n",
       "      <td>0.068</td>\n",
       "      <td>0.523507</td>\n",
       "      <td>0.55</td>\n",
       "    </tr>\n",
       "    <tr>\n",
       "      <th>MTMR_10</th>\n",
       "      <td>1.000</td>\n",
       "      <td>0.730984</td>\n",
       "      <td>0.724313</td>\n",
       "      <td>0.309556</td>\n",
       "      <td>0.999</td>\n",
       "      <td>0.039</td>\n",
       "      <td>0.039</td>\n",
       "      <td>0.523507</td>\n",
       "      <td>0.60</td>\n",
       "    </tr>\n",
       "    <tr>\n",
       "      <th>MTMR_10</th>\n",
       "      <td>1.000</td>\n",
       "      <td>0.730984</td>\n",
       "      <td>0.724313</td>\n",
       "      <td>0.309556</td>\n",
       "      <td>0.999</td>\n",
       "      <td>0.015</td>\n",
       "      <td>0.015</td>\n",
       "      <td>0.523507</td>\n",
       "      <td>0.65</td>\n",
       "    </tr>\n",
       "    <tr>\n",
       "      <th>MTMR_10</th>\n",
       "      <td>1.000</td>\n",
       "      <td>0.730984</td>\n",
       "      <td>0.724313</td>\n",
       "      <td>0.309556</td>\n",
       "      <td>0.999</td>\n",
       "      <td>0.007</td>\n",
       "      <td>0.007</td>\n",
       "      <td>0.523507</td>\n",
       "      <td>0.70</td>\n",
       "    </tr>\n",
       "    <tr>\n",
       "      <th>MTMR_11</th>\n",
       "      <td>1.000</td>\n",
       "      <td>0.774455</td>\n",
       "      <td>0.767784</td>\n",
       "      <td>0.312827</td>\n",
       "      <td>0.998</td>\n",
       "      <td>0.405</td>\n",
       "      <td>0.431</td>\n",
       "      <td>0.552719</td>\n",
       "      <td>0.40</td>\n",
       "    </tr>\n",
       "    <tr>\n",
       "      <th>MTMR_11</th>\n",
       "      <td>1.000</td>\n",
       "      <td>0.774455</td>\n",
       "      <td>0.767784</td>\n",
       "      <td>0.312827</td>\n",
       "      <td>0.998</td>\n",
       "      <td>0.233</td>\n",
       "      <td>0.241</td>\n",
       "      <td>0.552719</td>\n",
       "      <td>0.45</td>\n",
       "    </tr>\n",
       "    <tr>\n",
       "      <th>MTMR_11</th>\n",
       "      <td>1.000</td>\n",
       "      <td>0.774455</td>\n",
       "      <td>0.767784</td>\n",
       "      <td>0.312827</td>\n",
       "      <td>0.998</td>\n",
       "      <td>0.130</td>\n",
       "      <td>0.133</td>\n",
       "      <td>0.552719</td>\n",
       "      <td>0.50</td>\n",
       "    </tr>\n",
       "    <tr>\n",
       "      <th>MTMR_11</th>\n",
       "      <td>1.000</td>\n",
       "      <td>0.774455</td>\n",
       "      <td>0.767784</td>\n",
       "      <td>0.312827</td>\n",
       "      <td>0.998</td>\n",
       "      <td>0.054</td>\n",
       "      <td>0.054</td>\n",
       "      <td>0.552719</td>\n",
       "      <td>0.55</td>\n",
       "    </tr>\n",
       "    <tr>\n",
       "      <th>MTMR_11</th>\n",
       "      <td>1.000</td>\n",
       "      <td>0.774455</td>\n",
       "      <td>0.767784</td>\n",
       "      <td>0.312827</td>\n",
       "      <td>0.998</td>\n",
       "      <td>0.023</td>\n",
       "      <td>0.023</td>\n",
       "      <td>0.552719</td>\n",
       "      <td>0.60</td>\n",
       "    </tr>\n",
       "    <tr>\n",
       "      <th>MTMR_11</th>\n",
       "      <td>1.000</td>\n",
       "      <td>0.774455</td>\n",
       "      <td>0.767784</td>\n",
       "      <td>0.312827</td>\n",
       "      <td>0.998</td>\n",
       "      <td>0.007</td>\n",
       "      <td>0.007</td>\n",
       "      <td>0.552719</td>\n",
       "      <td>0.65</td>\n",
       "    </tr>\n",
       "    <tr>\n",
       "      <th>MTMR_11</th>\n",
       "      <td>1.000</td>\n",
       "      <td>0.774455</td>\n",
       "      <td>0.767784</td>\n",
       "      <td>0.312827</td>\n",
       "      <td>0.998</td>\n",
       "      <td>0.003</td>\n",
       "      <td>0.003</td>\n",
       "      <td>0.552719</td>\n",
       "      <td>0.70</td>\n",
       "    </tr>\n",
       "  </tbody>\n",
       "</table>\n",
       "</div>"
      ],
      "text/plain": [
       "         VALID_RATIO  PROPERTY  IMPROVEMENT  SIMILARITY  NOVELTY  SUCCESS  \\\n",
       "MTMR_00        1.000  0.734259     0.727588    0.308797    1.000    0.372   \n",
       "MTMR_00        1.000  0.734259     0.727588    0.308797    1.000    0.239   \n",
       "MTMR_00        1.000  0.734259     0.727588    0.308797    1.000    0.148   \n",
       "MTMR_00        1.000  0.734259     0.727588    0.308797    1.000    0.080   \n",
       "MTMR_00        1.000  0.734259     0.727588    0.308797    1.000    0.042   \n",
       "MTMR_00        1.000  0.734259     0.727588    0.308797    1.000    0.019   \n",
       "MTMR_00        1.000  0.734259     0.727588    0.308797    1.000    0.005   \n",
       "MTMR_01        0.998  0.736493     0.729831    0.294434    0.998    0.338   \n",
       "MTMR_01        0.998  0.736493     0.729831    0.294434    0.998    0.205   \n",
       "MTMR_01        0.998  0.736493     0.729831    0.294434    0.998    0.112   \n",
       "MTMR_01        0.998  0.736493     0.729831    0.294434    0.998    0.053   \n",
       "MTMR_01        0.998  0.736493     0.729831    0.294434    0.998    0.022   \n",
       "MTMR_01        0.998  0.736493     0.729831    0.294434    0.998    0.009   \n",
       "MTMR_01        0.998  0.736493     0.729831    0.294434    0.998    0.003   \n",
       "MTMR_10        1.000  0.730984     0.724313    0.309556    0.999    0.388   \n",
       "MTMR_10        1.000  0.730984     0.724313    0.309556    0.999    0.241   \n",
       "MTMR_10        1.000  0.730984     0.724313    0.309556    0.999    0.144   \n",
       "MTMR_10        1.000  0.730984     0.724313    0.309556    0.999    0.068   \n",
       "MTMR_10        1.000  0.730984     0.724313    0.309556    0.999    0.039   \n",
       "MTMR_10        1.000  0.730984     0.724313    0.309556    0.999    0.015   \n",
       "MTMR_10        1.000  0.730984     0.724313    0.309556    0.999    0.007   \n",
       "MTMR_11        1.000  0.774455     0.767784    0.312827    0.998    0.405   \n",
       "MTMR_11        1.000  0.774455     0.767784    0.312827    0.998    0.233   \n",
       "MTMR_11        1.000  0.774455     0.767784    0.312827    0.998    0.130   \n",
       "MTMR_11        1.000  0.774455     0.767784    0.312827    0.998    0.054   \n",
       "MTMR_11        1.000  0.774455     0.767784    0.312827    0.998    0.023   \n",
       "MTMR_11        1.000  0.774455     0.767784    0.312827    0.998    0.007   \n",
       "MTMR_11        1.000  0.774455     0.767784    0.312827    0.998    0.003   \n",
       "\n",
       "         SUCCESS_WO_NOVEL  DIVERSITY  THRESHOLD_SIMILARITY  \n",
       "MTMR_00             0.381   0.546428                  0.40  \n",
       "MTMR_00             0.245   0.546428                  0.45  \n",
       "MTMR_00             0.150   0.546428                  0.50  \n",
       "MTMR_00             0.080   0.546428                  0.55  \n",
       "MTMR_00             0.042   0.546428                  0.60  \n",
       "MTMR_00             0.019   0.546428                  0.65  \n",
       "MTMR_00             0.005   0.546428                  0.70  \n",
       "MTMR_01             0.349   0.545545                  0.40  \n",
       "MTMR_01             0.211   0.545545                  0.45  \n",
       "MTMR_01             0.113   0.545545                  0.50  \n",
       "MTMR_01             0.053   0.545545                  0.55  \n",
       "MTMR_01             0.022   0.545545                  0.60  \n",
       "MTMR_01             0.009   0.545545                  0.65  \n",
       "MTMR_01             0.003   0.545545                  0.70  \n",
       "MTMR_10             0.401   0.523507                  0.40  \n",
       "MTMR_10             0.247   0.523507                  0.45  \n",
       "MTMR_10             0.147   0.523507                  0.50  \n",
       "MTMR_10             0.068   0.523507                  0.55  \n",
       "MTMR_10             0.039   0.523507                  0.60  \n",
       "MTMR_10             0.015   0.523507                  0.65  \n",
       "MTMR_10             0.007   0.523507                  0.70  \n",
       "MTMR_11             0.431   0.552719                  0.40  \n",
       "MTMR_11             0.241   0.552719                  0.45  \n",
       "MTMR_11             0.133   0.552719                  0.50  \n",
       "MTMR_11             0.054   0.552719                  0.55  \n",
       "MTMR_11             0.023   0.552719                  0.60  \n",
       "MTMR_11             0.007   0.552719                  0.65  \n",
       "MTMR_11             0.003   0.552719                  0.70  "
      ]
     },
     "execution_count": 17,
     "metadata": {},
     "output_type": "execute_result"
    }
   ],
   "source": [
    "df_merged"
   ]
  },
  {
   "cell_type": "code",
   "execution_count": 18,
   "id": "c3444e1f",
   "metadata": {},
   "outputs": [],
   "source": [
    "df_merged.to_csv(os.path.join(output_dir, \"table_metrics.csv\"))"
   ]
  },
  {
   "cell_type": "code",
   "execution_count": 19,
   "id": "8bc7ffb6",
   "metadata": {},
   "outputs": [
    {
     "data": {
      "image/png": "[encoded data removed]",
      "text/plain": [
       "<Figure size 720x360 with 1 Axes>"
      ]
     },
     "metadata": {},
     "output_type": "display_data"
    }
   ],
   "source": [
    "sns.set_theme(style='darkgrid')\n",
    "\n",
    "fig, ax = plt.subplots(1,1,figsize=(10,5))\n",
    "\n",
    "_ = sns.lineplot(data=df_merged.reset_index(),\n",
    "                 x='THRESHOLD_SIMILARITY', y=\"SUCCESS\", hue=\"index\",\n",
    "                 style=\"index\", markers=True, linewidth=1, markersize=10,\n",
    "                 ax=ax)\n",
    "\n",
    "#ax.set_ylim(None, 0.45)\n",
    "\n",
    "plt.tight_layout()\n",
    "plt.show()"
   ]
  },
  {
   "cell_type": "markdown",
   "id": "51ad9284",
   "metadata": {},
   "source": [
    "## 7. Property distribution"
   ]
  },
  {
   "cell_type": "code",
   "execution_count": 20,
   "id": "08ce8244",
   "metadata": {},
   "outputs": [
    {
     "data": {
      "image/png": "[encoded data removed]",
      "text/plain": [
       "<Figure size 720x360 with 2 Axes>"
      ]
     },
     "metadata": {},
     "output_type": "display_data"
    }
   ],
   "source": [
    "sns.set_theme(style='whitegrid')\n",
    "\n",
    "fig, ax = plt.subplots(1,2,figsize=(10,5))\n",
    "\n",
    "for name, df in frames_models:\n",
    "    idx = df.loc[:,\"PROPERTY\"] <= 0.05\n",
    "    _ = sns.kdeplot(data=df[idx], x=\"PROPERTY\", label=name, ax=ax[0])\n",
    "    \n",
    "    idx = df.loc[:,\"PROPERTY\"] >= 0.5\n",
    "    _ = sns.kdeplot(data=df[idx], x=\"PROPERTY\", label=name, ax=ax[1])\n",
    "    \n",
    "#ax.set_yscale('log')\n",
    "#ax.set_ylim(0.01,None)\n",
    "\n",
    "ax[0].legend(loc='best')\n",
    "ax[1].legend(loc='best')\n",
    "plt.tight_layout()\n",
    "plt.show()"
   ]
  },
  {
   "cell_type": "code",
   "execution_count": null,
   "id": "c84f37eb",
   "metadata": {},
   "outputs": [],
   "source": []
  }
 ],
 "metadata": {
  "kernelspec": {
   "display_name": "Python 3",
   "language": "python",
   "name": "python3"
  },
  "language_info": {
   "codemirror_mode": {
    "name": "ipython",
    "version": 3
   },
   "file_extension": ".py",
   "mimetype": "text/x-python",
   "name": "python",
   "nbconvert_exporter": "python",
   "pygments_lexer": "ipython3",
   "version": "3.6.15"
  }
 },
 "nbformat": 4,
 "nbformat_minor": 5
}
