{
 "cells": [
  {
   "cell_type": "markdown",
   "id": "0c5880bb",
   "metadata": {},
   "source": [
    "# Tutorial - MTMR finetuning with Reinforcement learning"
   ]
  },
  {
   "cell_type": "markdown",
   "id": "d5d92a7d",
   "metadata": {},
   "source": [
    "## 1. Import requirements"
   ]
  },
  {
   "cell_type": "code",
   "execution_count": 1,
   "id": "7fb55dda",
   "metadata": {},
   "outputs": [],
   "source": [
    "import os\n",
    "import sys\n",
    "import pandas as pd\n",
    "import torch\n",
    "import time\n",
    "import matplotlib.pyplot as plt"
   ]
  },
  {
   "cell_type": "code",
   "execution_count": 2,
   "id": "59be5676",
   "metadata": {},
   "outputs": [],
   "source": [
    "sys.path = [os.path.abspath(os.path.join(os.getcwd(), os.pardir))] + sys.path"
   ]
  },
  {
   "cell_type": "code",
   "execution_count": 3,
   "id": "5c5b6818",
   "metadata": {},
   "outputs": [],
   "source": [
    "from MTMR.dataset import TrainingSmilesDataset, ValidationSmilesDataset\n",
    "from MTMR.vae import SmilesAutoencoder, RewardFunction\n",
    "from MTMR.properties import drd2, qed, similarity"
   ]
  },
  {
   "cell_type": "markdown",
   "id": "3f2c6443",
   "metadata": {},
   "source": [
    "## 2. Configure GPU (if available)"
   ]
  },
  {
   "cell_type": "code",
   "execution_count": 4,
   "id": "87d76127",
   "metadata": {},
   "outputs": [
    {
     "name": "stdout",
     "output_type": "stream",
     "text": [
      "cuda:0\n"
     ]
    }
   ],
   "source": [
    "use_cuda = torch.cuda.is_available()\n",
    "device = torch.device(\"cuda:0\" if use_cuda else \"cpu\")\n",
    "print(device)"
   ]
  },
  {
   "cell_type": "markdown",
   "id": "e1b572d3",
   "metadata": {},
   "source": [
    "## 3. Specify a target property"
   ]
  },
  {
   "cell_type": "code",
   "execution_count": 5,
   "id": "117d2610",
   "metadata": {},
   "outputs": [],
   "source": [
    "PROPERTY_NAME = \"drd2\"\n",
    "TEST_NUM = \"00\"\n",
    "\n",
    "SCORING_PROPERTY_FT = drd2\n",
    "SCORING_TANIMOTO_FT = similarity\n",
    "\n",
    "## Configure the parameters of a reward function for the target property\n",
    "threshold_property = 0.\n",
    "threshold_similarity = 0.3"
   ]
  },
  {
   "cell_type": "markdown",
   "id": "bcd86a70",
   "metadata": {},
   "source": [
    "## 4. Set directories (for inputs and outputs)"
   ]
  },
  {
   "cell_type": "code",
   "execution_count": 6,
   "id": "6e4b45ca",
   "metadata": {},
   "outputs": [],
   "source": [
    "input_data_dir = os.path.abspath(os.path.join(os.pardir, \"DATA\", PROPERTY_NAME))\n",
    "input_ckpt_dir = f\"outputs_5-1_{PROPERTY_NAME.upper()}_pretraining_{TEST_NUM}\""
   ]
  },
  {
   "cell_type": "code",
   "execution_count": 7,
   "id": "04397dab",
   "metadata": {},
   "outputs": [],
   "source": [
    "output_dir = f\"outputs_5-5_{PROPERTY_NAME.upper()}_finetuning_{TEST_NUM}\"\n",
    "if not os.path.exists(output_dir):\n",
    "    os.mkdir(output_dir)"
   ]
  },
  {
   "cell_type": "markdown",
   "id": "f9b8a903",
   "metadata": {},
   "source": [
    "## 5. Set file names"
   ]
  },
  {
   "cell_type": "code",
   "execution_count": 8,
   "id": "10c562b0",
   "metadata": {},
   "outputs": [],
   "source": [
    "filepath_train = os.path.join(input_data_dir, \"rdkit_train_triplet.txt\")\n",
    "filepath_valid = os.path.join(input_data_dir, \"rdkit_valid.txt\")"
   ]
  },
  {
   "cell_type": "code",
   "execution_count": 9,
   "id": "8d773d0b",
   "metadata": {},
   "outputs": [],
   "source": [
    "filepath_pretrain_ckpt     = os.path.join(input_ckpt_dir, \"checkpoints.pt\")\n",
    "filepath_pretrain_configs  = os.path.join(input_ckpt_dir, \"configs.csv\")\n",
    "filepath_pretrain_char2idx = os.path.join(input_ckpt_dir, \"char2idx.csv\")"
   ]
  },
  {
   "cell_type": "code",
   "execution_count": 10,
   "id": "b0bdd650",
   "metadata": {},
   "outputs": [],
   "source": [
    "filepath_char2idx      = os.path.join(output_dir, \"char2idx.csv\")\n",
    "filepath_configs       = os.path.join(output_dir, \"configs.csv\")\n",
    "filepath_checkpoint    = os.path.join(output_dir, \"checkpoints.pt\")\n",
    "filepath_history       = os.path.join(output_dir, \"history.csv\")\n",
    "filepath_history_valid = os.path.join(output_dir, \"history_valid.csv\")"
   ]
  },
  {
   "cell_type": "markdown",
   "id": "9d7d1ec4",
   "metadata": {},
   "source": [
    "## 6. Load datasets (for training and validation)"
   ]
  },
  {
   "cell_type": "code",
   "execution_count": 11,
   "id": "74f14a96",
   "metadata": {},
   "outputs": [],
   "source": [
    "dataset = TrainingSmilesDataset(filepath_train, filepath_char2idx=filepath_pretrain_char2idx, device=device)\n",
    "dataset.save_char2idx(filepath_char2idx)\n",
    "dataset_valid = ValidationSmilesDataset(filepath_valid, filepath_char2idx, device=device)"
   ]
  },
  {
   "cell_type": "markdown",
   "id": "afb181f7",
   "metadata": {},
   "source": [
    "## 7. Load a pretrained generator of MTMR"
   ]
  },
  {
   "cell_type": "code",
   "execution_count": 12,
   "id": "d582fd17",
   "metadata": {},
   "outputs": [],
   "source": [
    "## Model configuration\n",
    "model_configs = {\"hidden_size\"    :None,\n",
    "                 \"latent_size\"    :None,\n",
    "                 \"num_layers\"     :None,\n",
    "                 \"vocab_size\"     :None,\n",
    "                 \"sos_idx\"        :None,\n",
    "                 \"eos_idx\"        :None,\n",
    "                 \"pad_idx\"        :None,\n",
    "                 \"device\"         :device,\n",
    "                 \"filepath_config\":filepath_pretrain_configs}\n",
    "\n",
    "## Model initialization\n",
    "generator = SmilesAutoencoder(**model_configs)\n",
    "\n",
    "## Load pretrained model\n",
    "generator.load_model(filepath_pretrain_ckpt)\n",
    "\n",
    "## Configuration save\n",
    "generator.save_config(filepath_configs)"
   ]
  },
  {
   "cell_type": "markdown",
   "id": "50439922",
   "metadata": {},
   "source": [
    "## 8. Define a reward function"
   ]
  },
  {
   "cell_type": "code",
   "execution_count": 13,
   "id": "4fe52830",
   "metadata": {},
   "outputs": [],
   "source": [
    "reward_ft = RewardFunction(similarity_ft=SCORING_TANIMOTO_FT,\n",
    "                           scoring_ft=SCORING_PROPERTY_FT,\n",
    "                           threshold_property=threshold_property,\n",
    "                           threshold_similarity=threshold_similarity)"
   ]
  },
  {
   "cell_type": "markdown",
   "id": "409508a8",
   "metadata": {},
   "source": [
    "## 9. Train"
   ]
  },
  {
   "cell_type": "code",
   "execution_count": 14,
   "id": "c4d657a3",
   "metadata": {},
   "outputs": [
    {
     "name": "stdout",
     "output_type": "stream",
     "text": [
      "[000000/002000]  loss: 0.063  reward: 0.024  similarity: 0.969  property[0]: 0.024  valid_ratio(va): 0.622  similarity(va): 0.364  property(va): 0.014\n",
      "[000010/002000]  loss: 0.043  reward: 0.020  similarity: 0.982  property[0]: 0.020  valid_ratio(va): 0.640  similarity(va): 0.366  property(va): 0.019\n",
      "[000020/002000]  loss: 0.064  reward: 0.034  similarity: 0.956  property[0]: 0.034  valid_ratio(va): 0.674  similarity(va): 0.382  property(va): 0.028\n",
      "[000030/002000]  loss: 0.049  reward: 0.034  similarity: 0.940  property[0]: 0.034  valid_ratio(va): 0.698  similarity(va): 0.385  property(va): 0.040\n",
      "[000040/002000]  loss: 0.034  reward: 0.033  similarity: 0.921  property[0]: 0.033  valid_ratio(va): 0.758  similarity(va): 0.413  property(va): 0.050\n",
      "[000050/002000]  loss: 0.055  reward: 0.051  similarity: 0.861  property[0]: 0.051  valid_ratio(va): 0.800  similarity(va): 0.421  property(va): 0.077\n",
      "[000060/002000]  loss: 0.063  reward: 0.092  similarity: 0.811  property[0]: 0.092  valid_ratio(va): 0.850  similarity(va): 0.436  property(va): 0.092\n",
      "[000070/002000]  loss: 0.074  reward: 0.091  similarity: 0.755  property[0]: 0.091  valid_ratio(va): 0.874  similarity(va): 0.435  property(va): 0.119\n",
      "[000080/002000]  loss: 0.062  reward: 0.126  similarity: 0.720  property[0]: 0.126  valid_ratio(va): 0.908  similarity(va): 0.439  property(va): 0.131\n",
      "[000090/002000]  loss: 0.061  reward: 0.143  similarity: 0.704  property[0]: 0.143  valid_ratio(va): 0.904  similarity(va): 0.425  property(va): 0.152\n",
      "[000100/002000]  loss: 0.052  reward: 0.131  similarity: 0.651  property[0]: 0.131  valid_ratio(va): 0.920  similarity(va): 0.425  property(va): 0.154\n",
      "[000110/002000]  loss: 0.062  reward: 0.201  similarity: 0.656  property[0]: 0.201  valid_ratio(va): 0.912  similarity(va): 0.413  property(va): 0.170\n",
      "[000120/002000]  loss: 0.060  reward: 0.176  similarity: 0.647  property[0]: 0.176  valid_ratio(va): 0.894  similarity(va): 0.403  property(va): 0.171\n",
      "[000130/002000]  loss: 0.049  reward: 0.183  similarity: 0.667  property[0]: 0.183  valid_ratio(va): 0.940  similarity(va): 0.415  property(va): 0.183\n",
      "[000140/002000]  loss: 0.058  reward: 0.169  similarity: 0.663  property[0]: 0.169  valid_ratio(va): 0.942  similarity(va): 0.400  property(va): 0.200\n",
      "[000150/002000]  loss: 0.062  reward: 0.214  similarity: 0.652  property[0]: 0.214  valid_ratio(va): 0.916  similarity(va): 0.383  property(va): 0.208\n",
      "[000160/002000]  loss: 0.047  reward: 0.217  similarity: 0.579  property[0]: 0.217  valid_ratio(va): 0.934  similarity(va): 0.384  property(va): 0.233\n",
      "[000170/002000]  loss: 0.051  reward: 0.303  similarity: 0.580  property[0]: 0.303  valid_ratio(va): 0.928  similarity(va): 0.378  property(va): 0.240\n",
      "[000180/002000]  loss: 0.055  reward: 0.299  similarity: 0.544  property[0]: 0.299  valid_ratio(va): 0.926  similarity(va): 0.364  property(va): 0.245\n",
      "[000190/002000]  loss: 0.058  reward: 0.346  similarity: 0.551  property[0]: 0.346  valid_ratio(va): 0.950  similarity(va): 0.378  property(va): 0.261\n",
      "[000200/002000]  loss: 0.062  reward: 0.334  similarity: 0.550  property[0]: 0.334  valid_ratio(va): 0.950  similarity(va): 0.369  property(va): 0.270\n",
      "[000210/002000]  loss: 0.049  reward: 0.249  similarity: 0.578  property[0]: 0.249  valid_ratio(va): 0.948  similarity(va): 0.362  property(va): 0.267\n",
      "[000220/002000]  loss: 0.061  reward: 0.373  similarity: 0.505  property[0]: 0.373  valid_ratio(va): 0.956  similarity(va): 0.363  property(va): 0.277\n",
      "[000230/002000]  loss: 0.068  reward: 0.369  similarity: 0.514  property[0]: 0.369  valid_ratio(va): 0.938  similarity(va): 0.350  property(va): 0.294\n",
      "[000240/002000]  loss: 0.063  reward: 0.301  similarity: 0.522  property[0]: 0.301  valid_ratio(va): 0.952  similarity(va): 0.356  property(va): 0.292\n",
      "[000250/002000]  loss: 0.055  reward: 0.398  similarity: 0.546  property[0]: 0.398  valid_ratio(va): 0.952  similarity(va): 0.353  property(va): 0.321\n",
      "[000260/002000]  loss: 0.068  reward: 0.383  similarity: 0.537  property[0]: 0.383  valid_ratio(va): 0.956  similarity(va): 0.346  property(va): 0.324\n",
      "[000270/002000]  loss: 0.056  reward: 0.350  similarity: 0.546  property[0]: 0.350  valid_ratio(va): 0.956  similarity(va): 0.342  property(va): 0.325\n",
      "[000280/002000]  loss: 0.053  reward: 0.359  similarity: 0.534  property[0]: 0.359  valid_ratio(va): 0.946  similarity(va): 0.342  property(va): 0.325\n",
      "[000290/002000]  loss: 0.053  reward: 0.415  similarity: 0.535  property[0]: 0.415  valid_ratio(va): 0.962  similarity(va): 0.341  property(va): 0.341\n",
      "[000300/002000]  loss: 0.074  reward: 0.405  similarity: 0.502  property[0]: 0.405  valid_ratio(va): 0.964  similarity(va): 0.339  property(va): 0.356\n",
      "[000310/002000]  loss: 0.066  reward: 0.377  similarity: 0.513  property[0]: 0.377  valid_ratio(va): 0.966  similarity(va): 0.338  property(va): 0.370\n",
      "[000320/002000]  loss: 0.055  reward: 0.453  similarity: 0.507  property[0]: 0.453  valid_ratio(va): 0.958  similarity(va): 0.332  property(va): 0.375\n",
      "[000330/002000]  loss: 0.046  reward: 0.419  similarity: 0.523  property[0]: 0.419  valid_ratio(va): 0.960  similarity(va): 0.330  property(va): 0.375\n"
     ]
    },
    {
     "ename": "KeyboardInterrupt",
     "evalue": "",
     "output_type": "error",
     "traceback": [
      "\u001b[0;31m---------------------------------------------------------------------------\u001b[0m",
      "\u001b[0;31mKeyboardInterrupt\u001b[0m                         Traceback (most recent call last)",
      "\u001b[0;32m<ipython-input-14-aab22924c17f>\u001b[0m in \u001b[0;36m<module>\u001b[0;34m\u001b[0m\n\u001b[1;32m      1\u001b[0m df_history, df_history_valid = generator.policy_gradient(dataset, reward_ft,\n\u001b[1;32m      2\u001b[0m                                                          \u001b[0mvalidation_dataset\u001b[0m\u001b[0;34m=\u001b[0m\u001b[0mdataset_valid\u001b[0m\u001b[0;34m,\u001b[0m\u001b[0;34m\u001b[0m\u001b[0;34m\u001b[0m\u001b[0m\n\u001b[0;32m----> 3\u001b[0;31m                                                          checkpoint_filepath=filepath_checkpoint)\n\u001b[0m\u001b[1;32m      4\u001b[0m \u001b[0;34m\u001b[0m\u001b[0m\n\u001b[1;32m      5\u001b[0m \u001b[0mdf_history\u001b[0m\u001b[0;34m.\u001b[0m\u001b[0mto_csv\u001b[0m\u001b[0;34m(\u001b[0m\u001b[0mfilepath_history\u001b[0m\u001b[0;34m,\u001b[0m \u001b[0mindex\u001b[0m\u001b[0;34m=\u001b[0m\u001b[0;32mFalse\u001b[0m\u001b[0;34m)\u001b[0m\u001b[0;34m\u001b[0m\u001b[0;34m\u001b[0m\u001b[0m\n",
      "\u001b[0;32m/Data1/descartes/work/DrugStyler/MTMR/MTMR/vae.py\u001b[0m in \u001b[0;36mpolicy_gradient\u001b[0;34m(self, dataset, reward_ft, batch_size, total_steps, learning_rate, discount_factor, buffer_size, buffer_batch_size, validation_dataset, validation_repetition_size, use_adaptive_threshold, checkpoint_step, checkpoint_filepath, display_step, verbose)\u001b[0m\n\u001b[1;32m    423\u001b[0m                 \u001b[0mbatch_inp_length\u001b[0m \u001b[0;34m=\u001b[0m \u001b[0msingle_length\u001b[0m\u001b[0;34m.\u001b[0m\u001b[0mrepeat\u001b[0m\u001b[0;34m(\u001b[0m\u001b[0mbuffer_batch_size\u001b[0m\u001b[0;34m)\u001b[0m \u001b[0;31m# batch_inp_length.shape = (buffer_batch, )\u001b[0m\u001b[0;34m\u001b[0m\u001b[0;34m\u001b[0m\u001b[0m\n\u001b[1;32m    424\u001b[0m \u001b[0;34m\u001b[0m\u001b[0m\n\u001b[0;32m--> 425\u001b[0;31m                 \u001b[0;31m## generate target data\u001b[0m\u001b[0;34m\u001b[0m\u001b[0;34m\u001b[0m\u001b[0;34m\u001b[0m\u001b[0m\n\u001b[0m\u001b[1;32m    426\u001b[0m                 \u001b[0mbatch_out_encode\u001b[0m \u001b[0;34m=\u001b[0m \u001b[0mself\u001b[0m\u001b[0;34m.\u001b[0m\u001b[0mpredict\u001b[0m\u001b[0;34m(\u001b[0m\u001b[0mbatch_inp_encode\u001b[0m\u001b[0;34m,\u001b[0m \u001b[0mbatch_inp_length\u001b[0m\u001b[0;34m)\u001b[0m \u001b[0;31m# batch_out_encode.shape = (sample, max_seqlen)\u001b[0m\u001b[0;34m\u001b[0m\u001b[0;34m\u001b[0m\u001b[0m\n\u001b[1;32m    427\u001b[0m                 \u001b[0mbatch_tar_smiles\u001b[0m \u001b[0;34m=\u001b[0m \u001b[0;34m[\u001b[0m\u001b[0mdataset\u001b[0m\u001b[0;34m.\u001b[0m\u001b[0msos_char\u001b[0m \u001b[0;34m+\u001b[0m \u001b[0msmi\u001b[0m \u001b[0;34m+\u001b[0m \u001b[0mdataset\u001b[0m\u001b[0;34m.\u001b[0m\u001b[0meos_char\u001b[0m \u001b[0;32mfor\u001b[0m \u001b[0msmi\u001b[0m \u001b[0;32min\u001b[0m \u001b[0mdataset\u001b[0m\u001b[0;34m.\u001b[0m\u001b[0mdecode\u001b[0m\u001b[0;34m(\u001b[0m\u001b[0mbatch_out_encode\u001b[0m\u001b[0;34m)\u001b[0m\u001b[0;34m]\u001b[0m \u001b[0;31m# len(batch_tar_smiles) = batch\u001b[0m\u001b[0;34m\u001b[0m\u001b[0;34m\u001b[0m\u001b[0m\n",
      "\u001b[0;32m/Data1/descartes/work/DrugStyler/MTMR/MTMR/vae.py\u001b[0m in \u001b[0;36mpredict\u001b[0;34m(self, smiles, length, max_seqlen)\u001b[0m\n\u001b[1;32m    819\u001b[0m             \u001b[0mz\u001b[0m \u001b[0;34m=\u001b[0m \u001b[0mself\u001b[0m\u001b[0;34m.\u001b[0m\u001b[0mencoder\u001b[0m\u001b[0;34m.\u001b[0m\u001b[0msampling\u001b[0m\u001b[0;34m(\u001b[0m\u001b[0mmean\u001b[0m\u001b[0;34m,\u001b[0m \u001b[0mlogvar\u001b[0m\u001b[0;34m)\u001b[0m \u001b[0;31m# z.shape = (batch, latent)\u001b[0m\u001b[0;34m\u001b[0m\u001b[0;34m\u001b[0m\u001b[0m\n\u001b[1;32m    820\u001b[0m             \u001b[0;31m## Decoder\u001b[0m\u001b[0;34m\u001b[0m\u001b[0;34m\u001b[0m\u001b[0;34m\u001b[0m\u001b[0m\n\u001b[0;32m--> 821\u001b[0;31m             \u001b[0mgenerated\u001b[0m \u001b[0;34m=\u001b[0m \u001b[0;34m[\u001b[0m\u001b[0;34m]\u001b[0m\u001b[0;34m\u001b[0m\u001b[0;34m\u001b[0m\u001b[0m\n\u001b[0m\u001b[1;32m    822\u001b[0m             \u001b[0;32mfor\u001b[0m \u001b[0mi\u001b[0m \u001b[0;32min\u001b[0m \u001b[0mrange\u001b[0m\u001b[0;34m(\u001b[0m\u001b[0mbatch_size\u001b[0m\u001b[0;34m)\u001b[0m\u001b[0;34m:\u001b[0m\u001b[0;34m\u001b[0m\u001b[0;34m\u001b[0m\u001b[0m\n\u001b[1;32m    823\u001b[0m                 \u001b[0mz_i\u001b[0m \u001b[0;34m=\u001b[0m \u001b[0mz\u001b[0m\u001b[0;34m[\u001b[0m\u001b[0mi\u001b[0m\u001b[0;34m]\u001b[0m\u001b[0;34m.\u001b[0m\u001b[0munsqueeze\u001b[0m\u001b[0;34m(\u001b[0m\u001b[0;36m0\u001b[0m\u001b[0;34m)\u001b[0m \u001b[0;31m# z_i.shape = (1, latent)\u001b[0m\u001b[0;34m\u001b[0m\u001b[0;34m\u001b[0m\u001b[0m\n",
      "\u001b[0;32m/Data1/descartes/work/DrugStyler/MTMR/MTMR/vae.py\u001b[0m in \u001b[0;36m_generate\u001b[0;34m(self, z, max_seqlen, greedy)\u001b[0m\n\u001b[1;32m    847\u001b[0m \u001b[0;34m\u001b[0m\u001b[0m\n\u001b[1;32m    848\u001b[0m         \u001b[0;31m## Recursive\u001b[0m\u001b[0;34m\u001b[0m\u001b[0;34m\u001b[0m\u001b[0;34m\u001b[0m\u001b[0m\n\u001b[0;32m--> 849\u001b[0;31m         \u001b[0minps\u001b[0m \u001b[0;34m=\u001b[0m \u001b[0minps_sos\u001b[0m \u001b[0;31m# inps.shape = (batch, 1)\u001b[0m\u001b[0;34m\u001b[0m\u001b[0;34m\u001b[0m\u001b[0m\n\u001b[0m\u001b[1;32m    850\u001b[0m         \u001b[0;32mfor\u001b[0m \u001b[0mi\u001b[0m \u001b[0;32min\u001b[0m \u001b[0mrange\u001b[0m\u001b[0;34m(\u001b[0m\u001b[0mmax_seqlen\u001b[0m\u001b[0;34m)\u001b[0m\u001b[0;34m:\u001b[0m\u001b[0;34m\u001b[0m\u001b[0;34m\u001b[0m\u001b[0m\n\u001b[1;32m    851\u001b[0m             \u001b[0;31m## Terminal condition\u001b[0m\u001b[0;34m\u001b[0m\u001b[0;34m\u001b[0m\u001b[0;34m\u001b[0m\u001b[0m\n",
      "\u001b[0;31mKeyboardInterrupt\u001b[0m: "
     ]
    }
   ],
   "source": [
    "df_history, df_history_valid = generator.policy_gradient(dataset, reward_ft,\n",
    "                                                         validation_dataset=dataset_valid,\n",
    "                                                         checkpoint_filepath=filepath_checkpoint)\n",
    "\n",
    "df_history.to_csv(filepath_history, index=False)\n",
    "df_history_valid.to_csv(filepath_history_valid, index=False)"
   ]
  },
  {
   "cell_type": "markdown",
   "id": "bd7aabd1",
   "metadata": {},
   "source": [
    "## 10. Visualize for reward & loss analysis"
   ]
  },
  {
   "cell_type": "code",
   "execution_count": null,
   "id": "0881774a",
   "metadata": {},
   "outputs": [],
   "source": [
    "fig, axes = plt.subplots(4,1,figsize=(8,8))\n",
    "\n",
    "axes[0].plot(df_history.loc[:,\"LOSS\"], label=\"Loss\")\n",
    "axes[1].plot(df_history.loc[:,\"REWARD\"], label=\"Reward\")\n",
    "axes[2].plot(df_history.loc[:,\"SIMILARITY\"], label=\"Tanimoto Coeff.\")\n",
    "axes[3].plot(df_history.loc[:,\"PROPERTY\"], label=f\"Property ({PROPERTY_NAME})\")\n",
    "\n",
    "axes[3].set_xlabel(\"Iteration\")\n",
    "for ax in axes:\n",
    "    ax.legend(loc='best')\n",
    "\n",
    "plt.tight_layout()\n",
    "plt.show()"
   ]
  },
  {
   "cell_type": "code",
   "execution_count": null,
   "id": "3f1c8fa5",
   "metadata": {},
   "outputs": [],
   "source": [
    "fig, axes = plt.subplots(3,1,figsize=(8,4))\n",
    "\n",
    "axes[0].plot(df_history_valid.loc[:,\"VALID_RATIO\"], label=\"Validity\")\n",
    "axes[1].plot(df_history_valid.loc[:,\"AVERAGE_SIMILARITY\"], label=\"Tanimoto coeff.\")\n",
    "axes[2].plot(df_history_valid.loc[:,\"AVERAGE_PROPERTY\"], label=f\"Property ({PROPERTY_NAME})\")\n",
    "\n",
    "axes[0].set_ylim(0.95, 1.005)\n",
    "\n",
    "axes[2].set_xlabel(\"Iteration\")\n",
    "for ax in axes:\n",
    "    ax.legend(loc='best')\n",
    "\n",
    "plt.tight_layout()\n",
    "plt.show()"
   ]
  }
 ],
 "metadata": {
  "kernelspec": {
   "display_name": "Python 3",
   "language": "python",
   "name": "python3"
  },
  "language_info": {
   "codemirror_mode": {
    "name": "ipython",
    "version": 3
   },
   "file_extension": ".py",
   "mimetype": "text/x-python",
   "name": "python",
   "nbconvert_exporter": "python",
   "pygments_lexer": "ipython3",
   "version": "3.6.15"
  }
 },
 "nbformat": 4,
 "nbformat_minor": 5
}
