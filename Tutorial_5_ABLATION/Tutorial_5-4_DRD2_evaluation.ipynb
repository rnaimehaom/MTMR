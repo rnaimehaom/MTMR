{
 "cells": [
  {
   "cell_type": "markdown",
   "id": "b106e144",
   "metadata": {},
   "source": [
    "# Tutorial - MTMR evaluation"
   ]
  },
  {
   "cell_type": "markdown",
   "id": "aa7fbd1c",
   "metadata": {},
   "source": [
    "## 1. Import requirements"
   ]
  },
  {
   "cell_type": "code",
   "execution_count": 1,
   "id": "4762551e",
   "metadata": {},
   "outputs": [],
   "source": [
    "import os\n",
    "import sys\n",
    "import pandas as pd\n",
    "import tqdm\n",
    "import seaborn as sns\n",
    "import matplotlib.pyplot as plt"
   ]
  },
  {
   "cell_type": "code",
   "execution_count": 2,
   "id": "c3222fda",
   "metadata": {},
   "outputs": [],
   "source": [
    "sys.path = [os.path.abspath(os.path.join(os.getcwd(), os.pardir))] + sys.path"
   ]
  },
  {
   "cell_type": "code",
   "execution_count": 3,
   "id": "dfac7a94",
   "metadata": {},
   "outputs": [],
   "source": [
    "from MTMR.evaluate import evaluate_metric\n",
    "from MTMR.properties import drd2, mcs_similarity"
   ]
  },
  {
   "cell_type": "markdown",
   "id": "88dc8d0f",
   "metadata": {},
   "source": [
    "## 2. Specify a target property"
   ]
  },
  {
   "cell_type": "code",
   "execution_count": 4,
   "id": "4ad03a9d",
   "metadata": {},
   "outputs": [],
   "source": [
    "PROPERTY_NAME = \"drd2\"\n",
    "SCORING_FT = drd2"
   ]
  },
  {
   "cell_type": "markdown",
   "id": "5d2acee5",
   "metadata": {},
   "source": [
    "## 3. Set directories (for inputs and outputs)"
   ]
  },
  {
   "cell_type": "code",
   "execution_count": 5,
   "id": "60c1179e",
   "metadata": {},
   "outputs": [],
   "source": [
    "input_data_dir = os.path.abspath(os.path.join(os.pardir, \"DATA\", PROPERTY_NAME))\n",
    "input_our_dir = f\"outputs_5-3_{PROPERTY_NAME.upper()}_translation\""
   ]
  },
  {
   "cell_type": "code",
   "execution_count": 6,
   "id": "ed891c6d",
   "metadata": {},
   "outputs": [],
   "source": [
    "output_dir = f\"outputs_5-4_{PROPERTY_NAME.upper()}_evaluation\"\n",
    "if not os.path.exists(output_dir):\n",
    "    os.mkdir(output_dir)"
   ]
  },
  {
   "cell_type": "markdown",
   "id": "7e1efdda",
   "metadata": {},
   "source": [
    "## 4. Load training and test datasets"
   ]
  },
  {
   "cell_type": "code",
   "execution_count": 7,
   "id": "6bcab055",
   "metadata": {},
   "outputs": [],
   "source": [
    "filepath_train_rdkit = os.path.join(input_data_dir, \"rdkit_train_pairs.txt\")\n",
    "filepath_test_rdkit = os.path.join(input_data_dir, \"rdkit_test.txt\")"
   ]
  },
  {
   "cell_type": "code",
   "execution_count": 8,
   "id": "a8a8a6ec",
   "metadata": {},
   "outputs": [],
   "source": [
    "df_pairs_rdkit = pd.read_csv(filepath_train_rdkit, header=None, sep=\" \")\n",
    "targets_rdkit = set(df_pairs_rdkit.iloc[:,1].values.tolist())"
   ]
  },
  {
   "cell_type": "code",
   "execution_count": 9,
   "id": "ca42b8bb",
   "metadata": {},
   "outputs": [
    {
     "name": "stderr",
     "output_type": "stream",
     "text": [
      "100%|██████████| 1000/1000 [00:03<00:00, 259.23it/s]\n"
     ]
    }
   ],
   "source": [
    "df_test_rdkit = pd.read_csv(filepath_test_rdkit, header=None, sep=\" \")\n",
    "df_test_rdkit.loc[:,1] = 0.\n",
    "\n",
    "for i in tqdm.trange(len(df_test_rdkit)):\n",
    "    smi = df_test_rdkit.iloc[i,0]\n",
    "    score = SCORING_FT(smi)\n",
    "    df_test_rdkit.iloc[i,1] = score"
   ]
  },
  {
   "cell_type": "code",
   "execution_count": 10,
   "id": "23cef9bf",
   "metadata": {},
   "outputs": [],
   "source": [
    "src2prop = {smi:prop for smi, prop in df_test_rdkit.values}"
   ]
  },
  {
   "cell_type": "markdown",
   "id": "3d9210e5",
   "metadata": {},
   "source": [
    "## 5. Load translation results generated from the test dataset"
   ]
  },
  {
   "cell_type": "code",
   "execution_count": 11,
   "id": "6312973d",
   "metadata": {},
   "outputs": [],
   "source": [
    "filepath_MTMR_00 = os.path.join(f\"{input_our_dir}_00\",  f\"MTMR_{PROPERTY_NAME.upper()}.csv\") # none of both\n",
    "filepath_MTMR_01 = os.path.join(f\"{input_our_dir}_01\",  f\"MTMR_{PROPERTY_NAME.upper()}.csv\") # no contractive\n",
    "filepath_MTMR_10 = os.path.join(f\"{input_our_dir}_10\",  f\"MTMR_{PROPERTY_NAME.upper()}.csv\") # no margin\n",
    "filepath_MTMR_11 = os.path.join(f\"{input_our_dir}_11\",  f\"MTMR_{PROPERTY_NAME.upper()}.csv\") # control"
   ]
  },
  {
   "cell_type": "code",
   "execution_count": 12,
   "id": "cdbb260d",
   "metadata": {},
   "outputs": [],
   "source": [
    "df_MTMR_00 = pd.read_csv(filepath_MTMR_00,  header=None).fillna(\"\").rename(columns={0:\"SOURCE\", 1:\"TARGET\", 2:\"SIMILARITY\", 3:\"PROPERTY\"})\n",
    "df_MTMR_01 = pd.read_csv(filepath_MTMR_01,  header=None).fillna(\"\").rename(columns={0:\"SOURCE\", 1:\"TARGET\", 2:\"SIMILARITY\", 3:\"PROPERTY\"})\n",
    "df_MTMR_10 = pd.read_csv(filepath_MTMR_10,  header=None).fillna(\"\").rename(columns={0:\"SOURCE\", 1:\"TARGET\", 2:\"SIMILARITY\", 3:\"PROPERTY\"})\n",
    "df_MTMR_11 = pd.read_csv(filepath_MTMR_11,  header=None).fillna(\"\").rename(columns={0:\"SOURCE\", 1:\"TARGET\", 2:\"SIMILARITY\", 3:\"PROPERTY\"})"
   ]
  },
  {
   "cell_type": "code",
   "execution_count": 13,
   "id": "4d6ffd8a",
   "metadata": {},
   "outputs": [],
   "source": [
    "frames_models = [('MTMR_00', df_MTMR_00),\n",
    "                 ('MTMR_01', df_MTMR_01),\n",
    "                 ('MTMR_10', df_MTMR_10),\n",
    "                 ('MTMR_11', df_MTMR_11)]"
   ]
  },
  {
   "cell_type": "code",
   "execution_count": 14,
   "id": "186fec43",
   "metadata": {},
   "outputs": [
    {
     "name": "stderr",
     "output_type": "stream",
     "text": [
      "100%|██████████| 20000/20000 [00:03<00:00, 5908.38it/s]\n",
      "100%|██████████| 20000/20000 [00:03<00:00, 6034.99it/s]\n",
      "100%|██████████| 20000/20000 [00:03<00:00, 5975.14it/s]\n",
      "100%|██████████| 20000/20000 [00:03<00:00, 5856.42it/s]\n"
     ]
    }
   ],
   "source": [
    "for name, df in frames_models:\n",
    "    df.loc[:,\"PROPERTY_SRC\"] = 0.\n",
    "    for i in tqdm.trange(len(df)):\n",
    "        smi_src = df.loc[i,\"SOURCE\"]\n",
    "        smi_tar = df.loc[i,\"TARGET\"]\n",
    "        df.loc[i,\"PROPERTY_SRC\"] = src2prop.get(smi_src)"
   ]
  },
  {
   "cell_type": "markdown",
   "id": "443d8c6b",
   "metadata": {},
   "source": [
    "## 6. Evaluate metrics"
   ]
  },
  {
   "cell_type": "code",
   "execution_count": 15,
   "id": "20763cc6",
   "metadata": {},
   "outputs": [
    {
     "name": "stderr",
     "output_type": "stream",
     "text": [
      "100%|██████████| 4/4 [01:55<00:00, 28.88s/it]\n"
     ]
    }
   ],
   "source": [
    "frames = []\n",
    "thresholds_sim = [0.4, 0.45, 0.5, 0.55, 0.6, 0.65, 0.7]\n",
    "\n",
    "for i in tqdm.trange(len(frames_models)):\n",
    "    name, df = frames_models[i]\n",
    "    for threshold_sim in thresholds_sim:\n",
    "        df_metric = evaluate_metric(df, targets_rdkit, num_decode=20,# sample_size=10, start_idx=10,\n",
    "                                    threshold_sim=threshold_sim,\n",
    "                                    threshold_pro=0.9, threshold_improve=0).rename(columns={0:name})\n",
    "\n",
    "        df_metric.loc[\"THRESHOLD_SIMILARITY\",name] = threshold_sim\n",
    "        frames.append(df_metric)"
   ]
  },
  {
   "cell_type": "code",
   "execution_count": 16,
   "id": "f22c7bc1",
   "metadata": {},
   "outputs": [],
   "source": [
    "df_merged = pd.concat(frames, axis=1).T"
   ]
  },
  {
   "cell_type": "code",
   "execution_count": 17,
   "id": "ab40df38",
   "metadata": {},
   "outputs": [
    {
     "data": {
      "text/html": [
       "<div>\n",
       "<style scoped>\n",
       "    .dataframe tbody tr th:only-of-type {\n",
       "        vertical-align: middle;\n",
       "    }\n",
       "\n",
       "    .dataframe tbody tr th {\n",
       "        vertical-align: top;\n",
       "    }\n",
       "\n",
       "    .dataframe thead th {\n",
       "        text-align: right;\n",
       "    }\n",
       "</style>\n",
       "<table border=\"1\" class=\"dataframe\">\n",
       "  <thead>\n",
       "    <tr style=\"text-align: right;\">\n",
       "      <th></th>\n",
       "      <th>VALID_RATIO</th>\n",
       "      <th>PROPERTY</th>\n",
       "      <th>IMPROVEMENT</th>\n",
       "      <th>SIMILARITY</th>\n",
       "      <th>NOVELTY</th>\n",
       "      <th>SUCCESS_PROP</th>\n",
       "      <th>SUCCESS_IMPR</th>\n",
       "      <th>DIVERSITY</th>\n",
       "      <th>THRESHOLD_SIMILARITY</th>\n",
       "    </tr>\n",
       "  </thead>\n",
       "  <tbody>\n",
       "    <tr>\n",
       "      <th>MTMR_00</th>\n",
       "      <td>0.608</td>\n",
       "      <td>0.011803</td>\n",
       "      <td>0.007395</td>\n",
       "      <td>0.347499</td>\n",
       "      <td>0.608</td>\n",
       "      <td>0.001</td>\n",
       "      <td>0.388</td>\n",
       "      <td>0.120665</td>\n",
       "      <td>0.40</td>\n",
       "    </tr>\n",
       "    <tr>\n",
       "      <th>MTMR_00</th>\n",
       "      <td>0.608</td>\n",
       "      <td>0.011803</td>\n",
       "      <td>0.007395</td>\n",
       "      <td>0.347499</td>\n",
       "      <td>0.608</td>\n",
       "      <td>0.001</td>\n",
       "      <td>0.366</td>\n",
       "      <td>0.120665</td>\n",
       "      <td>0.45</td>\n",
       "    </tr>\n",
       "    <tr>\n",
       "      <th>MTMR_00</th>\n",
       "      <td>0.608</td>\n",
       "      <td>0.011803</td>\n",
       "      <td>0.007395</td>\n",
       "      <td>0.347499</td>\n",
       "      <td>0.608</td>\n",
       "      <td>0.001</td>\n",
       "      <td>0.339</td>\n",
       "      <td>0.120665</td>\n",
       "      <td>0.50</td>\n",
       "    </tr>\n",
       "    <tr>\n",
       "      <th>MTMR_00</th>\n",
       "      <td>0.608</td>\n",
       "      <td>0.011803</td>\n",
       "      <td>0.007395</td>\n",
       "      <td>0.347499</td>\n",
       "      <td>0.608</td>\n",
       "      <td>0.001</td>\n",
       "      <td>0.304</td>\n",
       "      <td>0.120665</td>\n",
       "      <td>0.55</td>\n",
       "    </tr>\n",
       "    <tr>\n",
       "      <th>MTMR_00</th>\n",
       "      <td>0.608</td>\n",
       "      <td>0.011803</td>\n",
       "      <td>0.007395</td>\n",
       "      <td>0.347499</td>\n",
       "      <td>0.608</td>\n",
       "      <td>0.001</td>\n",
       "      <td>0.267</td>\n",
       "      <td>0.120665</td>\n",
       "      <td>0.60</td>\n",
       "    </tr>\n",
       "    <tr>\n",
       "      <th>MTMR_00</th>\n",
       "      <td>0.608</td>\n",
       "      <td>0.011803</td>\n",
       "      <td>0.007395</td>\n",
       "      <td>0.347499</td>\n",
       "      <td>0.608</td>\n",
       "      <td>0.001</td>\n",
       "      <td>0.212</td>\n",
       "      <td>0.120665</td>\n",
       "      <td>0.65</td>\n",
       "    </tr>\n",
       "    <tr>\n",
       "      <th>MTMR_00</th>\n",
       "      <td>0.608</td>\n",
       "      <td>0.011803</td>\n",
       "      <td>0.007395</td>\n",
       "      <td>0.347499</td>\n",
       "      <td>0.608</td>\n",
       "      <td>0.000</td>\n",
       "      <td>0.160</td>\n",
       "      <td>0.120665</td>\n",
       "      <td>0.70</td>\n",
       "    </tr>\n",
       "    <tr>\n",
       "      <th>MTMR_01</th>\n",
       "      <td>0.589</td>\n",
       "      <td>0.011593</td>\n",
       "      <td>0.007140</td>\n",
       "      <td>0.342134</td>\n",
       "      <td>0.589</td>\n",
       "      <td>0.000</td>\n",
       "      <td>0.387</td>\n",
       "      <td>0.116732</td>\n",
       "      <td>0.40</td>\n",
       "    </tr>\n",
       "    <tr>\n",
       "      <th>MTMR_01</th>\n",
       "      <td>0.589</td>\n",
       "      <td>0.011593</td>\n",
       "      <td>0.007140</td>\n",
       "      <td>0.342134</td>\n",
       "      <td>0.589</td>\n",
       "      <td>0.000</td>\n",
       "      <td>0.373</td>\n",
       "      <td>0.116732</td>\n",
       "      <td>0.45</td>\n",
       "    </tr>\n",
       "    <tr>\n",
       "      <th>MTMR_01</th>\n",
       "      <td>0.589</td>\n",
       "      <td>0.011593</td>\n",
       "      <td>0.007140</td>\n",
       "      <td>0.342134</td>\n",
       "      <td>0.589</td>\n",
       "      <td>0.000</td>\n",
       "      <td>0.348</td>\n",
       "      <td>0.116732</td>\n",
       "      <td>0.50</td>\n",
       "    </tr>\n",
       "    <tr>\n",
       "      <th>MTMR_01</th>\n",
       "      <td>0.589</td>\n",
       "      <td>0.011593</td>\n",
       "      <td>0.007140</td>\n",
       "      <td>0.342134</td>\n",
       "      <td>0.589</td>\n",
       "      <td>0.000</td>\n",
       "      <td>0.311</td>\n",
       "      <td>0.116732</td>\n",
       "      <td>0.55</td>\n",
       "    </tr>\n",
       "    <tr>\n",
       "      <th>MTMR_01</th>\n",
       "      <td>0.589</td>\n",
       "      <td>0.011593</td>\n",
       "      <td>0.007140</td>\n",
       "      <td>0.342134</td>\n",
       "      <td>0.589</td>\n",
       "      <td>0.000</td>\n",
       "      <td>0.250</td>\n",
       "      <td>0.116732</td>\n",
       "      <td>0.60</td>\n",
       "    </tr>\n",
       "    <tr>\n",
       "      <th>MTMR_01</th>\n",
       "      <td>0.589</td>\n",
       "      <td>0.011593</td>\n",
       "      <td>0.007140</td>\n",
       "      <td>0.342134</td>\n",
       "      <td>0.589</td>\n",
       "      <td>0.000</td>\n",
       "      <td>0.218</td>\n",
       "      <td>0.116732</td>\n",
       "      <td>0.65</td>\n",
       "    </tr>\n",
       "    <tr>\n",
       "      <th>MTMR_01</th>\n",
       "      <td>0.589</td>\n",
       "      <td>0.011593</td>\n",
       "      <td>0.007140</td>\n",
       "      <td>0.342134</td>\n",
       "      <td>0.589</td>\n",
       "      <td>0.000</td>\n",
       "      <td>0.162</td>\n",
       "      <td>0.116732</td>\n",
       "      <td>0.70</td>\n",
       "    </tr>\n",
       "    <tr>\n",
       "      <th>MTMR_10</th>\n",
       "      <td>0.990</td>\n",
       "      <td>0.066008</td>\n",
       "      <td>0.059354</td>\n",
       "      <td>0.435009</td>\n",
       "      <td>0.990</td>\n",
       "      <td>0.037</td>\n",
       "      <td>0.719</td>\n",
       "      <td>0.486151</td>\n",
       "      <td>0.40</td>\n",
       "    </tr>\n",
       "    <tr>\n",
       "      <th>MTMR_10</th>\n",
       "      <td>0.990</td>\n",
       "      <td>0.066008</td>\n",
       "      <td>0.059354</td>\n",
       "      <td>0.435009</td>\n",
       "      <td>0.990</td>\n",
       "      <td>0.027</td>\n",
       "      <td>0.647</td>\n",
       "      <td>0.486151</td>\n",
       "      <td>0.45</td>\n",
       "    </tr>\n",
       "    <tr>\n",
       "      <th>MTMR_10</th>\n",
       "      <td>0.990</td>\n",
       "      <td>0.066008</td>\n",
       "      <td>0.059354</td>\n",
       "      <td>0.435009</td>\n",
       "      <td>0.990</td>\n",
       "      <td>0.017</td>\n",
       "      <td>0.573</td>\n",
       "      <td>0.486151</td>\n",
       "      <td>0.50</td>\n",
       "    </tr>\n",
       "    <tr>\n",
       "      <th>MTMR_10</th>\n",
       "      <td>0.990</td>\n",
       "      <td>0.066008</td>\n",
       "      <td>0.059354</td>\n",
       "      <td>0.435009</td>\n",
       "      <td>0.990</td>\n",
       "      <td>0.014</td>\n",
       "      <td>0.490</td>\n",
       "      <td>0.486151</td>\n",
       "      <td>0.55</td>\n",
       "    </tr>\n",
       "    <tr>\n",
       "      <th>MTMR_10</th>\n",
       "      <td>0.990</td>\n",
       "      <td>0.066008</td>\n",
       "      <td>0.059354</td>\n",
       "      <td>0.435009</td>\n",
       "      <td>0.990</td>\n",
       "      <td>0.009</td>\n",
       "      <td>0.423</td>\n",
       "      <td>0.486151</td>\n",
       "      <td>0.60</td>\n",
       "    </tr>\n",
       "    <tr>\n",
       "      <th>MTMR_10</th>\n",
       "      <td>0.990</td>\n",
       "      <td>0.066008</td>\n",
       "      <td>0.059354</td>\n",
       "      <td>0.435009</td>\n",
       "      <td>0.990</td>\n",
       "      <td>0.005</td>\n",
       "      <td>0.333</td>\n",
       "      <td>0.486151</td>\n",
       "      <td>0.65</td>\n",
       "    </tr>\n",
       "    <tr>\n",
       "      <th>MTMR_10</th>\n",
       "      <td>0.990</td>\n",
       "      <td>0.066008</td>\n",
       "      <td>0.059354</td>\n",
       "      <td>0.435009</td>\n",
       "      <td>0.990</td>\n",
       "      <td>0.002</td>\n",
       "      <td>0.252</td>\n",
       "      <td>0.486151</td>\n",
       "      <td>0.70</td>\n",
       "    </tr>\n",
       "    <tr>\n",
       "      <th>MTMR_11</th>\n",
       "      <td>0.998</td>\n",
       "      <td>0.045610</td>\n",
       "      <td>0.038985</td>\n",
       "      <td>0.389571</td>\n",
       "      <td>0.998</td>\n",
       "      <td>0.019</td>\n",
       "      <td>0.648</td>\n",
       "      <td>0.577386</td>\n",
       "      <td>0.40</td>\n",
       "    </tr>\n",
       "    <tr>\n",
       "      <th>MTMR_11</th>\n",
       "      <td>0.998</td>\n",
       "      <td>0.045610</td>\n",
       "      <td>0.038985</td>\n",
       "      <td>0.389571</td>\n",
       "      <td>0.998</td>\n",
       "      <td>0.014</td>\n",
       "      <td>0.561</td>\n",
       "      <td>0.577386</td>\n",
       "      <td>0.45</td>\n",
       "    </tr>\n",
       "    <tr>\n",
       "      <th>MTMR_11</th>\n",
       "      <td>0.998</td>\n",
       "      <td>0.045610</td>\n",
       "      <td>0.038985</td>\n",
       "      <td>0.389571</td>\n",
       "      <td>0.998</td>\n",
       "      <td>0.009</td>\n",
       "      <td>0.497</td>\n",
       "      <td>0.577386</td>\n",
       "      <td>0.50</td>\n",
       "    </tr>\n",
       "    <tr>\n",
       "      <th>MTMR_11</th>\n",
       "      <td>0.998</td>\n",
       "      <td>0.045610</td>\n",
       "      <td>0.038985</td>\n",
       "      <td>0.389571</td>\n",
       "      <td>0.998</td>\n",
       "      <td>0.004</td>\n",
       "      <td>0.404</td>\n",
       "      <td>0.577386</td>\n",
       "      <td>0.55</td>\n",
       "    </tr>\n",
       "    <tr>\n",
       "      <th>MTMR_11</th>\n",
       "      <td>0.998</td>\n",
       "      <td>0.045610</td>\n",
       "      <td>0.038985</td>\n",
       "      <td>0.389571</td>\n",
       "      <td>0.998</td>\n",
       "      <td>0.000</td>\n",
       "      <td>0.311</td>\n",
       "      <td>0.577386</td>\n",
       "      <td>0.60</td>\n",
       "    </tr>\n",
       "    <tr>\n",
       "      <th>MTMR_11</th>\n",
       "      <td>0.998</td>\n",
       "      <td>0.045610</td>\n",
       "      <td>0.038985</td>\n",
       "      <td>0.389571</td>\n",
       "      <td>0.998</td>\n",
       "      <td>0.000</td>\n",
       "      <td>0.227</td>\n",
       "      <td>0.577386</td>\n",
       "      <td>0.65</td>\n",
       "    </tr>\n",
       "    <tr>\n",
       "      <th>MTMR_11</th>\n",
       "      <td>0.998</td>\n",
       "      <td>0.045610</td>\n",
       "      <td>0.038985</td>\n",
       "      <td>0.389571</td>\n",
       "      <td>0.998</td>\n",
       "      <td>0.000</td>\n",
       "      <td>0.155</td>\n",
       "      <td>0.577386</td>\n",
       "      <td>0.70</td>\n",
       "    </tr>\n",
       "  </tbody>\n",
       "</table>\n",
       "</div>"
      ],
      "text/plain": [
       "         VALID_RATIO  PROPERTY  IMPROVEMENT  SIMILARITY  NOVELTY  \\\n",
       "MTMR_00        0.608  0.011803     0.007395    0.347499    0.608   \n",
       "MTMR_00        0.608  0.011803     0.007395    0.347499    0.608   \n",
       "MTMR_00        0.608  0.011803     0.007395    0.347499    0.608   \n",
       "MTMR_00        0.608  0.011803     0.007395    0.347499    0.608   \n",
       "MTMR_00        0.608  0.011803     0.007395    0.347499    0.608   \n",
       "MTMR_00        0.608  0.011803     0.007395    0.347499    0.608   \n",
       "MTMR_00        0.608  0.011803     0.007395    0.347499    0.608   \n",
       "MTMR_01        0.589  0.011593     0.007140    0.342134    0.589   \n",
       "MTMR_01        0.589  0.011593     0.007140    0.342134    0.589   \n",
       "MTMR_01        0.589  0.011593     0.007140    0.342134    0.589   \n",
       "MTMR_01        0.589  0.011593     0.007140    0.342134    0.589   \n",
       "MTMR_01        0.589  0.011593     0.007140    0.342134    0.589   \n",
       "MTMR_01        0.589  0.011593     0.007140    0.342134    0.589   \n",
       "MTMR_01        0.589  0.011593     0.007140    0.342134    0.589   \n",
       "MTMR_10        0.990  0.066008     0.059354    0.435009    0.990   \n",
       "MTMR_10        0.990  0.066008     0.059354    0.435009    0.990   \n",
       "MTMR_10        0.990  0.066008     0.059354    0.435009    0.990   \n",
       "MTMR_10        0.990  0.066008     0.059354    0.435009    0.990   \n",
       "MTMR_10        0.990  0.066008     0.059354    0.435009    0.990   \n",
       "MTMR_10        0.990  0.066008     0.059354    0.435009    0.990   \n",
       "MTMR_10        0.990  0.066008     0.059354    0.435009    0.990   \n",
       "MTMR_11        0.998  0.045610     0.038985    0.389571    0.998   \n",
       "MTMR_11        0.998  0.045610     0.038985    0.389571    0.998   \n",
       "MTMR_11        0.998  0.045610     0.038985    0.389571    0.998   \n",
       "MTMR_11        0.998  0.045610     0.038985    0.389571    0.998   \n",
       "MTMR_11        0.998  0.045610     0.038985    0.389571    0.998   \n",
       "MTMR_11        0.998  0.045610     0.038985    0.389571    0.998   \n",
       "MTMR_11        0.998  0.045610     0.038985    0.389571    0.998   \n",
       "\n",
       "         SUCCESS_PROP  SUCCESS_IMPR  DIVERSITY  THRESHOLD_SIMILARITY  \n",
       "MTMR_00         0.001         0.388   0.120665                  0.40  \n",
       "MTMR_00         0.001         0.366   0.120665                  0.45  \n",
       "MTMR_00         0.001         0.339   0.120665                  0.50  \n",
       "MTMR_00         0.001         0.304   0.120665                  0.55  \n",
       "MTMR_00         0.001         0.267   0.120665                  0.60  \n",
       "MTMR_00         0.001         0.212   0.120665                  0.65  \n",
       "MTMR_00         0.000         0.160   0.120665                  0.70  \n",
       "MTMR_01         0.000         0.387   0.116732                  0.40  \n",
       "MTMR_01         0.000         0.373   0.116732                  0.45  \n",
       "MTMR_01         0.000         0.348   0.116732                  0.50  \n",
       "MTMR_01         0.000         0.311   0.116732                  0.55  \n",
       "MTMR_01         0.000         0.250   0.116732                  0.60  \n",
       "MTMR_01         0.000         0.218   0.116732                  0.65  \n",
       "MTMR_01         0.000         0.162   0.116732                  0.70  \n",
       "MTMR_10         0.037         0.719   0.486151                  0.40  \n",
       "MTMR_10         0.027         0.647   0.486151                  0.45  \n",
       "MTMR_10         0.017         0.573   0.486151                  0.50  \n",
       "MTMR_10         0.014         0.490   0.486151                  0.55  \n",
       "MTMR_10         0.009         0.423   0.486151                  0.60  \n",
       "MTMR_10         0.005         0.333   0.486151                  0.65  \n",
       "MTMR_10         0.002         0.252   0.486151                  0.70  \n",
       "MTMR_11         0.019         0.648   0.577386                  0.40  \n",
       "MTMR_11         0.014         0.561   0.577386                  0.45  \n",
       "MTMR_11         0.009         0.497   0.577386                  0.50  \n",
       "MTMR_11         0.004         0.404   0.577386                  0.55  \n",
       "MTMR_11         0.000         0.311   0.577386                  0.60  \n",
       "MTMR_11         0.000         0.227   0.577386                  0.65  \n",
       "MTMR_11         0.000         0.155   0.577386                  0.70  "
      ]
     },
     "execution_count": 17,
     "metadata": {},
     "output_type": "execute_result"
    }
   ],
   "source": [
    "df_merged"
   ]
  },
  {
   "cell_type": "code",
   "execution_count": 18,
   "id": "c3444e1f",
   "metadata": {},
   "outputs": [],
   "source": [
    "df_merged.to_csv(os.path.join(output_dir, \"table_metrics.csv\"))"
   ]
  },
  {
   "cell_type": "code",
   "execution_count": 21,
   "id": "23a6a5bb",
   "metadata": {},
   "outputs": [
    {
     "data": {
      "image/png": "[encoded data removed]",
      "text/plain": [
       "<Figure size 720x360 with 1 Axes>"
      ]
     },
     "metadata": {},
     "output_type": "display_data"
    }
   ],
   "source": [
    "sns.set_theme(style='darkgrid')\n",
    "\n",
    "fig, ax = plt.subplots(1,1,figsize=(10,5))\n",
    "\n",
    "_ = sns.lineplot(data=df_merged.reset_index(),\n",
    "                 x='THRESHOLD_SIMILARITY', y=\"SUCCESS_PROP\", hue=\"index\",\n",
    "                 style=\"index\", markers=True, linewidth=1, markersize=10,\n",
    "                 ax=ax)\n",
    "\n",
    "#ax.set_ylim(None, 0.45)\n",
    "\n",
    "plt.tight_layout()\n",
    "plt.show()"
   ]
  },
  {
   "cell_type": "code",
   "execution_count": 20,
   "id": "8bc7ffb6",
   "metadata": {},
   "outputs": [
    {
     "data": {
      "image/png": "[encoded data removed]",
      "text/plain": [
       "<Figure size 720x360 with 1 Axes>"
      ]
     },
     "metadata": {},
     "output_type": "display_data"
    }
   ],
   "source": [
    "sns.set_theme(style='darkgrid')\n",
    "\n",
    "fig, ax = plt.subplots(1,1,figsize=(10,5))\n",
    "\n",
    "_ = sns.lineplot(data=df_merged.reset_index(),\n",
    "                 x='THRESHOLD_SIMILARITY', y=\"SUCCESS_IMPR\", hue=\"index\",\n",
    "                 style=\"index\", markers=True, linewidth=1, markersize=10,\n",
    "                 ax=ax)\n",
    "\n",
    "#ax.set_ylim(None, 0.45)\n",
    "\n",
    "plt.tight_layout()\n",
    "plt.show()"
   ]
  },
  {
   "cell_type": "code",
   "execution_count": 23,
   "id": "b0599a30",
   "metadata": {},
   "outputs": [
    {
     "data": {
      "text/html": [
       "<div>\n",
       "<style scoped>\n",
       "    .dataframe tbody tr th:only-of-type {\n",
       "        vertical-align: middle;\n",
       "    }\n",
       "\n",
       "    .dataframe tbody tr th {\n",
       "        vertical-align: top;\n",
       "    }\n",
       "\n",
       "    .dataframe thead th {\n",
       "        text-align: right;\n",
       "    }\n",
       "</style>\n",
       "<table border=\"1\" class=\"dataframe\">\n",
       "  <thead>\n",
       "    <tr style=\"text-align: right;\">\n",
       "      <th></th>\n",
       "      <th>PROPERTY</th>\n",
       "      <th>IMPROVEMENT</th>\n",
       "      <th>SIMILARITY</th>\n",
       "    </tr>\n",
       "  </thead>\n",
       "  <tbody>\n",
       "    <tr>\n",
       "      <th>MTMR_00</th>\n",
       "      <td>0.011803</td>\n",
       "      <td>0.007395</td>\n",
       "      <td>0.347499</td>\n",
       "    </tr>\n",
       "    <tr>\n",
       "      <th>MTMR_01</th>\n",
       "      <td>0.011593</td>\n",
       "      <td>0.007140</td>\n",
       "      <td>0.342134</td>\n",
       "    </tr>\n",
       "    <tr>\n",
       "      <th>MTMR_10</th>\n",
       "      <td>0.066008</td>\n",
       "      <td>0.059354</td>\n",
       "      <td>0.435009</td>\n",
       "    </tr>\n",
       "    <tr>\n",
       "      <th>MTMR_11</th>\n",
       "      <td>0.045610</td>\n",
       "      <td>0.038985</td>\n",
       "      <td>0.389571</td>\n",
       "    </tr>\n",
       "  </tbody>\n",
       "</table>\n",
       "</div>"
      ],
      "text/plain": [
       "         PROPERTY  IMPROVEMENT  SIMILARITY\n",
       "MTMR_00  0.011803     0.007395    0.347499\n",
       "MTMR_01  0.011593     0.007140    0.342134\n",
       "MTMR_10  0.066008     0.059354    0.435009\n",
       "MTMR_11  0.045610     0.038985    0.389571"
      ]
     },
     "execution_count": 23,
     "metadata": {},
     "output_type": "execute_result"
    }
   ],
   "source": [
    "df_merged.loc[:,[\"PROPERTY\", \"IMPROVEMENT\", \"SIMILARITY\"]].drop_duplicates()"
   ]
  },
  {
   "cell_type": "markdown",
   "id": "51ad9284",
   "metadata": {},
   "source": [
    "## 7. Property distribution"
   ]
  },
  {
   "cell_type": "code",
   "execution_count": 22,
   "id": "08ce8244",
   "metadata": {},
   "outputs": [
    {
     "data": {
      "image/png": "[encoded data removed]",
      "text/plain": [
       "<Figure size 720x360 with 2 Axes>"
      ]
     },
     "metadata": {},
     "output_type": "display_data"
    }
   ],
   "source": [
    "sns.set_theme(style='whitegrid')\n",
    "\n",
    "fig, ax = plt.subplots(1,2,figsize=(10,5))\n",
    "\n",
    "for name, df in frames_models:\n",
    "    idx = df.loc[:,\"PROPERTY\"] <= 0.05\n",
    "    _ = sns.kdeplot(data=df[idx], x=\"PROPERTY\", label=name, ax=ax[0])\n",
    "    \n",
    "    idx = df.loc[:,\"PROPERTY\"] >= 0.5\n",
    "    _ = sns.kdeplot(data=df[idx], x=\"PROPERTY\", label=name, ax=ax[1])\n",
    "    \n",
    "#ax.set_yscale('log')\n",
    "#ax.set_ylim(0.01,None)\n",
    "\n",
    "ax[0].legend(loc='best')\n",
    "ax[1].legend(loc='best')\n",
    "plt.tight_layout()\n",
    "plt.show()"
   ]
  },
  {
   "cell_type": "code",
   "execution_count": null,
   "id": "c84f37eb",
   "metadata": {},
   "outputs": [],
   "source": []
  }
 ],
 "metadata": {
  "kernelspec": {
   "display_name": "Python 3",
   "language": "python",
   "name": "python3"
  },
  "language_info": {
   "codemirror_mode": {
    "name": "ipython",
    "version": 3
   },
   "file_extension": ".py",
   "mimetype": "text/x-python",
   "name": "python",
   "nbconvert_exporter": "python",
   "pygments_lexer": "ipython3",
   "version": "3.6.15"
  }
 },
 "nbformat": 4,
 "nbformat_minor": 5
}
