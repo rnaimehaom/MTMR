{
 "cells": [
  {
   "cell_type": "markdown",
   "id": "b106e144",
   "metadata": {},
   "source": [
    "# Tutorial - MTMR evaluation"
   ]
  },
  {
   "cell_type": "markdown",
   "id": "aa7fbd1c",
   "metadata": {},
   "source": [
    "## 1. Import requirements"
   ]
  },
  {
   "cell_type": "code",
   "execution_count": 1,
   "id": "4762551e",
   "metadata": {},
   "outputs": [],
   "source": [
    "import os\n",
    "import sys\n",
    "import pandas as pd\n",
    "import tqdm\n",
    "import seaborn as sns\n",
    "import matplotlib.pyplot as plt"
   ]
  },
  {
   "cell_type": "code",
   "execution_count": 2,
   "id": "c3222fda",
   "metadata": {},
   "outputs": [],
   "source": [
    "sys.path = [os.path.abspath(os.path.join(os.getcwd(), os.pardir))] + sys.path"
   ]
  },
  {
   "cell_type": "code",
   "execution_count": 3,
   "id": "dfac7a94",
   "metadata": {},
   "outputs": [],
   "source": [
    "from MTMR.evaluate import evaluate_metric\n",
    "from MTMR.properties import drd2, mcs_similarity"
   ]
  },
  {
   "cell_type": "markdown",
   "id": "88dc8d0f",
   "metadata": {},
   "source": [
    "## 2. Specify a target property"
   ]
  },
  {
   "cell_type": "code",
   "execution_count": 4,
   "id": "4ad03a9d",
   "metadata": {},
   "outputs": [],
   "source": [
    "PROPERTY_NAME = \"drd2\"\n",
    "SCORING_FT = drd2"
   ]
  },
  {
   "cell_type": "markdown",
   "id": "5d2acee5",
   "metadata": {},
   "source": [
    "## 3. Set directories (for inputs and outputs)"
   ]
  },
  {
   "cell_type": "code",
   "execution_count": 5,
   "id": "60c1179e",
   "metadata": {},
   "outputs": [],
   "source": [
    "input_data_dir = os.path.abspath(os.path.join(os.pardir, \"DATA\", PROPERTY_NAME))\n",
    "input_our_dir = f\"outputs_5-3_{PROPERTY_NAME.upper()}_translation\""
   ]
  },
  {
   "cell_type": "code",
   "execution_count": 6,
   "id": "ed891c6d",
   "metadata": {},
   "outputs": [],
   "source": [
    "output_dir = f\"outputs_5-4_{PROPERTY_NAME.upper()}_evaluation\"\n",
    "if not os.path.exists(output_dir):\n",
    "    os.mkdir(output_dir)"
   ]
  },
  {
   "cell_type": "markdown",
   "id": "7e1efdda",
   "metadata": {},
   "source": [
    "## 4. Load training and test datasets"
   ]
  },
  {
   "cell_type": "code",
   "execution_count": 7,
   "id": "6bcab055",
   "metadata": {},
   "outputs": [],
   "source": [
    "filepath_train_rdkit = os.path.join(input_data_dir, \"rdkit_train_pairs.txt\")\n",
    "filepath_test_rdkit = os.path.join(input_data_dir, \"rdkit_test.txt\")"
   ]
  },
  {
   "cell_type": "code",
   "execution_count": 8,
   "id": "a8a8a6ec",
   "metadata": {},
   "outputs": [],
   "source": [
    "df_pairs_rdkit = pd.read_csv(filepath_train_rdkit, header=None, sep=\" \")\n",
    "targets_rdkit = set(df_pairs_rdkit.iloc[:,1].values.tolist())"
   ]
  },
  {
   "cell_type": "code",
   "execution_count": 9,
   "id": "ca42b8bb",
   "metadata": {},
   "outputs": [
    {
     "name": "stderr",
     "output_type": "stream",
     "text": [
      "100%|██████████| 1000/1000 [00:03<00:00, 253.66it/s]\n"
     ]
    }
   ],
   "source": [
    "df_test_rdkit = pd.read_csv(filepath_test_rdkit, header=None, sep=\" \")\n",
    "df_test_rdkit.loc[:,1] = 0.\n",
    "\n",
    "for i in tqdm.trange(len(df_test_rdkit)):\n",
    "    smi = df_test_rdkit.iloc[i,0]\n",
    "    score = SCORING_FT(smi)\n",
    "    df_test_rdkit.iloc[i,1] = score"
   ]
  },
  {
   "cell_type": "code",
   "execution_count": 10,
   "id": "23cef9bf",
   "metadata": {},
   "outputs": [],
   "source": [
    "src2prop = {smi:prop for smi, prop in df_test_rdkit.values}"
   ]
  },
  {
   "cell_type": "markdown",
   "id": "3d9210e5",
   "metadata": {},
   "source": [
    "## 5. Load translation results generated from the test dataset"
   ]
  },
  {
   "cell_type": "code",
   "execution_count": 11,
   "id": "6312973d",
   "metadata": {},
   "outputs": [],
   "source": [
    "filepath_MTMR_00 = os.path.join(f\"{input_our_dir}_00\",  f\"MTMR_{PROPERTY_NAME.upper()}.csv\") # none of both\n",
    "filepath_MTMR_01 = os.path.join(f\"{input_our_dir}_01\",  f\"MTMR_{PROPERTY_NAME.upper()}.csv\") # no contractive\n",
    "filepath_MTMR_10 = os.path.join(f\"{input_our_dir}_10\",  f\"MTMR_{PROPERTY_NAME.upper()}.csv\") # no margin\n",
    "filepath_MTMR_11 = os.path.join(f\"{input_our_dir}_11\",  f\"MTMR_{PROPERTY_NAME.upper()}.csv\") # control"
   ]
  },
  {
   "cell_type": "code",
   "execution_count": 12,
   "id": "cdbb260d",
   "metadata": {},
   "outputs": [],
   "source": [
    "df_MTMR_00 = pd.read_csv(filepath_MTMR_00,  header=None).fillna(\"\").rename(columns={0:\"SOURCE\", 1:\"TARGET\", 2:\"SIMILARITY\", 3:\"PROPERTY\"})\n",
    "df_MTMR_01 = pd.read_csv(filepath_MTMR_01,  header=None).fillna(\"\").rename(columns={0:\"SOURCE\", 1:\"TARGET\", 2:\"SIMILARITY\", 3:\"PROPERTY\"})\n",
    "df_MTMR_10 = pd.read_csv(filepath_MTMR_10,  header=None).fillna(\"\").rename(columns={0:\"SOURCE\", 1:\"TARGET\", 2:\"SIMILARITY\", 3:\"PROPERTY\"})\n",
    "df_MTMR_11 = pd.read_csv(filepath_MTMR_11,  header=None).fillna(\"\").rename(columns={0:\"SOURCE\", 1:\"TARGET\", 2:\"SIMILARITY\", 3:\"PROPERTY\"})"
   ]
  },
  {
   "cell_type": "code",
   "execution_count": 13,
   "id": "4d6ffd8a",
   "metadata": {},
   "outputs": [],
   "source": [
    "frames_models = [('MTMR_00', df_MTMR_00),\n",
    "                 ('MTMR_01', df_MTMR_01),\n",
    "                 ('MTMR_10', df_MTMR_10),\n",
    "                 ('MTMR_11', df_MTMR_11)]"
   ]
  },
  {
   "cell_type": "code",
   "execution_count": 14,
   "id": "186fec43",
   "metadata": {},
   "outputs": [
    {
     "name": "stderr",
     "output_type": "stream",
     "text": [
      "100%|██████████| 20000/20000 [00:03<00:00, 5788.33it/s]\n",
      "100%|██████████| 20000/20000 [00:03<00:00, 5764.00it/s]\n",
      "100%|██████████| 20000/20000 [00:03<00:00, 5822.57it/s]\n",
      "100%|██████████| 20000/20000 [00:03<00:00, 5795.74it/s]\n"
     ]
    }
   ],
   "source": [
    "for name, df in frames_models:\n",
    "    df.loc[:,\"PROPERTY_SRC\"] = 0.\n",
    "    for i in tqdm.trange(len(df)):\n",
    "        smi_src = df.loc[i,\"SOURCE\"]\n",
    "        smi_tar = df.loc[i,\"TARGET\"]\n",
    "        df.loc[i,\"PROPERTY_SRC\"] = src2prop.get(smi_src)"
   ]
  },
  {
   "cell_type": "markdown",
   "id": "443d8c6b",
   "metadata": {},
   "source": [
    "## 6. Evaluate metrics"
   ]
  },
  {
   "cell_type": "code",
   "execution_count": 15,
   "id": "20763cc6",
   "metadata": {},
   "outputs": [
    {
     "name": "stderr",
     "output_type": "stream",
     "text": [
      "100%|██████████| 4/4 [02:03<00:00, 30.87s/it]\n"
     ]
    }
   ],
   "source": [
    "frames = []\n",
    "thresholds_sim = [0.4, 0.45, 0.5, 0.55, 0.6, 0.65, 0.7]\n",
    "\n",
    "for i in tqdm.trange(len(frames_models)):\n",
    "    name, df = frames_models[i]\n",
    "    for threshold_sim in thresholds_sim:\n",
    "        df_metric = evaluate_metric(df, targets_rdkit, num_decode=20,# sample_size=10, start_idx=10,\n",
    "                                    threshold_sim=threshold_sim,\n",
    "                                    threshold_pro=0.81).rename(columns={0:name})\n",
    "\n",
    "        df_metric.loc[\"THRESHOLD_SIMILARITY\",name] = threshold_sim\n",
    "        frames.append(df_metric)"
   ]
  },
  {
   "cell_type": "code",
   "execution_count": 16,
   "id": "f22c7bc1",
   "metadata": {},
   "outputs": [],
   "source": [
    "df_merged = pd.concat(frames, axis=1).T"
   ]
  },
  {
   "cell_type": "code",
   "execution_count": 17,
   "id": "ab40df38",
   "metadata": {},
   "outputs": [
    {
     "data": {
      "text/html": [
       "<div>\n",
       "<style scoped>\n",
       "    .dataframe tbody tr th:only-of-type {\n",
       "        vertical-align: middle;\n",
       "    }\n",
       "\n",
       "    .dataframe tbody tr th {\n",
       "        vertical-align: top;\n",
       "    }\n",
       "\n",
       "    .dataframe thead th {\n",
       "        text-align: right;\n",
       "    }\n",
       "</style>\n",
       "<table border=\"1\" class=\"dataframe\">\n",
       "  <thead>\n",
       "    <tr style=\"text-align: right;\">\n",
       "      <th></th>\n",
       "      <th>VALID_RATIO</th>\n",
       "      <th>PROPERTY</th>\n",
       "      <th>IMPROVEMENT</th>\n",
       "      <th>SIMILARITY</th>\n",
       "      <th>NOVELTY</th>\n",
       "      <th>SUCCESS</th>\n",
       "      <th>SUCCESS_WO_NOVEL</th>\n",
       "      <th>DIVERSITY</th>\n",
       "      <th>THRESHOLD_SIMILARITY</th>\n",
       "    </tr>\n",
       "  </thead>\n",
       "  <tbody>\n",
       "    <tr>\n",
       "      <th>MTMR_00</th>\n",
       "      <td>0.608</td>\n",
       "      <td>0.011803</td>\n",
       "      <td>0.007395</td>\n",
       "      <td>0.347499</td>\n",
       "      <td>0.608</td>\n",
       "      <td>0.001</td>\n",
       "      <td>0.001</td>\n",
       "      <td>0.401335</td>\n",
       "      <td>0.40</td>\n",
       "    </tr>\n",
       "    <tr>\n",
       "      <th>MTMR_00</th>\n",
       "      <td>0.608</td>\n",
       "      <td>0.011803</td>\n",
       "      <td>0.007395</td>\n",
       "      <td>0.347499</td>\n",
       "      <td>0.608</td>\n",
       "      <td>0.001</td>\n",
       "      <td>0.001</td>\n",
       "      <td>0.401335</td>\n",
       "      <td>0.45</td>\n",
       "    </tr>\n",
       "    <tr>\n",
       "      <th>MTMR_00</th>\n",
       "      <td>0.608</td>\n",
       "      <td>0.011803</td>\n",
       "      <td>0.007395</td>\n",
       "      <td>0.347499</td>\n",
       "      <td>0.608</td>\n",
       "      <td>0.001</td>\n",
       "      <td>0.001</td>\n",
       "      <td>0.401335</td>\n",
       "      <td>0.50</td>\n",
       "    </tr>\n",
       "    <tr>\n",
       "      <th>MTMR_00</th>\n",
       "      <td>0.608</td>\n",
       "      <td>0.011803</td>\n",
       "      <td>0.007395</td>\n",
       "      <td>0.347499</td>\n",
       "      <td>0.608</td>\n",
       "      <td>0.001</td>\n",
       "      <td>0.001</td>\n",
       "      <td>0.401335</td>\n",
       "      <td>0.55</td>\n",
       "    </tr>\n",
       "    <tr>\n",
       "      <th>MTMR_00</th>\n",
       "      <td>0.608</td>\n",
       "      <td>0.011803</td>\n",
       "      <td>0.007395</td>\n",
       "      <td>0.347499</td>\n",
       "      <td>0.608</td>\n",
       "      <td>0.001</td>\n",
       "      <td>0.001</td>\n",
       "      <td>0.401335</td>\n",
       "      <td>0.60</td>\n",
       "    </tr>\n",
       "    <tr>\n",
       "      <th>MTMR_00</th>\n",
       "      <td>0.608</td>\n",
       "      <td>0.011803</td>\n",
       "      <td>0.007395</td>\n",
       "      <td>0.347499</td>\n",
       "      <td>0.608</td>\n",
       "      <td>0.001</td>\n",
       "      <td>0.001</td>\n",
       "      <td>0.401335</td>\n",
       "      <td>0.65</td>\n",
       "    </tr>\n",
       "    <tr>\n",
       "      <th>MTMR_00</th>\n",
       "      <td>0.608</td>\n",
       "      <td>0.011803</td>\n",
       "      <td>0.007395</td>\n",
       "      <td>0.347499</td>\n",
       "      <td>0.608</td>\n",
       "      <td>0.000</td>\n",
       "      <td>0.000</td>\n",
       "      <td>0.401335</td>\n",
       "      <td>0.70</td>\n",
       "    </tr>\n",
       "    <tr>\n",
       "      <th>MTMR_01</th>\n",
       "      <td>0.589</td>\n",
       "      <td>0.011593</td>\n",
       "      <td>0.007140</td>\n",
       "      <td>0.342134</td>\n",
       "      <td>0.589</td>\n",
       "      <td>0.000</td>\n",
       "      <td>0.000</td>\n",
       "      <td>0.395268</td>\n",
       "      <td>0.40</td>\n",
       "    </tr>\n",
       "    <tr>\n",
       "      <th>MTMR_01</th>\n",
       "      <td>0.589</td>\n",
       "      <td>0.011593</td>\n",
       "      <td>0.007140</td>\n",
       "      <td>0.342134</td>\n",
       "      <td>0.589</td>\n",
       "      <td>0.000</td>\n",
       "      <td>0.000</td>\n",
       "      <td>0.395268</td>\n",
       "      <td>0.45</td>\n",
       "    </tr>\n",
       "    <tr>\n",
       "      <th>MTMR_01</th>\n",
       "      <td>0.589</td>\n",
       "      <td>0.011593</td>\n",
       "      <td>0.007140</td>\n",
       "      <td>0.342134</td>\n",
       "      <td>0.589</td>\n",
       "      <td>0.000</td>\n",
       "      <td>0.000</td>\n",
       "      <td>0.395268</td>\n",
       "      <td>0.50</td>\n",
       "    </tr>\n",
       "    <tr>\n",
       "      <th>MTMR_01</th>\n",
       "      <td>0.589</td>\n",
       "      <td>0.011593</td>\n",
       "      <td>0.007140</td>\n",
       "      <td>0.342134</td>\n",
       "      <td>0.589</td>\n",
       "      <td>0.000</td>\n",
       "      <td>0.000</td>\n",
       "      <td>0.395268</td>\n",
       "      <td>0.55</td>\n",
       "    </tr>\n",
       "    <tr>\n",
       "      <th>MTMR_01</th>\n",
       "      <td>0.589</td>\n",
       "      <td>0.011593</td>\n",
       "      <td>0.007140</td>\n",
       "      <td>0.342134</td>\n",
       "      <td>0.589</td>\n",
       "      <td>0.000</td>\n",
       "      <td>0.000</td>\n",
       "      <td>0.395268</td>\n",
       "      <td>0.60</td>\n",
       "    </tr>\n",
       "    <tr>\n",
       "      <th>MTMR_01</th>\n",
       "      <td>0.589</td>\n",
       "      <td>0.011593</td>\n",
       "      <td>0.007140</td>\n",
       "      <td>0.342134</td>\n",
       "      <td>0.589</td>\n",
       "      <td>0.000</td>\n",
       "      <td>0.000</td>\n",
       "      <td>0.395268</td>\n",
       "      <td>0.65</td>\n",
       "    </tr>\n",
       "    <tr>\n",
       "      <th>MTMR_01</th>\n",
       "      <td>0.589</td>\n",
       "      <td>0.011593</td>\n",
       "      <td>0.007140</td>\n",
       "      <td>0.342134</td>\n",
       "      <td>0.589</td>\n",
       "      <td>0.000</td>\n",
       "      <td>0.000</td>\n",
       "      <td>0.395268</td>\n",
       "      <td>0.70</td>\n",
       "    </tr>\n",
       "    <tr>\n",
       "      <th>MTMR_10</th>\n",
       "      <td>0.990</td>\n",
       "      <td>0.066008</td>\n",
       "      <td>0.059354</td>\n",
       "      <td>0.435009</td>\n",
       "      <td>0.990</td>\n",
       "      <td>0.049</td>\n",
       "      <td>0.053</td>\n",
       "      <td>0.492849</td>\n",
       "      <td>0.40</td>\n",
       "    </tr>\n",
       "    <tr>\n",
       "      <th>MTMR_10</th>\n",
       "      <td>0.990</td>\n",
       "      <td>0.066008</td>\n",
       "      <td>0.059354</td>\n",
       "      <td>0.435009</td>\n",
       "      <td>0.990</td>\n",
       "      <td>0.037</td>\n",
       "      <td>0.039</td>\n",
       "      <td>0.492849</td>\n",
       "      <td>0.45</td>\n",
       "    </tr>\n",
       "    <tr>\n",
       "      <th>MTMR_10</th>\n",
       "      <td>0.990</td>\n",
       "      <td>0.066008</td>\n",
       "      <td>0.059354</td>\n",
       "      <td>0.435009</td>\n",
       "      <td>0.990</td>\n",
       "      <td>0.024</td>\n",
       "      <td>0.025</td>\n",
       "      <td>0.492849</td>\n",
       "      <td>0.50</td>\n",
       "    </tr>\n",
       "    <tr>\n",
       "      <th>MTMR_10</th>\n",
       "      <td>0.990</td>\n",
       "      <td>0.066008</td>\n",
       "      <td>0.059354</td>\n",
       "      <td>0.435009</td>\n",
       "      <td>0.990</td>\n",
       "      <td>0.019</td>\n",
       "      <td>0.019</td>\n",
       "      <td>0.492849</td>\n",
       "      <td>0.55</td>\n",
       "    </tr>\n",
       "    <tr>\n",
       "      <th>MTMR_10</th>\n",
       "      <td>0.990</td>\n",
       "      <td>0.066008</td>\n",
       "      <td>0.059354</td>\n",
       "      <td>0.435009</td>\n",
       "      <td>0.990</td>\n",
       "      <td>0.011</td>\n",
       "      <td>0.011</td>\n",
       "      <td>0.492849</td>\n",
       "      <td>0.60</td>\n",
       "    </tr>\n",
       "    <tr>\n",
       "      <th>MTMR_10</th>\n",
       "      <td>0.990</td>\n",
       "      <td>0.066008</td>\n",
       "      <td>0.059354</td>\n",
       "      <td>0.435009</td>\n",
       "      <td>0.990</td>\n",
       "      <td>0.005</td>\n",
       "      <td>0.005</td>\n",
       "      <td>0.492849</td>\n",
       "      <td>0.65</td>\n",
       "    </tr>\n",
       "    <tr>\n",
       "      <th>MTMR_10</th>\n",
       "      <td>0.990</td>\n",
       "      <td>0.066008</td>\n",
       "      <td>0.059354</td>\n",
       "      <td>0.435009</td>\n",
       "      <td>0.990</td>\n",
       "      <td>0.002</td>\n",
       "      <td>0.002</td>\n",
       "      <td>0.492849</td>\n",
       "      <td>0.70</td>\n",
       "    </tr>\n",
       "    <tr>\n",
       "      <th>MTMR_11</th>\n",
       "      <td>0.998</td>\n",
       "      <td>0.045610</td>\n",
       "      <td>0.038985</td>\n",
       "      <td>0.389571</td>\n",
       "      <td>0.998</td>\n",
       "      <td>0.032</td>\n",
       "      <td>0.035</td>\n",
       "      <td>0.412614</td>\n",
       "      <td>0.40</td>\n",
       "    </tr>\n",
       "    <tr>\n",
       "      <th>MTMR_11</th>\n",
       "      <td>0.998</td>\n",
       "      <td>0.045610</td>\n",
       "      <td>0.038985</td>\n",
       "      <td>0.389571</td>\n",
       "      <td>0.998</td>\n",
       "      <td>0.021</td>\n",
       "      <td>0.023</td>\n",
       "      <td>0.412614</td>\n",
       "      <td>0.45</td>\n",
       "    </tr>\n",
       "    <tr>\n",
       "      <th>MTMR_11</th>\n",
       "      <td>0.998</td>\n",
       "      <td>0.045610</td>\n",
       "      <td>0.038985</td>\n",
       "      <td>0.389571</td>\n",
       "      <td>0.998</td>\n",
       "      <td>0.012</td>\n",
       "      <td>0.013</td>\n",
       "      <td>0.412614</td>\n",
       "      <td>0.50</td>\n",
       "    </tr>\n",
       "    <tr>\n",
       "      <th>MTMR_11</th>\n",
       "      <td>0.998</td>\n",
       "      <td>0.045610</td>\n",
       "      <td>0.038985</td>\n",
       "      <td>0.389571</td>\n",
       "      <td>0.998</td>\n",
       "      <td>0.006</td>\n",
       "      <td>0.007</td>\n",
       "      <td>0.412614</td>\n",
       "      <td>0.55</td>\n",
       "    </tr>\n",
       "    <tr>\n",
       "      <th>MTMR_11</th>\n",
       "      <td>0.998</td>\n",
       "      <td>0.045610</td>\n",
       "      <td>0.038985</td>\n",
       "      <td>0.389571</td>\n",
       "      <td>0.998</td>\n",
       "      <td>0.000</td>\n",
       "      <td>0.001</td>\n",
       "      <td>0.412614</td>\n",
       "      <td>0.60</td>\n",
       "    </tr>\n",
       "    <tr>\n",
       "      <th>MTMR_11</th>\n",
       "      <td>0.998</td>\n",
       "      <td>0.045610</td>\n",
       "      <td>0.038985</td>\n",
       "      <td>0.389571</td>\n",
       "      <td>0.998</td>\n",
       "      <td>0.000</td>\n",
       "      <td>0.000</td>\n",
       "      <td>0.412614</td>\n",
       "      <td>0.65</td>\n",
       "    </tr>\n",
       "    <tr>\n",
       "      <th>MTMR_11</th>\n",
       "      <td>0.998</td>\n",
       "      <td>0.045610</td>\n",
       "      <td>0.038985</td>\n",
       "      <td>0.389571</td>\n",
       "      <td>0.998</td>\n",
       "      <td>0.000</td>\n",
       "      <td>0.000</td>\n",
       "      <td>0.412614</td>\n",
       "      <td>0.70</td>\n",
       "    </tr>\n",
       "  </tbody>\n",
       "</table>\n",
       "</div>"
      ],
      "text/plain": [
       "         VALID_RATIO  PROPERTY  IMPROVEMENT  SIMILARITY  NOVELTY  SUCCESS  \\\n",
       "MTMR_00        0.608  0.011803     0.007395    0.347499    0.608    0.001   \n",
       "MTMR_00        0.608  0.011803     0.007395    0.347499    0.608    0.001   \n",
       "MTMR_00        0.608  0.011803     0.007395    0.347499    0.608    0.001   \n",
       "MTMR_00        0.608  0.011803     0.007395    0.347499    0.608    0.001   \n",
       "MTMR_00        0.608  0.011803     0.007395    0.347499    0.608    0.001   \n",
       "MTMR_00        0.608  0.011803     0.007395    0.347499    0.608    0.001   \n",
       "MTMR_00        0.608  0.011803     0.007395    0.347499    0.608    0.000   \n",
       "MTMR_01        0.589  0.011593     0.007140    0.342134    0.589    0.000   \n",
       "MTMR_01        0.589  0.011593     0.007140    0.342134    0.589    0.000   \n",
       "MTMR_01        0.589  0.011593     0.007140    0.342134    0.589    0.000   \n",
       "MTMR_01        0.589  0.011593     0.007140    0.342134    0.589    0.000   \n",
       "MTMR_01        0.589  0.011593     0.007140    0.342134    0.589    0.000   \n",
       "MTMR_01        0.589  0.011593     0.007140    0.342134    0.589    0.000   \n",
       "MTMR_01        0.589  0.011593     0.007140    0.342134    0.589    0.000   \n",
       "MTMR_10        0.990  0.066008     0.059354    0.435009    0.990    0.049   \n",
       "MTMR_10        0.990  0.066008     0.059354    0.435009    0.990    0.037   \n",
       "MTMR_10        0.990  0.066008     0.059354    0.435009    0.990    0.024   \n",
       "MTMR_10        0.990  0.066008     0.059354    0.435009    0.990    0.019   \n",
       "MTMR_10        0.990  0.066008     0.059354    0.435009    0.990    0.011   \n",
       "MTMR_10        0.990  0.066008     0.059354    0.435009    0.990    0.005   \n",
       "MTMR_10        0.990  0.066008     0.059354    0.435009    0.990    0.002   \n",
       "MTMR_11        0.998  0.045610     0.038985    0.389571    0.998    0.032   \n",
       "MTMR_11        0.998  0.045610     0.038985    0.389571    0.998    0.021   \n",
       "MTMR_11        0.998  0.045610     0.038985    0.389571    0.998    0.012   \n",
       "MTMR_11        0.998  0.045610     0.038985    0.389571    0.998    0.006   \n",
       "MTMR_11        0.998  0.045610     0.038985    0.389571    0.998    0.000   \n",
       "MTMR_11        0.998  0.045610     0.038985    0.389571    0.998    0.000   \n",
       "MTMR_11        0.998  0.045610     0.038985    0.389571    0.998    0.000   \n",
       "\n",
       "         SUCCESS_WO_NOVEL  DIVERSITY  THRESHOLD_SIMILARITY  \n",
       "MTMR_00             0.001   0.401335                  0.40  \n",
       "MTMR_00             0.001   0.401335                  0.45  \n",
       "MTMR_00             0.001   0.401335                  0.50  \n",
       "MTMR_00             0.001   0.401335                  0.55  \n",
       "MTMR_00             0.001   0.401335                  0.60  \n",
       "MTMR_00             0.001   0.401335                  0.65  \n",
       "MTMR_00             0.000   0.401335                  0.70  \n",
       "MTMR_01             0.000   0.395268                  0.40  \n",
       "MTMR_01             0.000   0.395268                  0.45  \n",
       "MTMR_01             0.000   0.395268                  0.50  \n",
       "MTMR_01             0.000   0.395268                  0.55  \n",
       "MTMR_01             0.000   0.395268                  0.60  \n",
       "MTMR_01             0.000   0.395268                  0.65  \n",
       "MTMR_01             0.000   0.395268                  0.70  \n",
       "MTMR_10             0.053   0.492849                  0.40  \n",
       "MTMR_10             0.039   0.492849                  0.45  \n",
       "MTMR_10             0.025   0.492849                  0.50  \n",
       "MTMR_10             0.019   0.492849                  0.55  \n",
       "MTMR_10             0.011   0.492849                  0.60  \n",
       "MTMR_10             0.005   0.492849                  0.65  \n",
       "MTMR_10             0.002   0.492849                  0.70  \n",
       "MTMR_11             0.035   0.412614                  0.40  \n",
       "MTMR_11             0.023   0.412614                  0.45  \n",
       "MTMR_11             0.013   0.412614                  0.50  \n",
       "MTMR_11             0.007   0.412614                  0.55  \n",
       "MTMR_11             0.001   0.412614                  0.60  \n",
       "MTMR_11             0.000   0.412614                  0.65  \n",
       "MTMR_11             0.000   0.412614                  0.70  "
      ]
     },
     "execution_count": 17,
     "metadata": {},
     "output_type": "execute_result"
    }
   ],
   "source": [
    "df_merged"
   ]
  },
  {
   "cell_type": "code",
   "execution_count": 18,
   "id": "c3444e1f",
   "metadata": {},
   "outputs": [],
   "source": [
    "df_merged.to_csv(os.path.join(output_dir, \"table_metrics.csv\"))"
   ]
  },
  {
   "cell_type": "code",
   "execution_count": 19,
   "id": "8bc7ffb6",
   "metadata": {},
   "outputs": [
    {
     "data": {
      "image/png": "[encoded data removed]",
      "text/plain": [
       "<Figure size 720x360 with 1 Axes>"
      ]
     },
     "metadata": {},
     "output_type": "display_data"
    }
   ],
   "source": [
    "sns.set_theme(style='darkgrid')\n",
    "\n",
    "fig, ax = plt.subplots(1,1,figsize=(10,5))\n",
    "\n",
    "_ = sns.lineplot(data=df_merged.reset_index(),\n",
    "                 x='THRESHOLD_SIMILARITY', y=\"SUCCESS\", hue=\"index\",\n",
    "                 style=\"index\", markers=True, linewidth=1, markersize=10,\n",
    "                 ax=ax)\n",
    "\n",
    "#ax.set_ylim(None, 0.45)\n",
    "\n",
    "plt.tight_layout()\n",
    "plt.show()"
   ]
  },
  {
   "cell_type": "markdown",
   "id": "51ad9284",
   "metadata": {},
   "source": [
    "## 7. Property distribution"
   ]
  },
  {
   "cell_type": "code",
   "execution_count": 38,
   "id": "08ce8244",
   "metadata": {},
   "outputs": [
    {
     "data": {
      "image/png": "[encoded data removed]",
      "text/plain": [
       "<Figure size 720x360 with 2 Axes>"
      ]
     },
     "metadata": {},
     "output_type": "display_data"
    }
   ],
   "source": [
    "sns.set_theme(style='whitegrid')\n",
    "\n",
    "fig, ax = plt.subplots(1,2,figsize=(10,5))\n",
    "\n",
    "for name, df in frames_models:\n",
    "    idx = df.loc[:,\"PROPERTY\"] <= 0.05\n",
    "    _ = sns.kdeplot(data=df[idx], x=\"PROPERTY\", label=name, ax=ax[0])\n",
    "    \n",
    "    idx = df.loc[:,\"PROPERTY\"] >= 0.5\n",
    "    _ = sns.kdeplot(data=df[idx], x=\"PROPERTY\", label=name, ax=ax[1])\n",
    "    \n",
    "#ax.set_yscale('log')\n",
    "#ax.set_ylim(0.01,None)\n",
    "\n",
    "ax[0].legend(loc='best')\n",
    "ax[1].legend(loc='best')\n",
    "plt.tight_layout()\n",
    "plt.show()"
   ]
  },
  {
   "cell_type": "code",
   "execution_count": null,
   "id": "c84f37eb",
   "metadata": {},
   "outputs": [],
   "source": []
  }
 ],
 "metadata": {
  "kernelspec": {
   "display_name": "Python 3",
   "language": "python",
   "name": "python3"
  },
  "language_info": {
   "codemirror_mode": {
    "name": "ipython",
    "version": 3
   },
   "file_extension": ".py",
   "mimetype": "text/x-python",
   "name": "python",
   "nbconvert_exporter": "python",
   "pygments_lexer": "ipython3",
   "version": "3.6.15"
  }
 },
 "nbformat": 4,
 "nbformat_minor": 5
}
