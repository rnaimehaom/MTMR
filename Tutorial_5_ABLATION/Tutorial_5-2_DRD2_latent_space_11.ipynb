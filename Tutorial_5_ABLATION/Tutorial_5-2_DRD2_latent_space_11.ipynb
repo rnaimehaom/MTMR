{
 "cells": [
  {
   "cell_type": "markdown",
   "id": "b0ff33ff",
   "metadata": {},
   "source": [
    "# Tutorial - Latent space analysis using PCA"
   ]
  },
  {
   "cell_type": "markdown",
   "id": "3eb4cf2d",
   "metadata": {},
   "source": [
    "## 1. Import requirements"
   ]
  },
  {
   "cell_type": "code",
   "execution_count": 1,
   "id": "f4bab248",
   "metadata": {},
   "outputs": [],
   "source": [
    "import os\n",
    "import sys\n",
    "import numpy as np\n",
    "import pandas as pd\n",
    "import matplotlib.pyplot as plt\n",
    "import seaborn as sns\n",
    "import torch\n",
    "import tqdm\n",
    "from torch.utils.data import DataLoader\n",
    "from sklearn.decomposition import PCA"
   ]
  },
  {
   "cell_type": "code",
   "execution_count": 2,
   "id": "15ddaa8c",
   "metadata": {},
   "outputs": [],
   "source": [
    "sys.path = [os.path.abspath(os.path.join(os.getcwd(), os.pardir))] + sys.path"
   ]
  },
  {
   "cell_type": "code",
   "execution_count": 3,
   "id": "0132253a",
   "metadata": {},
   "outputs": [],
   "source": [
    "from MTMR.dataset import TrainingSmilesDataset\n",
    "from MTMR.vae import SmilesAutoencoder\n",
    "from MTMR.properties import similarity"
   ]
  },
  {
   "cell_type": "markdown",
   "id": "620fe090",
   "metadata": {},
   "source": [
    "## 2. Configure GPU (if available)"
   ]
  },
  {
   "cell_type": "code",
   "execution_count": 4,
   "id": "0d75058b",
   "metadata": {},
   "outputs": [],
   "source": [
    "use_cuda = torch.cuda.is_available()\n",
    "device = torch.device(\"cuda:0\" if use_cuda else \"cpu\")"
   ]
  },
  {
   "cell_type": "markdown",
   "id": "048843ed",
   "metadata": {},
   "source": [
    "## 3. Specify a target property"
   ]
  },
  {
   "cell_type": "code",
   "execution_count": 5,
   "id": "d6f0210d",
   "metadata": {},
   "outputs": [],
   "source": [
    "PROPERTY_NAME = \"drd2\"\n",
    "TEST_NUM = \"11\""
   ]
  },
  {
   "cell_type": "markdown",
   "id": "341b95d1",
   "metadata": {},
   "source": [
    "## 4. Set directories (for inputs and outputs)"
   ]
  },
  {
   "cell_type": "code",
   "execution_count": 6,
   "id": "009d570c",
   "metadata": {},
   "outputs": [],
   "source": [
    "input_data_dir = os.path.abspath(os.path.join(os.pardir, \"DATA\", PROPERTY_NAME))\n",
    "input_ckpt_dir = f\"outputs_5-1_{PROPERTY_NAME.upper()}_pretraining_{TEST_NUM}\""
   ]
  },
  {
   "cell_type": "code",
   "execution_count": 7,
   "id": "c3bb7250",
   "metadata": {},
   "outputs": [],
   "source": [
    "output_dir = f\"outputs_5-2_{PROPERTY_NAME.upper()}_latent_space_{TEST_NUM}\"\n",
    "if not os.path.exists(output_dir):\n",
    "    os.mkdir(output_dir)"
   ]
  },
  {
   "cell_type": "markdown",
   "id": "41309f7d",
   "metadata": {},
   "source": [
    "## 5. Set file names"
   ]
  },
  {
   "cell_type": "code",
   "execution_count": 8,
   "id": "2193ebdf",
   "metadata": {},
   "outputs": [],
   "source": [
    "filepath_train = os.path.join(input_data_dir, \"rdkit_train_triplet.txt\")"
   ]
  },
  {
   "cell_type": "code",
   "execution_count": 9,
   "id": "0f70b3eb",
   "metadata": {},
   "outputs": [],
   "source": [
    "filepath_ckpt     = os.path.join(input_ckpt_dir, \"checkpoints.pt\")\n",
    "filepath_configs  = os.path.join(input_ckpt_dir, \"configs.csv\")\n",
    "filepath_char2idx = os.path.join(input_ckpt_dir, \"char2idx.csv\")"
   ]
  },
  {
   "cell_type": "code",
   "execution_count": 10,
   "id": "df445683",
   "metadata": {},
   "outputs": [],
   "source": [
    "filepath_scatter = os.path.join(output_dir, \"scatter.png\")\n",
    "filepath_box     = os.path.join(output_dir, \"box.png\")"
   ]
  },
  {
   "cell_type": "markdown",
   "id": "73889747",
   "metadata": {},
   "source": [
    "## 6. Load a training dataset"
   ]
  },
  {
   "cell_type": "code",
   "execution_count": 11,
   "id": "6306b360",
   "metadata": {},
   "outputs": [],
   "source": [
    "dataset = TrainingSmilesDataset(filepath_train, filepath_char2idx=filepath_char2idx, device=device)"
   ]
  },
  {
   "cell_type": "markdown",
   "id": "11e0196e",
   "metadata": {},
   "source": [
    "## 7. Load a pretrained generator of MTMR"
   ]
  },
  {
   "cell_type": "code",
   "execution_count": 12,
   "id": "d8752313",
   "metadata": {},
   "outputs": [],
   "source": [
    "## Model configuration\n",
    "model_configs = {\"hidden_size\"    :None,\n",
    "                 \"latent_size\"    :None,\n",
    "                 \"num_layers\"     :None,\n",
    "                 \"vocab_size\"     :None,\n",
    "                 \"sos_idx\"        :None,\n",
    "                 \"eos_idx\"        :None,\n",
    "                 \"pad_idx\"        :None,\n",
    "                 \"device\"         :device,\n",
    "                 \"filepath_config\":filepath_configs}\n",
    "\n",
    "## Model initialization\n",
    "generator = SmilesAutoencoder(**model_configs)\n",
    "\n",
    "## Load pretrained model\n",
    "generator.load_model(filepath_ckpt)"
   ]
  },
  {
   "cell_type": "markdown",
   "id": "8cbd3701",
   "metadata": {},
   "source": [
    "## 8. Calculate latent vectors"
   ]
  },
  {
   "cell_type": "code",
   "execution_count": 13,
   "id": "83793ea0",
   "metadata": {},
   "outputs": [
    {
     "name": "stderr",
     "output_type": "stream",
     "text": [
      "100%|██████████| 6881/6881 [02:07<00:00, 53.95it/s] \n"
     ]
    }
   ],
   "source": [
    "latent_vectors_src = []\n",
    "latent_vectors_tar = []\n",
    "\n",
    "for batch in tqdm.tqdm(DataLoader(dataset, batch_size=100, shuffle=False, drop_last=False, pin_memory=use_cuda)):\n",
    "    len_src = batch[\"length_s\"]\n",
    "    len_tar = batch[\"length_t\"]\n",
    "    smi_src = dataset.encode(batch[\"smiles_s\"], batch[\"length_s\"].max())\n",
    "    smi_tar = dataset.encode(batch[\"smiles_t\"], batch[\"length_t\"].max())\n",
    "    \n",
    "    mean_src, logvar_src = generator.transform(smi_src, len_src)\n",
    "    mean_tar, logvar_tar = generator.transform(smi_tar, len_tar)\n",
    "    \n",
    "    z_src = mean_src + np.random.randn(*logvar_src.shape) * np.exp(0.5 * logvar_src)\n",
    "    z_tar = mean_tar + np.random.randn(*logvar_tar.shape) * np.exp(0.5 * logvar_tar)\n",
    "    \n",
    "    latent_vectors_src.append(z_src)\n",
    "    latent_vectors_tar.append(z_tar)\n",
    "    \n",
    "latent_vectors_src = np.concatenate(latent_vectors_src)\n",
    "latent_vectors_tar = np.concatenate(latent_vectors_tar)"
   ]
  },
  {
   "cell_type": "markdown",
   "id": "834bd05f",
   "metadata": {},
   "source": [
    "## 9. Randomly select 10 pairs"
   ]
  },
  {
   "cell_type": "code",
   "execution_count": 14,
   "id": "ea1cd41b",
   "metadata": {},
   "outputs": [],
   "source": [
    "number_of_samples = 10\n",
    "idx = np.random.choice(len(dataset), number_of_samples)\n",
    "\n",
    "samples_src = latent_vectors_src[idx]\n",
    "samples_tar = latent_vectors_tar[idx]\n",
    "\n",
    "smiles_src = dataset.df.loc[idx, \"smiles_src\"]\n",
    "smiles_tar = dataset.df.loc[idx, \"smiles_tar\"]\n",
    "\n",
    "labels_src = [\"S1\", \"S2\", \"S3\", \"S4\", \"S5\", \"S6\", \"S7\", \"S8\", \"S9\", \"S10\"]\n",
    "labels_tar = [\"T1\", \"T2\", \"T3\", \"T4\", \"T5\", \"T6\", \"T7\", \"T8\", \"T9\", \"T10\"] "
   ]
  },
  {
   "cell_type": "markdown",
   "id": "bf8a517e",
   "metadata": {},
   "source": [
    "## 10. Principal component analysis"
   ]
  },
  {
   "cell_type": "code",
   "execution_count": 15,
   "id": "4022265a",
   "metadata": {},
   "outputs": [],
   "source": [
    "pca = PCA(n_components=2, random_state=2022)\n",
    "pca = pca.fit(np.concatenate((samples_src, samples_tar)))\n",
    "\n",
    "points_src = pca.transform(samples_src)\n",
    "points_tar = pca.transform(samples_tar)"
   ]
  },
  {
   "cell_type": "markdown",
   "id": "473f6d90",
   "metadata": {},
   "source": [
    "## 11. Visualise a scatter plot"
   ]
  },
  {
   "cell_type": "code",
   "execution_count": 16,
   "id": "f82d1956",
   "metadata": {},
   "outputs": [
    {
     "data": {
      "image/png": "[encoded data removed]",
      "text/plain": [
       "<Figure size 360x360 with 1 Axes>"
      ]
     },
     "metadata": {},
     "output_type": "display_data"
    }
   ],
   "source": [
    "sns.set_theme(style='whitegrid')\n",
    "\n",
    "fig, ax = plt.subplots(1,1,figsize=(5,5))\n",
    "\n",
    "ax.scatter(points_src[:,0], points_src[:,1], marker=\"o\", label=\"Source\", alpha=0.5)\n",
    "for label, (pos_x,pos_y) in zip(labels_src, points_src[:10]):\n",
    "    ax.text(pos_x, pos_y, label, fontsize=12)\n",
    "\n",
    "ax.scatter(points_tar[:,0], points_tar[:,1], marker=\"o\", label=\"Target\", alpha=0.5)\n",
    "for label, (pos_x,pos_y) in zip(labels_tar, points_tar[:10]):\n",
    "    ax.text(pos_x, pos_y, label, fontsize=12)\n",
    "\n",
    "ax.legend(loc='best')\n",
    "\n",
    "ax.set_xlabel(\"PC1\", fontsize=16)\n",
    "ax.set_ylabel(\"PC2\", fontsize=16)\n",
    "\n",
    "plt.tight_layout()\n",
    "plt.savefig(filepath_scatter, dpi=300)\n",
    "plt.show()"
   ]
  },
  {
   "cell_type": "markdown",
   "id": "bc845355",
   "metadata": {},
   "source": [
    "## 12. Compute the Euclidean distance and Tanimoto similarity for each pair"
   ]
  },
  {
   "cell_type": "code",
   "execution_count": 17,
   "id": "6ce7b1da",
   "metadata": {},
   "outputs": [],
   "source": [
    "data_s_d = []\n",
    "\n",
    "smiles_src = list(zip(labels_src, smiles_src, points_src[:,0], points_src[:,1]))\n",
    "smiles_tar = list(zip(labels_tar, smiles_tar, points_tar[:,0], points_tar[:,1]))\n",
    "\n",
    "for label_src, smi_src, pos_x_src, pos_y_src in smiles_src:\n",
    "    for label_tar, smi_tar, pos_x_tar, pos_y_tar in smiles_tar:\n",
    "        s = similarity(smi_src, smi_tar)\n",
    "        d = np.sqrt((pos_x_src - pos_x_tar)**2 + (pos_y_src - pos_y_tar)**2)\n",
    "        data_s_d.append((label_src,smi_src,label_tar, smi_tar, s, d))\n",
    "        \n",
    "df_sd = pd.DataFrame.from_records(data_s_d)\n",
    "df_sd = df_sd.rename(columns={0:\"Label(source)\", 1:\"SMILES(source)\", 2:\"Label(target)\", 3:\"SMILES(target)\", 4:\"Tanimoto Similarity\", 5:\"Euclidean Distance\"})\n",
    "\n",
    "df_sd.loc[df_sd.index[df_sd[\"Tanimoto Similarity\"] >= 0.4], \"Group\"] = \"Similar\"\n",
    "df_sd.loc[df_sd.index[df_sd[\"Tanimoto Similarity\"] < 0.4], \"Group\"] = \"Dissimilar\""
   ]
  },
  {
   "cell_type": "markdown",
   "id": "2152baa6",
   "metadata": {},
   "source": [
    "## 13. Visualise a box plot (x-axis: Tanimoto, y-axis: Euclidean)"
   ]
  },
  {
   "cell_type": "code",
   "execution_count": 18,
   "id": "a6e5f03e",
   "metadata": {},
   "outputs": [
    {
     "data": {
      "image/png": "[encoded data removed]",
      "text/plain": [
       "<Figure size 360x360 with 1 Axes>"
      ]
     },
     "metadata": {},
     "output_type": "display_data"
    }
   ],
   "source": [
    "sns.set_theme(style='darkgrid')\n",
    "\n",
    "fig, ax = plt.subplots(1,1,figsize=(5,5))\n",
    "\n",
    "sns.boxplot(data=df_sd, x=\"Group\", y=\"Euclidean Distance\", ax=ax, palette=sns.color_palette(\"Set3\"))\n",
    "\n",
    "ax.set_xlabel(\"Tanimoto Similarity (src,tar)\", fontsize=16)\n",
    "ax.set_ylabel(\"Pairwise Distance (src,tar)\", fontsize=16)\n",
    "\n",
    "ax.set_xticklabels([\"Similar\\n(≥0.4)\", \"Dissimilar\\n(<0.4)\"], fontsize=12)\n",
    "\n",
    "plt.tight_layout()\n",
    "plt.savefig(filepath_box, dpi=300)\n",
    "plt.show()"
   ]
  },
  {
   "cell_type": "code",
   "execution_count": null,
   "id": "c1ed4d60",
   "metadata": {},
   "outputs": [],
   "source": []
  }
 ],
 "metadata": {
  "kernelspec": {
   "display_name": "Python 3",
   "language": "python",
   "name": "python3"
  },
  "language_info": {
   "codemirror_mode": {
    "name": "ipython",
    "version": 3
   },
   "file_extension": ".py",
   "mimetype": "text/x-python",
   "name": "python",
   "nbconvert_exporter": "python",
   "pygments_lexer": "ipython3",
   "version": "3.6.15"
  }
 },
 "nbformat": 4,
 "nbformat_minor": 5
}
