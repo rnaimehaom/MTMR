{
 "cells": [
  {
   "cell_type": "markdown",
   "id": "d9eb80ca",
   "metadata": {},
   "source": [
    "# Tutorial - MTMR finetuning with Reinforcement learning"
   ]
  },
  {
   "cell_type": "markdown",
   "id": "b214f318",
   "metadata": {},
   "source": [
    "## 1. Import requirements"
   ]
  },
  {
   "cell_type": "code",
   "execution_count": 1,
   "id": "2d7315e8",
   "metadata": {},
   "outputs": [],
   "source": [
    "import os\n",
    "import sys\n",
    "import pandas as pd\n",
    "import torch\n",
    "import time\n",
    "import matplotlib.pyplot as plt"
   ]
  },
  {
   "cell_type": "code",
   "execution_count": 2,
   "id": "1b22d234",
   "metadata": {},
   "outputs": [],
   "source": [
    "sys.path = [os.path.abspath(os.path.join(os.getcwd(), os.pardir))] + sys.path"
   ]
  },
  {
   "cell_type": "code",
   "execution_count": 3,
   "id": "43cc010e",
   "metadata": {},
   "outputs": [],
   "source": [
    "from MTMR.dataset import TrainingSmilesDataset, ValidationSmilesDataset\n",
    "from MTMR.vae import SmilesAutoencoder, RewardFunction\n",
    "from MTMR.properties import drd2, qed, similarity"
   ]
  },
  {
   "cell_type": "markdown",
   "id": "8380fb43",
   "metadata": {},
   "source": [
    "## 2. Configure GPU (if available)"
   ]
  },
  {
   "cell_type": "code",
   "execution_count": 4,
   "id": "aafa871d",
   "metadata": {},
   "outputs": [
    {
     "name": "stdout",
     "output_type": "stream",
     "text": [
      "cuda:0\n"
     ]
    }
   ],
   "source": [
    "use_cuda = torch.cuda.is_available()\n",
    "device = torch.device(\"cuda:0\" if use_cuda else \"cpu\")\n",
    "print(device)"
   ]
  },
  {
   "cell_type": "markdown",
   "id": "012f5fcb",
   "metadata": {},
   "source": [
    "## 3. Specify a target property"
   ]
  },
  {
   "cell_type": "code",
   "execution_count": 5,
   "id": "6c7bd314",
   "metadata": {},
   "outputs": [],
   "source": [
    "PROPERTY_NAME = \"drd2\"\n",
    "TEST_NUM = \"01\"\n",
    "\n",
    "SCORING_PROPERTY_FT = drd2\n",
    "SCORING_TANIMOTO_FT = similarity\n",
    "\n",
    "## Configure the parameters of a reward function for the target property\n",
    "threshold_property = 0.\n",
    "threshold_similarity = 0.3"
   ]
  },
  {
   "cell_type": "markdown",
   "id": "46b705f9",
   "metadata": {},
   "source": [
    "## 4. Set directories (for inputs and outputs)"
   ]
  },
  {
   "cell_type": "code",
   "execution_count": 6,
   "id": "99d5d786",
   "metadata": {},
   "outputs": [],
   "source": [
    "input_data_dir = os.path.abspath(os.path.join(os.pardir, \"DATA\", PROPERTY_NAME))\n",
    "input_ckpt_dir = f\"outputs_5-1_{PROPERTY_NAME.upper()}_pretraining_{TEST_NUM}\""
   ]
  },
  {
   "cell_type": "code",
   "execution_count": 7,
   "id": "178a876a",
   "metadata": {},
   "outputs": [],
   "source": [
    "output_dir = f\"outputs_5-5_{PROPERTY_NAME.upper()}_finetuning_{TEST_NUM}\"\n",
    "if not os.path.exists(output_dir):\n",
    "    os.mkdir(output_dir)"
   ]
  },
  {
   "cell_type": "markdown",
   "id": "fe0ac543",
   "metadata": {},
   "source": [
    "## 5. Set file names"
   ]
  },
  {
   "cell_type": "code",
   "execution_count": 8,
   "id": "38d532b7",
   "metadata": {},
   "outputs": [],
   "source": [
    "filepath_train = os.path.join(input_data_dir, \"rdkit_train_triplet.txt\")\n",
    "filepath_valid = os.path.join(input_data_dir, \"rdkit_valid.txt\")"
   ]
  },
  {
   "cell_type": "code",
   "execution_count": 9,
   "id": "8a063734",
   "metadata": {},
   "outputs": [],
   "source": [
    "filepath_pretrain_ckpt     = os.path.join(input_ckpt_dir, \"checkpoints.pt\")\n",
    "filepath_pretrain_configs  = os.path.join(input_ckpt_dir, \"configs.csv\")\n",
    "filepath_pretrain_char2idx = os.path.join(input_ckpt_dir, \"char2idx.csv\")"
   ]
  },
  {
   "cell_type": "code",
   "execution_count": 10,
   "id": "dde90a6f",
   "metadata": {},
   "outputs": [],
   "source": [
    "filepath_char2idx      = os.path.join(output_dir, \"char2idx.csv\")\n",
    "filepath_configs       = os.path.join(output_dir, \"configs.csv\")\n",
    "filepath_checkpoint    = os.path.join(output_dir, \"checkpoints.pt\")\n",
    "filepath_history       = os.path.join(output_dir, \"history.csv\")\n",
    "filepath_history_valid = os.path.join(output_dir, \"history_valid.csv\")"
   ]
  },
  {
   "cell_type": "markdown",
   "id": "0ff43364",
   "metadata": {},
   "source": [
    "## 6. Load datasets (for training and validation)"
   ]
  },
  {
   "cell_type": "code",
   "execution_count": 11,
   "id": "8da618fe",
   "metadata": {},
   "outputs": [],
   "source": [
    "dataset = TrainingSmilesDataset(filepath_train, filepath_char2idx=filepath_pretrain_char2idx, device=device)\n",
    "dataset.save_char2idx(filepath_char2idx)\n",
    "dataset_valid = ValidationSmilesDataset(filepath_valid, filepath_char2idx, device=device)"
   ]
  },
  {
   "cell_type": "markdown",
   "id": "56da65e8",
   "metadata": {},
   "source": [
    "## 7. Load a pretrained generator of MTMR"
   ]
  },
  {
   "cell_type": "code",
   "execution_count": 12,
   "id": "84a35995",
   "metadata": {},
   "outputs": [],
   "source": [
    "## Model configuration\n",
    "model_configs = {\"hidden_size\"    :None,\n",
    "                 \"latent_size\"    :None,\n",
    "                 \"num_layers\"     :None,\n",
    "                 \"vocab_size\"     :None,\n",
    "                 \"sos_idx\"        :None,\n",
    "                 \"eos_idx\"        :None,\n",
    "                 \"pad_idx\"        :None,\n",
    "                 \"device\"         :device,\n",
    "                 \"filepath_config\":filepath_pretrain_configs}\n",
    "\n",
    "## Model initialization\n",
    "generator = SmilesAutoencoder(**model_configs)\n",
    "\n",
    "## Load pretrained model\n",
    "generator.load_model(filepath_pretrain_ckpt)\n",
    "\n",
    "## Configuration save\n",
    "generator.save_config(filepath_configs)"
   ]
  },
  {
   "cell_type": "markdown",
   "id": "6c67786b",
   "metadata": {},
   "source": [
    "## 8. Define a reward function"
   ]
  },
  {
   "cell_type": "code",
   "execution_count": 13,
   "id": "df4a76a2",
   "metadata": {},
   "outputs": [],
   "source": [
    "reward_ft = RewardFunction(similarity_ft=SCORING_TANIMOTO_FT,\n",
    "                           scoring_ft=SCORING_PROPERTY_FT,\n",
    "                           threshold_property=threshold_property,\n",
    "                           threshold_similarity=threshold_similarity)"
   ]
  },
  {
   "cell_type": "markdown",
   "id": "f39edd46",
   "metadata": {},
   "source": [
    "## 9. Train"
   ]
  },
  {
   "cell_type": "code",
   "execution_count": 14,
   "id": "a8e69244",
   "metadata": {},
   "outputs": [
    {
     "name": "stdout",
     "output_type": "stream",
     "text": [
      "[000000/002000]  loss: 0.053  reward: 0.024  similarity: 0.973  property[0]: 0.024  valid_ratio(va): 0.598  similarity(va): 0.344  property(va): 0.017\n",
      "[000010/002000]  loss: 0.057  reward: 0.028  similarity: 0.952  property[0]: 0.028  valid_ratio(va): 0.636  similarity(va): 0.363  property(va): 0.028\n",
      "[000020/002000]  loss: 0.047  reward: 0.028  similarity: 0.935  property[0]: 0.028  valid_ratio(va): 0.716  similarity(va): 0.397  property(va): 0.048\n",
      "[000030/002000]  loss: 0.050  reward: 0.042  similarity: 0.894  property[0]: 0.042  valid_ratio(va): 0.780  similarity(va): 0.418  property(va): 0.064\n",
      "[000040/002000]  loss: 0.059  reward: 0.088  similarity: 0.856  property[0]: 0.088  valid_ratio(va): 0.810  similarity(va): 0.420  property(va): 0.086\n",
      "[000050/002000]  loss: 0.061  reward: 0.074  similarity: 0.811  property[0]: 0.074  valid_ratio(va): 0.828  similarity(va): 0.418  property(va): 0.097\n",
      "[000060/002000]  loss: 0.068  reward: 0.138  similarity: 0.771  property[0]: 0.138  valid_ratio(va): 0.870  similarity(va): 0.420  property(va): 0.115\n",
      "[000070/002000]  loss: 0.057  reward: 0.119  similarity: 0.751  property[0]: 0.119  valid_ratio(va): 0.882  similarity(va): 0.415  property(va): 0.137\n",
      "[000080/002000]  loss: 0.056  reward: 0.175  similarity: 0.675  property[0]: 0.175  valid_ratio(va): 0.888  similarity(va): 0.408  property(va): 0.151\n",
      "[000090/002000]  loss: 0.061  reward: 0.185  similarity: 0.673  property[0]: 0.185  valid_ratio(va): 0.900  similarity(va): 0.392  property(va): 0.167\n",
      "[000100/002000]  loss: 0.058  reward: 0.174  similarity: 0.627  property[0]: 0.174  valid_ratio(va): 0.912  similarity(va): 0.389  property(va): 0.189\n",
      "[000110/002000]  loss: 0.057  reward: 0.205  similarity: 0.618  property[0]: 0.205  valid_ratio(va): 0.910  similarity(va): 0.378  property(va): 0.195\n",
      "[000120/002000]  loss: 0.069  reward: 0.214  similarity: 0.636  property[0]: 0.214  valid_ratio(va): 0.922  similarity(va): 0.380  property(va): 0.210\n",
      "[000130/002000]  loss: 0.065  reward: 0.261  similarity: 0.631  property[0]: 0.261  valid_ratio(va): 0.926  similarity(va): 0.375  property(va): 0.218\n",
      "[000140/002000]  loss: 0.053  reward: 0.232  similarity: 0.605  property[0]: 0.232  valid_ratio(va): 0.936  similarity(va): 0.373  property(va): 0.238\n",
      "[000150/002000]  loss: 0.054  reward: 0.221  similarity: 0.604  property[0]: 0.221  valid_ratio(va): 0.938  similarity(va): 0.366  property(va): 0.241\n",
      "[000160/002000]  loss: 0.073  reward: 0.277  similarity: 0.554  property[0]: 0.277  valid_ratio(va): 0.930  similarity(va): 0.356  property(va): 0.261\n",
      "[000170/002000]  loss: 0.059  reward: 0.259  similarity: 0.590  property[0]: 0.259  valid_ratio(va): 0.940  similarity(va): 0.357  property(va): 0.268\n",
      "[000180/002000]  loss: 0.070  reward: 0.300  similarity: 0.538  property[0]: 0.300  valid_ratio(va): 0.930  similarity(va): 0.347  property(va): 0.280\n",
      "[000190/002000]  loss: 0.072  reward: 0.301  similarity: 0.538  property[0]: 0.301  valid_ratio(va): 0.944  similarity(va): 0.355  property(va): 0.287\n",
      "[000200/002000]  loss: 0.077  reward: 0.339  similarity: 0.545  property[0]: 0.339  valid_ratio(va): 0.938  similarity(va): 0.350  property(va): 0.294\n",
      "[000210/002000]  loss: 0.062  reward: 0.385  similarity: 0.543  property[0]: 0.385  valid_ratio(va): 0.958  similarity(va): 0.353  property(va): 0.291\n",
      "[000220/002000]  loss: 0.060  reward: 0.359  similarity: 0.589  property[0]: 0.359  valid_ratio(va): 0.942  similarity(va): 0.342  property(va): 0.313\n",
      "[000230/002000]  loss: 0.056  reward: 0.355  similarity: 0.521  property[0]: 0.355  valid_ratio(va): 0.944  similarity(va): 0.338  property(va): 0.324\n",
      "[000240/002000]  loss: 0.051  reward: 0.301  similarity: 0.562  property[0]: 0.301  valid_ratio(va): 0.958  similarity(va): 0.342  property(va): 0.332\n",
      "[000250/002000]  loss: 0.051  reward: 0.377  similarity: 0.507  property[0]: 0.377  valid_ratio(va): 0.954  similarity(va): 0.339  property(va): 0.327\n",
      "[000260/002000]  loss: 0.065  reward: 0.452  similarity: 0.535  property[0]: 0.452  valid_ratio(va): 0.942  similarity(va): 0.336  property(va): 0.342\n",
      "[000270/002000]  loss: 0.046  reward: 0.304  similarity: 0.516  property[0]: 0.304  valid_ratio(va): 0.960  similarity(va): 0.337  property(va): 0.363\n",
      "[000280/002000]  loss: 0.069  reward: 0.400  similarity: 0.537  property[0]: 0.400  valid_ratio(va): 0.964  similarity(va): 0.333  property(va): 0.371\n",
      "[000290/002000]  loss: 0.047  reward: 0.421  similarity: 0.533  property[0]: 0.421  valid_ratio(va): 0.966  similarity(va): 0.330  property(va): 0.368\n",
      "[000300/002000]  loss: 0.060  reward: 0.389  similarity: 0.526  property[0]: 0.389  valid_ratio(va): 0.958  similarity(va): 0.327  property(va): 0.364\n",
      "[000310/002000]  loss: 0.063  reward: 0.381  similarity: 0.535  property[0]: 0.381  valid_ratio(va): 0.960  similarity(va): 0.325  property(va): 0.365\n"
     ]
    },
    {
     "ename": "KeyboardInterrupt",
     "evalue": "",
     "output_type": "error",
     "traceback": [
      "\u001b[0;31m---------------------------------------------------------------------------\u001b[0m",
      "\u001b[0;31mKeyboardInterrupt\u001b[0m                         Traceback (most recent call last)",
      "\u001b[0;32m<ipython-input-14-aab22924c17f>\u001b[0m in \u001b[0;36m<module>\u001b[0;34m\u001b[0m\n\u001b[1;32m      1\u001b[0m df_history, df_history_valid = generator.policy_gradient(dataset, reward_ft,\n\u001b[1;32m      2\u001b[0m                                                          \u001b[0mvalidation_dataset\u001b[0m\u001b[0;34m=\u001b[0m\u001b[0mdataset_valid\u001b[0m\u001b[0;34m,\u001b[0m\u001b[0;34m\u001b[0m\u001b[0;34m\u001b[0m\u001b[0m\n\u001b[0;32m----> 3\u001b[0;31m                                                          checkpoint_filepath=filepath_checkpoint)\n\u001b[0m\u001b[1;32m      4\u001b[0m \u001b[0;34m\u001b[0m\u001b[0m\n\u001b[1;32m      5\u001b[0m \u001b[0mdf_history\u001b[0m\u001b[0;34m.\u001b[0m\u001b[0mto_csv\u001b[0m\u001b[0;34m(\u001b[0m\u001b[0mfilepath_history\u001b[0m\u001b[0;34m,\u001b[0m \u001b[0mindex\u001b[0m\u001b[0;34m=\u001b[0m\u001b[0;32mFalse\u001b[0m\u001b[0;34m)\u001b[0m\u001b[0;34m\u001b[0m\u001b[0;34m\u001b[0m\u001b[0m\n",
      "\u001b[0;32m/Data1/descartes/work/DrugStyler/MTMR/MTMR/vae.py\u001b[0m in \u001b[0;36mpolicy_gradient\u001b[0;34m(self, dataset, reward_ft, batch_size, total_steps, learning_rate, discount_factor, buffer_size, buffer_batch_size, validation_dataset, validation_repetition_size, use_adaptive_threshold, checkpoint_step, checkpoint_filepath, display_step, verbose)\u001b[0m\n\u001b[1;32m    487\u001b[0m                 \u001b[0;32mif\u001b[0m \u001b[0mtype\u001b[0m\u001b[0;34m(\u001b[0m\u001b[0mavg_properties\u001b[0m\u001b[0;34m)\u001b[0m \u001b[0;32mis\u001b[0m \u001b[0mfloat\u001b[0m\u001b[0;34m:\u001b[0m\u001b[0;34m\u001b[0m\u001b[0;34m\u001b[0m\u001b[0m\n\u001b[1;32m    488\u001b[0m                     \u001b[0mlog\u001b[0m \u001b[0;34m+=\u001b[0m \u001b[0;34mf\"  property: {avg_properties:.3f}\"\u001b[0m\u001b[0;34m\u001b[0m\u001b[0;34m\u001b[0m\u001b[0m\n\u001b[0;32m--> 489\u001b[0;31m                 \u001b[0;32melse\u001b[0m\u001b[0;34m:\u001b[0m\u001b[0;34m\u001b[0m\u001b[0;34m\u001b[0m\u001b[0m\n\u001b[0m\u001b[1;32m    490\u001b[0m                     \u001b[0;32mfor\u001b[0m \u001b[0mi\u001b[0m\u001b[0;34m,\u001b[0m \u001b[0mavg_prop\u001b[0m \u001b[0;32min\u001b[0m \u001b[0menumerate\u001b[0m\u001b[0;34m(\u001b[0m\u001b[0mavg_properties\u001b[0m\u001b[0;34m)\u001b[0m\u001b[0;34m:\u001b[0m\u001b[0;34m\u001b[0m\u001b[0;34m\u001b[0m\u001b[0m\n\u001b[1;32m    491\u001b[0m                         \u001b[0mlog\u001b[0m \u001b[0;34m+=\u001b[0m \u001b[0;34mf\"  property[{i}]: {avg_prop:.3f}\"\u001b[0m\u001b[0;34m\u001b[0m\u001b[0;34m\u001b[0m\u001b[0m\n",
      "\u001b[0;32m/Data1/descartes/work/DrugStyler/MTMR/MTMR/vae.py\u001b[0m in \u001b[0;36mmolecular_transform\u001b[0;34m(self, dataset, K, use_tqdm)\u001b[0m\n\u001b[1;32m    390\u001b[0m             \u001b[0mbatch_length\u001b[0m \u001b[0;34m=\u001b[0m \u001b[0mbatch\u001b[0m\u001b[0;34m[\u001b[0m\u001b[0;34m\"length_s\"\u001b[0m\u001b[0;34m]\u001b[0m\u001b[0;34m\u001b[0m\u001b[0;34m\u001b[0m\u001b[0m\n\u001b[1;32m    391\u001b[0m             \u001b[0;31m## predict\u001b[0m\u001b[0;34m\u001b[0m\u001b[0;34m\u001b[0m\u001b[0;34m\u001b[0m\u001b[0m\n\u001b[0;32m--> 392\u001b[0;31m             \u001b[0;32mfor\u001b[0m \u001b[0mk\u001b[0m \u001b[0;32min\u001b[0m \u001b[0mrange\u001b[0m\u001b[0;34m(\u001b[0m\u001b[0mK\u001b[0m\u001b[0;34m)\u001b[0m\u001b[0;34m:\u001b[0m\u001b[0;34m\u001b[0m\u001b[0;34m\u001b[0m\u001b[0m\n\u001b[0m\u001b[1;32m    393\u001b[0m                 \u001b[0mseq\u001b[0m \u001b[0;34m=\u001b[0m \u001b[0mself\u001b[0m\u001b[0;34m.\u001b[0m\u001b[0mpredict\u001b[0m\u001b[0;34m(\u001b[0m\u001b[0mbatch_smiles\u001b[0m\u001b[0;34m,\u001b[0m \u001b[0mbatch_length\u001b[0m\u001b[0;34m)\u001b[0m\u001b[0;34m\u001b[0m\u001b[0;34m\u001b[0m\u001b[0m\n\u001b[1;32m    394\u001b[0m                 \u001b[0msmi\u001b[0m \u001b[0;34m=\u001b[0m \u001b[0mdataset\u001b[0m\u001b[0;34m.\u001b[0m\u001b[0mdecode\u001b[0m\u001b[0;34m(\u001b[0m\u001b[0mseq\u001b[0m\u001b[0;34m)\u001b[0m\u001b[0;34m[\u001b[0m\u001b[0;36m0\u001b[0m\u001b[0;34m]\u001b[0m \u001b[0;31m# note: batch_size = 1\u001b[0m\u001b[0;34m\u001b[0m\u001b[0;34m\u001b[0m\u001b[0m\n",
      "\u001b[0;32m/Data1/descartes/work/DrugStyler/MTMR/MTMR/vae.py\u001b[0m in \u001b[0;36mpredict\u001b[0;34m(self, smiles, length, max_seqlen)\u001b[0m\n\u001b[1;32m    819\u001b[0m             \u001b[0mz\u001b[0m \u001b[0;34m=\u001b[0m \u001b[0mself\u001b[0m\u001b[0;34m.\u001b[0m\u001b[0mencoder\u001b[0m\u001b[0;34m.\u001b[0m\u001b[0msampling\u001b[0m\u001b[0;34m(\u001b[0m\u001b[0mmean\u001b[0m\u001b[0;34m,\u001b[0m \u001b[0mlogvar\u001b[0m\u001b[0;34m)\u001b[0m \u001b[0;31m# z.shape = (batch, latent)\u001b[0m\u001b[0;34m\u001b[0m\u001b[0;34m\u001b[0m\u001b[0m\n\u001b[1;32m    820\u001b[0m             \u001b[0;31m## Decoder\u001b[0m\u001b[0;34m\u001b[0m\u001b[0;34m\u001b[0m\u001b[0;34m\u001b[0m\u001b[0m\n\u001b[0;32m--> 821\u001b[0;31m             \u001b[0mgenerated\u001b[0m \u001b[0;34m=\u001b[0m \u001b[0;34m[\u001b[0m\u001b[0;34m]\u001b[0m\u001b[0;34m\u001b[0m\u001b[0;34m\u001b[0m\u001b[0m\n\u001b[0m\u001b[1;32m    822\u001b[0m             \u001b[0;32mfor\u001b[0m \u001b[0mi\u001b[0m \u001b[0;32min\u001b[0m \u001b[0mrange\u001b[0m\u001b[0;34m(\u001b[0m\u001b[0mbatch_size\u001b[0m\u001b[0;34m)\u001b[0m\u001b[0;34m:\u001b[0m\u001b[0;34m\u001b[0m\u001b[0;34m\u001b[0m\u001b[0m\n\u001b[1;32m    823\u001b[0m                 \u001b[0mz_i\u001b[0m \u001b[0;34m=\u001b[0m \u001b[0mz\u001b[0m\u001b[0;34m[\u001b[0m\u001b[0mi\u001b[0m\u001b[0;34m]\u001b[0m\u001b[0;34m.\u001b[0m\u001b[0munsqueeze\u001b[0m\u001b[0;34m(\u001b[0m\u001b[0;36m0\u001b[0m\u001b[0;34m)\u001b[0m \u001b[0;31m# z_i.shape = (1, latent)\u001b[0m\u001b[0;34m\u001b[0m\u001b[0;34m\u001b[0m\u001b[0m\n",
      "\u001b[0;32m/Data1/descartes/work/DrugStyler/MTMR/MTMR/vae.py\u001b[0m in \u001b[0;36m_generate\u001b[0;34m(self, z, max_seqlen, greedy)\u001b[0m\n\u001b[1;32m    863\u001b[0m                 \u001b[0m_\u001b[0m\u001b[0;34m,\u001b[0m \u001b[0mtop_idx\u001b[0m \u001b[0;34m=\u001b[0m \u001b[0mtorch\u001b[0m\u001b[0;34m.\u001b[0m\u001b[0mtopk\u001b[0m\u001b[0;34m(\u001b[0m\u001b[0mlogits\u001b[0m\u001b[0;34m,\u001b[0m \u001b[0;36m1\u001b[0m\u001b[0;34m,\u001b[0m \u001b[0mdim\u001b[0m\u001b[0;34m=\u001b[0m\u001b[0;34m-\u001b[0m\u001b[0;36m1\u001b[0m\u001b[0;34m)\u001b[0m \u001b[0;31m# top_idx.shape = (batch, 1, 1)\u001b[0m\u001b[0;34m\u001b[0m\u001b[0;34m\u001b[0m\u001b[0m\n\u001b[1;32m    864\u001b[0m                 \u001b[0minps\u001b[0m \u001b[0;34m=\u001b[0m \u001b[0mtop_idx\u001b[0m\u001b[0;34m.\u001b[0m\u001b[0mcontiguous\u001b[0m\u001b[0;34m(\u001b[0m\u001b[0;34m)\u001b[0m\u001b[0;34m.\u001b[0m\u001b[0mview\u001b[0m\u001b[0;34m(\u001b[0m\u001b[0mbatch_size\u001b[0m\u001b[0;34m,\u001b[0m \u001b[0;36m1\u001b[0m\u001b[0;34m)\u001b[0m \u001b[0;31m# inps.shape = (batch, 1)\u001b[0m\u001b[0;34m\u001b[0m\u001b[0;34m\u001b[0m\u001b[0m\n\u001b[0;32m--> 865\u001b[0;31m             \u001b[0;32melse\u001b[0m\u001b[0;34m:\u001b[0m\u001b[0;34m\u001b[0m\u001b[0;34m\u001b[0m\u001b[0m\n\u001b[0m\u001b[1;32m    866\u001b[0m                 \u001b[0mprobs\u001b[0m \u001b[0;34m=\u001b[0m \u001b[0mtorch\u001b[0m\u001b[0;34m.\u001b[0m\u001b[0msoftmax\u001b[0m\u001b[0;34m(\u001b[0m\u001b[0mlogits\u001b[0m\u001b[0;34m,\u001b[0m \u001b[0mdim\u001b[0m\u001b[0;34m=\u001b[0m\u001b[0;34m-\u001b[0m\u001b[0;36m1\u001b[0m\u001b[0;34m)\u001b[0m \u001b[0;31m# probs.shape = (batch, 1, vocab)\u001b[0m\u001b[0;34m\u001b[0m\u001b[0;34m\u001b[0m\u001b[0m\n\u001b[1;32m    867\u001b[0m                 \u001b[0mprobs\u001b[0m \u001b[0;34m=\u001b[0m \u001b[0mprobs\u001b[0m\u001b[0;34m.\u001b[0m\u001b[0mview\u001b[0m\u001b[0;34m(\u001b[0m\u001b[0mprobs\u001b[0m\u001b[0;34m.\u001b[0m\u001b[0msize\u001b[0m\u001b[0;34m(\u001b[0m\u001b[0;36m0\u001b[0m\u001b[0;34m)\u001b[0m\u001b[0;34m,\u001b[0m \u001b[0mprobs\u001b[0m\u001b[0;34m.\u001b[0m\u001b[0msize\u001b[0m\u001b[0;34m(\u001b[0m\u001b[0;36m2\u001b[0m\u001b[0;34m)\u001b[0m\u001b[0;34m)\u001b[0m \u001b[0;31m# probs.shape = (batch, vocab)\u001b[0m\u001b[0;34m\u001b[0m\u001b[0;34m\u001b[0m\u001b[0m\n",
      "\u001b[0;31mKeyboardInterrupt\u001b[0m: "
     ]
    }
   ],
   "source": [
    "df_history, df_history_valid = generator.policy_gradient(dataset, reward_ft,\n",
    "                                                         validation_dataset=dataset_valid,\n",
    "                                                         checkpoint_filepath=filepath_checkpoint)\n",
    "\n",
    "df_history.to_csv(filepath_history, index=False)\n",
    "df_history_valid.to_csv(filepath_history_valid, index=False)"
   ]
  },
  {
   "cell_type": "markdown",
   "id": "b41e7a38",
   "metadata": {},
   "source": [
    "## 10. Visualize for reward & loss analysis"
   ]
  },
  {
   "cell_type": "code",
   "execution_count": null,
   "id": "7acb154c",
   "metadata": {},
   "outputs": [],
   "source": [
    "fig, axes = plt.subplots(4,1,figsize=(8,8))\n",
    "\n",
    "axes[0].plot(df_history.loc[:,\"LOSS\"], label=\"Loss\")\n",
    "axes[1].plot(df_history.loc[:,\"REWARD\"], label=\"Reward\")\n",
    "axes[2].plot(df_history.loc[:,\"SIMILARITY\"], label=\"Tanimoto Coeff.\")\n",
    "axes[3].plot(df_history.loc[:,\"PROPERTY\"], label=f\"Property ({PROPERTY_NAME})\")\n",
    "\n",
    "axes[3].set_xlabel(\"Iteration\")\n",
    "for ax in axes:\n",
    "    ax.legend(loc='best')\n",
    "\n",
    "plt.tight_layout()\n",
    "plt.show()"
   ]
  },
  {
   "cell_type": "code",
   "execution_count": null,
   "id": "04356505",
   "metadata": {},
   "outputs": [],
   "source": [
    "fig, axes = plt.subplots(3,1,figsize=(8,4))\n",
    "\n",
    "axes[0].plot(df_history_valid.loc[:,\"VALID_RATIO\"], label=\"Validity\")\n",
    "axes[1].plot(df_history_valid.loc[:,\"AVERAGE_SIMILARITY\"], label=\"Tanimoto coeff.\")\n",
    "axes[2].plot(df_history_valid.loc[:,\"AVERAGE_PROPERTY\"], label=f\"Property ({PROPERTY_NAME})\")\n",
    "\n",
    "axes[0].set_ylim(0.95, 1.005)\n",
    "\n",
    "axes[2].set_xlabel(\"Iteration\")\n",
    "for ax in axes:\n",
    "    ax.legend(loc='best')\n",
    "\n",
    "plt.tight_layout()\n",
    "plt.show()"
   ]
  }
 ],
 "metadata": {
  "kernelspec": {
   "display_name": "Python 3",
   "language": "python",
   "name": "python3"
  },
  "language_info": {
   "codemirror_mode": {
    "name": "ipython",
    "version": 3
   },
   "file_extension": ".py",
   "mimetype": "text/x-python",
   "name": "python",
   "nbconvert_exporter": "python",
   "pygments_lexer": "ipython3",
   "version": "3.6.15"
  }
 },
 "nbformat": 4,
 "nbformat_minor": 5
}
