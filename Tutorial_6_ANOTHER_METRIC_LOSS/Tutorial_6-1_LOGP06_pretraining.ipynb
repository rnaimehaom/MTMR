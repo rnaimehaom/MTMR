{
 "cells": [
  {
   "cell_type": "markdown",
   "id": "7fd855f6",
   "metadata": {},
   "source": [
    "# Tutorial - Step1 : MTMR pretraining with Metric learning"
   ]
  },
  {
   "cell_type": "markdown",
   "id": "e3e6563b",
   "metadata": {},
   "source": [
    "## 1. Import requirements"
   ]
  },
  {
   "cell_type": "code",
   "execution_count": 1,
   "id": "fad9b382",
   "metadata": {},
   "outputs": [],
   "source": [
    "import os\n",
    "import sys\n",
    "import pandas as pd\n",
    "import torch\n",
    "import time\n",
    "import matplotlib.pyplot as plt"
   ]
  },
  {
   "cell_type": "code",
   "execution_count": 2,
   "id": "28d59944",
   "metadata": {},
   "outputs": [],
   "source": [
    "sys.path = [os.path.abspath(os.path.join(os.getcwd(), os.pardir))] + sys.path"
   ]
  },
  {
   "cell_type": "code",
   "execution_count": 3,
   "id": "69485af7",
   "metadata": {},
   "outputs": [],
   "source": [
    "from MTMR.dataset import TrainingSmilesDataset, ValidationSmilesDataset\n",
    "from vae_triplet import SmilesAutoencoder"
   ]
  },
  {
   "cell_type": "markdown",
   "id": "d9188a4a",
   "metadata": {},
   "source": [
    "## 2. Configure GPU (if available)"
   ]
  },
  {
   "cell_type": "code",
   "execution_count": 4,
   "id": "edea664b",
   "metadata": {},
   "outputs": [
    {
     "name": "stdout",
     "output_type": "stream",
     "text": [
      "cuda:0\n"
     ]
    }
   ],
   "source": [
    "use_cuda = torch.cuda.is_available()\n",
    "device = torch.device(\"cuda:0\" if use_cuda else \"cpu\")\n",
    "print(device)"
   ]
  },
  {
   "cell_type": "markdown",
   "id": "6842acb0",
   "metadata": {},
   "source": [
    "## 3. Specify a target property"
   ]
  },
  {
   "cell_type": "code",
   "execution_count": 5,
   "id": "3c6d173e",
   "metadata": {},
   "outputs": [],
   "source": [
    "PROPERTY_NAME = \"logp06\""
   ]
  },
  {
   "cell_type": "markdown",
   "id": "f94c4961",
   "metadata": {},
   "source": [
    "## 4. Set directories (for inputs and outputs)"
   ]
  },
  {
   "cell_type": "code",
   "execution_count": 6,
   "id": "5386d37d",
   "metadata": {},
   "outputs": [],
   "source": [
    "input_dir = os.path.abspath(os.path.join(os.pardir, \"DATA\", PROPERTY_NAME))"
   ]
  },
  {
   "cell_type": "code",
   "execution_count": 7,
   "id": "380aebaa",
   "metadata": {},
   "outputs": [],
   "source": [
    "output_dir = f\"outputs_6-1_{PROPERTY_NAME.upper()}_pretraining\"\n",
    "if not os.path.exists(output_dir):\n",
    "    os.mkdir(output_dir)"
   ]
  },
  {
   "cell_type": "markdown",
   "id": "ae1a66b3",
   "metadata": {},
   "source": [
    "## 5. Set file names"
   ]
  },
  {
   "cell_type": "code",
   "execution_count": 8,
   "id": "6d2ba45e",
   "metadata": {},
   "outputs": [],
   "source": [
    "filepath_train = os.path.join(input_dir, \"rdkit_train_triplet.txt\")\n",
    "filepath_valid = os.path.join(input_dir, \"rdkit_valid.txt\")"
   ]
  },
  {
   "cell_type": "code",
   "execution_count": 9,
   "id": "167c5f99",
   "metadata": {},
   "outputs": [],
   "source": [
    "filepath_char2idx      = os.path.join(output_dir, \"char2idx.csv\")\n",
    "filepath_configs       = os.path.join(output_dir, \"configs.csv\")\n",
    "filepath_checkpoint    = os.path.join(output_dir, \"checkpoints.pt\")\n",
    "filepath_history       = os.path.join(output_dir, \"history.csv\")\n",
    "filepath_history_valid = os.path.join(output_dir, \"history_valid.csv\")"
   ]
  },
  {
   "cell_type": "markdown",
   "id": "9a33cf5f",
   "metadata": {},
   "source": [
    "## 6. Load datasets (for training and validation)"
   ]
  },
  {
   "cell_type": "code",
   "execution_count": 10,
   "id": "972d7340",
   "metadata": {},
   "outputs": [],
   "source": [
    "dataset = TrainingSmilesDataset(filepath_train, device=device)\n",
    "dataset.save_char2idx(filepath_char2idx)\n",
    "dataset_valid = ValidationSmilesDataset(filepath_valid, filepath_char2idx, device=device)"
   ]
  },
  {
   "cell_type": "markdown",
   "id": "4258325f",
   "metadata": {},
   "source": [
    "## 7. Initialize a generator of MTMR"
   ]
  },
  {
   "cell_type": "code",
   "execution_count": 11,
   "id": "d1f64604",
   "metadata": {},
   "outputs": [],
   "source": [
    "## Model configuration\n",
    "model_configs = {\"hidden_size\":128,\n",
    "                 \"latent_size\":128,\n",
    "                 \"num_layers\" :2,\n",
    "                 \"vocab_size\" :dataset.vocab_size,\n",
    "                 \"sos_idx\"    :dataset.sos_idx,\n",
    "                 \"eos_idx\"    :dataset.eos_idx,\n",
    "                 \"pad_idx\"    :dataset.pad_idx,\n",
    "                 \"device\"     :device\n",
    "                }\n",
    "\n",
    "## Model initialization\n",
    "generator = SmilesAutoencoder(**model_configs)\n",
    "\n",
    "## Configuration save\n",
    "generator.save_config(filepath_configs)"
   ]
  },
  {
   "cell_type": "markdown",
   "id": "5cc02af5",
   "metadata": {},
   "source": [
    "## 8. Train"
   ]
  },
  {
   "cell_type": "code",
   "execution_count": 12,
   "id": "94f3f528",
   "metadata": {
    "scrolled": true
   },
   "outputs": [
    {
     "name": "stdout",
     "output_type": "stream",
     "text": [
      "[00000000/00200000]  loss(tr): 10.573  loss_recon_src(tr): 3.422  loss_recon_tar(tr): 3.428  loss_recon_neg(tr): 3.428  loss_kld(tr): 2.142  loss_triplet(tr): 0.672  valid_ratio(va): 0.115  similarity(va): 0.003\n",
      "[00001000/00200000]  loss(tr): 1.916  loss_recon_src(tr): 0.712  loss_recon_tar(tr): 0.653  loss_recon_neg(tr): 0.675  loss_kld(tr): 0.830  loss_triplet(tr): 0.075\n",
      "[00002000/00200000]  loss(tr): 1.452  loss_recon_src(tr): 0.640  loss_recon_tar(tr): 0.597  loss_recon_neg(tr): 0.607  loss_kld(tr): 0.771  loss_triplet(tr): 0.037\n",
      "[00003000/00200000]  loss(tr): 1.504  loss_recon_src(tr): 0.611  loss_recon_tar(tr): 0.585  loss_recon_neg(tr): 0.617  loss_kld(tr): 0.688  loss_triplet(tr): 0.051\n",
      "[00004000/00200000]  loss(tr): 1.406  loss_recon_src(tr): 0.608  loss_recon_tar(tr): 0.545  loss_recon_neg(tr): 0.618  loss_kld(tr): 0.690  loss_triplet(tr): 0.042\n",
      "[00005000/00200000]  loss(tr): 1.250  loss_recon_src(tr): 0.612  loss_recon_tar(tr): 0.576  loss_recon_neg(tr): 0.584  loss_kld(tr): 0.628  loss_triplet(tr): 0.033\n",
      "[00006000/00200000]  loss(tr): 1.260  loss_recon_src(tr): 0.572  loss_recon_tar(tr): 0.557  loss_recon_neg(tr): 0.599  loss_kld(tr): 0.690  loss_triplet(tr): 0.028\n",
      "[00007000/00200000]  loss(tr): 1.081  loss_recon_src(tr): 0.577  loss_recon_tar(tr): 0.542  loss_recon_neg(tr): 0.565  loss_kld(tr): 0.608  loss_triplet(tr): 0.019\n",
      "[00008000/00200000]  loss(tr): 1.288  loss_recon_src(tr): 0.577  loss_recon_tar(tr): 0.531  loss_recon_neg(tr): 0.564  loss_kld(tr): 0.629  loss_triplet(tr): 0.038\n",
      "[00009000/00200000]  loss(tr): 1.145  loss_recon_src(tr): 0.563  loss_recon_tar(tr): 0.524  loss_recon_neg(tr): 0.558  loss_kld(tr): 0.667  loss_triplet(tr): 0.020\n",
      "[00010000/00200000]  loss(tr): 1.114  loss_recon_src(tr): 0.549  loss_recon_tar(tr): 0.523  loss_recon_neg(tr): 0.544  loss_kld(tr): 0.596  loss_triplet(tr): 0.025  valid_ratio(va): 1.000  similarity(va): 0.110\n",
      "[00011000/00200000]  loss(tr): 1.254  loss_recon_src(tr): 0.566  loss_recon_tar(tr): 0.539  loss_recon_neg(tr): 0.551  loss_kld(tr): 0.583  loss_triplet(tr): 0.040\n",
      "[00012000/00200000]  loss(tr): 1.217  loss_recon_src(tr): 0.563  loss_recon_tar(tr): 0.526  loss_recon_neg(tr): 0.560  loss_kld(tr): 0.633  loss_triplet(tr): 0.031\n",
      "[00013000/00200000]  loss(tr): 1.465  loss_recon_src(tr): 0.534  loss_recon_tar(tr): 0.500  loss_recon_neg(tr): 0.543  loss_kld(tr): 0.569  loss_triplet(tr): 0.063\n",
      "[00014000/00200000]  loss(tr): 1.061  loss_recon_src(tr): 0.530  loss_recon_tar(tr): 0.488  loss_recon_neg(tr): 0.557  loss_kld(tr): 0.570  loss_triplet(tr): 0.023\n",
      "[00015000/00200000]  loss(tr): 1.123  loss_recon_src(tr): 0.568  loss_recon_tar(tr): 0.556  loss_recon_neg(tr): 0.547  loss_kld(tr): 0.598  loss_triplet(tr): 0.025\n",
      "[00016000/00200000]  loss(tr): 1.200  loss_recon_src(tr): 0.543  loss_recon_tar(tr): 0.506  loss_recon_neg(tr): 0.563  loss_kld(tr): 0.573  loss_triplet(tr): 0.036\n",
      "[00017000/00200000]  loss(tr): 1.230  loss_recon_src(tr): 0.550  loss_recon_tar(tr): 0.512  loss_recon_neg(tr): 0.535  loss_kld(tr): 0.631  loss_triplet(tr): 0.033\n",
      "[00018000/00200000]  loss(tr): 0.988  loss_recon_src(tr): 0.551  loss_recon_tar(tr): 0.521  loss_recon_neg(tr): 0.512  loss_kld(tr): 0.602  loss_triplet(tr): 0.012\n",
      "[00019000/00200000]  loss(tr): 1.172  loss_recon_src(tr): 0.560  loss_recon_tar(tr): 0.519  loss_recon_neg(tr): 0.528  loss_kld(tr): 0.587  loss_triplet(tr): 0.032\n",
      "[00020000/00200000]  loss(tr): 0.982  loss_recon_src(tr): 0.556  loss_recon_tar(tr): 0.512  loss_recon_neg(tr): 0.538  loss_kld(tr): 0.559  loss_triplet(tr): 0.016  valid_ratio(va): 1.000  similarity(va): 0.109\n",
      "[00021000/00200000]  loss(tr): 1.035  loss_recon_src(tr): 0.537  loss_recon_tar(tr): 0.516  loss_recon_neg(tr): 0.522  loss_kld(tr): 0.550  loss_triplet(tr): 0.022\n",
      "[00022000/00200000]  loss(tr): 0.882  loss_recon_src(tr): 0.547  loss_recon_tar(tr): 0.501  loss_recon_neg(tr): 0.517  loss_kld(tr): 0.570  loss_triplet(tr): 0.005\n",
      "[00023000/00200000]  loss(tr): 1.015  loss_recon_src(tr): 0.527  loss_recon_tar(tr): 0.496  loss_recon_neg(tr): 0.517  loss_kld(tr): 0.560  loss_triplet(tr): 0.020\n",
      "[00024000/00200000]  loss(tr): 1.040  loss_recon_src(tr): 0.531  loss_recon_tar(tr): 0.510  loss_recon_neg(tr): 0.537  loss_kld(tr): 0.574  loss_triplet(tr): 0.020\n",
      "[00025000/00200000]  loss(tr): 1.039  loss_recon_src(tr): 0.528  loss_recon_tar(tr): 0.497  loss_recon_neg(tr): 0.494  loss_kld(tr): 0.532  loss_triplet(tr): 0.025\n",
      "[00026000/00200000]  loss(tr): 0.974  loss_recon_src(tr): 0.535  loss_recon_tar(tr): 0.518  loss_recon_neg(tr): 0.518  loss_kld(tr): 0.542  loss_triplet(tr): 0.017\n",
      "[00027000/00200000]  loss(tr): 1.004  loss_recon_src(tr): 0.521  loss_recon_tar(tr): 0.499  loss_recon_neg(tr): 0.508  loss_kld(tr): 0.518  loss_triplet(tr): 0.023\n",
      "[00028000/00200000]  loss(tr): 1.026  loss_recon_src(tr): 0.535  loss_recon_tar(tr): 0.489  loss_recon_neg(tr): 0.514  loss_kld(tr): 0.546  loss_triplet(tr): 0.022\n",
      "[00029000/00200000]  loss(tr): 0.994  loss_recon_src(tr): 0.527  loss_recon_tar(tr): 0.501  loss_recon_neg(tr): 0.517  loss_kld(tr): 0.514  loss_triplet(tr): 0.022\n",
      "[00030000/00200000]  loss(tr): 0.961  loss_recon_src(tr): 0.541  loss_recon_tar(tr): 0.501  loss_recon_neg(tr): 0.514  loss_kld(tr): 0.565  loss_triplet(tr): 0.014  valid_ratio(va): 1.000  similarity(va): 0.109\n",
      "[00031000/00200000]  loss(tr): 1.069  loss_recon_src(tr): 0.536  loss_recon_tar(tr): 0.500  loss_recon_neg(tr): 0.512  loss_kld(tr): 0.544  loss_triplet(tr): 0.027\n",
      "[00032000/00200000]  loss(tr): 0.872  loss_recon_src(tr): 0.528  loss_recon_tar(tr): 0.504  loss_recon_neg(tr): 0.513  loss_kld(tr): 0.528  loss_triplet(tr): 0.009\n",
      "[00033000/00200000]  loss(tr): 0.955  loss_recon_src(tr): 0.534  loss_recon_tar(tr): 0.507  loss_recon_neg(tr): 0.521  loss_kld(tr): 0.561  loss_triplet(tr): 0.013\n",
      "[00034000/00200000]  loss(tr): 0.970  loss_recon_src(tr): 0.534  loss_recon_tar(tr): 0.507  loss_recon_neg(tr): 0.513  loss_kld(tr): 0.536  loss_triplet(tr): 0.018\n",
      "[00035000/00200000]  loss(tr): 0.940  loss_recon_src(tr): 0.507  loss_recon_tar(tr): 0.488  loss_recon_neg(tr): 0.508  loss_kld(tr): 0.561  loss_triplet(tr): 0.013\n",
      "[00036000/00200000]  loss(tr): 0.890  loss_recon_src(tr): 0.532  loss_recon_tar(tr): 0.506  loss_recon_neg(tr): 0.523  loss_kld(tr): 0.529  loss_triplet(tr): 0.010\n",
      "[00037000/00200000]  loss(tr): 0.904  loss_recon_src(tr): 0.516  loss_recon_tar(tr): 0.491  loss_recon_neg(tr): 0.542  loss_kld(tr): 0.513  loss_triplet(tr): 0.013\n",
      "[00038000/00200000]  loss(tr): 1.034  loss_recon_src(tr): 0.528  loss_recon_tar(tr): 0.501  loss_recon_neg(tr): 0.531  loss_kld(tr): 0.528  loss_triplet(tr): 0.024\n",
      "[00039000/00200000]  loss(tr): 0.948  loss_recon_src(tr): 0.520  loss_recon_tar(tr): 0.481  loss_recon_neg(tr): 0.531  loss_kld(tr): 0.547  loss_triplet(tr): 0.014\n",
      "[00040000/00200000]  loss(tr): 0.937  loss_recon_src(tr): 0.516  loss_recon_tar(tr): 0.512  loss_recon_neg(tr): 0.533  loss_kld(tr): 0.550  loss_triplet(tr): 0.013  valid_ratio(va): 1.000  similarity(va): 0.108\n",
      "[00041000/00200000]  loss(tr): 0.887  loss_recon_src(tr): 0.514  loss_recon_tar(tr): 0.486  loss_recon_neg(tr): 0.523  loss_kld(tr): 0.483  loss_triplet(tr): 0.015\n",
      "[00042000/00200000]  loss(tr): 0.864  loss_recon_src(tr): 0.512  loss_recon_tar(tr): 0.481  loss_recon_neg(tr): 0.507  loss_kld(tr): 0.537  loss_triplet(tr): 0.008\n",
      "[00043000/00200000]  loss(tr): 0.950  loss_recon_src(tr): 0.533  loss_recon_tar(tr): 0.497  loss_recon_neg(tr): 0.509  loss_kld(tr): 0.532  loss_triplet(tr): 0.016\n",
      "[00044000/00200000]  loss(tr): 0.983  loss_recon_src(tr): 0.513  loss_recon_tar(tr): 0.486  loss_recon_neg(tr): 0.511  loss_kld(tr): 0.543  loss_triplet(tr): 0.019\n",
      "[00045000/00200000]  loss(tr): 0.882  loss_recon_src(tr): 0.549  loss_recon_tar(tr): 0.513  loss_recon_neg(tr): 0.511  loss_kld(tr): 0.528  loss_triplet(tr): 0.009\n",
      "[00046000/00200000]  loss(tr): 0.957  loss_recon_src(tr): 0.506  loss_recon_tar(tr): 0.492  loss_recon_neg(tr): 0.517  loss_kld(tr): 0.488  loss_triplet(tr): 0.022\n",
      "[00047000/00200000]  loss(tr): 1.003  loss_recon_src(tr): 0.506  loss_recon_tar(tr): 0.489  loss_recon_neg(tr): 0.511  loss_kld(tr): 0.525  loss_triplet(tr): 0.023\n",
      "[00048000/00200000]  loss(tr): 0.844  loss_recon_src(tr): 0.515  loss_recon_tar(tr): 0.488  loss_recon_neg(tr): 0.492  loss_kld(tr): 0.502  loss_triplet(tr): 0.009\n"
     ]
    },
    {
     "name": "stdout",
     "output_type": "stream",
     "text": [
      "[00049000/00200000]  loss(tr): 1.104  loss_recon_src(tr): 0.526  loss_recon_tar(tr): 0.490  loss_recon_neg(tr): 0.496  loss_kld(tr): 0.506  loss_triplet(tr): 0.035\n",
      "[00050000/00200000]  loss(tr): 1.034  loss_recon_src(tr): 0.511  loss_recon_tar(tr): 0.485  loss_recon_neg(tr): 0.512  loss_kld(tr): 0.522  loss_triplet(tr): 0.026  valid_ratio(va): 1.000  similarity(va): 0.107\n",
      "[00051000/00200000]  loss(tr): 1.014  loss_recon_src(tr): 0.519  loss_recon_tar(tr): 0.492  loss_recon_neg(tr): 0.531  loss_kld(tr): 0.527  loss_triplet(tr): 0.023\n",
      "[00052000/00200000]  loss(tr): 0.933  loss_recon_src(tr): 0.528  loss_recon_tar(tr): 0.501  loss_recon_neg(tr): 0.502  loss_kld(tr): 0.518  loss_triplet(tr): 0.016\n",
      "[00053000/00200000]  loss(tr): 0.958  loss_recon_src(tr): 0.501  loss_recon_tar(tr): 0.484  loss_recon_neg(tr): 0.494  loss_kld(tr): 0.551  loss_triplet(tr): 0.016\n",
      "[00054000/00200000]  loss(tr): 0.945  loss_recon_src(tr): 0.531  loss_recon_tar(tr): 0.491  loss_recon_neg(tr): 0.495  loss_kld(tr): 0.494  loss_triplet(tr): 0.020\n",
      "[00055000/00200000]  loss(tr): 0.827  loss_recon_src(tr): 0.533  loss_recon_tar(tr): 0.483  loss_recon_neg(tr): 0.503  loss_kld(tr): 0.485  loss_triplet(tr): 0.009\n",
      "[00056000/00200000]  loss(tr): 0.932  loss_recon_src(tr): 0.513  loss_recon_tar(tr): 0.492  loss_recon_neg(tr): 0.509  loss_kld(tr): 0.517  loss_triplet(tr): 0.016\n",
      "[00057000/00200000]  loss(tr): 0.949  loss_recon_src(tr): 0.504  loss_recon_tar(tr): 0.502  loss_recon_neg(tr): 0.491  loss_kld(tr): 0.490  loss_triplet(tr): 0.021\n",
      "[00058000/00200000]  loss(tr): 0.875  loss_recon_src(tr): 0.506  loss_recon_tar(tr): 0.476  loss_recon_neg(tr): 0.518  loss_kld(tr): 0.507  loss_triplet(tr): 0.012\n",
      "[00059000/00200000]  loss(tr): 0.969  loss_recon_src(tr): 0.518  loss_recon_tar(tr): 0.489  loss_recon_neg(tr): 0.499  loss_kld(tr): 0.506  loss_triplet(tr): 0.021\n",
      "[00060000/00200000]  loss(tr): 0.851  loss_recon_src(tr): 0.510  loss_recon_tar(tr): 0.491  loss_recon_neg(tr): 0.494  loss_kld(tr): 0.514  loss_triplet(tr): 0.009  valid_ratio(va): 1.000  similarity(va): 0.108\n",
      "[00061000/00200000]  loss(tr): 0.887  loss_recon_src(tr): 0.511  loss_recon_tar(tr): 0.487  loss_recon_neg(tr): 0.501  loss_kld(tr): 0.523  loss_triplet(tr): 0.011\n",
      "[00062000/00200000]  loss(tr): 0.918  loss_recon_src(tr): 0.528  loss_recon_tar(tr): 0.494  loss_recon_neg(tr): 0.510  loss_kld(tr): 0.473  loss_triplet(tr): 0.019\n",
      "[00063000/00200000]  loss(tr): 0.922  loss_recon_src(tr): 0.514  loss_recon_tar(tr): 0.489  loss_recon_neg(tr): 0.500  loss_kld(tr): 0.510  loss_triplet(tr): 0.016\n",
      "[00064000/00200000]  loss(tr): 0.925  loss_recon_src(tr): 0.501  loss_recon_tar(tr): 0.473  loss_recon_neg(tr): 0.519  loss_kld(tr): 0.495  loss_triplet(tr): 0.018\n",
      "[00065000/00200000]  loss(tr): 0.981  loss_recon_src(tr): 0.519  loss_recon_tar(tr): 0.493  loss_recon_neg(tr): 0.489  loss_kld(tr): 0.491  loss_triplet(tr): 0.024\n",
      "[00066000/00200000]  loss(tr): 0.899  loss_recon_src(tr): 0.501  loss_recon_tar(tr): 0.479  loss_recon_neg(tr): 0.524  loss_kld(tr): 0.477  loss_triplet(tr): 0.017\n",
      "[00067000/00200000]  loss(tr): 0.908  loss_recon_src(tr): 0.517  loss_recon_tar(tr): 0.482  loss_recon_neg(tr): 0.505  loss_kld(tr): 0.510  loss_triplet(tr): 0.015\n",
      "[00068000/00200000]  loss(tr): 0.965  loss_recon_src(tr): 0.507  loss_recon_tar(tr): 0.478  loss_recon_neg(tr): 0.482  loss_kld(tr): 0.488  loss_triplet(tr): 0.023\n",
      "[00069000/00200000]  loss(tr): 0.889  loss_recon_src(tr): 0.516  loss_recon_tar(tr): 0.482  loss_recon_neg(tr): 0.522  loss_kld(tr): 0.501  loss_triplet(tr): 0.013\n",
      "[00070000/00200000]  loss(tr): 0.786  loss_recon_src(tr): 0.491  loss_recon_tar(tr): 0.476  loss_recon_neg(tr): 0.529  loss_kld(tr): 0.484  loss_triplet(tr): 0.005  valid_ratio(va): 1.000  similarity(va): 0.109\n",
      "[00071000/00200000]  loss(tr): 0.883  loss_recon_src(tr): 0.518  loss_recon_tar(tr): 0.490  loss_recon_neg(tr): 0.504  loss_kld(tr): 0.493  loss_triplet(tr): 0.014\n",
      "[00072000/00200000]  loss(tr): 1.087  loss_recon_src(tr): 0.494  loss_recon_tar(tr): 0.467  loss_recon_neg(tr): 0.501  loss_kld(tr): 0.465  loss_triplet(tr): 0.038\n",
      "[00073000/00200000]  loss(tr): 0.896  loss_recon_src(tr): 0.516  loss_recon_tar(tr): 0.477  loss_recon_neg(tr): 0.502  loss_kld(tr): 0.487  loss_triplet(tr): 0.016\n",
      "[00074000/00200000]  loss(tr): 1.013  loss_recon_src(tr): 0.495  loss_recon_tar(tr): 0.476  loss_recon_neg(tr): 0.493  loss_kld(tr): 0.500  loss_triplet(tr): 0.027\n",
      "[00075000/00200000]  loss(tr): 0.892  loss_recon_src(tr): 0.490  loss_recon_tar(tr): 0.474  loss_recon_neg(tr): 0.495  loss_kld(tr): 0.487  loss_triplet(tr): 0.016\n",
      "[00076000/00200000]  loss(tr): 0.826  loss_recon_src(tr): 0.500  loss_recon_tar(tr): 0.479  loss_recon_neg(tr): 0.488  loss_kld(tr): 0.496  loss_triplet(tr): 0.009\n",
      "[00077000/00200000]  loss(tr): 0.929  loss_recon_src(tr): 0.491  loss_recon_tar(tr): 0.469  loss_recon_neg(tr): 0.513  loss_kld(tr): 0.474  loss_triplet(tr): 0.021\n",
      "[00078000/00200000]  loss(tr): 1.042  loss_recon_src(tr): 0.488  loss_recon_tar(tr): 0.477  loss_recon_neg(tr): 0.496  loss_kld(tr): 0.484  loss_triplet(tr): 0.031\n",
      "[00079000/00200000]  loss(tr): 0.872  loss_recon_src(tr): 0.515  loss_recon_tar(tr): 0.490  loss_recon_neg(tr): 0.497  loss_kld(tr): 0.496  loss_triplet(tr): 0.013\n",
      "[00080000/00200000]  loss(tr): 1.004  loss_recon_src(tr): 0.497  loss_recon_tar(tr): 0.484  loss_recon_neg(tr): 0.512  loss_kld(tr): 0.491  loss_triplet(tr): 0.026  valid_ratio(va): 1.000  similarity(va): 0.107\n",
      "[00081000/00200000]  loss(tr): 0.865  loss_recon_src(tr): 0.503  loss_recon_tar(tr): 0.466  loss_recon_neg(tr): 0.527  loss_kld(tr): 0.500  loss_triplet(tr): 0.011\n",
      "[00082000/00200000]  loss(tr): 0.904  loss_recon_src(tr): 0.513  loss_recon_tar(tr): 0.473  loss_recon_neg(tr): 0.489  loss_kld(tr): 0.491  loss_triplet(tr): 0.017\n",
      "[00083000/00200000]  loss(tr): 0.791  loss_recon_src(tr): 0.489  loss_recon_tar(tr): 0.469  loss_recon_neg(tr): 0.484  loss_kld(tr): 0.456  loss_triplet(tr): 0.009\n",
      "[00084000/00200000]  loss(tr): 0.893  loss_recon_src(tr): 0.498  loss_recon_tar(tr): 0.479  loss_recon_neg(tr): 0.510  loss_kld(tr): 0.498  loss_triplet(tr): 0.015\n",
      "[00085000/00200000]  loss(tr): 0.852  loss_recon_src(tr): 0.503  loss_recon_tar(tr): 0.472  loss_recon_neg(tr): 0.509  loss_kld(tr): 0.493  loss_triplet(tr): 0.011\n",
      "[00086000/00200000]  loss(tr): 0.899  loss_recon_src(tr): 0.508  loss_recon_tar(tr): 0.498  loss_recon_neg(tr): 0.484  loss_kld(tr): 0.526  loss_triplet(tr): 0.013\n",
      "[00087000/00200000]  loss(tr): 0.927  loss_recon_src(tr): 0.495  loss_recon_tar(tr): 0.467  loss_recon_neg(tr): 0.497  loss_kld(tr): 0.511  loss_triplet(tr): 0.017\n",
      "[00088000/00200000]  loss(tr): 0.865  loss_recon_src(tr): 0.498  loss_recon_tar(tr): 0.474  loss_recon_neg(tr): 0.507  loss_kld(tr): 0.468  loss_triplet(tr): 0.015\n",
      "[00089000/00200000]  loss(tr): 0.973  loss_recon_src(tr): 0.508  loss_recon_tar(tr): 0.479  loss_recon_neg(tr): 0.497  loss_kld(tr): 0.503  loss_triplet(tr): 0.022\n",
      "[00090000/00200000]  loss(tr): 0.848  loss_recon_src(tr): 0.519  loss_recon_tar(tr): 0.487  loss_recon_neg(tr): 0.504  loss_kld(tr): 0.467  loss_triplet(tr): 0.013  valid_ratio(va): 1.000  similarity(va): 0.109\n",
      "[00091000/00200000]  loss(tr): 0.843  loss_recon_src(tr): 0.521  loss_recon_tar(tr): 0.484  loss_recon_neg(tr): 0.490  loss_kld(tr): 0.479  loss_triplet(tr): 0.012\n",
      "[00092000/00200000]  loss(tr): 0.901  loss_recon_src(tr): 0.510  loss_recon_tar(tr): 0.489  loss_recon_neg(tr): 0.485  loss_kld(tr): 0.498  loss_triplet(tr): 0.016\n",
      "[00093000/00200000]  loss(tr): 0.964  loss_recon_src(tr): 0.508  loss_recon_tar(tr): 0.474  loss_recon_neg(tr): 0.506  loss_kld(tr): 0.497  loss_triplet(tr): 0.022\n",
      "[00094000/00200000]  loss(tr): 0.899  loss_recon_src(tr): 0.488  loss_recon_tar(tr): 0.470  loss_recon_neg(tr): 0.507  loss_kld(tr): 0.491  loss_triplet(tr): 0.016\n",
      "[00095000/00200000]  loss(tr): 0.826  loss_recon_src(tr): 0.525  loss_recon_tar(tr): 0.496  loss_recon_neg(tr): 0.480  loss_kld(tr): 0.491  loss_triplet(tr): 0.009\n",
      "[00096000/00200000]  loss(tr): 0.923  loss_recon_src(tr): 0.498  loss_recon_tar(tr): 0.466  loss_recon_neg(tr): 0.499  loss_kld(tr): 0.486  loss_triplet(tr): 0.019\n",
      "[00097000/00200000]  loss(tr): 0.819  loss_recon_src(tr): 0.488  loss_recon_tar(tr): 0.459  loss_recon_neg(tr): 0.487  loss_kld(tr): 0.484  loss_triplet(tr): 0.010\n"
     ]
    },
    {
     "name": "stdout",
     "output_type": "stream",
     "text": [
      "[00098000/00200000]  loss(tr): 0.820  loss_recon_src(tr): 0.506  loss_recon_tar(tr): 0.470  loss_recon_neg(tr): 0.513  loss_kld(tr): 0.502  loss_triplet(tr): 0.007\n",
      "[00099000/00200000]  loss(tr): 0.813  loss_recon_src(tr): 0.486  loss_recon_tar(tr): 0.468  loss_recon_neg(tr): 0.479  loss_kld(tr): 0.481  loss_triplet(tr): 0.009\n",
      "[00100000/00200000]  loss(tr): 0.817  loss_recon_src(tr): 0.505  loss_recon_tar(tr): 0.475  loss_recon_neg(tr): 0.513  loss_kld(tr): 0.485  loss_triplet(tr): 0.008  valid_ratio(va): 1.000  similarity(va): 0.107\n",
      "[00101000/00200000]  loss(tr): 0.793  loss_recon_src(tr): 0.507  loss_recon_tar(tr): 0.485  loss_recon_neg(tr): 0.494  loss_kld(tr): 0.484  loss_triplet(tr): 0.006\n",
      "[00102000/00200000]  loss(tr): 0.810  loss_recon_src(tr): 0.517  loss_recon_tar(tr): 0.496  loss_recon_neg(tr): 0.500  loss_kld(tr): 0.460  loss_triplet(tr): 0.010\n",
      "[00103000/00200000]  loss(tr): 0.821  loss_recon_src(tr): 0.498  loss_recon_tar(tr): 0.473  loss_recon_neg(tr): 0.502  loss_kld(tr): 0.487  loss_triplet(tr): 0.009\n",
      "[00104000/00200000]  loss(tr): 0.798  loss_recon_src(tr): 0.495  loss_recon_tar(tr): 0.469  loss_recon_neg(tr): 0.487  loss_kld(tr): 0.468  loss_triplet(tr): 0.009\n",
      "[00105000/00200000]  loss(tr): 0.890  loss_recon_src(tr): 0.483  loss_recon_tar(tr): 0.463  loss_recon_neg(tr): 0.485  loss_kld(tr): 0.492  loss_triplet(tr): 0.016\n",
      "[00106000/00200000]  loss(tr): 0.910  loss_recon_src(tr): 0.505  loss_recon_tar(tr): 0.479  loss_recon_neg(tr): 0.508  loss_kld(tr): 0.467  loss_triplet(tr): 0.019\n",
      "[00107000/00200000]  loss(tr): 0.848  loss_recon_src(tr): 0.513  loss_recon_tar(tr): 0.482  loss_recon_neg(tr): 0.500  loss_kld(tr): 0.465  loss_triplet(tr): 0.013\n",
      "[00108000/00200000]  loss(tr): 0.851  loss_recon_src(tr): 0.504  loss_recon_tar(tr): 0.472  loss_recon_neg(tr): 0.488  loss_kld(tr): 0.480  loss_triplet(tr): 0.013\n",
      "[00109000/00200000]  loss(tr): 0.865  loss_recon_src(tr): 0.543  loss_recon_tar(tr): 0.508  loss_recon_neg(tr): 0.469  loss_kld(tr): 0.488  loss_triplet(tr): 0.013\n",
      "[00110000/00200000]  loss(tr): 0.770  loss_recon_src(tr): 0.506  loss_recon_tar(tr): 0.494  loss_recon_neg(tr): 0.523  loss_kld(tr): 0.447  loss_triplet(tr): 0.007  valid_ratio(va): 1.000  similarity(va): 0.109\n",
      "[00111000/00200000]  loss(tr): 0.905  loss_recon_src(tr): 0.500  loss_recon_tar(tr): 0.483  loss_recon_neg(tr): 0.503  loss_kld(tr): 0.488  loss_triplet(tr): 0.017\n",
      "[00112000/00200000]  loss(tr): 0.849  loss_recon_src(tr): 0.484  loss_recon_tar(tr): 0.445  loss_recon_neg(tr): 0.500  loss_kld(tr): 0.476  loss_triplet(tr): 0.013\n",
      "[00113000/00200000]  loss(tr): 0.891  loss_recon_src(tr): 0.491  loss_recon_tar(tr): 0.453  loss_recon_neg(tr): 0.502  loss_kld(tr): 0.495  loss_triplet(tr): 0.015\n",
      "[00114000/00200000]  loss(tr): 0.955  loss_recon_src(tr): 0.499  loss_recon_tar(tr): 0.468  loss_recon_neg(tr): 0.492  loss_kld(tr): 0.488  loss_triplet(tr): 0.022\n",
      "[00115000/00200000]  loss(tr): 0.814  loss_recon_src(tr): 0.511  loss_recon_tar(tr): 0.477  loss_recon_neg(tr): 0.499  loss_kld(tr): 0.465  loss_triplet(tr): 0.010\n",
      "[00116000/00200000]  loss(tr): 0.847  loss_recon_src(tr): 0.493  loss_recon_tar(tr): 0.467  loss_recon_neg(tr): 0.483  loss_kld(tr): 0.481  loss_triplet(tr): 0.013\n",
      "[00117000/00200000]  loss(tr): 0.890  loss_recon_src(tr): 0.501  loss_recon_tar(tr): 0.462  loss_recon_neg(tr): 0.499  loss_kld(tr): 0.484  loss_triplet(tr): 0.016\n",
      "[00118000/00200000]  loss(tr): 0.819  loss_recon_src(tr): 0.496  loss_recon_tar(tr): 0.472  loss_recon_neg(tr): 0.499  loss_kld(tr): 0.448  loss_triplet(tr): 0.013\n",
      "[00119000/00200000]  loss(tr): 0.950  loss_recon_src(tr): 0.511  loss_recon_tar(tr): 0.489  loss_recon_neg(tr): 0.503  loss_kld(tr): 0.474  loss_triplet(tr): 0.023\n",
      "[00120000/00200000]  loss(tr): 0.776  loss_recon_src(tr): 0.499  loss_recon_tar(tr): 0.479  loss_recon_neg(tr): 0.504  loss_kld(tr): 0.460  loss_triplet(tr): 0.007  valid_ratio(va): 1.000  similarity(va): 0.108\n",
      "[00121000/00200000]  loss(tr): 0.942  loss_recon_src(tr): 0.515  loss_recon_tar(tr): 0.480  loss_recon_neg(tr): 0.498  loss_kld(tr): 0.469  loss_triplet(tr): 0.022\n",
      "[00122000/00200000]  loss(tr): 0.879  loss_recon_src(tr): 0.485  loss_recon_tar(tr): 0.487  loss_recon_neg(tr): 0.490  loss_kld(tr): 0.466  loss_triplet(tr): 0.017\n",
      "[00123000/00200000]  loss(tr): 0.875  loss_recon_src(tr): 0.481  loss_recon_tar(tr): 0.459  loss_recon_neg(tr): 0.493  loss_kld(tr): 0.474  loss_triplet(tr): 0.016\n",
      "[00124000/00200000]  loss(tr): 0.851  loss_recon_src(tr): 0.527  loss_recon_tar(tr): 0.486  loss_recon_neg(tr): 0.501  loss_kld(tr): 0.478  loss_triplet(tr): 0.012\n",
      "[00125000/00200000]  loss(tr): 0.984  loss_recon_src(tr): 0.503  loss_recon_tar(tr): 0.467  loss_recon_neg(tr): 0.482  loss_kld(tr): 0.451  loss_triplet(tr): 0.029\n",
      "[00126000/00200000]  loss(tr): 0.840  loss_recon_src(tr): 0.509  loss_recon_tar(tr): 0.474  loss_recon_neg(tr): 0.479  loss_kld(tr): 0.468  loss_triplet(tr): 0.013\n",
      "[00127000/00200000]  loss(tr): 0.992  loss_recon_src(tr): 0.487  loss_recon_tar(tr): 0.460  loss_recon_neg(tr): 0.476  loss_kld(tr): 0.442  loss_triplet(tr): 0.031\n",
      "[00128000/00200000]  loss(tr): 0.793  loss_recon_src(tr): 0.515  loss_recon_tar(tr): 0.496  loss_recon_neg(tr): 0.485  loss_kld(tr): 0.463  loss_triplet(tr): 0.008\n",
      "[00129000/00200000]  loss(tr): 0.817  loss_recon_src(tr): 0.496  loss_recon_tar(tr): 0.468  loss_recon_neg(tr): 0.490  loss_kld(tr): 0.453  loss_triplet(tr): 0.012\n",
      "[00130000/00200000]  loss(tr): 0.842  loss_recon_src(tr): 0.492  loss_recon_tar(tr): 0.472  loss_recon_neg(tr): 0.477  loss_kld(tr): 0.469  loss_triplet(tr): 0.013  valid_ratio(va): 1.000  similarity(va): 0.109\n",
      "[00131000/00200000]  loss(tr): 0.904  loss_recon_src(tr): 0.517  loss_recon_tar(tr): 0.475  loss_recon_neg(tr): 0.478  loss_kld(tr): 0.463  loss_triplet(tr): 0.020\n",
      "[00132000/00200000]  loss(tr): 0.937  loss_recon_src(tr): 0.499  loss_recon_tar(tr): 0.483  loss_recon_neg(tr): 0.489  loss_kld(tr): 0.492  loss_triplet(tr): 0.020\n",
      "[00133000/00200000]  loss(tr): 0.898  loss_recon_src(tr): 0.507  loss_recon_tar(tr): 0.482  loss_recon_neg(tr): 0.502  loss_kld(tr): 0.482  loss_triplet(tr): 0.017\n",
      "[00134000/00200000]  loss(tr): 0.813  loss_recon_src(tr): 0.486  loss_recon_tar(tr): 0.466  loss_recon_neg(tr): 0.507  loss_kld(tr): 0.463  loss_triplet(tr): 0.011\n",
      "[00135000/00200000]  loss(tr): 0.808  loss_recon_src(tr): 0.511  loss_recon_tar(tr): 0.474  loss_recon_neg(tr): 0.502  loss_kld(tr): 0.473  loss_triplet(tr): 0.009\n",
      "[00136000/00200000]  loss(tr): 0.848  loss_recon_src(tr): 0.487  loss_recon_tar(tr): 0.475  loss_recon_neg(tr): 0.491  loss_kld(tr): 0.480  loss_triplet(tr): 0.013\n",
      "[00137000/00200000]  loss(tr): 0.919  loss_recon_src(tr): 0.486  loss_recon_tar(tr): 0.462  loss_recon_neg(tr): 0.488  loss_kld(tr): 0.453  loss_triplet(tr): 0.023\n",
      "[00138000/00200000]  loss(tr): 0.777  loss_recon_src(tr): 0.497  loss_recon_tar(tr): 0.467  loss_recon_neg(tr): 0.494  loss_kld(tr): 0.456  loss_triplet(tr): 0.008\n",
      "[00139000/00200000]  loss(tr): 0.806  loss_recon_src(tr): 0.518  loss_recon_tar(tr): 0.490  loss_recon_neg(tr): 0.492  loss_kld(tr): 0.449  loss_triplet(tr): 0.011\n",
      "[00140000/00200000]  loss(tr): 0.842  loss_recon_src(tr): 0.499  loss_recon_tar(tr): 0.473  loss_recon_neg(tr): 0.497  loss_kld(tr): 0.473  loss_triplet(tr): 0.012  valid_ratio(va): 1.000  similarity(va): 0.107\n",
      "[00141000/00200000]  loss(tr): 0.804  loss_recon_src(tr): 0.484  loss_recon_tar(tr): 0.459  loss_recon_neg(tr): 0.477  loss_kld(tr): 0.497  loss_triplet(tr): 0.007\n",
      "[00142000/00200000]  loss(tr): 0.814  loss_recon_src(tr): 0.502  loss_recon_tar(tr): 0.476  loss_recon_neg(tr): 0.484  loss_kld(tr): 0.462  loss_triplet(tr): 0.011\n",
      "[00143000/00200000]  loss(tr): 0.839  loss_recon_src(tr): 0.490  loss_recon_tar(tr): 0.461  loss_recon_neg(tr): 0.479  loss_kld(tr): 0.505  loss_triplet(tr): 0.010\n",
      "[00144000/00200000]  loss(tr): 0.846  loss_recon_src(tr): 0.485  loss_recon_tar(tr): 0.469  loss_recon_neg(tr): 0.491  loss_kld(tr): 0.444  loss_triplet(tr): 0.016\n",
      "[00145000/00200000]  loss(tr): 0.830  loss_recon_src(tr): 0.504  loss_recon_tar(tr): 0.471  loss_recon_neg(tr): 0.485  loss_kld(tr): 0.459  loss_triplet(tr): 0.013\n",
      "[00146000/00200000]  loss(tr): 0.828  loss_recon_src(tr): 0.488  loss_recon_tar(tr): 0.472  loss_recon_neg(tr): 0.477  loss_kld(tr): 0.477  loss_triplet(tr): 0.011\n"
     ]
    },
    {
     "name": "stdout",
     "output_type": "stream",
     "text": [
      "[00147000/00200000]  loss(tr): 0.773  loss_recon_src(tr): 0.489  loss_recon_tar(tr): 0.469  loss_recon_neg(tr): 0.490  loss_kld(tr): 0.469  loss_triplet(tr): 0.006\n",
      "[00148000/00200000]  loss(tr): 0.862  loss_recon_src(tr): 0.506  loss_recon_tar(tr): 0.478  loss_recon_neg(tr): 0.480  loss_kld(tr): 0.454  loss_triplet(tr): 0.016\n",
      "[00149000/00200000]  loss(tr): 0.942  loss_recon_src(tr): 0.485  loss_recon_tar(tr): 0.464  loss_recon_neg(tr): 0.499  loss_kld(tr): 0.463  loss_triplet(tr): 0.024\n",
      "[00150000/00200000]  loss(tr): 0.805  loss_recon_src(tr): 0.475  loss_recon_tar(tr): 0.462  loss_recon_neg(tr): 0.487  loss_kld(tr): 0.462  loss_triplet(tr): 0.011  valid_ratio(va): 1.000  similarity(va): 0.108\n",
      "[00151000/00200000]  loss(tr): 0.837  loss_recon_src(tr): 0.497  loss_recon_tar(tr): 0.467  loss_recon_neg(tr): 0.493  loss_kld(tr): 0.487  loss_triplet(tr): 0.011\n",
      "[00152000/00200000]  loss(tr): 0.851  loss_recon_src(tr): 0.507  loss_recon_tar(tr): 0.461  loss_recon_neg(tr): 0.465  loss_kld(tr): 0.464  loss_triplet(tr): 0.015\n",
      "[00153000/00200000]  loss(tr): 0.992  loss_recon_src(tr): 0.497  loss_recon_tar(tr): 0.463  loss_recon_neg(tr): 0.500  loss_kld(tr): 0.481  loss_triplet(tr): 0.027\n",
      "[00154000/00200000]  loss(tr): 0.832  loss_recon_src(tr): 0.493  loss_recon_tar(tr): 0.459  loss_recon_neg(tr): 0.477  loss_kld(tr): 0.474  loss_triplet(tr): 0.012\n",
      "[00155000/00200000]  loss(tr): 0.802  loss_recon_src(tr): 0.504  loss_recon_tar(tr): 0.478  loss_recon_neg(tr): 0.490  loss_kld(tr): 0.461  loss_triplet(tr): 0.010\n",
      "[00156000/00200000]  loss(tr): 0.810  loss_recon_src(tr): 0.468  loss_recon_tar(tr): 0.462  loss_recon_neg(tr): 0.484  loss_kld(tr): 0.454  loss_triplet(tr): 0.012\n",
      "[00157000/00200000]  loss(tr): 0.797  loss_recon_src(tr): 0.499  loss_recon_tar(tr): 0.462  loss_recon_neg(tr): 0.492  loss_kld(tr): 0.465  loss_triplet(tr): 0.009\n",
      "[00158000/00200000]  loss(tr): 0.826  loss_recon_src(tr): 0.489  loss_recon_tar(tr): 0.456  loss_recon_neg(tr): 0.486  loss_kld(tr): 0.457  loss_triplet(tr): 0.013\n",
      "[00159000/00200000]  loss(tr): 0.778  loss_recon_src(tr): 0.505  loss_recon_tar(tr): 0.475  loss_recon_neg(tr): 0.498  loss_kld(tr): 0.480  loss_triplet(tr): 0.005\n",
      "[00160000/00200000]  loss(tr): 0.787  loss_recon_src(tr): 0.493  loss_recon_tar(tr): 0.461  loss_recon_neg(tr): 0.498  loss_kld(tr): 0.435  loss_triplet(tr): 0.011  valid_ratio(va): 1.000  similarity(va): 0.109\n",
      "[00161000/00200000]  loss(tr): 0.807  loss_recon_src(tr): 0.499  loss_recon_tar(tr): 0.483  loss_recon_neg(tr): 0.506  loss_kld(tr): 0.448  loss_triplet(tr): 0.011\n",
      "[00162000/00200000]  loss(tr): 0.824  loss_recon_src(tr): 0.509  loss_recon_tar(tr): 0.489  loss_recon_neg(tr): 0.487  loss_kld(tr): 0.468  loss_triplet(tr): 0.011\n",
      "[00163000/00200000]  loss(tr): 0.767  loss_recon_src(tr): 0.494  loss_recon_tar(tr): 0.456  loss_recon_neg(tr): 0.469  loss_kld(tr): 0.470  loss_triplet(tr): 0.006\n",
      "[00164000/00200000]  loss(tr): 0.852  loss_recon_src(tr): 0.498  loss_recon_tar(tr): 0.466  loss_recon_neg(tr): 0.500  loss_kld(tr): 0.469  loss_triplet(tr): 0.014\n",
      "[00165000/00200000]  loss(tr): 0.816  loss_recon_src(tr): 0.498  loss_recon_tar(tr): 0.476  loss_recon_neg(tr): 0.519  loss_kld(tr): 0.462  loss_triplet(tr): 0.010\n",
      "[00166000/00200000]  loss(tr): 0.871  loss_recon_src(tr): 0.502  loss_recon_tar(tr): 0.474  loss_recon_neg(tr): 0.477  loss_kld(tr): 0.460  loss_triplet(tr): 0.017\n",
      "[00167000/00200000]  loss(tr): 0.749  loss_recon_src(tr): 0.487  loss_recon_tar(tr): 0.464  loss_recon_neg(tr): 0.501  loss_kld(tr): 0.457  loss_triplet(tr): 0.005\n",
      "[00168000/00200000]  loss(tr): 0.909  loss_recon_src(tr): 0.477  loss_recon_tar(tr): 0.457  loss_recon_neg(tr): 0.482  loss_kld(tr): 0.462  loss_triplet(tr): 0.021\n",
      "[00169000/00200000]  loss(tr): 0.878  loss_recon_src(tr): 0.481  loss_recon_tar(tr): 0.474  loss_recon_neg(tr): 0.494  loss_kld(tr): 0.427  loss_triplet(tr): 0.021\n",
      "[00170000/00200000]  loss(tr): 0.827  loss_recon_src(tr): 0.502  loss_recon_tar(tr): 0.487  loss_recon_neg(tr): 0.481  loss_kld(tr): 0.477  loss_triplet(tr): 0.010  valid_ratio(va): 1.000  similarity(va): 0.107\n",
      "[00171000/00200000]  loss(tr): 0.865  loss_recon_src(tr): 0.505  loss_recon_tar(tr): 0.477  loss_recon_neg(tr): 0.486  loss_kld(tr): 0.467  loss_triplet(tr): 0.015\n",
      "[00172000/00200000]  loss(tr): 0.746  loss_recon_src(tr): 0.512  loss_recon_tar(tr): 0.476  loss_recon_neg(tr): 0.476  loss_kld(tr): 0.451  loss_triplet(tr): 0.005\n",
      "[00173000/00200000]  loss(tr): 0.897  loss_recon_src(tr): 0.493  loss_recon_tar(tr): 0.490  loss_recon_neg(tr): 0.493  loss_kld(tr): 0.457  loss_triplet(tr): 0.019\n",
      "[00174000/00200000]  loss(tr): 0.939  loss_recon_src(tr): 0.520  loss_recon_tar(tr): 0.481  loss_recon_neg(tr): 0.498  loss_kld(tr): 0.473  loss_triplet(tr): 0.022\n",
      "[00175000/00200000]  loss(tr): 0.836  loss_recon_src(tr): 0.483  loss_recon_tar(tr): 0.463  loss_recon_neg(tr): 0.480  loss_kld(tr): 0.455  loss_triplet(tr): 0.014\n",
      "[00176000/00200000]  loss(tr): 0.932  loss_recon_src(tr): 0.488  loss_recon_tar(tr): 0.467  loss_recon_neg(tr): 0.490  loss_kld(tr): 0.459  loss_triplet(tr): 0.023\n",
      "[00177000/00200000]  loss(tr): 0.850  loss_recon_src(tr): 0.491  loss_recon_tar(tr): 0.457  loss_recon_neg(tr): 0.495  loss_kld(tr): 0.455  loss_triplet(tr): 0.015\n",
      "[00178000/00200000]  loss(tr): 0.798  loss_recon_src(tr): 0.518  loss_recon_tar(tr): 0.482  loss_recon_neg(tr): 0.492  loss_kld(tr): 0.450  loss_triplet(tr): 0.010\n",
      "[00179000/00200000]  loss(tr): 0.880  loss_recon_src(tr): 0.464  loss_recon_tar(tr): 0.448  loss_recon_neg(tr): 0.507  loss_kld(tr): 0.459  loss_triplet(tr): 0.018\n",
      "[00180000/00200000]  loss(tr): 0.846  loss_recon_src(tr): 0.475  loss_recon_tar(tr): 0.442  loss_recon_neg(tr): 0.477  loss_kld(tr): 0.464  loss_triplet(tr): 0.015  valid_ratio(va): 1.000  similarity(va): 0.107\n",
      "[00181000/00200000]  loss(tr): 0.900  loss_recon_src(tr): 0.495  loss_recon_tar(tr): 0.458  loss_recon_neg(tr): 0.484  loss_kld(tr): 0.467  loss_triplet(tr): 0.019\n",
      "[00182000/00200000]  loss(tr): 0.848  loss_recon_src(tr): 0.516  loss_recon_tar(tr): 0.484  loss_recon_neg(tr): 0.507  loss_kld(tr): 0.463  loss_triplet(tr): 0.013\n",
      "[00183000/00200000]  loss(tr): 0.774  loss_recon_src(tr): 0.484  loss_recon_tar(tr): 0.453  loss_recon_neg(tr): 0.484  loss_kld(tr): 0.448  loss_triplet(tr): 0.009\n",
      "[00184000/00200000]  loss(tr): 0.854  loss_recon_src(tr): 0.505  loss_recon_tar(tr): 0.482  loss_recon_neg(tr): 0.495  loss_kld(tr): 0.446  loss_triplet(tr): 0.016\n",
      "[00185000/00200000]  loss(tr): 0.769  loss_recon_src(tr): 0.507  loss_recon_tar(tr): 0.465  loss_recon_neg(tr): 0.472  loss_kld(tr): 0.477  loss_triplet(tr): 0.005\n",
      "[00186000/00200000]  loss(tr): 0.844  loss_recon_src(tr): 0.496  loss_recon_tar(tr): 0.472  loss_recon_neg(tr): 0.488  loss_kld(tr): 0.461  loss_triplet(tr): 0.014\n",
      "[00187000/00200000]  loss(tr): 0.835  loss_recon_src(tr): 0.492  loss_recon_tar(tr): 0.479  loss_recon_neg(tr): 0.479  loss_kld(tr): 0.449  loss_triplet(tr): 0.014\n",
      "[00188000/00200000]  loss(tr): 0.771  loss_recon_src(tr): 0.499  loss_recon_tar(tr): 0.480  loss_recon_neg(tr): 0.503  loss_kld(tr): 0.467  loss_triplet(tr): 0.006\n",
      "[00189000/00200000]  loss(tr): 0.843  loss_recon_src(tr): 0.491  loss_recon_tar(tr): 0.478  loss_recon_neg(tr): 0.505  loss_kld(tr): 0.466  loss_triplet(tr): 0.013\n",
      "[00190000/00200000]  loss(tr): 0.795  loss_recon_src(tr): 0.521  loss_recon_tar(tr): 0.489  loss_recon_neg(tr): 0.505  loss_kld(tr): 0.455  loss_triplet(tr): 0.009  valid_ratio(va): 1.000  similarity(va): 0.109\n",
      "[00191000/00200000]  loss(tr): 0.915  loss_recon_src(tr): 0.485  loss_recon_tar(tr): 0.465  loss_recon_neg(tr): 0.489  loss_kld(tr): 0.469  loss_triplet(tr): 0.021\n",
      "[00192000/00200000]  loss(tr): 0.771  loss_recon_src(tr): 0.486  loss_recon_tar(tr): 0.468  loss_recon_neg(tr): 0.505  loss_kld(tr): 0.459  loss_triplet(tr): 0.007\n",
      "[00193000/00200000]  loss(tr): 0.744  loss_recon_src(tr): 0.494  loss_recon_tar(tr): 0.461  loss_recon_neg(tr): 0.490  loss_kld(tr): 0.455  loss_triplet(tr): 0.005\n",
      "[00194000/00200000]  loss(tr): 0.940  loss_recon_src(tr): 0.488  loss_recon_tar(tr): 0.455  loss_recon_neg(tr): 0.476  loss_kld(tr): 0.452  loss_triplet(tr): 0.025\n",
      "[00195000/00200000]  loss(tr): 0.847  loss_recon_src(tr): 0.513  loss_recon_tar(tr): 0.473  loss_recon_neg(tr): 0.485  loss_kld(tr): 0.452  loss_triplet(tr): 0.015\n"
     ]
    },
    {
     "name": "stdout",
     "output_type": "stream",
     "text": [
      "[00196000/00200000]  loss(tr): 0.905  loss_recon_src(tr): 0.496  loss_recon_tar(tr): 0.477  loss_recon_neg(tr): 0.502  loss_kld(tr): 0.461  loss_triplet(tr): 0.020\n",
      "[00197000/00200000]  loss(tr): 0.839  loss_recon_src(tr): 0.520  loss_recon_tar(tr): 0.488  loss_recon_neg(tr): 0.485  loss_kld(tr): 0.463  loss_triplet(tr): 0.013\n",
      "[00198000/00200000]  loss(tr): 0.773  loss_recon_src(tr): 0.500  loss_recon_tar(tr): 0.465  loss_recon_neg(tr): 0.490  loss_kld(tr): 0.470  loss_triplet(tr): 0.006\n",
      "[00199000/00200000]  loss(tr): 0.782  loss_recon_src(tr): 0.512  loss_recon_tar(tr): 0.484  loss_recon_neg(tr): 0.488  loss_kld(tr): 0.457  loss_triplet(tr): 0.008\n",
      "[00200000/00200000]  loss(tr): 0.786  loss_recon_src(tr): 0.483  loss_recon_tar(tr): 0.447  loss_recon_neg(tr): 0.494  loss_kld(tr): 0.469  loss_triplet(tr): 0.008  valid_ratio(va): 1.000  similarity(va): 0.109\n"
     ]
    }
   ],
   "source": [
    "df_history, df_history_valid = generator.fit(dataset,\n",
    "                                             validation_dataset=dataset_valid,\n",
    "                                             total_steps=200000,\n",
    "                                             checkpoint_filepath=filepath_checkpoint)\n",
    "\n",
    "df_history.to_csv(filepath_history, index=False)\n",
    "df_history_valid.to_csv(filepath_history_valid, index=False)"
   ]
  },
  {
   "cell_type": "markdown",
   "id": "bf57d085",
   "metadata": {},
   "source": [
    "## 9. Visualize for loss analysis"
   ]
  },
  {
   "cell_type": "code",
   "execution_count": 13,
   "id": "21dd2945",
   "metadata": {},
   "outputs": [
    {
     "data": {
      "image/png": "[encoded data removed]",
      "text/plain": [
       "<Figure size 576x576 with 4 Axes>"
      ]
     },
     "metadata": {
      "needs_background": "light"
     },
     "output_type": "display_data"
    }
   ],
   "source": [
    "fig, axes = plt.subplots(4,1,figsize=(8,8))\n",
    "\n",
    "axes[0].plot(df_history.loc[:,\"LOSS_TOTAL\"], label=\"Total loss\")\n",
    "axes[1].plot(df_history.loc[:,\"LOSS_RECONSTRUCTION_SOURCE\"], label=\"Recon. loss (src)\")\n",
    "axes[1].plot(df_history.loc[:,\"LOSS_RECONSTRUCTION_TARGET\"], label=\"Recon. loss (tar)\")\n",
    "axes[1].plot(df_history.loc[:,\"LOSS_RECONSTRUCTION_NEGATIVE\"], label=\"Recon. loss (neg)\")\n",
    "axes[2].plot(df_history.loc[:,\"LOSS_KL_DIVERGENCE\"], label=\"KLD loss (src,tar)\")\n",
    "axes[3].plot(df_history.loc[:,\"LOSS_TRIPLET\"], label=\"Triplet loss (src,tar,neg)\")\n",
    "\n",
    "axes[3].set_xlabel(\"Iteration\")\n",
    "for ax in axes:\n",
    "    ax.legend(loc='best')\n",
    "\n",
    "plt.tight_layout()\n",
    "plt.show()"
   ]
  },
  {
   "cell_type": "code",
   "execution_count": 14,
   "id": "dbdc7e40",
   "metadata": {},
   "outputs": [
    {
     "data": {
      "image/png": "[encoded data removed]",
      "text/plain": [
       "<Figure size 576x288 with 2 Axes>"
      ]
     },
     "metadata": {
      "needs_background": "light"
     },
     "output_type": "display_data"
    }
   ],
   "source": [
    "fig, axes = plt.subplots(2,1,figsize=(8,4))\n",
    "\n",
    "axes[0].plot(df_history_valid.loc[:,\"VALID_RATIO\"], label=\"Validity\")\n",
    "axes[1].plot(df_history_valid.loc[:,\"AVERAGE_SIMILARITY\"], label=\"Tanimoto coeff.\")\n",
    "\n",
    "axes[1].set_xlabel(\"Iteration\")\n",
    "for ax in axes:\n",
    "    ax.legend(loc='best')\n",
    "\n",
    "plt.tight_layout()\n",
    "plt.show()"
   ]
  },
  {
   "cell_type": "code",
   "execution_count": null,
   "id": "330ad8c4",
   "metadata": {},
   "outputs": [],
   "source": []
  }
 ],
 "metadata": {
  "kernelspec": {
   "display_name": "Python 3",
   "language": "python",
   "name": "python3"
  },
  "language_info": {
   "codemirror_mode": {
    "name": "ipython",
    "version": 3
   },
   "file_extension": ".py",
   "mimetype": "text/x-python",
   "name": "python",
   "nbconvert_exporter": "python",
   "pygments_lexer": "ipython3",
   "version": "3.6.15"
  }
 },
 "nbformat": 4,
 "nbformat_minor": 5
}
