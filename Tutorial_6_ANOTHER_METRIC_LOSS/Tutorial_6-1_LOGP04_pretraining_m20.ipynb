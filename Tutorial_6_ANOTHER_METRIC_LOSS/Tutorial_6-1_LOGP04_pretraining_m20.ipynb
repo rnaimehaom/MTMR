{
 "cells": [
  {
   "cell_type": "markdown",
   "id": "7fd855f6",
   "metadata": {},
   "source": [
    "# Tutorial - Step1 : MTMR pretraining with Metric learning"
   ]
  },
  {
   "cell_type": "markdown",
   "id": "e3e6563b",
   "metadata": {},
   "source": [
    "## 1. Import requirements"
   ]
  },
  {
   "cell_type": "code",
   "execution_count": 1,
   "id": "fad9b382",
   "metadata": {},
   "outputs": [],
   "source": [
    "import os\n",
    "import sys\n",
    "import pandas as pd\n",
    "import torch\n",
    "import time\n",
    "import matplotlib.pyplot as plt"
   ]
  },
  {
   "cell_type": "code",
   "execution_count": 2,
   "id": "c9136173",
   "metadata": {},
   "outputs": [],
   "source": [
    "sys.path = [os.path.abspath(os.path.join(os.getcwd(), os.pardir))] + sys.path"
   ]
  },
  {
   "cell_type": "code",
   "execution_count": 3,
   "id": "69485af7",
   "metadata": {},
   "outputs": [],
   "source": [
    "from MTMR.dataset import TrainingSmilesDataset, ValidationSmilesDataset\n",
    "from vae_triplet import SmilesAutoencoder"
   ]
  },
  {
   "cell_type": "markdown",
   "id": "d9188a4a",
   "metadata": {},
   "source": [
    "## 2. Configure GPU (if available)"
   ]
  },
  {
   "cell_type": "code",
   "execution_count": 4,
   "id": "edea664b",
   "metadata": {},
   "outputs": [
    {
     "name": "stdout",
     "output_type": "stream",
     "text": [
      "cuda:0\n"
     ]
    }
   ],
   "source": [
    "use_cuda = torch.cuda.is_available()\n",
    "device = torch.device(\"cuda:0\" if use_cuda else \"cpu\")\n",
    "print(device)"
   ]
  },
  {
   "cell_type": "markdown",
   "id": "6842acb0",
   "metadata": {},
   "source": [
    "## 3. Specify a target property"
   ]
  },
  {
   "cell_type": "code",
   "execution_count": 5,
   "id": "3c6d173e",
   "metadata": {},
   "outputs": [],
   "source": [
    "PROPERTY_NAME = \"logp04\""
   ]
  },
  {
   "cell_type": "markdown",
   "id": "f94c4961",
   "metadata": {},
   "source": [
    "## 4. Set directories (for inputs and outputs)"
   ]
  },
  {
   "cell_type": "code",
   "execution_count": 6,
   "id": "5386d37d",
   "metadata": {},
   "outputs": [],
   "source": [
    "input_dir = os.path.abspath(os.path.join(os.pardir, \"DATA\", PROPERTY_NAME))"
   ]
  },
  {
   "cell_type": "code",
   "execution_count": 7,
   "id": "380aebaa",
   "metadata": {},
   "outputs": [],
   "source": [
    "output_dir = f\"outputs_6-1_{PROPERTY_NAME.upper()}_pretraining_m20\"\n",
    "if not os.path.exists(output_dir):\n",
    "    os.mkdir(output_dir)"
   ]
  },
  {
   "cell_type": "markdown",
   "id": "ae1a66b3",
   "metadata": {},
   "source": [
    "## 5. Set file names"
   ]
  },
  {
   "cell_type": "code",
   "execution_count": 8,
   "id": "6d2ba45e",
   "metadata": {},
   "outputs": [],
   "source": [
    "filepath_train = os.path.join(input_dir, \"rdkit_train_triplet.txt\")\n",
    "filepath_valid = os.path.join(input_dir, \"rdkit_valid.txt\")"
   ]
  },
  {
   "cell_type": "code",
   "execution_count": 9,
   "id": "167c5f99",
   "metadata": {},
   "outputs": [],
   "source": [
    "filepath_char2idx      = os.path.join(output_dir, \"char2idx.csv\")\n",
    "filepath_configs       = os.path.join(output_dir, \"configs.csv\")\n",
    "filepath_checkpoint    = os.path.join(output_dir, \"checkpoints.pt\")\n",
    "filepath_history       = os.path.join(output_dir, \"history.csv\")\n",
    "filepath_history_valid = os.path.join(output_dir, \"history_valid.csv\")"
   ]
  },
  {
   "cell_type": "markdown",
   "id": "9a33cf5f",
   "metadata": {},
   "source": [
    "## 6. Load datasets (for training and validation)"
   ]
  },
  {
   "cell_type": "code",
   "execution_count": 10,
   "id": "972d7340",
   "metadata": {},
   "outputs": [],
   "source": [
    "dataset = TrainingSmilesDataset(filepath_train, device=device)\n",
    "dataset.save_char2idx(filepath_char2idx)\n",
    "dataset_valid = ValidationSmilesDataset(filepath_valid, filepath_char2idx, device=device)"
   ]
  },
  {
   "cell_type": "markdown",
   "id": "4258325f",
   "metadata": {},
   "source": [
    "## 7. Initialize a generator of MTMR"
   ]
  },
  {
   "cell_type": "code",
   "execution_count": 11,
   "id": "d1f64604",
   "metadata": {},
   "outputs": [],
   "source": [
    "## Model configuration\n",
    "model_configs = {\"hidden_size\":128,\n",
    "                 \"latent_size\":128,\n",
    "                 \"num_layers\" :2,\n",
    "                 \"vocab_size\" :dataset.vocab_size,\n",
    "                 \"sos_idx\"    :dataset.sos_idx,\n",
    "                 \"eos_idx\"    :dataset.eos_idx,\n",
    "                 \"pad_idx\"    :dataset.pad_idx,\n",
    "                 \"device\"     :device\n",
    "                }\n",
    "\n",
    "## Model initialization\n",
    "generator = SmilesAutoencoder(**model_configs)\n",
    "\n",
    "## Configuration save\n",
    "generator.save_config(filepath_configs)"
   ]
  },
  {
   "cell_type": "markdown",
   "id": "5cc02af5",
   "metadata": {},
   "source": [
    "## 8. Train"
   ]
  },
  {
   "cell_type": "code",
   "execution_count": null,
   "id": "94f3f528",
   "metadata": {
    "scrolled": true
   },
   "outputs": [
    {
     "name": "stdout",
     "output_type": "stream",
     "text": [
      "[00000000/00100000]  loss(tr): 201.257  loss_recon_src(tr): 3.453  loss_recon_tar(tr): 3.456  loss_recon_neg(tr): 3.453  loss_kld(tr): 2.170  loss_triplet(tr): 19.736  valid_ratio(va): 0.125  similarity(va): 0.003\n",
      "[00001000/00100000]  loss(tr): 184.944  loss_recon_src(tr): 0.617  loss_recon_tar(tr): 0.530  loss_recon_neg(tr): 0.630  loss_kld(tr): 18.695  loss_triplet(tr): 16.595\n",
      "[00002000/00100000]  loss(tr): 171.440  loss_recon_src(tr): 0.561  loss_recon_tar(tr): 0.508  loss_recon_neg(tr): 0.563  loss_kld(tr): 18.541  loss_triplet(tr): 15.263\n",
      "[00003000/00100000]  loss(tr): 168.628  loss_recon_src(tr): 0.552  loss_recon_tar(tr): 0.493  loss_recon_neg(tr): 0.586  loss_kld(tr): 28.183  loss_triplet(tr): 14.017\n",
      "[00004000/00100000]  loss(tr): 177.810  loss_recon_src(tr): 0.542  loss_recon_tar(tr): 0.481  loss_recon_neg(tr): 0.550  loss_kld(tr): 24.496  loss_triplet(tr): 15.305\n",
      "[00005000/00100000]  loss(tr): 157.332  loss_recon_src(tr): 0.579  loss_recon_tar(tr): 0.503  loss_recon_neg(tr): 0.560  loss_kld(tr): 36.069  loss_triplet(tr): 12.099\n",
      "[00006000/00100000]  loss(tr): 169.253  loss_recon_src(tr): 0.552  loss_recon_tar(tr): 0.476  loss_recon_neg(tr): 0.527  loss_kld(tr): 36.979  loss_triplet(tr): 13.201\n",
      "[00007000/00100000]  loss(tr): 167.570  loss_recon_src(tr): 0.539  loss_recon_tar(tr): 0.475  loss_recon_neg(tr): 0.533  loss_kld(tr): 38.920  loss_triplet(tr): 12.839\n",
      "[00008000/00100000]  loss(tr): 171.289  loss_recon_src(tr): 0.564  loss_recon_tar(tr): 0.475  loss_recon_neg(tr): 0.522  loss_kld(tr): 33.603  loss_triplet(tr): 13.743\n",
      "[00009000/00100000]  loss(tr): 173.421  loss_recon_src(tr): 0.547  loss_recon_tar(tr): 0.460  loss_recon_neg(tr): 0.513  loss_kld(tr): 35.563  loss_triplet(tr): 13.760\n",
      "[00010000/00100000]  loss(tr): 154.474  loss_recon_src(tr): 0.508  loss_recon_tar(tr): 0.440  loss_recon_neg(tr): 0.516  loss_kld(tr): 36.528  loss_triplet(tr): 11.770  valid_ratio(va): 1.000  similarity(va): 0.125\n",
      "[00011000/00100000]  loss(tr): 170.130  loss_recon_src(tr): 0.508  loss_recon_tar(tr): 0.451  loss_recon_neg(tr): 0.502  loss_kld(tr): 33.619  loss_triplet(tr): 13.627\n",
      "[00012000/00100000]  loss(tr): 160.490  loss_recon_src(tr): 0.490  loss_recon_tar(tr): 0.464  loss_recon_neg(tr): 0.518  loss_kld(tr): 41.334  loss_triplet(tr): 11.891\n"
     ]
    }
   ],
   "source": [
    "df_history, df_history_valid = generator.fit(dataset,\n",
    "                                             validation_dataset=dataset_valid,\n",
    "                                             margin=20.,\n",
    "                                             checkpoint_filepath=filepath_checkpoint)\n",
    "\n",
    "df_history.to_csv(filepath_history, index=False)\n",
    "df_history_valid.to_csv(filepath_history_valid, index=False)"
   ]
  },
  {
   "cell_type": "markdown",
   "id": "bf57d085",
   "metadata": {},
   "source": [
    "## 9. Visualize for loss analysis"
   ]
  },
  {
   "cell_type": "code",
   "execution_count": null,
   "id": "21dd2945",
   "metadata": {},
   "outputs": [],
   "source": [
    "fig, axes = plt.subplots(4,1,figsize=(8,8))\n",
    "\n",
    "axes[0].plot(df_history.loc[:,\"LOSS_TOTAL\"], label=\"Total loss\")\n",
    "axes[1].plot(df_history.loc[:,\"LOSS_RECONSTRUCTION_SOURCE\"], label=\"Recon. loss (src)\")\n",
    "axes[1].plot(df_history.loc[:,\"LOSS_RECONSTRUCTION_TARGET\"], label=\"Recon. loss (tar)\")\n",
    "axes[1].plot(df_history.loc[:,\"LOSS_RECONSTRUCTION_NEGATIVE\"], label=\"Recon. loss (neg)\")\n",
    "axes[2].plot(df_history.loc[:,\"LOSS_KL_DIVERGENCE\"], label=\"KLD loss (src,tar)\")\n",
    "axes[3].plot(df_history.loc[:,\"LOSS_TRIPLET\"], label=\"Triplet loss (src,tar,neg)\")\n",
    "\n",
    "axes[3].set_xlabel(\"Iteration\")\n",
    "for ax in axes:\n",
    "    ax.legend(loc='best')\n",
    "\n",
    "plt.tight_layout()\n",
    "plt.show()"
   ]
  },
  {
   "cell_type": "code",
   "execution_count": null,
   "id": "dbdc7e40",
   "metadata": {},
   "outputs": [],
   "source": [
    "fig, axes = plt.subplots(2,1,figsize=(8,4))\n",
    "\n",
    "axes[0].plot(df_history_valid.loc[:,\"VALID_RATIO\"], label=\"Validity\")\n",
    "axes[1].plot(df_history_valid.loc[:,\"AVERAGE_SIMILARITY\"], label=\"Tanimoto coeff.\")\n",
    "\n",
    "axes[1].set_xlabel(\"Iteration\")\n",
    "for ax in axes:\n",
    "    ax.legend(loc='best')\n",
    "\n",
    "plt.tight_layout()\n",
    "plt.show()"
   ]
  },
  {
   "cell_type": "code",
   "execution_count": null,
   "id": "330ad8c4",
   "metadata": {},
   "outputs": [],
   "source": []
  }
 ],
 "metadata": {
  "kernelspec": {
   "display_name": "Python 3",
   "language": "python",
   "name": "python3"
  },
  "language_info": {
   "codemirror_mode": {
    "name": "ipython",
    "version": 3
   },
   "file_extension": ".py",
   "mimetype": "text/x-python",
   "name": "python",
   "nbconvert_exporter": "python",
   "pygments_lexer": "ipython3",
   "version": "3.6.15"
  }
 },
 "nbformat": 4,
 "nbformat_minor": 5
}
