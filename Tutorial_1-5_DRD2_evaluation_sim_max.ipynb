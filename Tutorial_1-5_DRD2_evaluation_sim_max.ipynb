{
 "cells": [
  {
   "cell_type": "markdown",
   "id": "71fa4b0c",
   "metadata": {},
   "source": [
    "# Tutorial - Step5 : MTMR evaluation by comparing to SOTA models"
   ]
  },
  {
   "cell_type": "markdown",
   "id": "c3d6e75a",
   "metadata": {},
   "source": [
    "## 1. Import requirements"
   ]
  },
  {
   "cell_type": "code",
   "execution_count": 1,
   "id": "f58797a6",
   "metadata": {},
   "outputs": [],
   "source": [
    "import os\n",
    "import pandas as pd\n",
    "import tqdm\n",
    "import seaborn as sns\n",
    "import matplotlib.pyplot as plt"
   ]
  },
  {
   "cell_type": "code",
   "execution_count": 2,
   "id": "947dcef3",
   "metadata": {},
   "outputs": [],
   "source": [
    "from MTMR.evaluate import evaluate_metric_v2"
   ]
  },
  {
   "cell_type": "markdown",
   "id": "5d0f4dac",
   "metadata": {},
   "source": [
    "## 2. Specify a target property"
   ]
  },
  {
   "cell_type": "code",
   "execution_count": 3,
   "id": "0c4f5f3f",
   "metadata": {},
   "outputs": [],
   "source": [
    "PROPERTY_NAME = \"drd2\""
   ]
  },
  {
   "cell_type": "markdown",
   "id": "f44d9d9c",
   "metadata": {},
   "source": [
    "## 3. Set directories (for inputs and outputs)"
   ]
  },
  {
   "cell_type": "code",
   "execution_count": 4,
   "id": "e425931c",
   "metadata": {},
   "outputs": [],
   "source": [
    "input_data_dir = os.path.join(\"DATA\", PROPERTY_NAME)\n",
    "input_our_dir = os.path.join(\"outputs_Tutorial_4_MTMR_translation\", PROPERTY_NAME)\n",
    "input_base_dir = os.path.join(\"DATA\", \"baselines\")"
   ]
  },
  {
   "cell_type": "code",
   "execution_count": 5,
   "id": "882c18b7",
   "metadata": {},
   "outputs": [],
   "source": [
    "_output_dir = \"outputs_Tutorial_5_MTMR_evaluation\"\n",
    "if not os.path.exists(_output_dir):\n",
    "    os.mkdir(_output_dir)\n",
    "\n",
    "output_dir = os.path.join(_output_dir, PROPERTY_NAME)\n",
    "if not os.path.exists(output_dir):\n",
    "    os.mkdir(output_dir)"
   ]
  },
  {
   "cell_type": "markdown",
   "id": "f9fd4af7",
   "metadata": {},
   "source": [
    "## 4. Set file names"
   ]
  },
  {
   "cell_type": "code",
   "execution_count": 6,
   "id": "2ac83aa9",
   "metadata": {},
   "outputs": [],
   "source": [
    "filepath_train_rdkit = os.path.join(input_data_dir, \"rdkit_train_pairs.txt\")"
   ]
  },
  {
   "cell_type": "code",
   "execution_count": 7,
   "id": "67a268cc",
   "metadata": {},
   "outputs": [],
   "source": [
    "df_pairs_rdkit = pd.read_csv(filepath_train_rdkit, header=None, sep=\" \")\n",
    "targets_rdkit = set(df_pairs_rdkit.iloc[:,1].values.tolist())"
   ]
  },
  {
   "cell_type": "code",
   "execution_count": 8,
   "id": "699a70a1",
   "metadata": {},
   "outputs": [],
   "source": [
    "filepath_MTMR  = os.path.join(input_our_dir,  f\"MTMR_{PROPERTY_NAME.upper()}.csv\")\n",
    "filepath_JTVAE = os.path.join(input_base_dir, f\"JTVAE_{PROPERTY_NAME.upper()}.csv\")\n",
    "filepath_G2G   = os.path.join(input_base_dir, f\"VJTNN_{PROPERTY_NAME.upper()}.csv\")\n",
    "filepath_CORE  = os.path.join(input_base_dir, f\"CORE_{PROPERTY_NAME.upper()}.csv\")\n",
    "filepath_G2GG  = os.path.join(input_base_dir, f\"VJTNN+GAN_{PROPERTY_NAME.upper()}.csv\")\n",
    "filepath_MOLCG = os.path.join(input_base_dir, f\"MOLCG_{PROPERTY_NAME.upper()}.csv\")\n",
    "filepath_HIER  = os.path.join(input_base_dir, f\"HierG2G_{PROPERTY_NAME.upper()}.csv\")\n",
    "filepath_UGMMT = os.path.join(input_base_dir, f\"UGMMT_{PROPERTY_NAME.upper()}.csv\")"
   ]
  },
  {
   "cell_type": "markdown",
   "id": "cadfb079",
   "metadata": {},
   "source": [
    "## 5. Load translation results generated from the test dataset"
   ]
  },
  {
   "cell_type": "code",
   "execution_count": 9,
   "id": "62e03905",
   "metadata": {},
   "outputs": [],
   "source": [
    "df_MTMR  = pd.read_csv(filepath_MTMR,  header=None).fillna(\"\").rename(columns={0:\"SOURCE\", 1:\"TARGET\", 2:\"SIMILARITY\", 3:\"PROPERTY\"})\n",
    "df_JTVAE = pd.read_csv(filepath_JTVAE, header=None).fillna(\"\").rename(columns={0:\"SOURCE\", 1:\"TARGET\", 2:\"SIMILARITY\", 3:\"PROPERTY\"})\n",
    "df_G2G   = pd.read_csv(filepath_G2G,   header=None).fillna(\"\").rename(columns={0:\"SOURCE\", 1:\"TARGET\", 2:\"SIMILARITY\", 3:\"PROPERTY\"})\n",
    "df_CORE  = pd.read_csv(filepath_CORE,  header=None).fillna(\"\").rename(columns={0:\"SOURCE\", 1:\"TARGET\", 2:\"SIMILARITY\", 3:\"PROPERTY\"})\n",
    "df_G2GG  = pd.read_csv(filepath_G2GG,  header=None).fillna(\"\").rename(columns={0:\"SOURCE\", 1:\"TARGET\", 2:\"SIMILARITY\", 3:\"PROPERTY\"})\n",
    "df_HIER  = pd.read_csv(filepath_HIER,  header=None).fillna(\"\").rename(columns={0:\"SOURCE\", 1:\"TARGET\", 2:\"SIMILARITY\", 3:\"PROPERTY\"})\n",
    "df_MOLCG = pd.read_csv(filepath_MOLCG, header=None).fillna(\"\").rename(columns={0:\"SOURCE\", 1:\"TARGET\", 2:\"SIMILARITY\", 3:\"PROPERTY\"})\n",
    "df_UGMMT = pd.read_csv(filepath_UGMMT, header=None).fillna(\"\").rename(columns={0:\"SOURCE\", 1:\"TARGET\", 2:\"SIMILARITY\", 3:\"PROPERTY\"})"
   ]
  },
  {
   "cell_type": "markdown",
   "id": "6cf624e6",
   "metadata": {},
   "source": [
    "## 6. Evaluate metrics"
   ]
  },
  {
   "cell_type": "code",
   "execution_count": 15,
   "id": "5a1a81f4",
   "metadata": {},
   "outputs": [
    {
     "name": "stdout",
     "output_type": "stream",
     "text": [
      "NOW: 0\n"
     ]
    },
    {
     "name": "stderr",
     "output_type": "stream",
     "text": [
      "100%|██████████| 1000/1000 [04:43<00:00,  3.53it/s]\n"
     ]
    },
    {
     "name": "stdout",
     "output_type": "stream",
     "text": [
      "NOW: 1\n"
     ]
    },
    {
     "name": "stderr",
     "output_type": "stream",
     "text": [
      "100%|██████████| 1000/1000 [05:15<00:00,  3.17it/s]\n"
     ]
    },
    {
     "name": "stdout",
     "output_type": "stream",
     "text": [
      "NOW: 2\n"
     ]
    },
    {
     "name": "stderr",
     "output_type": "stream",
     "text": [
      "100%|██████████| 1000/1000 [05:14<00:00,  3.18it/s]\n"
     ]
    },
    {
     "name": "stdout",
     "output_type": "stream",
     "text": [
      "NOW: 3\n"
     ]
    },
    {
     "name": "stderr",
     "output_type": "stream",
     "text": [
      "100%|██████████| 1000/1000 [05:11<00:00,  3.21it/s]\n"
     ]
    },
    {
     "name": "stdout",
     "output_type": "stream",
     "text": [
      "NOW: 4\n"
     ]
    },
    {
     "name": "stderr",
     "output_type": "stream",
     "text": [
      "100%|██████████| 1000/1000 [04:58<00:00,  3.35it/s]\n"
     ]
    },
    {
     "name": "stdout",
     "output_type": "stream",
     "text": [
      "NOW: 5\n"
     ]
    },
    {
     "name": "stderr",
     "output_type": "stream",
     "text": [
      "100%|██████████| 1000/1000 [04:53<00:00,  3.41it/s]\n"
     ]
    },
    {
     "name": "stdout",
     "output_type": "stream",
     "text": [
      "NOW: 6\n"
     ]
    },
    {
     "name": "stderr",
     "output_type": "stream",
     "text": [
      "100%|██████████| 1000/1000 [04:57<00:00,  3.36it/s]\n"
     ]
    },
    {
     "name": "stdout",
     "output_type": "stream",
     "text": [
      "NOW: 7\n"
     ]
    },
    {
     "name": "stderr",
     "output_type": "stream",
     "text": [
      "100%|██████████| 1000/1000 [03:22<00:00,  4.93it/s]\n"
     ]
    }
   ],
   "source": [
    "frames = []\n",
    "\n",
    "for i, (name, df) in enumerate([('MTMR', df_MTMR),\n",
    "                                ('JTVAE', df_JTVAE),\n",
    "                                ('VJTNN', df_G2G),\n",
    "                                ('VJTNN+GAN', df_G2GG),\n",
    "                                ('CORE', df_CORE),\n",
    "                                ('HierG2G', df_HIER),\n",
    "                                ('MolCycleGAN', df_MOLCG),\n",
    "                                ('UGMMT', df_UGMMT)]):\n",
    "    print(f\"NOW: {i}\")\n",
    "    df_metric = evaluate_metric_v2(df, targets_rdkit, num_decode=20,\n",
    "                                   threshold_sim=0.4,\n",
    "                                   threshold_pro=0.5).rename(columns={0:name})\n",
    "\n",
    "    frames.append(df_metric)"
   ]
  },
  {
   "cell_type": "code",
   "execution_count": 16,
   "id": "c4879b0c",
   "metadata": {},
   "outputs": [],
   "source": [
    "df_merged = pd.concat(frames, axis=1).T"
   ]
  },
  {
   "cell_type": "code",
   "execution_count": 17,
   "id": "c6daf779",
   "metadata": {},
   "outputs": [
    {
     "data": {
      "text/html": [
       "<div>\n",
       "<style scoped>\n",
       "    .dataframe tbody tr th:only-of-type {\n",
       "        vertical-align: middle;\n",
       "    }\n",
       "\n",
       "    .dataframe tbody tr th {\n",
       "        vertical-align: top;\n",
       "    }\n",
       "\n",
       "    .dataframe thead th {\n",
       "        text-align: right;\n",
       "    }\n",
       "</style>\n",
       "<table border=\"1\" class=\"dataframe\">\n",
       "  <thead>\n",
       "    <tr style=\"text-align: right;\">\n",
       "      <th></th>\n",
       "      <th>VALID_RATIO</th>\n",
       "      <th>AVERAGE_PROPERTY</th>\n",
       "      <th>AVERAGE_SIMILARITY</th>\n",
       "      <th>NOVELTY</th>\n",
       "      <th>NOVELTY_9</th>\n",
       "      <th>NOVELTY_8</th>\n",
       "      <th>NOVELTY_7</th>\n",
       "      <th>SUCCESS</th>\n",
       "      <th>SUCCESS_9</th>\n",
       "      <th>SUCCESS_8</th>\n",
       "      <th>SUCCESS_7</th>\n",
       "      <th>SUCCESS_WO_NOVEL</th>\n",
       "      <th>DIVERSITY</th>\n",
       "    </tr>\n",
       "  </thead>\n",
       "  <tbody>\n",
       "    <tr>\n",
       "      <th>MTMR</th>\n",
       "      <td>1.000</td>\n",
       "      <td>0.799259</td>\n",
       "      <td>0.329498</td>\n",
       "      <td>0.999</td>\n",
       "      <td>0.997</td>\n",
       "      <td>0.989</td>\n",
       "      <td>0.982</td>\n",
       "      <td>0.434</td>\n",
       "      <td>0.431</td>\n",
       "      <td>0.420</td>\n",
       "      <td>0.400</td>\n",
       "      <td>0.439</td>\n",
       "      <td>0.44070</td>\n",
       "    </tr>\n",
       "    <tr>\n",
       "      <th>JTVAE</th>\n",
       "      <td>1.000</td>\n",
       "      <td>0.339515</td>\n",
       "      <td>0.239281</td>\n",
       "      <td>0.990</td>\n",
       "      <td>0.990</td>\n",
       "      <td>0.978</td>\n",
       "      <td>0.939</td>\n",
       "      <td>0.011</td>\n",
       "      <td>0.011</td>\n",
       "      <td>0.009</td>\n",
       "      <td>0.006</td>\n",
       "      <td>0.011</td>\n",
       "      <td>0.04945</td>\n",
       "    </tr>\n",
       "    <tr>\n",
       "      <th>VJTNN</th>\n",
       "      <td>0.999</td>\n",
       "      <td>0.803339</td>\n",
       "      <td>0.343539</td>\n",
       "      <td>0.694</td>\n",
       "      <td>0.680</td>\n",
       "      <td>0.614</td>\n",
       "      <td>0.471</td>\n",
       "      <td>0.120</td>\n",
       "      <td>0.110</td>\n",
       "      <td>0.086</td>\n",
       "      <td>0.046</td>\n",
       "      <td>0.696</td>\n",
       "      <td>0.12980</td>\n",
       "    </tr>\n",
       "    <tr>\n",
       "      <th>VJTNN+GAN</th>\n",
       "      <td>0.999</td>\n",
       "      <td>0.787094</td>\n",
       "      <td>0.323954</td>\n",
       "      <td>0.882</td>\n",
       "      <td>0.866</td>\n",
       "      <td>0.830</td>\n",
       "      <td>0.662</td>\n",
       "      <td>0.178</td>\n",
       "      <td>0.168</td>\n",
       "      <td>0.148</td>\n",
       "      <td>0.070</td>\n",
       "      <td>0.687</td>\n",
       "      <td>0.18520</td>\n",
       "    </tr>\n",
       "    <tr>\n",
       "      <th>CORE</th>\n",
       "      <td>0.999</td>\n",
       "      <td>0.799643</td>\n",
       "      <td>0.338479</td>\n",
       "      <td>0.773</td>\n",
       "      <td>0.763</td>\n",
       "      <td>0.716</td>\n",
       "      <td>0.556</td>\n",
       "      <td>0.146</td>\n",
       "      <td>0.137</td>\n",
       "      <td>0.114</td>\n",
       "      <td>0.053</td>\n",
       "      <td>0.712</td>\n",
       "      <td>0.15560</td>\n",
       "    </tr>\n",
       "    <tr>\n",
       "      <th>HierG2G</th>\n",
       "      <td>0.981</td>\n",
       "      <td>0.679869</td>\n",
       "      <td>0.257834</td>\n",
       "      <td>0.971</td>\n",
       "      <td>0.970</td>\n",
       "      <td>0.963</td>\n",
       "      <td>0.919</td>\n",
       "      <td>0.122</td>\n",
       "      <td>0.119</td>\n",
       "      <td>0.098</td>\n",
       "      <td>0.057</td>\n",
       "      <td>0.396</td>\n",
       "      <td>0.23915</td>\n",
       "    </tr>\n",
       "    <tr>\n",
       "      <th>MolCycleGAN</th>\n",
       "      <td>0.999</td>\n",
       "      <td>0.382074</td>\n",
       "      <td>0.189595</td>\n",
       "      <td>0.983</td>\n",
       "      <td>0.977</td>\n",
       "      <td>0.963</td>\n",
       "      <td>0.901</td>\n",
       "      <td>0.001</td>\n",
       "      <td>0.001</td>\n",
       "      <td>0.001</td>\n",
       "      <td>0.001</td>\n",
       "      <td>0.001</td>\n",
       "      <td>0.03860</td>\n",
       "    </tr>\n",
       "    <tr>\n",
       "      <th>UGMMT</th>\n",
       "      <td>0.999</td>\n",
       "      <td>0.737127</td>\n",
       "      <td>0.261423</td>\n",
       "      <td>0.996</td>\n",
       "      <td>0.995</td>\n",
       "      <td>0.991</td>\n",
       "      <td>0.976</td>\n",
       "      <td>0.171</td>\n",
       "      <td>0.167</td>\n",
       "      <td>0.150</td>\n",
       "      <td>0.115</td>\n",
       "      <td>0.205</td>\n",
       "      <td>0.69475</td>\n",
       "    </tr>\n",
       "  </tbody>\n",
       "</table>\n",
       "</div>"
      ],
      "text/plain": [
       "             VALID_RATIO  AVERAGE_PROPERTY  AVERAGE_SIMILARITY  NOVELTY  \\\n",
       "MTMR               1.000          0.799259            0.329498    0.999   \n",
       "JTVAE              1.000          0.339515            0.239281    0.990   \n",
       "VJTNN              0.999          0.803339            0.343539    0.694   \n",
       "VJTNN+GAN          0.999          0.787094            0.323954    0.882   \n",
       "CORE               0.999          0.799643            0.338479    0.773   \n",
       "HierG2G            0.981          0.679869            0.257834    0.971   \n",
       "MolCycleGAN        0.999          0.382074            0.189595    0.983   \n",
       "UGMMT              0.999          0.737127            0.261423    0.996   \n",
       "\n",
       "             NOVELTY_9  NOVELTY_8  NOVELTY_7  SUCCESS  SUCCESS_9  SUCCESS_8  \\\n",
       "MTMR             0.997      0.989      0.982    0.434      0.431      0.420   \n",
       "JTVAE            0.990      0.978      0.939    0.011      0.011      0.009   \n",
       "VJTNN            0.680      0.614      0.471    0.120      0.110      0.086   \n",
       "VJTNN+GAN        0.866      0.830      0.662    0.178      0.168      0.148   \n",
       "CORE             0.763      0.716      0.556    0.146      0.137      0.114   \n",
       "HierG2G          0.970      0.963      0.919    0.122      0.119      0.098   \n",
       "MolCycleGAN      0.977      0.963      0.901    0.001      0.001      0.001   \n",
       "UGMMT            0.995      0.991      0.976    0.171      0.167      0.150   \n",
       "\n",
       "             SUCCESS_7  SUCCESS_WO_NOVEL  DIVERSITY  \n",
       "MTMR             0.400             0.439    0.44070  \n",
       "JTVAE            0.006             0.011    0.04945  \n",
       "VJTNN            0.046             0.696    0.12980  \n",
       "VJTNN+GAN        0.070             0.687    0.18520  \n",
       "CORE             0.053             0.712    0.15560  \n",
       "HierG2G          0.057             0.396    0.23915  \n",
       "MolCycleGAN      0.001             0.001    0.03860  \n",
       "UGMMT            0.115             0.205    0.69475  "
      ]
     },
     "execution_count": 17,
     "metadata": {},
     "output_type": "execute_result"
    }
   ],
   "source": [
    "df_merged"
   ]
  },
  {
   "cell_type": "code",
   "execution_count": 18,
   "id": "0c87b24a",
   "metadata": {},
   "outputs": [],
   "source": [
    "df_merged.to_csv(os.path.join(output_dir, \"table_metrics.csv\"))"
   ]
  },
  {
   "cell_type": "code",
   "execution_count": 42,
   "id": "7afade29",
   "metadata": {},
   "outputs": [
    {
     "data": {
      "image/png": "[encoded data removed]",
      "text/plain": [
       "<Figure size 720x360 with 1 Axes>"
      ]
     },
     "metadata": {},
     "output_type": "display_data"
    }
   ],
   "source": [
    "sns.set_theme(style='darkgrid')\n",
    "\n",
    "fig, ax = plt.subplots(1,1,figsize=(10,5))\n",
    "\n",
    "#_ = sns.barplot(x=df_merged.index, y=df_merged[\"SUCCESS\"], ax=ax)\n",
    "_ = sns.barplot(data=df_merged.reset_index(), x='index', y=\"SUCCESS\", ax=ax)\n",
    "\n",
    "for container in ax.containers:\n",
    "    for i, bar in enumerate(container.get_children()):\n",
    "        posx = i\n",
    "        posy = bar.get_height() + 0.01\n",
    "        ax.text(posx, posy, f\"{bar.get_height():.3f}\", rotation=0, ha='center', va='bottom', fontsize=16)\n",
    "\n",
    "ax.set_xlabel(None)\n",
    "ax.set_ylim(None, 0.5)\n",
    "        \n",
    "plt.tight_layout()\n",
    "plt.savefig(os.path.join(output_dir, \"barplot_success.png\"), dpi=300)"
   ]
  },
  {
   "cell_type": "code",
   "execution_count": null,
   "id": "9b7c1bcc",
   "metadata": {},
   "outputs": [],
   "source": []
  }
 ],
 "metadata": {
  "kernelspec": {
   "display_name": "Python 3",
   "language": "python",
   "name": "python3"
  },
  "language_info": {
   "codemirror_mode": {
    "name": "ipython",
    "version": 3
   },
   "file_extension": ".py",
   "mimetype": "text/x-python",
   "name": "python",
   "nbconvert_exporter": "python",
   "pygments_lexer": "ipython3",
   "version": "3.6.15"
  }
 },
 "nbformat": 4,
 "nbformat_minor": 5
}
