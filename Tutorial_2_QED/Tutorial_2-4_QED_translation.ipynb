{
 "cells": [
  {
   "cell_type": "markdown",
   "id": "bd1d3ce5",
   "metadata": {},
   "source": [
    "# Tutorial - Step4 : Molecular translation using MTMR"
   ]
  },
  {
   "cell_type": "markdown",
   "id": "e3573f02",
   "metadata": {},
   "source": [
    "## 1. Import requirements"
   ]
  },
  {
   "cell_type": "code",
   "execution_count": 1,
   "id": "93288a4c",
   "metadata": {},
   "outputs": [],
   "source": [
    "import os\n",
    "import sys\n",
    "import pandas as pd\n",
    "import time\n",
    "import tqdm\n",
    "import torch\n",
    "from torch.utils.data import DataLoader\n",
    "from rdkit.Chem.rdmolfiles import MolFromSmiles"
   ]
  },
  {
   "cell_type": "code",
   "execution_count": 2,
   "id": "ebe83707",
   "metadata": {},
   "outputs": [],
   "source": [
    "sys.path = [os.path.abspath(os.path.join(os.getcwd(), os.pardir))] + sys.path"
   ]
  },
  {
   "cell_type": "code",
   "execution_count": 3,
   "id": "093e9f89",
   "metadata": {},
   "outputs": [],
   "source": [
    "from MTMR.dataset import ValidationSmilesDataset\n",
    "from MTMR.vae import SmilesAutoencoder\n",
    "from MTMR.properties import qed, similarity"
   ]
  },
  {
   "cell_type": "markdown",
   "id": "c9752255",
   "metadata": {},
   "source": [
    "## 2. Configure GPU (if available)"
   ]
  },
  {
   "cell_type": "code",
   "execution_count": 4,
   "id": "3cd32e3a",
   "metadata": {},
   "outputs": [
    {
     "name": "stdout",
     "output_type": "stream",
     "text": [
      "cuda:0\n"
     ]
    }
   ],
   "source": [
    "use_cuda = torch.cuda.is_available()\n",
    "device = torch.device(\"cuda:0\" if use_cuda else \"cpu\")\n",
    "print(device)"
   ]
  },
  {
   "cell_type": "markdown",
   "id": "5e240110",
   "metadata": {},
   "source": [
    "## 3. Specify a target property"
   ]
  },
  {
   "cell_type": "code",
   "execution_count": 5,
   "id": "b28d52ad",
   "metadata": {},
   "outputs": [],
   "source": [
    "PROPERTY_NAME = \"qed\"\n",
    "SCORING_FT = qed"
   ]
  },
  {
   "cell_type": "markdown",
   "id": "9e84a6e8",
   "metadata": {},
   "source": [
    "## 4. Set directories (for inputs and outputs)"
   ]
  },
  {
   "cell_type": "code",
   "execution_count": 6,
   "id": "2cff6a6e",
   "metadata": {},
   "outputs": [],
   "source": [
    "input_data_dir = os.path.abspath(os.path.join(os.pardir, \"DATA\", PROPERTY_NAME))\n",
    "input_ckpt_dir = f\"outputs_2-2_{PROPERTY_NAME.upper()}_finetuning\""
   ]
  },
  {
   "cell_type": "code",
   "execution_count": 7,
   "id": "bfdfe400",
   "metadata": {},
   "outputs": [],
   "source": [
    "output_dir = f\"outputs_2-4_{PROPERTY_NAME.upper()}_translation\"\n",
    "if not os.path.exists(output_dir):\n",
    "    os.mkdir(output_dir)"
   ]
  },
  {
   "cell_type": "markdown",
   "id": "2c5703d4",
   "metadata": {},
   "source": [
    "## 5. Set file names"
   ]
  },
  {
   "cell_type": "code",
   "execution_count": 7,
   "id": "5ecd0d38",
   "metadata": {},
   "outputs": [],
   "source": [
    "filepath_test = os.path.join(input_data_dir, \"rdkit_test.txt\")"
   ]
  },
  {
   "cell_type": "code",
   "execution_count": 8,
   "id": "1779b4c0",
   "metadata": {},
   "outputs": [],
   "source": [
    "filepath_pretrain_ckpt     = os.path.join(input_ckpt_dir, \"checkpoints.pt\")\n",
    "filepath_pretrain_configs  = os.path.join(input_ckpt_dir, \"configs.csv\")\n",
    "filepath_pretrain_char2idx = os.path.join(input_ckpt_dir, \"char2idx.csv\")"
   ]
  },
  {
   "cell_type": "code",
   "execution_count": 9,
   "id": "9f6c71eb",
   "metadata": {},
   "outputs": [],
   "source": [
    "filepath_output = os.path.join(output_dir, f\"MTMR_{PROPERTY_NAME.upper()}.csv\")"
   ]
  },
  {
   "cell_type": "markdown",
   "id": "160906cf",
   "metadata": {},
   "source": [
    "## 6. Load datasets (for test)"
   ]
  },
  {
   "cell_type": "code",
   "execution_count": 10,
   "id": "9efc7ff6",
   "metadata": {},
   "outputs": [],
   "source": [
    "dataset_test = ValidationSmilesDataset(filepath_test, filepath_pretrain_char2idx, device=device)"
   ]
  },
  {
   "cell_type": "markdown",
   "id": "4c5287cb",
   "metadata": {},
   "source": [
    "## 7. Load a pretrained generator of MTMR"
   ]
  },
  {
   "cell_type": "code",
   "execution_count": 11,
   "id": "95f1a92d",
   "metadata": {},
   "outputs": [],
   "source": [
    "## Model configuration\n",
    "model_configs = {\"hidden_size\"    :None,\n",
    "                 \"latent_size\"    :None,\n",
    "                 \"num_layers\"     :None,\n",
    "                 \"vocab_size\"     :None,\n",
    "                 \"sos_idx\"        :None,\n",
    "                 \"eos_idx\"        :None,\n",
    "                 \"pad_idx\"        :None,\n",
    "                 \"device\"         :device,\n",
    "                 \"filepath_config\":filepath_pretrain_configs}\n",
    "\n",
    "## Model initialization\n",
    "generator = SmilesAutoencoder(**model_configs)\n",
    "\n",
    "## Load pretrained model\n",
    "generator.load_model(filepath_pretrain_ckpt)"
   ]
  },
  {
   "cell_type": "markdown",
   "id": "0b98aede",
   "metadata": {},
   "source": [
    "## 8. Perform molecular translation on the Test dataset"
   ]
  },
  {
   "cell_type": "code",
   "execution_count": 12,
   "id": "d0eb8b66",
   "metadata": {},
   "outputs": [
    {
     "name": "stderr",
     "output_type": "stream",
     "text": [
      "100%|██████████| 800/800 [06:46<00:00,  1.97it/s]\n"
     ]
    }
   ],
   "source": [
    "K = 20 # repetition count of translation\n",
    "\n",
    "generated = [] # initialize a list of outputs\n",
    "\n",
    "for batch in tqdm.tqdm(DataLoader(dataset_test, batch_size=1, shuffle=False, drop_last=False, pin_memory=use_cuda)):\n",
    "    batch_smiles = dataset_test.encode(batch[\"smiles_s\"], batch[\"length_s\"].max())\n",
    "    batch_length = batch[\"length_s\"]\n",
    "    ## translation\n",
    "    for _ in range(K):\n",
    "        seq = generator.predict(batch_smiles, batch_length)\n",
    "        smi = dataset_test.decode(seq)[0] # assumption: batch_size=1\n",
    "        if MolFromSmiles(smi) is not None:\n",
    "            generated.append((batch[\"smiles_s\"][0][1:-1], smi))\n",
    "        else:\n",
    "            generated.append((batch[\"smiles_s\"][0][1:-1], \"None\"))\n",
    "        \n",
    "df_generated = pd.DataFrame.from_records(generated)"
   ]
  },
  {
   "cell_type": "markdown",
   "id": "10b4bd67",
   "metadata": {},
   "source": [
    "## 9. Evaluate the translation outputs"
   ]
  },
  {
   "cell_type": "code",
   "execution_count": 20,
   "id": "84c48a67",
   "metadata": {},
   "outputs": [
    {
     "name": "stderr",
     "output_type": "stream",
     "text": [
      "100%|██████████| 16000/16000 [00:16<00:00, 987.95it/s] \n"
     ]
    }
   ],
   "source": [
    "scores = []\n",
    "for smi_src, smi_tar in tqdm.tqdm(df_generated.values):\n",
    "    if smi_tar == \"None\": smi_tar=None\n",
    "    sim2D = similarity(smi_src, smi_tar)\n",
    "    try:\n",
    "        scores.append((smi_src, smi_tar, sim2D, SCORING_FT(smi_tar)))\n",
    "    except Exception as e:\n",
    "        scores.append((smi_src, smi_tar, sim2D, 0.))"
   ]
  },
  {
   "cell_type": "code",
   "execution_count": 21,
   "id": "f1ee188c",
   "metadata": {},
   "outputs": [
    {
     "name": "stdout",
     "output_type": "stream",
     "text": [
      "(16000, 4)\n"
     ]
    },
    {
     "data": {
      "text/html": [
       "<div>\n",
       "<style scoped>\n",
       "    .dataframe tbody tr th:only-of-type {\n",
       "        vertical-align: middle;\n",
       "    }\n",
       "\n",
       "    .dataframe tbody tr th {\n",
       "        vertical-align: top;\n",
       "    }\n",
       "\n",
       "    .dataframe thead th {\n",
       "        text-align: right;\n",
       "    }\n",
       "</style>\n",
       "<table border=\"1\" class=\"dataframe\">\n",
       "  <thead>\n",
       "    <tr style=\"text-align: right;\">\n",
       "      <th></th>\n",
       "      <th>0</th>\n",
       "      <th>1</th>\n",
       "      <th>2</th>\n",
       "      <th>3</th>\n",
       "    </tr>\n",
       "  </thead>\n",
       "  <tbody>\n",
       "    <tr>\n",
       "      <th>0</th>\n",
       "      <td>CC(=O)NCCNC(=O)C1=C(C2CC2)N(C2=CC=C(C)C(Cl)=C2...</td>\n",
       "      <td>CC(=O)NCC1=C(C)N(C2=CC=C(Cl)C(C)=C2)N=C1</td>\n",
       "      <td>0.451613</td>\n",
       "      <td>0.937692</td>\n",
       "    </tr>\n",
       "    <tr>\n",
       "      <th>1</th>\n",
       "      <td>CC(=O)NCCNC(=O)C1=C(C2CC2)N(C2=CC=C(C)C(Cl)=C2...</td>\n",
       "      <td>CC(=O)NCC1CCCN(C2=CC=C(Cl)C(Cl)=C2)N=C1</td>\n",
       "      <td>0.388060</td>\n",
       "      <td>0.929882</td>\n",
       "    </tr>\n",
       "    <tr>\n",
       "      <th>2</th>\n",
       "      <td>CC(=O)NCCNC(=O)C1=C(C2CC2)N(C2=CC=C(C)C(Cl)=C2...</td>\n",
       "      <td>CC(=O)NCC1=C(C)C(C2=CC=C(Cl)N=C2)N(C)N=C1</td>\n",
       "      <td>0.273973</td>\n",
       "      <td>0.868703</td>\n",
       "    </tr>\n",
       "    <tr>\n",
       "      <th>3</th>\n",
       "      <td>CC(=O)NCCNC(=O)C1=C(C2CC2)N(C2=CC=C(C)C(Cl)=C2...</td>\n",
       "      <td>CC(=O)NCC1CCN(C(=O)NC2=CC=C(Cl)C(Cl)=C2)N=C1</td>\n",
       "      <td>0.319444</td>\n",
       "      <td>0.885513</td>\n",
       "    </tr>\n",
       "    <tr>\n",
       "      <th>4</th>\n",
       "      <td>CC(=O)NCCNC(=O)C1=C(C2CC2)N(C2=CC=C(C)C(Cl)=C2...</td>\n",
       "      <td>CC(=O)NCC1CC(=O)N(C2=CC=C(Cl)C(Cl)=C2)N=C1</td>\n",
       "      <td>0.352941</td>\n",
       "      <td>0.931420</td>\n",
       "    </tr>\n",
       "  </tbody>\n",
       "</table>\n",
       "</div>"
      ],
      "text/plain": [
       "                                                   0  \\\n",
       "0  CC(=O)NCCNC(=O)C1=C(C2CC2)N(C2=CC=C(C)C(Cl)=C2...   \n",
       "1  CC(=O)NCCNC(=O)C1=C(C2CC2)N(C2=CC=C(C)C(Cl)=C2...   \n",
       "2  CC(=O)NCCNC(=O)C1=C(C2CC2)N(C2=CC=C(C)C(Cl)=C2...   \n",
       "3  CC(=O)NCCNC(=O)C1=C(C2CC2)N(C2=CC=C(C)C(Cl)=C2...   \n",
       "4  CC(=O)NCCNC(=O)C1=C(C2CC2)N(C2=CC=C(C)C(Cl)=C2...   \n",
       "\n",
       "                                              1         2         3  \n",
       "0      CC(=O)NCC1=C(C)N(C2=CC=C(Cl)C(C)=C2)N=C1  0.451613  0.937692  \n",
       "1       CC(=O)NCC1CCCN(C2=CC=C(Cl)C(Cl)=C2)N=C1  0.388060  0.929882  \n",
       "2     CC(=O)NCC1=C(C)C(C2=CC=C(Cl)N=C2)N(C)N=C1  0.273973  0.868703  \n",
       "3  CC(=O)NCC1CCN(C(=O)NC2=CC=C(Cl)C(Cl)=C2)N=C1  0.319444  0.885513  \n",
       "4    CC(=O)NCC1CC(=O)N(C2=CC=C(Cl)C(Cl)=C2)N=C1  0.352941  0.931420  "
      ]
     },
     "execution_count": 21,
     "metadata": {},
     "output_type": "execute_result"
    }
   ],
   "source": [
    "df_scores = pd.DataFrame.from_records(scores)\n",
    "print(df_scores.shape)\n",
    "df_scores.head()"
   ]
  },
  {
   "cell_type": "markdown",
   "id": "454e66da",
   "metadata": {},
   "source": [
    "## 9. Save the results"
   ]
  },
  {
   "cell_type": "code",
   "execution_count": 22,
   "id": "519f4c78",
   "metadata": {},
   "outputs": [],
   "source": [
    "df_scores.to_csv(filepath_output, header=None, index=False)"
   ]
  },
  {
   "cell_type": "code",
   "execution_count": null,
   "id": "83643396",
   "metadata": {},
   "outputs": [],
   "source": []
  }
 ],
 "metadata": {
  "kernelspec": {
   "display_name": "Python 3",
   "language": "python",
   "name": "python3"
  },
  "language_info": {
   "codemirror_mode": {
    "name": "ipython",
    "version": 3
   },
   "file_extension": ".py",
   "mimetype": "text/x-python",
   "name": "python",
   "nbconvert_exporter": "python",
   "pygments_lexer": "ipython3",
   "version": "3.6.15"
  }
 },
 "nbformat": 4,
 "nbformat_minor": 5
}
