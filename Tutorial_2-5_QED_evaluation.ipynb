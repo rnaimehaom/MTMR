{
 "cells": [
  {
   "cell_type": "markdown",
   "id": "3bb6e0df",
   "metadata": {},
   "source": [
    "# Tutorial - Step5 : MTMR evaluation by comparing to SOTA models"
   ]
  },
  {
   "cell_type": "markdown",
   "id": "0501efc7",
   "metadata": {},
   "source": [
    "## 1. Import requirements"
   ]
  },
  {
   "cell_type": "code",
   "execution_count": 1,
   "id": "8adb4e6b",
   "metadata": {},
   "outputs": [],
   "source": [
    "import os\n",
    "import pandas as pd\n",
    "import tqdm\n",
    "import seaborn as sns\n",
    "import matplotlib.pyplot as plt"
   ]
  },
  {
   "cell_type": "code",
   "execution_count": 2,
   "id": "3d633c58",
   "metadata": {},
   "outputs": [],
   "source": [
    "from MTMR.properties import drd2, qed\n",
    "from MTMR.evaluate import evaluate_metric"
   ]
  },
  {
   "cell_type": "markdown",
   "id": "7489da39",
   "metadata": {},
   "source": [
    "## 2. Specify a target property"
   ]
  },
  {
   "cell_type": "code",
   "execution_count": 3,
   "id": "4e767872",
   "metadata": {},
   "outputs": [],
   "source": [
    "PROPERTY_NAME = \"qed\"\n",
    "SCORING_FT = qed"
   ]
  },
  {
   "cell_type": "markdown",
   "id": "f4aded71",
   "metadata": {},
   "source": [
    "## 3. Set directories (for inputs and outputs)"
   ]
  },
  {
   "cell_type": "code",
   "execution_count": 4,
   "id": "4748890a",
   "metadata": {},
   "outputs": [],
   "source": [
    "input_data_dir = os.path.join(\"DATA\", PROPERTY_NAME)\n",
    "input_our_dir = os.path.join(\"outputs_Tutorial_4_MTMR_translation\", PROPERTY_NAME)\n",
    "input_base_dir = os.path.join(\"DATA\", \"baselines\")"
   ]
  },
  {
   "cell_type": "code",
   "execution_count": 5,
   "id": "5551eb01",
   "metadata": {},
   "outputs": [],
   "source": [
    "_output_dir = \"outputs_Tutorial_5_MTMR_evaluation\"\n",
    "if not os.path.exists(_output_dir):\n",
    "    os.mkdir(_output_dir)\n",
    "\n",
    "output_dir = os.path.join(_output_dir, PROPERTY_NAME)\n",
    "if not os.path.exists(output_dir):\n",
    "    os.mkdir(output_dir)"
   ]
  },
  {
   "cell_type": "markdown",
   "id": "22e635d8",
   "metadata": {},
   "source": [
    "## 4. Set file names"
   ]
  },
  {
   "cell_type": "code",
   "execution_count": 6,
   "id": "5734121a",
   "metadata": {},
   "outputs": [],
   "source": [
    "filepath_train_rdkit = os.path.join(input_data_dir, \"rdkit_train_pairs.txt\")\n",
    "filepath_train = os.path.join(input_base_dir, f\"train_pairs_{PROPERTY_NAME.upper()}.txt\")"
   ]
  },
  {
   "cell_type": "code",
   "execution_count": 7,
   "id": "3a12fa76",
   "metadata": {},
   "outputs": [],
   "source": [
    "df_pairs_rdkit = pd.read_csv(filepath_train_rdkit, header=None, sep=\" \")\n",
    "df_pairs = pd.read_csv(filepath_train, header=None, sep=\" \")\n",
    "targets_rdkit = set(df_pairs_rdkit.iloc[:,1].values.tolist())\n",
    "targets = set(df_pairs.iloc[:,1].values.tolist())"
   ]
  },
  {
   "cell_type": "code",
   "execution_count": 8,
   "id": "4d7ad524",
   "metadata": {},
   "outputs": [],
   "source": [
    "filepath_MTMR  = os.path.join(input_our_dir, f\"MTMR_{PROPERTY_NAME.upper()}.csv\")\n",
    "filepath_JTVAE = os.path.join(input_base_dir, f\"JTVAE_{PROPERTY_NAME.upper()}.csv\")\n",
    "filepath_G2G   = os.path.join(input_base_dir, f\"G2G_{PROPERTY_NAME.upper()}.csv\")\n",
    "filepath_CORE  = os.path.join(input_base_dir, f\"CORE_{PROPERTY_NAME.upper()}.csv\")\n",
    "filepath_MOLCG = os.path.join(input_base_dir, f\"MOLCG_{PROPERTY_NAME.upper()}.csv\")\n",
    "filepath_UGMMT = os.path.join(input_base_dir, f\"UGMMT_{PROPERTY_NAME.upper()}.csv\")"
   ]
  },
  {
   "cell_type": "markdown",
   "id": "9c72d82a",
   "metadata": {},
   "source": [
    "## 5. Load translation results generated from the test dataset"
   ]
  },
  {
   "cell_type": "code",
   "execution_count": 9,
   "id": "b9c5b69f",
   "metadata": {},
   "outputs": [],
   "source": [
    "df_MTMR  = pd.read_csv(filepath_MTMR, header=None).fillna(\"\")\n",
    "df_JTVAE = pd.read_csv(filepath_JTVAE, header=None).fillna(\"\")\n",
    "df_G2G   = pd.read_csv(filepath_G2G, header=None).fillna(\"\")\n",
    "df_CORE  = pd.read_csv(filepath_CORE, header=None).fillna(\"\")\n",
    "df_MOLCG = pd.read_csv(filepath_MOLCG, header=None).fillna(\"\")\n",
    "df_UGMMT = pd.read_csv(filepath_UGMMT, header=None).fillna(\"\")"
   ]
  },
  {
   "cell_type": "markdown",
   "id": "fded4d27",
   "metadata": {},
   "source": [
    "## 6. Evaluate metrics"
   ]
  },
  {
   "cell_type": "code",
   "execution_count": 10,
   "id": "c2f38f11",
   "metadata": {},
   "outputs": [],
   "source": [
    "df_metric_MTMR  = evaluate_metric(df_MTMR, targets_rdkit, SCORING_FT, threshold_sim=0.4, threshold_pro=0.9).rename(columns={0:\"MTMR\"})\n",
    "df_metric_JTVAE = evaluate_metric(df_JTVAE, targets, SCORING_FT, threshold_sim=0.4, threshold_pro=0.9).rename(columns={0:\"JTVAE\"})\n",
    "df_metric_G2G   = evaluate_metric(df_G2G, targets_rdkit, SCORING_FT, threshold_sim=0.4, threshold_pro=0.9).rename(columns={0:\"G2G\"})\n",
    "df_metric_CORE  = evaluate_metric(df_CORE, targets, SCORING_FT, threshold_sim=0.4, threshold_pro=0.9).rename(columns={0:\"CORE\"})\n",
    "df_metric_MOLCG = evaluate_metric(df_MOLCG, targets, SCORING_FT, threshold_sim=0.4, threshold_pro=0.9).rename(columns={0:\"MOLCG\"})\n",
    "df_metric_UGMMT = evaluate_metric(df_UGMMT, targets_rdkit, SCORING_FT, threshold_sim=0.4, threshold_pro=0.9).rename(columns={0:\"UGMMT\"})"
   ]
  },
  {
   "cell_type": "code",
   "execution_count": 11,
   "id": "ee314a25",
   "metadata": {},
   "outputs": [],
   "source": [
    "df_merged = pd.concat([df_metric_MTMR,\n",
    "                       df_metric_UGMMT,\n",
    "                       df_metric_MOLCG,\n",
    "                       df_metric_CORE,\n",
    "                       df_metric_G2G,\n",
    "                       df_metric_JTVAE], axis=1).T"
   ]
  },
  {
   "cell_type": "code",
   "execution_count": 12,
   "id": "148ec7d3",
   "metadata": {},
   "outputs": [
    {
     "data": {
      "text/html": [
       "<div>\n",
       "<style scoped>\n",
       "    .dataframe tbody tr th:only-of-type {\n",
       "        vertical-align: middle;\n",
       "    }\n",
       "\n",
       "    .dataframe tbody tr th {\n",
       "        vertical-align: top;\n",
       "    }\n",
       "\n",
       "    .dataframe thead th {\n",
       "        text-align: right;\n",
       "    }\n",
       "</style>\n",
       "<table border=\"1\" class=\"dataframe\">\n",
       "  <thead>\n",
       "    <tr style=\"text-align: right;\">\n",
       "      <th></th>\n",
       "      <th>VALID_RATIO</th>\n",
       "      <th>AVERAGE_PROPERTY</th>\n",
       "      <th>AVERAGE_SIMILARITY</th>\n",
       "      <th>NOVELTY</th>\n",
       "      <th>SUCCESS</th>\n",
       "      <th>SUCCESS_WO_NOVEL</th>\n",
       "      <th>DIVERSITY</th>\n",
       "    </tr>\n",
       "  </thead>\n",
       "  <tbody>\n",
       "    <tr>\n",
       "      <th>MTMR</th>\n",
       "      <td>0.99875</td>\n",
       "      <td>0.870676</td>\n",
       "      <td>0.359355</td>\n",
       "      <td>0.994994</td>\n",
       "      <td>0.138924</td>\n",
       "      <td>0.138924</td>\n",
       "      <td>1.00000</td>\n",
       "    </tr>\n",
       "    <tr>\n",
       "      <th>UGMMT</th>\n",
       "      <td>0.74625</td>\n",
       "      <td>0.855511</td>\n",
       "      <td>0.350889</td>\n",
       "      <td>0.993300</td>\n",
       "      <td>0.120603</td>\n",
       "      <td>0.123953</td>\n",
       "      <td>1.00000</td>\n",
       "    </tr>\n",
       "    <tr>\n",
       "      <th>MOLCG</th>\n",
       "      <td>0.99750</td>\n",
       "      <td>0.782799</td>\n",
       "      <td>0.302337</td>\n",
       "      <td>0.979950</td>\n",
       "      <td>0.012531</td>\n",
       "      <td>0.012531</td>\n",
       "      <td>1.00000</td>\n",
       "    </tr>\n",
       "    <tr>\n",
       "      <th>CORE</th>\n",
       "      <td>1.00000</td>\n",
       "      <td>0.885932</td>\n",
       "      <td>0.342527</td>\n",
       "      <td>0.970000</td>\n",
       "      <td>0.186250</td>\n",
       "      <td>0.195000</td>\n",
       "      <td>0.99625</td>\n",
       "    </tr>\n",
       "    <tr>\n",
       "      <th>G2G</th>\n",
       "      <td>1.00000</td>\n",
       "      <td>0.905548</td>\n",
       "      <td>0.311337</td>\n",
       "      <td>0.865000</td>\n",
       "      <td>0.132500</td>\n",
       "      <td>0.173750</td>\n",
       "      <td>0.99000</td>\n",
       "    </tr>\n",
       "    <tr>\n",
       "      <th>JTVAE</th>\n",
       "      <td>1.00000</td>\n",
       "      <td>0.816246</td>\n",
       "      <td>0.303774</td>\n",
       "      <td>0.977500</td>\n",
       "      <td>0.052500</td>\n",
       "      <td>0.052500</td>\n",
       "      <td>0.99625</td>\n",
       "    </tr>\n",
       "  </tbody>\n",
       "</table>\n",
       "</div>"
      ],
      "text/plain": [
       "       VALID_RATIO  AVERAGE_PROPERTY  AVERAGE_SIMILARITY   NOVELTY   SUCCESS  \\\n",
       "MTMR       0.99875          0.870676            0.359355  0.994994  0.138924   \n",
       "UGMMT      0.74625          0.855511            0.350889  0.993300  0.120603   \n",
       "MOLCG      0.99750          0.782799            0.302337  0.979950  0.012531   \n",
       "CORE       1.00000          0.885932            0.342527  0.970000  0.186250   \n",
       "G2G        1.00000          0.905548            0.311337  0.865000  0.132500   \n",
       "JTVAE      1.00000          0.816246            0.303774  0.977500  0.052500   \n",
       "\n",
       "       SUCCESS_WO_NOVEL  DIVERSITY  \n",
       "MTMR           0.138924    1.00000  \n",
       "UGMMT          0.123953    1.00000  \n",
       "MOLCG          0.012531    1.00000  \n",
       "CORE           0.195000    0.99625  \n",
       "G2G            0.173750    0.99000  \n",
       "JTVAE          0.052500    0.99625  "
      ]
     },
     "execution_count": 12,
     "metadata": {},
     "output_type": "execute_result"
    }
   ],
   "source": [
    "df_merged"
   ]
  },
  {
   "cell_type": "code",
   "execution_count": 13,
   "id": "bf18d2ba",
   "metadata": {},
   "outputs": [],
   "source": [
    "df_merged.to_csv(os.path.join(output_dir, \"table_metrics.csv\"))"
   ]
  },
  {
   "cell_type": "code",
   "execution_count": 14,
   "id": "2fbeb3f8",
   "metadata": {},
   "outputs": [
    {
     "data": {
      "image/png": "[encoded data removed]",
      "text/plain": [
       "<Figure size 432x288 with 1 Axes>"
      ]
     },
     "metadata": {},
     "output_type": "display_data"
    }
   ],
   "source": [
    "sns.set_theme(style='darkgrid')\n",
    "\n",
    "fig, ax = plt.subplots(1,1)\n",
    "sns.barplot(x=df_merged.index, y=df_merged[\"SUCCESS\"], ax=ax)\n",
    "\n",
    "plt.tight_layout()\n",
    "plt.savefig(os.path.join(output_dir, \"barplot_success.png\"), dpi=300)"
   ]
  },
  {
   "cell_type": "code",
   "execution_count": null,
   "id": "13450698",
   "metadata": {},
   "outputs": [],
   "source": []
  }
 ],
 "metadata": {
  "kernelspec": {
   "display_name": "Python 3",
   "language": "python",
   "name": "python3"
  },
  "language_info": {
   "codemirror_mode": {
    "name": "ipython",
    "version": 3
   },
   "file_extension": ".py",
   "mimetype": "text/x-python",
   "name": "python",
   "nbconvert_exporter": "python",
   "pygments_lexer": "ipython3",
   "version": "3.6.15"
  }
 },
 "nbformat": 4,
 "nbformat_minor": 5
}
