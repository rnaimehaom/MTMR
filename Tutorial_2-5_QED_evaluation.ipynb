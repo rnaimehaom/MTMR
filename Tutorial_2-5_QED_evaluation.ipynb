{
 "cells": [
  {
   "cell_type": "markdown",
   "id": "3bb6e0df",
   "metadata": {},
   "source": [
    "# Tutorial - Step5 : MTMR evaluation by comparing to SOTA models"
   ]
  },
  {
   "cell_type": "markdown",
   "id": "0501efc7",
   "metadata": {},
   "source": [
    "## 1. Import requirements"
   ]
  },
  {
   "cell_type": "code",
   "execution_count": 1,
   "id": "8adb4e6b",
   "metadata": {},
   "outputs": [],
   "source": [
    "import os\n",
    "import pandas as pd\n",
    "import tqdm\n",
    "import seaborn as sns\n",
    "import matplotlib.pyplot as plt"
   ]
  },
  {
   "cell_type": "code",
   "execution_count": 2,
   "id": "3d633c58",
   "metadata": {},
   "outputs": [],
   "source": [
    "from MTMR.evaluate import evaluate_metric"
   ]
  },
  {
   "cell_type": "markdown",
   "id": "7489da39",
   "metadata": {},
   "source": [
    "## 2. Specify a target property"
   ]
  },
  {
   "cell_type": "code",
   "execution_count": 3,
   "id": "4e767872",
   "metadata": {},
   "outputs": [],
   "source": [
    "PROPERTY_NAME = \"qed\""
   ]
  },
  {
   "cell_type": "markdown",
   "id": "f4aded71",
   "metadata": {},
   "source": [
    "## 3. Set directories (for inputs and outputs)"
   ]
  },
  {
   "cell_type": "code",
   "execution_count": 4,
   "id": "4748890a",
   "metadata": {},
   "outputs": [],
   "source": [
    "input_data_dir = os.path.join(\"DATA\", PROPERTY_NAME)\n",
    "input_our_dir = os.path.join(\"outputs_Tutorial_4_MTMR_translation\", PROPERTY_NAME)\n",
    "input_base_dir = os.path.join(\"DATA\", \"baselines\")"
   ]
  },
  {
   "cell_type": "code",
   "execution_count": 5,
   "id": "5551eb01",
   "metadata": {},
   "outputs": [],
   "source": [
    "_output_dir = \"outputs_Tutorial_5_MTMR_evaluation\"\n",
    "if not os.path.exists(_output_dir):\n",
    "    os.mkdir(_output_dir)\n",
    "\n",
    "output_dir = os.path.join(_output_dir, PROPERTY_NAME)\n",
    "if not os.path.exists(output_dir):\n",
    "    os.mkdir(output_dir)"
   ]
  },
  {
   "cell_type": "markdown",
   "id": "22e635d8",
   "metadata": {},
   "source": [
    "## 4. Set file names"
   ]
  },
  {
   "cell_type": "code",
   "execution_count": 6,
   "id": "5734121a",
   "metadata": {},
   "outputs": [],
   "source": [
    "filepath_train_rdkit = os.path.join(input_data_dir, \"rdkit_train_pairs.txt\")\n",
    "filepath_train = os.path.join(input_base_dir, f\"train_pairs_{PROPERTY_NAME.upper()}.txt\")"
   ]
  },
  {
   "cell_type": "code",
   "execution_count": 7,
   "id": "3a12fa76",
   "metadata": {},
   "outputs": [],
   "source": [
    "df_pairs_rdkit = pd.read_csv(filepath_train_rdkit, header=None, sep=\" \")\n",
    "df_pairs = pd.read_csv(filepath_train, header=None, sep=\" \")\n",
    "targets_rdkit = set(df_pairs_rdkit.iloc[:,1].values.tolist())\n",
    "targets = set(df_pairs.iloc[:,1].values.tolist())"
   ]
  },
  {
   "cell_type": "code",
   "execution_count": 8,
   "id": "4d7ad524",
   "metadata": {},
   "outputs": [],
   "source": [
    "filepath_MTMR  = os.path.join(input_our_dir, f\"MTMR_{PROPERTY_NAME.upper()}.csv\")\n",
    "#filepath_JTVAE = os.path.join(input_base_dir, f\"JTVAE_{PROPERTY_NAME.upper()}.csv\")\n",
    "filepath_G2G   = os.path.join(input_base_dir, f\"VJTNN_{PROPERTY_NAME.upper()}.csv\")\n",
    "#filepath_CORE  = os.path.join(input_base_dir, f\"CORE_{PROPERTY_NAME.upper()}.csv\")\n",
    "filepath_CORE  = os.path.join(input_base_dir, f\"VJTNN+GAN_{PROPERTY_NAME.upper()}.csv\")\n",
    "#filepath_MOLCG = os.path.join(input_base_dir, f\"MOLCG_{PROPERTY_NAME.upper()}.csv\")\n",
    "filepath_UGMMT = os.path.join(input_base_dir, f\"UGMMT_{PROPERTY_NAME.upper()}.csv\")"
   ]
  },
  {
   "cell_type": "markdown",
   "id": "9c72d82a",
   "metadata": {},
   "source": [
    "## 5. Load translation results generated from the test dataset"
   ]
  },
  {
   "cell_type": "code",
   "execution_count": 9,
   "id": "b9c5b69f",
   "metadata": {},
   "outputs": [],
   "source": [
    "df_MTMR  = pd.read_csv(filepath_MTMR, header=None).fillna(\"\").rename(columns={0:\"SOURCE\", 1:\"TARGET\", 2:\"SIMILARITY\", 3:\"PROPERTY\"})\n",
    "#df_JTVAE = pd.read_csv(filepath_JTVAE, header=None).fillna(\"\").rename(columns={0:\"SOURCE\", 1:\"TARGET\", 2:\"SIMILARITY\", 3:\"PROPERTY\"})\n",
    "df_G2G   = pd.read_csv(filepath_G2G, header=None).fillna(\"\").rename(columns={0:\"SOURCE\", 1:\"TARGET\", 2:\"SIMILARITY\", 3:\"PROPERTY\"})\n",
    "df_CORE  = pd.read_csv(filepath_CORE, header=None).fillna(\"\").rename(columns={0:\"SOURCE\", 1:\"TARGET\", 2:\"SIMILARITY\", 3:\"PROPERTY\"})\n",
    "#df_MOLCG = pd.read_csv(filepath_MOLCG, header=None).fillna(\"\").rename(columns={0:\"SOURCE\", 1:\"TARGET\", 2:\"SIMILARITY\", 3:\"PROPERTY\"})\n",
    "df_UGMMT = pd.read_csv(filepath_UGMMT, header=None).fillna(\"\").rename(columns={0:\"SOURCE\", 1:\"TARGET\", 2:\"SIMILARITY\", 3:\"PROPERTY\"})"
   ]
  },
  {
   "cell_type": "markdown",
   "id": "fded4d27",
   "metadata": {},
   "source": [
    "## 6. Evaluate metrics"
   ]
  },
  {
   "cell_type": "code",
   "execution_count": 20,
   "id": "c2f38f11",
   "metadata": {},
   "outputs": [],
   "source": [
    "df_metric_MTMR  = evaluate_metric(df_MTMR, targets_rdkit, num_decode=20, threshold_sim=0.4, threshold_pro=0.9).rename(columns={0:\"MTMR\"})\n",
    "#df_metric_JTVAE = evaluate_metric(df_JTVAE, targets, SCORING_FT, threshold_sim=0.4, threshold_pro=0.9).rename(columns={0:\"JTVAE\"})\n",
    "df_metric_G2G   = evaluate_metric(df_G2G, targets_rdkit, num_decode=20, threshold_sim=0.4, threshold_pro=0.9).rename(columns={0:\"G2G\"})\n",
    "df_metric_CORE  = evaluate_metric(df_CORE, targets_rdkit, num_decode=20, threshold_sim=0.4, threshold_pro=0.9).rename(columns={0:\"CORE\"})\n",
    "#df_metric_MOLCG = evaluate_metric(df_MOLCG, targets, SCORING_FT, threshold_sim=0.4, threshold_pro=0.9).rename(columns={0:\"MOLCG\"})\n",
    "df_metric_UGMMT = evaluate_metric(df_UGMMT, targets_rdkit, num_decode=20, threshold_sim=0.4, threshold_pro=0.9).rename(columns={0:\"UGMMT\"})"
   ]
  },
  {
   "cell_type": "code",
   "execution_count": 21,
   "id": "ee314a25",
   "metadata": {},
   "outputs": [],
   "source": [
    "df_merged = pd.concat([df_metric_MTMR,\n",
    "                       df_metric_UGMMT,\n",
    "                       #df_metric_MOLCG,\n",
    "                       df_metric_CORE,\n",
    "                       #df_metric_JTVAE,\n",
    "                       df_metric_G2G], axis=1).T"
   ]
  },
  {
   "cell_type": "code",
   "execution_count": 22,
   "id": "148ec7d3",
   "metadata": {},
   "outputs": [
    {
     "data": {
      "text/html": [
       "<div>\n",
       "<style scoped>\n",
       "    .dataframe tbody tr th:only-of-type {\n",
       "        vertical-align: middle;\n",
       "    }\n",
       "\n",
       "    .dataframe tbody tr th {\n",
       "        vertical-align: top;\n",
       "    }\n",
       "\n",
       "    .dataframe thead th {\n",
       "        text-align: right;\n",
       "    }\n",
       "</style>\n",
       "<table border=\"1\" class=\"dataframe\">\n",
       "  <thead>\n",
       "    <tr style=\"text-align: right;\">\n",
       "      <th></th>\n",
       "      <th>VALID_RATIO</th>\n",
       "      <th>AVERAGE_PROPERTY</th>\n",
       "      <th>AVERAGE_SIMILARITY</th>\n",
       "      <th>NOVELTY</th>\n",
       "      <th>SUCCESS</th>\n",
       "      <th>SUCCESS_WO_NOVEL</th>\n",
       "      <th>DIVERSITY</th>\n",
       "    </tr>\n",
       "  </thead>\n",
       "  <tbody>\n",
       "    <tr>\n",
       "      <th>MTMR</th>\n",
       "      <td>1.0000</td>\n",
       "      <td>0.873138</td>\n",
       "      <td>0.352849</td>\n",
       "      <td>1.0000</td>\n",
       "      <td>0.37000</td>\n",
       "      <td>0.3700</td>\n",
       "      <td>10.68750</td>\n",
       "    </tr>\n",
       "    <tr>\n",
       "      <th>UGMMT</th>\n",
       "      <td>0.9975</td>\n",
       "      <td>0.851093</td>\n",
       "      <td>0.331635</td>\n",
       "      <td>0.9975</td>\n",
       "      <td>0.26875</td>\n",
       "      <td>0.2725</td>\n",
       "      <td>12.48625</td>\n",
       "    </tr>\n",
       "    <tr>\n",
       "      <th>CORE</th>\n",
       "      <td>1.0000</td>\n",
       "      <td>0.897980</td>\n",
       "      <td>0.311947</td>\n",
       "      <td>1.0000</td>\n",
       "      <td>0.56750</td>\n",
       "      <td>0.5875</td>\n",
       "      <td>15.53125</td>\n",
       "    </tr>\n",
       "    <tr>\n",
       "      <th>G2G</th>\n",
       "      <td>1.0000</td>\n",
       "      <td>0.903551</td>\n",
       "      <td>0.307569</td>\n",
       "      <td>1.0000</td>\n",
       "      <td>0.55125</td>\n",
       "      <td>0.5750</td>\n",
       "      <td>14.50375</td>\n",
       "    </tr>\n",
       "  </tbody>\n",
       "</table>\n",
       "</div>"
      ],
      "text/plain": [
       "       VALID_RATIO  AVERAGE_PROPERTY  AVERAGE_SIMILARITY  NOVELTY  SUCCESS  \\\n",
       "MTMR        1.0000          0.873138            0.352849   1.0000  0.37000   \n",
       "UGMMT       0.9975          0.851093            0.331635   0.9975  0.26875   \n",
       "CORE        1.0000          0.897980            0.311947   1.0000  0.56750   \n",
       "G2G         1.0000          0.903551            0.307569   1.0000  0.55125   \n",
       "\n",
       "       SUCCESS_WO_NOVEL  DIVERSITY  \n",
       "MTMR             0.3700   10.68750  \n",
       "UGMMT            0.2725   12.48625  \n",
       "CORE             0.5875   15.53125  \n",
       "G2G              0.5750   14.50375  "
      ]
     },
     "execution_count": 22,
     "metadata": {},
     "output_type": "execute_result"
    }
   ],
   "source": [
    "df_merged"
   ]
  },
  {
   "cell_type": "code",
   "execution_count": 23,
   "id": "bf18d2ba",
   "metadata": {},
   "outputs": [],
   "source": [
    "df_merged.to_csv(os.path.join(output_dir, \"table_metrics.csv\"))"
   ]
  },
  {
   "cell_type": "code",
   "execution_count": 24,
   "id": "2fbeb3f8",
   "metadata": {},
   "outputs": [
    {
     "data": {
      "image/png": "[encoded data removed]",
      "text/plain": [
       "<Figure size 432x288 with 1 Axes>"
      ]
     },
     "metadata": {},
     "output_type": "display_data"
    }
   ],
   "source": [
    "sns.set_theme(style='darkgrid')\n",
    "\n",
    "fig, ax = plt.subplots(1,1)\n",
    "sns.barplot(x=df_merged.index, y=df_merged[\"SUCCESS\"], ax=ax)\n",
    "\n",
    "plt.tight_layout()\n",
    "#plt.savefig(os.path.join(output_dir, \"barplot_success.png\"), dpi=300)"
   ]
  },
  {
   "cell_type": "code",
   "execution_count": null,
   "id": "13450698",
   "metadata": {},
   "outputs": [],
   "source": []
  }
 ],
 "metadata": {
  "kernelspec": {
   "display_name": "Python 3",
   "language": "python",
   "name": "python3"
  },
  "language_info": {
   "codemirror_mode": {
    "name": "ipython",
    "version": 3
   },
   "file_extension": ".py",
   "mimetype": "text/x-python",
   "name": "python",
   "nbconvert_exporter": "python",
   "pygments_lexer": "ipython3",
   "version": "3.6.15"
  }
 },
 "nbformat": 4,
 "nbformat_minor": 5
}
