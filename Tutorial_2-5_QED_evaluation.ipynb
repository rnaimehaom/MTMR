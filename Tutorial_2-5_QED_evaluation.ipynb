{
 "cells": [
  {
   "cell_type": "markdown",
   "id": "3bb6e0df",
   "metadata": {},
   "source": [
    "# Tutorial - Step5 : MTMR evaluation by comparing to SOTA models"
   ]
  },
  {
   "cell_type": "markdown",
   "id": "0501efc7",
   "metadata": {},
   "source": [
    "## 1. Import requirements"
   ]
  },
  {
   "cell_type": "code",
   "execution_count": 1,
   "id": "8adb4e6b",
   "metadata": {},
   "outputs": [],
   "source": [
    "import os\n",
    "import pandas as pd\n",
    "import tqdm\n",
    "import seaborn as sns\n",
    "import matplotlib.pyplot as plt"
   ]
  },
  {
   "cell_type": "code",
   "execution_count": 2,
   "id": "3d633c58",
   "metadata": {},
   "outputs": [],
   "source": [
    "from MTMR.evaluate import evaluate_metric"
   ]
  },
  {
   "cell_type": "markdown",
   "id": "7489da39",
   "metadata": {},
   "source": [
    "## 2. Specify a target property"
   ]
  },
  {
   "cell_type": "code",
   "execution_count": 3,
   "id": "4e767872",
   "metadata": {},
   "outputs": [],
   "source": [
    "PROPERTY_NAME = \"qed\""
   ]
  },
  {
   "cell_type": "markdown",
   "id": "f4aded71",
   "metadata": {},
   "source": [
    "## 3. Set directories (for inputs and outputs)"
   ]
  },
  {
   "cell_type": "code",
   "execution_count": 4,
   "id": "4748890a",
   "metadata": {},
   "outputs": [],
   "source": [
    "input_data_dir = os.path.join(\"DATA\", PROPERTY_NAME)\n",
    "input_our_dir = os.path.join(\"outputs_Tutorial_4_MTMR_translation\", PROPERTY_NAME)\n",
    "input_base_dir = os.path.join(\"DATA\", \"baselines\")"
   ]
  },
  {
   "cell_type": "code",
   "execution_count": 5,
   "id": "5551eb01",
   "metadata": {},
   "outputs": [],
   "source": [
    "_output_dir = \"outputs_Tutorial_5_MTMR_evaluation\"\n",
    "if not os.path.exists(_output_dir):\n",
    "    os.mkdir(_output_dir)\n",
    "\n",
    "output_dir = os.path.join(_output_dir, PROPERTY_NAME)\n",
    "if not os.path.exists(output_dir):\n",
    "    os.mkdir(output_dir)"
   ]
  },
  {
   "cell_type": "markdown",
   "id": "22e635d8",
   "metadata": {},
   "source": [
    "## 4. Set file names"
   ]
  },
  {
   "cell_type": "code",
   "execution_count": 6,
   "id": "5734121a",
   "metadata": {},
   "outputs": [],
   "source": [
    "filepath_train_rdkit = os.path.join(input_data_dir, \"rdkit_train_pairs.txt\")"
   ]
  },
  {
   "cell_type": "code",
   "execution_count": 7,
   "id": "3a12fa76",
   "metadata": {},
   "outputs": [],
   "source": [
    "df_pairs_rdkit = pd.read_csv(filepath_train_rdkit, header=None, sep=\" \")\n",
    "targets_rdkit = set(df_pairs_rdkit.iloc[:,1].values.tolist())"
   ]
  },
  {
   "cell_type": "code",
   "execution_count": 8,
   "id": "4d7ad524",
   "metadata": {},
   "outputs": [],
   "source": [
    "filepath_MTMR  = os.path.join(input_our_dir,  f\"MTMR_{PROPERTY_NAME.upper()}.csv\")\n",
    "filepath_JTVAE = os.path.join(input_base_dir, f\"JTVAE_{PROPERTY_NAME.upper()}.csv\")\n",
    "filepath_G2G   = os.path.join(input_base_dir, f\"VJTNN_{PROPERTY_NAME.upper()}.csv\")\n",
    "filepath_CORE  = os.path.join(input_base_dir, f\"CORE_{PROPERTY_NAME.upper()}.csv\")\n",
    "filepath_G2GG  = os.path.join(input_base_dir, f\"VJTNN+GAN_{PROPERTY_NAME.upper()}.csv\")\n",
    "filepath_MOLCG = os.path.join(input_base_dir, f\"MOLCG_{PROPERTY_NAME.upper()}.csv\")\n",
    "filepath_HIER  = os.path.join(input_base_dir, f\"HierG2G_{PROPERTY_NAME.upper()}.csv\")\n",
    "filepath_UGMMT = os.path.join(input_base_dir, f\"UGMMT_{PROPERTY_NAME.upper()}.csv\")"
   ]
  },
  {
   "cell_type": "markdown",
   "id": "9c72d82a",
   "metadata": {},
   "source": [
    "## 5. Load translation results generated from the test dataset"
   ]
  },
  {
   "cell_type": "code",
   "execution_count": 9,
   "id": "b9c5b69f",
   "metadata": {},
   "outputs": [],
   "source": [
    "df_MTMR  = pd.read_csv(filepath_MTMR,  header=None).fillna(\"\").rename(columns={0:\"SOURCE\", 1:\"TARGET\", 2:\"SIMILARITY\", 3:\"PROPERTY\"})\n",
    "df_JTVAE = pd.read_csv(filepath_JTVAE, header=None).fillna(\"\").rename(columns={0:\"SOURCE\", 1:\"TARGET\", 2:\"SIMILARITY\", 3:\"PROPERTY\"})\n",
    "df_G2G   = pd.read_csv(filepath_G2G,   header=None).fillna(\"\").rename(columns={0:\"SOURCE\", 1:\"TARGET\", 2:\"SIMILARITY\", 3:\"PROPERTY\"})\n",
    "df_CORE  = pd.read_csv(filepath_CORE,  header=None).fillna(\"\").rename(columns={0:\"SOURCE\", 1:\"TARGET\", 2:\"SIMILARITY\", 3:\"PROPERTY\"})\n",
    "df_G2GG  = pd.read_csv(filepath_G2GG,  header=None).fillna(\"\").rename(columns={0:\"SOURCE\", 1:\"TARGET\", 2:\"SIMILARITY\", 3:\"PROPERTY\"})\n",
    "df_HIER  = pd.read_csv(filepath_HIER,  header=None).fillna(\"\").rename(columns={0:\"SOURCE\", 1:\"TARGET\", 2:\"SIMILARITY\", 3:\"PROPERTY\"})\n",
    "df_MOLCG = pd.read_csv(filepath_MOLCG, header=None).fillna(\"\").rename(columns={0:\"SOURCE\", 1:\"TARGET\", 2:\"SIMILARITY\", 3:\"PROPERTY\"})\n",
    "df_UGMMT = pd.read_csv(filepath_UGMMT, header=None).fillna(\"\").rename(columns={0:\"SOURCE\", 1:\"TARGET\", 2:\"SIMILARITY\", 3:\"PROPERTY\"})"
   ]
  },
  {
   "cell_type": "markdown",
   "id": "fded4d27",
   "metadata": {},
   "source": [
    "## 6. Evaluate metrics"
   ]
  },
  {
   "cell_type": "code",
   "execution_count": 20,
   "id": "60a1f3a0",
   "metadata": {},
   "outputs": [
    {
     "name": "stdout",
     "output_type": "stream",
     "text": [
      "NOW: 0\n",
      "NOW: 1\n",
      "NOW: 2\n",
      "NOW: 3\n",
      "NOW: 4\n",
      "NOW: 5\n",
      "NOW: 6\n",
      "NOW: 7\n"
     ]
    }
   ],
   "source": [
    "frames = []\n",
    "\n",
    "for i, (name, df) in enumerate([('MTMR', df_MTMR),\n",
    "                                ('JTVAE', df_JTVAE),\n",
    "                                ('VJTNN', df_G2G),\n",
    "                                ('VJTNN+GAN', df_G2GG),\n",
    "                                ('CORE', df_CORE),\n",
    "                                ('HierG2G', df_HIER),\n",
    "                                ('MolCycleGAN', df_MOLCG),\n",
    "                                ('UGMMT', df_UGMMT)]):\n",
    "    print(f\"NOW: {i}\")\n",
    "    df_metric = evaluate_metric(df, targets_rdkit, num_decode=20, sample_size=10, start_idx=10,\n",
    "                                threshold_sim=0.4,\n",
    "                                threshold_pro=0.9).rename(columns={0:name})\n",
    "\n",
    "    frames.append(df_metric)"
   ]
  },
  {
   "cell_type": "code",
   "execution_count": 21,
   "id": "a3859b18",
   "metadata": {},
   "outputs": [],
   "source": [
    "df_merged = pd.concat(frames, axis=1).T"
   ]
  },
  {
   "cell_type": "code",
   "execution_count": 22,
   "id": "148ec7d3",
   "metadata": {},
   "outputs": [
    {
     "data": {
      "text/html": [
       "<div>\n",
       "<style scoped>\n",
       "    .dataframe tbody tr th:only-of-type {\n",
       "        vertical-align: middle;\n",
       "    }\n",
       "\n",
       "    .dataframe tbody tr th {\n",
       "        vertical-align: top;\n",
       "    }\n",
       "\n",
       "    .dataframe thead th {\n",
       "        text-align: right;\n",
       "    }\n",
       "</style>\n",
       "<table border=\"1\" class=\"dataframe\">\n",
       "  <thead>\n",
       "    <tr style=\"text-align: right;\">\n",
       "      <th></th>\n",
       "      <th>VALID_RATIO</th>\n",
       "      <th>AVERAGE_PROPERTY</th>\n",
       "      <th>AVERAGE_SIMILARITY</th>\n",
       "      <th>NOVELTY</th>\n",
       "      <th>SUCCESS</th>\n",
       "      <th>SUCCESS_WO_NOVEL</th>\n",
       "      <th>DIVERSITY</th>\n",
       "    </tr>\n",
       "  </thead>\n",
       "  <tbody>\n",
       "    <tr>\n",
       "      <th>MTMR</th>\n",
       "      <td>1.00000</td>\n",
       "      <td>0.873099</td>\n",
       "      <td>0.354143</td>\n",
       "      <td>1.00000</td>\n",
       "      <td>0.32125</td>\n",
       "      <td>0.32125</td>\n",
       "      <td>0.674998</td>\n",
       "    </tr>\n",
       "    <tr>\n",
       "      <th>JTVAE</th>\n",
       "      <td>0.87875</td>\n",
       "      <td>0.696589</td>\n",
       "      <td>0.421021</td>\n",
       "      <td>0.87875</td>\n",
       "      <td>0.08500</td>\n",
       "      <td>0.08500</td>\n",
       "      <td>0.087875</td>\n",
       "    </tr>\n",
       "    <tr>\n",
       "      <th>VJTNN</th>\n",
       "      <td>1.00000</td>\n",
       "      <td>0.903547</td>\n",
       "      <td>0.307252</td>\n",
       "      <td>1.00000</td>\n",
       "      <td>0.45625</td>\n",
       "      <td>0.48125</td>\n",
       "      <td>0.860920</td>\n",
       "    </tr>\n",
       "    <tr>\n",
       "      <th>VJTNN+GAN</th>\n",
       "      <td>1.00000</td>\n",
       "      <td>0.898226</td>\n",
       "      <td>0.312207</td>\n",
       "      <td>1.00000</td>\n",
       "      <td>0.47250</td>\n",
       "      <td>0.50000</td>\n",
       "      <td>0.880755</td>\n",
       "    </tr>\n",
       "    <tr>\n",
       "      <th>CORE</th>\n",
       "      <td>1.00000</td>\n",
       "      <td>0.898913</td>\n",
       "      <td>0.317184</td>\n",
       "      <td>1.00000</td>\n",
       "      <td>0.50500</td>\n",
       "      <td>0.52250</td>\n",
       "      <td>0.895010</td>\n",
       "    </tr>\n",
       "    <tr>\n",
       "      <th>HierG2G</th>\n",
       "      <td>0.96125</td>\n",
       "      <td>0.858763</td>\n",
       "      <td>0.270348</td>\n",
       "      <td>0.96125</td>\n",
       "      <td>0.37875</td>\n",
       "      <td>0.38875</td>\n",
       "      <td>0.892597</td>\n",
       "    </tr>\n",
       "    <tr>\n",
       "      <th>MolCycleGAN</th>\n",
       "      <td>0.96500</td>\n",
       "      <td>0.755825</td>\n",
       "      <td>0.269082</td>\n",
       "      <td>0.96500</td>\n",
       "      <td>0.01250</td>\n",
       "      <td>0.01250</td>\n",
       "      <td>0.096500</td>\n",
       "    </tr>\n",
       "    <tr>\n",
       "      <th>UGMMT</th>\n",
       "      <td>0.99125</td>\n",
       "      <td>0.845335</td>\n",
       "      <td>0.329815</td>\n",
       "      <td>0.99125</td>\n",
       "      <td>0.23000</td>\n",
       "      <td>0.23375</td>\n",
       "      <td>0.708812</td>\n",
       "    </tr>\n",
       "  </tbody>\n",
       "</table>\n",
       "</div>"
      ],
      "text/plain": [
       "             VALID_RATIO  AVERAGE_PROPERTY  AVERAGE_SIMILARITY  NOVELTY  \\\n",
       "MTMR             1.00000          0.873099            0.354143  1.00000   \n",
       "JTVAE            0.87875          0.696589            0.421021  0.87875   \n",
       "VJTNN            1.00000          0.903547            0.307252  1.00000   \n",
       "VJTNN+GAN        1.00000          0.898226            0.312207  1.00000   \n",
       "CORE             1.00000          0.898913            0.317184  1.00000   \n",
       "HierG2G          0.96125          0.858763            0.270348  0.96125   \n",
       "MolCycleGAN      0.96500          0.755825            0.269082  0.96500   \n",
       "UGMMT            0.99125          0.845335            0.329815  0.99125   \n",
       "\n",
       "             SUCCESS  SUCCESS_WO_NOVEL  DIVERSITY  \n",
       "MTMR         0.32125           0.32125   0.674998  \n",
       "JTVAE        0.08500           0.08500   0.087875  \n",
       "VJTNN        0.45625           0.48125   0.860920  \n",
       "VJTNN+GAN    0.47250           0.50000   0.880755  \n",
       "CORE         0.50500           0.52250   0.895010  \n",
       "HierG2G      0.37875           0.38875   0.892597  \n",
       "MolCycleGAN  0.01250           0.01250   0.096500  \n",
       "UGMMT        0.23000           0.23375   0.708812  "
      ]
     },
     "execution_count": 22,
     "metadata": {},
     "output_type": "execute_result"
    }
   ],
   "source": [
    "df_merged"
   ]
  },
  {
   "cell_type": "code",
   "execution_count": 23,
   "id": "bf18d2ba",
   "metadata": {},
   "outputs": [],
   "source": [
    "df_merged.to_csv(os.path.join(output_dir, \"table_metrics.csv\"))"
   ]
  },
  {
   "cell_type": "code",
   "execution_count": 24,
   "id": "2fbeb3f8",
   "metadata": {},
   "outputs": [
    {
     "data": {
      "image/png": "[encoded data removed]",
      "text/plain": [
       "<Figure size 720x360 with 1 Axes>"
      ]
     },
     "metadata": {},
     "output_type": "display_data"
    }
   ],
   "source": [
    "sns.set_theme(style='darkgrid')\n",
    "\n",
    "fig, ax = plt.subplots(1,1,figsize=(10,5))\n",
    "\n",
    "#_ = sns.barplot(x=df_merged.index, y=df_merged[\"SUCCESS\"], ax=ax)\n",
    "_ = sns.barplot(data=df_merged.reset_index(), x='index', y=\"SUCCESS\", ax=ax)\n",
    "\n",
    "for container in ax.containers:\n",
    "    for i, bar in enumerate(container.get_children()):\n",
    "        posx = i\n",
    "        posy = bar.get_height() + 0.01\n",
    "        ax.text(posx, posy, f\"{bar.get_height():.3f}\", rotation=0, ha='center', va='bottom', fontsize=16)\n",
    "\n",
    "ax.set_xlabel(None)\n",
    "ax.set_ylim(None, 0.65)\n",
    "        \n",
    "plt.tight_layout()\n",
    "plt.savefig(os.path.join(output_dir, \"barplot_success.png\"), dpi=300)"
   ]
  },
  {
   "cell_type": "code",
   "execution_count": null,
   "id": "13450698",
   "metadata": {},
   "outputs": [],
   "source": []
  }
 ],
 "metadata": {
  "kernelspec": {
   "display_name": "Python 3",
   "language": "python",
   "name": "python3"
  },
  "language_info": {
   "codemirror_mode": {
    "name": "ipython",
    "version": 3
   },
   "file_extension": ".py",
   "mimetype": "text/x-python",
   "name": "python",
   "nbconvert_exporter": "python",
   "pygments_lexer": "ipython3",
   "version": "3.6.15"
  }
 },
 "nbformat": 4,
 "nbformat_minor": 5
}
